{
  "cells": [
    {
      "cell_type": "markdown",
      "metadata": {
        "id": "view-in-github",
        "colab_type": "text"
      },
      "source": [
        "<a href=\"https://colab.research.google.com/github/jabanitaha/data-mining-2-/blob/main/1_1_1Dtensors_v2_Answered_.ipynb\" target=\"_parent\"><img src=\"https://colab.research.google.com/assets/colab-badge.svg\" alt=\"Open In Colab\"/></a>"
      ]
    },
    {
      "cell_type": "markdown",
      "metadata": {
        "id": "777a8096-50ad-4769-9606-2a63b3adfeb1"
      },
      "source": [
        "<p style=\"text-align:center\">\n",
        "    <a href=\"https://skills.network\" target=\"_blank\">\n",
        "    <img src=\"https://cf-courses-data.s3.us.cloud-object-storage.appdomain.cloud/assets/logos/SN_web_lightmode.png\" width=\"200\" alt=\"Skills Network Logo\">\n",
        "    </a>\n",
        "</p>\n"
      ]
    },
    {
      "cell_type": "markdown",
      "metadata": {
        "id": "555d9e5f-a837-44fd-8e89-8cac0af7f1c2"
      },
      "source": [
        "<h1>Torch Tensors in 1D</h1>\n"
      ]
    },
    {
      "cell_type": "markdown",
      "metadata": {
        "id": "b947e985-9d88-4ea0-80a1-87b6aa6b45ce"
      },
      "source": [
        "<h2>Objective</h2><ul><li> How tensor operations work in pytorch.</li></ul>\n"
      ]
    },
    {
      "cell_type": "markdown",
      "metadata": {
        "id": "a9d1d99f-c039-41cb-ab26-16ab26e9ee75"
      },
      "source": [
        "<h2>Table of Contents</h2>\n"
      ]
    },
    {
      "cell_type": "markdown",
      "metadata": {
        "id": "aa918918-779a-4148-a811-4ad898265d04"
      },
      "source": [
        "<p>In this lab, you will learn the basics of tensor operations. Tensors are an essential part of PyTorch; there are complex mathematical objects in and of themselves. Fortunately, most of the intricacies are not necessary. In this section, you will compare them to vectors and numpy arrays.</p>\n",
        "<ul>\n",
        "    <li><a href=\"#Types-and-Shape\">Types and Shape</a></li>\n",
        "    <li><a href=\"#Indexing-and-Slicing\">Indexing and Slicing</a></li>\n",
        "    <li><a href=\"#Tensor-Functions\">Tensor Functions</a></li>\n",
        "    <li><a href=\"#Tensor-Operations\">Tensor Operations</a></li>\n",
        "</ul>\n",
        "\n",
        "<p>Estimated Time Needed: <b>25 min</b></p>\n",
        "<hr>\n"
      ]
    },
    {
      "cell_type": "markdown",
      "metadata": {
        "id": "a538deb9-967e-4519-968d-be894d91a3fb"
      },
      "source": [
        "<h2>Preparation</h2>\n"
      ]
    },
    {
      "cell_type": "markdown",
      "metadata": {
        "id": "c409351d-7519-472b-b59a-179a530b91e8"
      },
      "source": [
        "Import the following libraries that you'll use for this lab:\n"
      ]
    },
    {
      "cell_type": "code",
      "metadata": {
        "id": "abcefb85-a689-4245-a9e4-9c90cafbc45c"
      },
      "outputs": [],
      "source": [
        "# These are the libraries will be used for this lab.\n",
        "\n",
        "import torch\n",
        "import numpy as np\n",
        "import pandas as pd\n",
        "\n",
        "import matplotlib.pyplot as plt\n",
        "%matplotlib inline"
      ],
      "execution_count": 1
    },
    {
      "cell_type": "markdown",
      "metadata": {
        "id": "9a89058c-68ee-4606-addc-511c2aef5635"
      },
      "source": [
        "Check PyTorch version:\n"
      ]
    },
    {
      "cell_type": "code",
      "metadata": {
        "colab": {
          "base_uri": "https://localhost:8080/",
          "height": 35
        },
        "id": "eb49c4ad-e7da-4f79-9076-9c6402c9ab96",
        "outputId": "6bb2cfae-df59-470a-99b5-6aec3dca4519"
      },
      "outputs": [
        {
          "output_type": "execute_result",
          "data": {
            "text/plain": [
              "'2.6.0+cu124'"
            ],
            "application/vnd.google.colaboratory.intrinsic+json": {
              "type": "string"
            }
          },
          "metadata": {},
          "execution_count": 2
        }
      ],
      "source": [
        "torch.__version__"
      ],
      "execution_count": 2
    },
    {
      "cell_type": "markdown",
      "metadata": {
        "id": "9a79be9e-e770-4686-b85a-facf95d662d0"
      },
      "source": [
        "This is the function for plotting diagrams. You will use this function to plot the vectors in Coordinate system.\n"
      ]
    },
    {
      "cell_type": "code",
      "metadata": {
        "id": "2f373288-e86b-4438-ae26-246b74667e66"
      },
      "outputs": [],
      "source": [
        "# Plot vecotrs, please keep the parameters in the same length\n",
        "# @param: Vectors = [{\"vector\": vector variable, \"name\": name of vector, \"color\": color of the vector on diagram}]\n",
        "\n",
        "def plotVec(vectors):\n",
        "    ax = plt.axes()\n",
        "\n",
        "    # For loop to draw the vectors\n",
        "    for vec in vectors:\n",
        "        ax.arrow(0, 0, *vec[\"vector\"], head_width = 0.05,color = vec[\"color\"], head_length = 0.1)\n",
        "        plt.text(*(vec[\"vector\"] + 0.1), vec[\"name\"])\n",
        "\n",
        "    plt.ylim(-2,2)\n",
        "    plt.xlim(-2,2)"
      ],
      "execution_count": 3
    },
    {
      "cell_type": "markdown",
      "metadata": {
        "id": "097aa1e6-93cc-497d-b113-1a84a0563d16"
      },
      "source": [
        "<!--Empty Space for separating topics-->\n"
      ]
    },
    {
      "cell_type": "markdown",
      "metadata": {
        "id": "8d6afe85-31d7-42bc-89f2-2add04fd058f"
      },
      "source": [
        "<h2 id=\"Types_Shape\">Types and Shape</h2>\n"
      ]
    },
    {
      "cell_type": "markdown",
      "metadata": {
        "id": "1d8d7ee6-1083-4d43-b55d-8c9bdf7bec72"
      },
      "source": [
        "You can find the type of the following list of integers <i>[0, 1, 2, 3, 4]</i> by applying the constructor <code>torch.tensor()</code>:\n"
      ]
    },
    {
      "cell_type": "code",
      "metadata": {
        "colab": {
          "base_uri": "https://localhost:8080/"
        },
        "id": "2ac355bf-f9c7-427a-938f-f49e8a3936f2",
        "outputId": "d19b1279-5b17-4466-9f7b-baea86688a39"
      },
      "outputs": [
        {
          "output_type": "stream",
          "name": "stdout",
          "text": [
            "The dtype of tensor object after converting it to tensor:  torch.int64\n",
            "The type of tensor object after converting it to tensor:  torch.LongTensor\n"
          ]
        }
      ],
      "source": [
        "# Convert a integer list with length 5 to a tensor\n",
        "\n",
        "ints_to_tensor = torch.tensor([0, 1, 2, 3, 4])\n",
        "print(\"The dtype of tensor object after converting it to tensor: \", ints_to_tensor.dtype)\n",
        "print(\"The type of tensor object after converting it to tensor: \", ints_to_tensor.type())"
      ],
      "execution_count": 4
    },
    {
      "cell_type": "markdown",
      "metadata": {
        "id": "29ff5acc-51cd-4832-afa7-e7d86d17dd79"
      },
      "source": [
        "As a result, the integer list has been converted to a long tensor.\n"
      ]
    },
    {
      "cell_type": "markdown",
      "metadata": {
        "id": "64645fb6-6ce6-4996-8720-47388c4c171c"
      },
      "source": [
        "The Python type is still <code>torch.Tensor</code>:\n"
      ]
    },
    {
      "cell_type": "code",
      "metadata": {
        "colab": {
          "base_uri": "https://localhost:8080/"
        },
        "id": "bfd32f9d-2b88-478f-8eb2-e1f372eed0df",
        "outputId": "49538b21-538c-46c4-bd79-4b9f4074ef62"
      },
      "outputs": [
        {
          "output_type": "execute_result",
          "data": {
            "text/plain": [
              "torch.Tensor"
            ]
          },
          "metadata": {},
          "execution_count": 5
        }
      ],
      "source": [
        "type(ints_to_tensor)"
      ],
      "execution_count": 5
    },
    {
      "cell_type": "markdown",
      "metadata": {
        "id": "acc228a3-01e6-4194-a8a5-f567093b90d9"
      },
      "source": [
        "<!--Empty Space for separate topics-->\n"
      ]
    },
    {
      "cell_type": "markdown",
      "metadata": {
        "id": "44355b26-b2f7-4913-9a4c-55c0ffad084a"
      },
      "source": [
        "You can find the type of this float list <i>[0.0, 1.0, 2.0, 3.0, 4.0]</i> by applying the method <code>torch.tensor()</code>:\n"
      ]
    },
    {
      "cell_type": "code",
      "metadata": {
        "colab": {
          "base_uri": "https://localhost:8080/"
        },
        "id": "cc4086f2-f759-4add-8360-3fb8a50659f4",
        "outputId": "632498e8-8867-4bec-fac3-81dc3ad1225f"
      },
      "outputs": [
        {
          "output_type": "stream",
          "name": "stdout",
          "text": [
            "The dtype of tensor object after converting it to tensor:  torch.float32\n",
            "The type of tensor object after converting it to tensor:  torch.FloatTensor\n"
          ]
        }
      ],
      "source": [
        "# Convert a float list with length 5 to a tensor\n",
        "\n",
        "floats_to_tensor = torch.tensor([0.0, 1.0, 2.0, 3.0, 4.0])\n",
        "print(\"The dtype of tensor object after converting it to tensor: \", floats_to_tensor.dtype)\n",
        "print(\"The type of tensor object after converting it to tensor: \", floats_to_tensor.type())"
      ],
      "execution_count": 6
    },
    {
      "cell_type": "markdown",
      "metadata": {
        "id": "ddc48e42-5df3-46d9-bc6e-2bd89027c5ba"
      },
      "source": [
        "The float list is converted to a float tensor.\n"
      ]
    },
    {
      "cell_type": "code",
      "metadata": {
        "id": "0f2865f3-cb54-448c-9a1b-c557a2f71123"
      },
      "outputs": [],
      "source": [
        "list_floats=[0.0, 1.0, 2.0, 3.0, 4.0]\n",
        "\n",
        "floats_int_tensor=torch.tensor(list_floats,dtype=torch.int64)"
      ],
      "execution_count": 7
    },
    {
      "cell_type": "code",
      "metadata": {
        "colab": {
          "base_uri": "https://localhost:8080/"
        },
        "id": "8690aefa-409b-4172-8bfb-a26b96e869a0",
        "outputId": "a9f5503d-a681-45f5-acf0-f1c9b270b2bf"
      },
      "outputs": [
        {
          "output_type": "stream",
          "name": "stdout",
          "text": [
            "The dtype of tensor object is:  torch.int64\n",
            "The type of tensor object is:  torch.LongTensor\n"
          ]
        }
      ],
      "source": [
        "print(\"The dtype of tensor object is: \", floats_int_tensor.dtype)\n",
        "print(\"The type of tensor object is: \", floats_int_tensor.type())"
      ],
      "execution_count": 8
    },
    {
      "cell_type": "markdown",
      "metadata": {
        "id": "525476dd-7dc8-4d6a-a5da-ecf72cdf6406"
      },
      "source": [
        "<b>Note: The elements in the list that will be converted to tensor must have the same type.</b>\n"
      ]
    },
    {
      "cell_type": "markdown",
      "metadata": {
        "id": "6e7b255b-d7ee-4316-a2e0-fc33004b50dd"
      },
      "source": [
        "<!--Empty Space for separating topics-->\n"
      ]
    },
    {
      "cell_type": "markdown",
      "metadata": {
        "id": "06be4599-1345-4a52-b4d7-27e7c062bc6a"
      },
      "source": [
        "From the previous examples, you see that <code>torch.tensor()</code> converts the list to the tensor type, which is similar to the original list type. However, what if you want to convert the list to a certain tensor type? <code>torch</code> contains the methods required to do this conversion. The following code  converts an integer list to float tensor:\n"
      ]
    },
    {
      "cell_type": "code",
      "metadata": {
        "colab": {
          "base_uri": "https://localhost:8080/"
        },
        "id": "fa3c10a0-6c35-40cd-aa37-0fe5a9f42729",
        "outputId": "e3948268-58d3-4266-d2b8-fe19fcacc9ee"
      },
      "outputs": [
        {
          "output_type": "stream",
          "name": "stdout",
          "text": [
            "The type of the new_float_tensor: torch.FloatTensor\n"
          ]
        }
      ],
      "source": [
        "# Convert a integer list with length 5 to float tensor\n",
        "\n",
        "new_float_tensor = torch.FloatTensor([0, 1, 2, 3, 4])\n",
        "new_float_tensor.type()\n",
        "print(\"The type of the new_float_tensor:\", new_float_tensor.type())"
      ],
      "execution_count": 9
    },
    {
      "cell_type": "code",
      "metadata": {
        "id": "5b24ad45-b05e-4a37-8614-5d13ae823677"
      },
      "outputs": [],
      "source": [
        "new_float_tensor = torch.FloatTensor([0, 1, 2, 3, 4])"
      ],
      "execution_count": null
    },
    {
      "cell_type": "markdown",
      "metadata": {
        "id": "0cd4e0fc-cb2c-41c7-ad8f-d2c16261f935"
      },
      "source": [
        "<!--Empty Space for separating topics-->\n"
      ]
    },
    {
      "cell_type": "markdown",
      "metadata": {
        "id": "12936ddf-8a52-41ca-9080-08089df3f3cb"
      },
      "source": [
        "You can also convert an existing tensor object (<code><i>tensor_obj</i></code>) to another tensor type. Convert the integer tensor to a float tensor:\n"
      ]
    },
    {
      "cell_type": "code",
      "metadata": {
        "colab": {
          "base_uri": "https://localhost:8080/"
        },
        "id": "f382a133-8e83-41b1-b7ff-535ef089655e",
        "outputId": "14dc933e-dfb9-4ea7-e926-93f8acb91819"
      },
      "outputs": [
        {
          "output_type": "stream",
          "name": "stdout",
          "text": [
            "The type of the new_float_tensor: torch.FloatTensor\n"
          ]
        }
      ],
      "source": [
        "# Another method to convert the integer list to float tensor\n",
        "\n",
        "old_int_tensor = torch.tensor([0, 1, 2, 3, 4])\n",
        "new_float_tensor = old_int_tensor.type(torch.FloatTensor)\n",
        "print(\"The type of the new_float_tensor:\", new_float_tensor.type())"
      ],
      "execution_count": 10
    },
    {
      "cell_type": "markdown",
      "metadata": {
        "id": "c6f1b3ee-e307-455d-aae6-70b5ee44d742"
      },
      "source": [
        "<!--Empty Space for separating topics-->\n"
      ]
    },
    {
      "cell_type": "markdown",
      "metadata": {
        "id": "558beffd-c00e-4324-983c-cfd0aa825498"
      },
      "source": [
        "The <code><i>tensor_obj</i>.size()</code> helps you to find out the size of the <code><i>tensor_obj</i></code>.\n",
        "The <code><i>tensor_obj</i>.ndimension()</code> shows the dimension of the tensor object.\n"
      ]
    },
    {
      "cell_type": "code",
      "metadata": {
        "colab": {
          "base_uri": "https://localhost:8080/"
        },
        "id": "76b37749-f102-415f-a89c-0a285691fa10",
        "outputId": "c7136169-9a48-4f70-e538-b10c9ef9e890"
      },
      "outputs": [
        {
          "output_type": "stream",
          "name": "stdout",
          "text": [
            "The size of the new_float_tensor:  torch.Size([5])\n",
            "The dimension of the new_float_tensor:  1\n"
          ]
        }
      ],
      "source": [
        "# Introduce the tensor_obj.size() & tensor_ndimension.size() methods\n",
        "\n",
        "print(\"The size of the new_float_tensor: \", new_float_tensor.size())\n",
        "print(\"The dimension of the new_float_tensor: \",new_float_tensor.ndimension())"
      ],
      "execution_count": 11
    },
    {
      "cell_type": "markdown",
      "metadata": {
        "id": "9031d6fb-7b36-4d2a-b095-f6d1423b4fe2"
      },
      "source": [
        "<!--Empty Space for separating topics-->\n"
      ]
    },
    {
      "cell_type": "markdown",
      "metadata": {
        "id": "700ddfed-b434-40e0-8e00-e284bb236d48"
      },
      "source": [
        "The <code><i>tensor_obj</i>.view(<i>row, column</i>)</code> is used for reshaping a tensor object.<br>\n"
      ]
    },
    {
      "cell_type": "markdown",
      "metadata": {
        "id": "a096e594-0528-4274-bc0f-ffd57c2e855d"
      },
      "source": [
        "What if you have a tensor object with <code>torch.Size([5])</code> as a <code>new_float_tensor</code> as shown in the previous example?<br>\n",
        "After you execute <code>new_float_tensor.view(5, 1)</code>, the size of <code>new_float_tensor</code> will be <code>torch.Size([5, 1])</code>.<br>\n",
        "This means that the tensor object <code>new_float_tensor</code> has been reshaped from a one-dimensional  tensor object with 5 elements to a two-dimensional tensor object with 5 rows and 1 column.\n"
      ]
    },
    {
      "cell_type": "code",
      "metadata": {
        "colab": {
          "base_uri": "https://localhost:8080/"
        },
        "id": "b1331f3a-f694-48f3-b85f-1758a72b4aad",
        "outputId": "59b1dc37-597c-4070-bb05-996040dfb45d"
      },
      "outputs": [
        {
          "output_type": "stream",
          "name": "stdout",
          "text": [
            "Original Size:  torch.Size([5])\n",
            "Size after view method torch.Size([5, 1])\n"
          ]
        }
      ],
      "source": [
        "# Introduce the tensor_obj.view(row, column) method\n",
        "\n",
        "twoD_float_tensor = new_float_tensor.view(5, 1)\n",
        "print(\"Original Size: \", new_float_tensor.size())\n",
        "print(\"Size after view method\", twoD_float_tensor.size())"
      ],
      "execution_count": 12
    },
    {
      "cell_type": "markdown",
      "metadata": {
        "id": "7ae2a3f4-245b-46fe-96df-1dd415616df7"
      },
      "source": [
        "Note that the original size is 5. The tensor after reshaping becomes a 5X1 tensor analog to a column vector.\n"
      ]
    },
    {
      "cell_type": "markdown",
      "metadata": {
        "id": "4e588dd5-02ef-43c5-90a8-65aeb639c7ba"
      },
      "source": [
        "<b>Note: The number of elements in a tensor must remain constant after applying view.</b>\n"
      ]
    },
    {
      "cell_type": "markdown",
      "metadata": {
        "id": "d7027912-e300-4a2b-97dc-3e67547e39d8"
      },
      "source": [
        "<!--Empty Space for separating topics-->\n"
      ]
    },
    {
      "cell_type": "markdown",
      "metadata": {
        "id": "4a81423a-3450-4e23-827e-e2ea8f778207"
      },
      "source": [
        "What if you have a tensor with dynamic size but you want to reshape it? You can use <b>-1</b> to do just that.\n"
      ]
    },
    {
      "cell_type": "code",
      "metadata": {
        "colab": {
          "base_uri": "https://localhost:8080/"
        },
        "id": "6c64cd57-aeb5-4939-b9c6-a163a8c4d984",
        "outputId": "5877a3d4-2420-475c-be57-1c402001b73c"
      },
      "outputs": [
        {
          "output_type": "stream",
          "name": "stdout",
          "text": [
            "Original Size:  torch.Size([5])\n",
            "Size after view method torch.Size([5, 1])\n"
          ]
        }
      ],
      "source": [
        "# Introduce the use of -1 in tensor_obj.view(row, column) method\n",
        "\n",
        "twoD_float_tensor = new_float_tensor.view(-1, 1)\n",
        "print(\"Original Size: \", new_float_tensor.size())\n",
        "print(\"Size after view method\", twoD_float_tensor.size())"
      ],
      "execution_count": 13
    },
    {
      "cell_type": "markdown",
      "metadata": {
        "id": "cf096020-bbe4-458b-997e-e4dd62145ace"
      },
      "source": [
        "You get the same result as the previous example. The <b>-1</b> can represent any size. However, be careful because you can set only one argument as <b>-1</b>.\n"
      ]
    },
    {
      "cell_type": "markdown",
      "metadata": {
        "id": "cd5f5c3a-179c-49b7-98aa-f41dde7fcd9d"
      },
      "source": [
        "<!--Empty Space for separating topics-->\n"
      ]
    },
    {
      "cell_type": "markdown",
      "metadata": {
        "id": "0778ec7c-ed75-402a-84b1-40d16f9f9081"
      },
      "source": [
        "You can also convert a <b>numpy</b> array to a <b>tensor</b>, for example:\n"
      ]
    },
    {
      "cell_type": "code",
      "metadata": {
        "colab": {
          "base_uri": "https://localhost:8080/"
        },
        "id": "664ac2aa-e83e-486a-8178-9a0e937dddc7",
        "outputId": "da02f0e1-4205-4547-f9b3-a2be33098812"
      },
      "outputs": [
        {
          "output_type": "stream",
          "name": "stdout",
          "text": [
            "The dtype of new tensor:  torch.float64\n",
            "The type of new tensor:  torch.DoubleTensor\n"
          ]
        }
      ],
      "source": [
        "# Convert a numpy array to a tensor\n",
        "\n",
        "numpy_array = np.array([0.0, 1.0, 2.0, 3.0, 4.0])\n",
        "new_tensor = torch.from_numpy(numpy_array)\n",
        "\n",
        "print(\"The dtype of new tensor: \", new_tensor.dtype)\n",
        "print(\"The type of new tensor: \", new_tensor.type())"
      ],
      "execution_count": 14
    },
    {
      "cell_type": "markdown",
      "metadata": {
        "id": "9bd2e4a0-88cb-4d27-badc-5006fd68ed82"
      },
      "source": [
        "<!--Empty Space for separating topics-->\n"
      ]
    },
    {
      "cell_type": "markdown",
      "metadata": {
        "id": "098ea2ed-1139-4e45-a3fc-29f7910bcf23"
      },
      "source": [
        "Converting a <b>tensor</b> to a <b>numpy</b> is also supported in PyTorch. The syntax is shown below:\n"
      ]
    },
    {
      "cell_type": "code",
      "metadata": {
        "colab": {
          "base_uri": "https://localhost:8080/"
        },
        "id": "d23bde04-f5ff-4b40-a72f-0dc3331d8f66",
        "outputId": "a5d3ceb9-3d64-428e-e07c-f9cf6f2da173"
      },
      "outputs": [
        {
          "output_type": "stream",
          "name": "stdout",
          "text": [
            "The numpy array from tensor:  [0. 1. 2. 3. 4.]\n",
            "The dtype of numpy array:  float64\n"
          ]
        }
      ],
      "source": [
        "# Convert a tensor to a numpy array\n",
        "\n",
        "back_to_numpy = new_tensor.numpy()\n",
        "print(\"The numpy array from tensor: \", back_to_numpy)\n",
        "print(\"The dtype of numpy array: \", back_to_numpy.dtype)"
      ],
      "execution_count": 15
    },
    {
      "cell_type": "markdown",
      "metadata": {
        "id": "bc099bb1-7e4e-402e-b271-0ae046fb0dd9"
      },
      "source": [
        "<code>back_to_numpy</code> and <code>new_tensor</code> still point to <code>numpy_array</code>. As a result if we change <code>numpy_array</code> both <code>back_to_numpy</code> and <code>new_tensor</code> will change. For example if we set all the elements in <code>numpy_array</code> to zeros, <code>back_to_numpy</code> and <code> new_tensor</code> will follow suit.\n"
      ]
    },
    {
      "cell_type": "code",
      "metadata": {
        "colab": {
          "base_uri": "https://localhost:8080/"
        },
        "id": "d60c9522-91e9-4542-a6e2-011a0ac0e7bc",
        "outputId": "29399d4f-806a-4d12-8a8a-6cbac8cd0ffb"
      },
      "outputs": [
        {
          "output_type": "stream",
          "name": "stdout",
          "text": [
            "The new tensor points to numpy_array :  tensor([0., 0., 0., 0., 0.], dtype=torch.float64)\n",
            "and back to numpy array points to the tensor:  [0. 0. 0. 0. 0.]\n"
          ]
        }
      ],
      "source": [
        "# Set all elements in numpy array to zero\n",
        "numpy_array[:] = 0\n",
        "print(\"The new tensor points to numpy_array : \", new_tensor)\n",
        "print(\"and back to numpy array points to the tensor: \", back_to_numpy)"
      ],
      "execution_count": 16
    },
    {
      "cell_type": "markdown",
      "metadata": {
        "id": "eedadab9-5922-40e1-b61b-95a213ba465d"
      },
      "source": [
        "<!--Empty Space for separating topics-->\n"
      ]
    },
    {
      "cell_type": "markdown",
      "metadata": {
        "id": "903b70ec-3b10-40f6-af64-6eb009196edc"
      },
      "source": [
        "<b>Pandas Series</b> can also be converted by using the numpy array that is stored in <code>pandas_series.values</code>. Note that <code>pandas_series</code> can be any pandas_series object.\n"
      ]
    },
    {
      "cell_type": "code",
      "metadata": {
        "colab": {
          "base_uri": "https://localhost:8080/"
        },
        "id": "de8ebf27-3f79-41de-84fa-3d62df5694b3",
        "outputId": "1a30c3a9-0fe0-43f0-e2c7-3a69969e72eb"
      },
      "outputs": [
        {
          "output_type": "stream",
          "name": "stdout",
          "text": [
            "The new tensor from numpy array:  tensor([ 0.1000,  2.0000,  0.3000, 10.1000], dtype=torch.float64)\n",
            "The dtype of new tensor:  torch.float64\n",
            "The type of new tensor:  torch.DoubleTensor\n"
          ]
        }
      ],
      "source": [
        "# Convert a panda series to a tensor\n",
        "\n",
        "pandas_series=pd.Series([0.1, 2, 0.3, 10.1])\n",
        "new_tensor=torch.from_numpy(pandas_series.values)\n",
        "print(\"The new tensor from numpy array: \", new_tensor)\n",
        "print(\"The dtype of new tensor: \", new_tensor.dtype)\n",
        "print(\"The type of new tensor: \", new_tensor.type())"
      ],
      "execution_count": 17
    },
    {
      "cell_type": "markdown",
      "metadata": {
        "id": "d0067eae-2085-4ded-b595-56b3f71ff25c"
      },
      "source": [
        "consider the following tensor\n"
      ]
    },
    {
      "cell_type": "code",
      "metadata": {
        "id": "1ad7fa4d-ef25-49f1-a798-d94821f473e3"
      },
      "outputs": [],
      "source": [
        "this_tensor=torch.tensor([0,1, 2,3])"
      ],
      "execution_count": 18
    },
    {
      "cell_type": "markdown",
      "metadata": {
        "id": "6a1ebc11-9a96-4b9d-8af1-0a9a85eae9ef"
      },
      "source": [
        "The method <code>item()</code> returns the value of this tensor as a standard Python number. This only works for one element.\n"
      ]
    },
    {
      "cell_type": "code",
      "metadata": {
        "colab": {
          "base_uri": "https://localhost:8080/"
        },
        "id": "ee9a4ab3-fe3a-4289-b1ce-691600ecd012",
        "outputId": "0db26b2c-00d7-48fd-f96e-24ec52ecdc92"
      },
      "outputs": [
        {
          "output_type": "stream",
          "name": "stdout",
          "text": [
            "the first item is given by 0 the first tensor value is given by  tensor(0)\n",
            "the second item is given by 1 the second tensor value is given by  tensor(1)\n",
            "the third  item is given by 2 the third tensor value is given by  tensor(2)\n"
          ]
        }
      ],
      "source": [
        "this_tensor=torch.tensor([0,1, 2,3])\n",
        "\n",
        "print(\"the first item is given by\",this_tensor[0].item(),\"the first tensor value is given by \",this_tensor[0])\n",
        "print(\"the second item is given by\",this_tensor[1].item(),\"the second tensor value is given by \",this_tensor[1])\n",
        "print(\"the third  item is given by\",this_tensor[2].item(),\"the third tensor value is given by \",this_tensor[2])"
      ],
      "execution_count": 19
    },
    {
      "cell_type": "markdown",
      "metadata": {
        "id": "64649ec0-1f96-4a1b-bbe6-87f4e0b86c8a"
      },
      "source": [
        "we can use the method <code> tolist()</code> to return a list\n"
      ]
    },
    {
      "cell_type": "code",
      "metadata": {
        "colab": {
          "base_uri": "https://localhost:8080/"
        },
        "id": "1b5fa1e2-3808-4b1f-bd30-c54b48481c3f",
        "outputId": "0b1467cf-2df2-4bf3-cda8-4036bf925a0e"
      },
      "outputs": [
        {
          "output_type": "stream",
          "name": "stdout",
          "text": [
            "tensor: tensor([0, 1, 2, 3]) \n",
            "list: [0, 1, 2, 3]\n"
          ]
        }
      ],
      "source": [
        "torch_to_list=this_tensor.tolist()\n",
        "\n",
        "print('tensor:', this_tensor,\"\\nlist:\",torch_to_list)"
      ],
      "execution_count": 20
    },
    {
      "cell_type": "markdown",
      "metadata": {
        "id": "c5da774a-a1df-479f-b225-b62fc5b7a26b"
      },
      "source": [
        "<!--Empty Space for separating topics-->\n"
      ]
    },
    {
      "cell_type": "markdown",
      "metadata": {
        "id": "cbae377f-ebd9-4ff8-97ce-a86dad03bcd6"
      },
      "source": [
        "<h3>Practice</h3>\n"
      ]
    },
    {
      "cell_type": "markdown",
      "metadata": {
        "id": "bf7663ab-8f39-4920-a524-c3c8f45e9d6b"
      },
      "source": [
        "Try to convert <code>your_tensor</code> to a 1X5 tensor.\n"
      ]
    },
    {
      "cell_type": "code",
      "metadata": {
        "id": "83a82679-3df1-4dab-b148-57997b36506a"
      },
      "outputs": [],
      "source": [
        "# Practice: convert the following tensor to a tensor object with 1 row and 5 columns\n",
        "\n",
        "your_tensor = torch.tensor([1, 2, 3, 4, 5])"
      ],
      "execution_count": 24
    },
    {
      "cell_type": "code",
      "source": [
        "your_new_tensor = your_tensor.view(1, 5)\n",
        "print(\"Original Size: \",  your_tensor.size())\n",
        "print(\"Size after view method\", your_new_tensor.size())"
      ],
      "metadata": {
        "colab": {
          "base_uri": "https://localhost:8080/"
        },
        "id": "QIfxa69-qRcZ",
        "outputId": "5f6efeb9-d975-42a9-bae4-3c5c0ee4216e"
      },
      "execution_count": 25,
      "outputs": [
        {
          "output_type": "stream",
          "name": "stdout",
          "text": [
            "Original Size:  torch.Size([5])\n",
            "Size after view method torch.Size([1, 5])\n"
          ]
        }
      ]
    },
    {
      "cell_type": "markdown",
      "metadata": {
        "id": "5ea609f4-7632-488c-a2dd-03aca7e8b9a9"
      },
      "source": [
        "[link text](https://)Double-click <b>here</b> for the solution.\n",
        "<!--\n",
        "your_new_tensor = your_tensor.view(1, 5)\n",
        "print(\"Original Size: \",  your_tensor.size())\n",
        "print(\"Size after view method\", your_new_tensor.size())\n",
        "-->\n"
      ]
    },
    {
      "cell_type": "markdown",
      "metadata": {
        "id": "f957dfde-076f-45dd-8a85-af5ffaffa5e5"
      },
      "source": [
        "<!--Empty Space for separating topics-->\n"
      ]
    },
    {
      "cell_type": "markdown",
      "metadata": {
        "id": "c9a0fe61-5f55-446f-81a7-1a91389dc77e"
      },
      "source": [
        "<h2 id=\"Index_Slice\">Indexing and Slicing</h2>\n"
      ]
    },
    {
      "cell_type": "markdown",
      "metadata": {
        "id": "b0b10f58-4a3e-49ca-836b-26c19113cfbd"
      },
      "source": [
        "In Python, <b>the index starts with 0</b>. Therefore, the last index will always be 1 less than the length of the tensor object.\n",
        "You can access the value on a certain index by using the square bracket, for example:\n"
      ]
    },
    {
      "cell_type": "code",
      "metadata": {
        "colab": {
          "base_uri": "https://localhost:8080/"
        },
        "id": "6e480f7d-feae-42f0-b981-8e7e123c2ea4",
        "outputId": "a0463342-de2b-47fd-ff0f-f8f5218a7de2"
      },
      "outputs": [
        {
          "output_type": "stream",
          "name": "stdout",
          "text": [
            "The value on index 0: tensor(0)\n",
            "The value on index 1: tensor(1)\n",
            "The value on index 2: tensor(2)\n",
            "The value on index 3: tensor(3)\n",
            "The value on index 4: tensor(4)\n"
          ]
        }
      ],
      "source": [
        "# A tensor for showing how the indexs work on tensors\n",
        "\n",
        "index_tensor = torch.tensor([0, 1, 2, 3, 4])\n",
        "print(\"The value on index 0:\",index_tensor[0])\n",
        "print(\"The value on index 1:\",index_tensor[1])\n",
        "print(\"The value on index 2:\",index_tensor[2])\n",
        "print(\"The value on index 3:\",index_tensor[3])\n",
        "print(\"The value on index 4:\",index_tensor[4])"
      ],
      "execution_count": 26
    },
    {
      "cell_type": "markdown",
      "metadata": {
        "id": "ba323afa-1e95-4c06-9614-dff333aa7aa9"
      },
      "source": [
        "<b>Note that the <code>index_tensor[5]</code> will create an error.</b>\n"
      ]
    },
    {
      "cell_type": "markdown",
      "metadata": {
        "id": "68d0f690-9c72-43b9-96af-008e0964efdc"
      },
      "source": [
        "<!--Empty Space for separating topics-->\n"
      ]
    },
    {
      "cell_type": "markdown",
      "metadata": {
        "id": "8dca0f8d-5d62-4b52-870e-4361c4d05c62"
      },
      "source": [
        "The index is shown in the following figure:\n"
      ]
    },
    {
      "cell_type": "markdown",
      "metadata": {
        "id": "edb775f4-7d4c-4903-bc4c-3d7640ed2cf8"
      },
      "source": [
        "<img src=\"https://s3-api.us-geo.objectstorage.softlayer.net/cf-courses-data/CognitiveClass/DL0110EN/notebook_images%20/chapter%201/idex_1.png\" width=\"500\" alt=\"Python Index\">\n"
      ]
    },
    {
      "cell_type": "markdown",
      "metadata": {
        "id": "fbc1f7e5-6212-49c7-a485-a83f3ae8c916"
      },
      "source": [
        "<!--Empty Space for separating topics-->\n"
      ]
    },
    {
      "cell_type": "markdown",
      "metadata": {
        "id": "20341fa0-b81f-437e-9333-49d6afe6dc4a"
      },
      "source": [
        "Now, you'll see how to change the values on certain indexes.\n"
      ]
    },
    {
      "cell_type": "markdown",
      "metadata": {
        "id": "f76c31f7-cc22-4dc4-a476-573c2ff4fe3a"
      },
      "source": [
        "Suppose you have a tensor as shown here:\n"
      ]
    },
    {
      "cell_type": "code",
      "metadata": {
        "id": "2bdf17f9-25b9-41c5-ae9d-d91b67415582"
      },
      "outputs": [],
      "source": [
        "# A tensor for showing how to change value according to the index\n",
        "\n",
        "tensor_sample = torch.tensor([20, 1, 2, 3, 4])"
      ],
      "execution_count": 27
    },
    {
      "cell_type": "markdown",
      "metadata": {
        "id": "6072f9a4-97a2-4081-931f-562800929fdd"
      },
      "source": [
        "Assign the value on index 0 as 100:\n"
      ]
    },
    {
      "cell_type": "code",
      "metadata": {
        "colab": {
          "base_uri": "https://localhost:8080/"
        },
        "id": "8631cb2e-aa5d-4a68-a7f1-61529ee9bced",
        "outputId": "554a19fc-2546-4c97-8e92-94f98f7bf8fc"
      },
      "outputs": [
        {
          "output_type": "stream",
          "name": "stdout",
          "text": [
            "Inital value on index 0: tensor(20)\n",
            "Modified tensor: tensor([100,   1,   2,   3,   4])\n"
          ]
        }
      ],
      "source": [
        "# Change the value on the index 0 to 100\n",
        "\n",
        "print(\"Inital value on index 0:\", tensor_sample[0])\n",
        "tensor_sample[0] = 100\n",
        "print(\"Modified tensor:\", tensor_sample)"
      ],
      "execution_count": 28
    },
    {
      "cell_type": "markdown",
      "metadata": {
        "id": "2599f259-ee11-44e8-8ff7-3d2e2238f5c5"
      },
      "source": [
        "As you can see, the value on index 0 changes. Change the value on index 4 to 0:\n"
      ]
    },
    {
      "cell_type": "code",
      "metadata": {
        "colab": {
          "base_uri": "https://localhost:8080/"
        },
        "id": "774b0c27-859e-423f-94db-257e5618743e",
        "outputId": "b3f0962e-6991-4389-ca7a-37a47d0c34b4"
      },
      "outputs": [
        {
          "output_type": "stream",
          "name": "stdout",
          "text": [
            "Inital value on index 4: tensor(4)\n",
            "Modified tensor: tensor([100,   1,   2,   3,   0])\n"
          ]
        }
      ],
      "source": [
        "# Change the value on the index 4 to 0\n",
        "\n",
        "print(\"Inital value on index 4:\", tensor_sample[4])\n",
        "tensor_sample[4] = 0\n",
        "print(\"Modified tensor:\", tensor_sample)"
      ],
      "execution_count": 29
    },
    {
      "cell_type": "markdown",
      "metadata": {
        "id": "75ed4400-e523-4335-98ec-75f40a26e729"
      },
      "source": [
        "The value on index 4 turns to 0.\n"
      ]
    },
    {
      "cell_type": "markdown",
      "metadata": {
        "id": "0a5fc4a7-e8d5-4fcb-b5e9-93b1e3c08a26"
      },
      "source": [
        "<!--Empty Space for separating topics-->\n"
      ]
    },
    {
      "cell_type": "markdown",
      "metadata": {
        "id": "5f393493-c374-4186-ae23-16876e96a8a2"
      },
      "source": [
        "If you are familiar with Python, you know that there is a feature called slicing on a list. Tensors support the same feature.\n"
      ]
    },
    {
      "cell_type": "markdown",
      "metadata": {
        "id": "81dbc470-052e-414d-b71e-ae4fe853505a"
      },
      "source": [
        "Get the subset of <code>tensor_sample</code>. The subset should contain the values in <code>tensor_sample</code> from index 1 to index 3.\n"
      ]
    },
    {
      "cell_type": "code",
      "metadata": {
        "colab": {
          "base_uri": "https://localhost:8080/"
        },
        "id": "3414a0ca-c890-4745-ba55-ae235cad9b86",
        "outputId": "b889b493-9af5-4643-eb5c-035da8c7f15f"
      },
      "outputs": [
        {
          "output_type": "stream",
          "name": "stdout",
          "text": [
            "Original tensor sample:  tensor([100,   1,   2,   3,   0])\n",
            "The subset of tensor sample: tensor([1, 2, 3])\n"
          ]
        }
      ],
      "source": [
        "# Slice tensor_sample\n",
        "\n",
        "subset_tensor_sample = tensor_sample[1:4]\n",
        "print(\"Original tensor sample: \", tensor_sample)\n",
        "print(\"The subset of tensor sample:\", subset_tensor_sample)"
      ],
      "execution_count": 30
    },
    {
      "cell_type": "markdown",
      "metadata": {
        "id": "6f9e9972-5fe4-4291-b06e-79a25aef5065"
      },
      "source": [
        "As a result, the <code>subset_tensor_sample</code> returned only the values on index 1, index 2, and index 3. Then, it stored them in a <code>subset_tensor_sample</code>.\n"
      ]
    },
    {
      "cell_type": "markdown",
      "metadata": {
        "id": "3915a3f6-c8f9-4154-bf7f-d4f2e4092830"
      },
      "source": [
        "<b>Note: The number on the left side of the colon represents the index of the first value. The number on the right side of the colon is always 1 larger than the index of the last value. For example, <code>tensor_sample[1:4]</code> means you get values from the index 1 to index 3 <i>(4-1)</i></b>.\n"
      ]
    },
    {
      "cell_type": "markdown",
      "metadata": {
        "id": "fd5f5ab6-c252-4441-8faf-bf13c79dc498"
      },
      "source": [
        "<!--Empty Space for separating topics-->\n"
      ]
    },
    {
      "cell_type": "markdown",
      "metadata": {
        "id": "b0122054-f4a9-446d-9829-a5cc925a78a9"
      },
      "source": [
        "As for assigning values to the certain index, you can also assign the value to the slices:\n"
      ]
    },
    {
      "cell_type": "markdown",
      "metadata": {
        "id": "8c8b0cb7-d91b-49ef-8350-aa73700f67bb"
      },
      "source": [
        "Change the value of <code>tensor_sample</code> from index 3 to index 4:\n"
      ]
    },
    {
      "cell_type": "code",
      "metadata": {
        "colab": {
          "base_uri": "https://localhost:8080/"
        },
        "id": "25d8c8bb-9a3d-45a4-8483-b7e73b1f1202",
        "outputId": "35dfc9c6-5f80-4fd5-e43d-9ad81746bdf0"
      },
      "outputs": [
        {
          "output_type": "stream",
          "name": "stdout",
          "text": [
            "Inital value on index 3 and index 4: tensor([3, 0])\n",
            "Modified tensor: tensor([100,   1,   2, 300, 400])\n"
          ]
        }
      ],
      "source": [
        "# Change the values on index 3 and index 4\n",
        "\n",
        "print(\"Inital value on index 3 and index 4:\", tensor_sample[3:5])\n",
        "tensor_sample[3:5] = torch.tensor([300.0, 400.0])\n",
        "print(\"Modified tensor:\", tensor_sample)"
      ],
      "execution_count": 31
    },
    {
      "cell_type": "markdown",
      "metadata": {
        "id": "378d0ac6-5c7f-42b0-94f9-026a34f95f82"
      },
      "source": [
        "The values on both index 3 and index 4 were changed. The values on other indexes remain the same.\n"
      ]
    },
    {
      "cell_type": "markdown",
      "metadata": {
        "id": "735679af-730b-4532-8dee-3a98927d6666"
      },
      "source": [
        "<!--Empty Space for separating topics-->\n"
      ]
    },
    {
      "cell_type": "markdown",
      "metadata": {
        "id": "c166ce6c-f231-49e0-9617-4980435196da"
      },
      "source": [
        "You can also use a variable to contain the selected indexes and pass that variable to a tensor slice operation as a parameter, for example:  \n"
      ]
    },
    {
      "cell_type": "code",
      "metadata": {
        "colab": {
          "base_uri": "https://localhost:8080/"
        },
        "id": "cdac64e8-0395-42d4-be38-b559c237feb4",
        "outputId": "e5adbc8c-8f1f-41ea-a15a-1611f03d2a83"
      },
      "outputs": [
        {
          "output_type": "stream",
          "name": "stdout",
          "text": [
            "The inital tensor_sample tensor([100,   1,   2, 300, 400])\n",
            "The subset of tensor_sample with the values on index 3 and 4:  tensor([300, 400])\n"
          ]
        }
      ],
      "source": [
        "# Using variable to contain the selected index, and pass it to slice operation\n",
        "\n",
        "selected_indexes = [3, 4]\n",
        "subset_tensor_sample = tensor_sample[selected_indexes]\n",
        "print(\"The inital tensor_sample\", tensor_sample)\n",
        "print(\"The subset of tensor_sample with the values on index 3 and 4: \", subset_tensor_sample)"
      ],
      "execution_count": 32
    },
    {
      "cell_type": "markdown",
      "metadata": {
        "id": "2040e64f-0309-4e97-b45b-1b086d0bdc07"
      },
      "source": [
        "<!--Empty Space for separating topics-->\n"
      ]
    },
    {
      "cell_type": "markdown",
      "metadata": {
        "id": "8431fe11-54c6-46f9-8aa6-189266a561a4"
      },
      "source": [
        "You can also assign one value to the selected indexes by using the variable. For example, assign 100,000 to all the <code>selected_indexes</code>:\n"
      ]
    },
    {
      "cell_type": "code",
      "metadata": {
        "colab": {
          "base_uri": "https://localhost:8080/"
        },
        "id": "486f242c-40d7-4dc8-b67f-a9efcaa034de",
        "outputId": "7da6d6fa-8ab0-4402-c8af-4f26c60804fc"
      },
      "outputs": [
        {
          "output_type": "stream",
          "name": "stdout",
          "text": [
            "The inital tensor_sample tensor([100,   1,   2, 300, 400])\n",
            "Modified tensor with one value:  tensor([   100, 100000,      2, 100000,    400])\n"
          ]
        }
      ],
      "source": [
        "#Using variable to assign the value to the selected indexes\n",
        "\n",
        "print(\"The inital tensor_sample\", tensor_sample)\n",
        "selected_indexes = [1, 3]\n",
        "tensor_sample[selected_indexes] = 100000\n",
        "print(\"Modified tensor with one value: \", tensor_sample)"
      ],
      "execution_count": 33
    },
    {
      "cell_type": "markdown",
      "metadata": {
        "id": "bc264ba6-bba9-46d7-a8db-42aeb66cad9a"
      },
      "source": [
        "The values on index 1 and index 3 were changed to 100,000. Others remain the same.\n"
      ]
    },
    {
      "cell_type": "markdown",
      "metadata": {
        "id": "9f95796d-91c1-4727-9451-206746ff83a9"
      },
      "source": [
        "<b>Note: You can use only one value for the assignment.</b>\n"
      ]
    },
    {
      "cell_type": "markdown",
      "metadata": {
        "id": "e97f835d-5c98-4a78-b72e-56fc69728dcf"
      },
      "source": [
        "<!--Empty Space for separating topics-->\n"
      ]
    },
    {
      "cell_type": "markdown",
      "metadata": {
        "id": "45d417b0-35d0-4a08-b2fc-8e031020c4df"
      },
      "source": [
        "<h3>Practice</h3>\n"
      ]
    },
    {
      "cell_type": "markdown",
      "metadata": {
        "id": "d141506b-0e83-4467-a57e-3dc12c31ad4a"
      },
      "source": [
        "Try to change the values on index 3, 4, 7 of the following tensor to 0.\n"
      ]
    },
    {
      "cell_type": "code",
      "metadata": {
        "id": "467f0678-054e-4ab0-a1c4-d5b3539f526d"
      },
      "outputs": [],
      "source": [
        "# Practice: Change the values on index 3, 4, 7 to 0\n",
        "\n",
        "practice_tensor = torch.tensor([2, 7, 3, 4, 6, 2, 3, 1, 2])"
      ],
      "execution_count": 34
    },
    {
      "cell_type": "code",
      "source": [
        "selected_indexes = [3, 4, 7]\n",
        "practice_tensor[selected_indexes] = 0\n",
        "print(\"New Practice Tensor: \", practice_tensor)"
      ],
      "metadata": {
        "colab": {
          "base_uri": "https://localhost:8080/"
        },
        "id": "GSffQlR6rgTj",
        "outputId": "e9fb9645-c8a5-4367-8d8a-f6a11fa9bbf1"
      },
      "execution_count": 35,
      "outputs": [
        {
          "output_type": "stream",
          "name": "stdout",
          "text": [
            "New Practice Tensor:  tensor([2, 7, 3, 0, 0, 2, 3, 0, 2])\n"
          ]
        }
      ]
    },
    {
      "cell_type": "markdown",
      "metadata": {
        "id": "d3970d3c-3a54-4c8f-b19f-b0fe13a2d68f"
      },
      "source": [
        "Double-click <b>here</b> for the solution.\n",
        "<!--\n",
        "selected_indexes = [3, 4, 7]\n",
        "practice_tensor[selected_indexes] = 0\n",
        "print(\"New Practice Tensor: \", practice_tensor)\n",
        "-->\n"
      ]
    },
    {
      "cell_type": "markdown",
      "metadata": {
        "id": "dd6953f9-b6b8-4187-b020-dde4e5797fd4"
      },
      "source": [
        "<!--Empty Space for separating topics-->\n"
      ]
    },
    {
      "cell_type": "markdown",
      "metadata": {
        "id": "a0d3fe61-4729-42aa-9a72-22137b06c9c0"
      },
      "source": [
        "<!-- <h2 id=\"Tensor_Func\">Tensor Functions</h2>\n",
        " -->\n",
        " ## Tensor Functions\n"
      ]
    },
    {
      "cell_type": "markdown",
      "metadata": {
        "id": "dc6c2785-87a9-46b2-82b5-08dcb554aa5c"
      },
      "source": [
        "For this section, you'll work with some methods that you can apply to tensor objects.\n"
      ]
    },
    {
      "cell_type": "markdown",
      "metadata": {
        "id": "26818994-0b27-4f91-9e62-c56e12cba4f0"
      },
      "source": [
        "<h3>Mean and Standard Deviation</h3>\n"
      ]
    },
    {
      "cell_type": "markdown",
      "metadata": {
        "id": "c5b86a96-0068-4f8d-af69-34dd26716ebe"
      },
      "source": [
        "You'll review the mean and standard deviation methods first. They are two basic statistical methods.\n"
      ]
    },
    {
      "cell_type": "markdown",
      "metadata": {
        "id": "67bd905b-afaa-4a1b-a603-4bf0e3b1778c"
      },
      "source": [
        "<!--Empty Space for separating topics-->\n"
      ]
    },
    {
      "cell_type": "markdown",
      "metadata": {
        "id": "73ed01a6-ed81-4da0-8a26-17b9701dab79"
      },
      "source": [
        "Create a tensor with values <i>[1.0, -1, 1, -1]</i>:\n"
      ]
    },
    {
      "cell_type": "code",
      "metadata": {
        "colab": {
          "base_uri": "https://localhost:8080/"
        },
        "id": "634f1558-7425-4794-86b5-f2eb8f065502",
        "outputId": "6b7f6296-6106-4922-f367-92e82e374354"
      },
      "outputs": [
        {
          "output_type": "stream",
          "name": "stdout",
          "text": [
            "Tensor example:  tensor([ 1., -1.,  1., -1.])\n"
          ]
        }
      ],
      "source": [
        "# Sample tensor for mathmatic calculation methods on tensor\n",
        "\n",
        "math_tensor = torch.tensor([1.0, -1.0, 1, -1])\n",
        "print(\"Tensor example: \", math_tensor)"
      ],
      "execution_count": 36
    },
    {
      "cell_type": "markdown",
      "metadata": {
        "id": "aea9ed1d-e6b7-4496-8a6e-b41a56824e75"
      },
      "source": [
        "<!--Empty Space for separating topics-->\n"
      ]
    },
    {
      "cell_type": "markdown",
      "metadata": {
        "id": "95ecbc13-776c-4f51-95b6-04ba4734e171"
      },
      "source": [
        "Here is the mean method:  \n"
      ]
    },
    {
      "cell_type": "code",
      "metadata": {
        "colab": {
          "base_uri": "https://localhost:8080/"
        },
        "id": "d7fba6ab-95c9-4666-965d-5ed9c5242701",
        "outputId": "61922e2f-ae49-4c7c-ce49-50c9550117a4"
      },
      "outputs": [
        {
          "output_type": "stream",
          "name": "stdout",
          "text": [
            "The mean of math_tensor:  tensor(0.)\n"
          ]
        }
      ],
      "source": [
        "#Calculate the mean for math_tensor\n",
        "\n",
        "mean = math_tensor.mean()\n",
        "print(\"The mean of math_tensor: \", mean)"
      ],
      "execution_count": 37
    },
    {
      "cell_type": "markdown",
      "metadata": {
        "id": "6d369e2b-cf2b-4f22-b99e-c908f32240f3"
      },
      "source": [
        "<!--Empty Space for separating topics-->\n"
      ]
    },
    {
      "cell_type": "markdown",
      "metadata": {
        "id": "f39d51c5-5156-4dd3-9efb-471ead4c40bd"
      },
      "source": [
        "The standard deviation can also be calculated by using <code><i>tensor_obj</i>.std()</code>:\n"
      ]
    },
    {
      "cell_type": "code",
      "metadata": {
        "colab": {
          "base_uri": "https://localhost:8080/"
        },
        "id": "1faa8a68-495f-4f70-ba48-a9670730a1db",
        "outputId": "32aa0150-561e-4d1d-c79f-d03e67e8ea23"
      },
      "outputs": [
        {
          "output_type": "stream",
          "name": "stdout",
          "text": [
            "The standard deviation of math_tensor:  tensor(1.1547)\n"
          ]
        }
      ],
      "source": [
        "#Calculate the standard deviation for math_tensor\n",
        "\n",
        "standard_deviation = math_tensor.std()\n",
        "print(\"The standard deviation of math_tensor: \", standard_deviation)"
      ],
      "execution_count": 38
    },
    {
      "cell_type": "markdown",
      "metadata": {
        "id": "0d6d0ca7-f0f0-4d00-b58e-7e5ee211eafb"
      },
      "source": [
        "<!--Empty Space for separating topics-->\n"
      ]
    },
    {
      "cell_type": "markdown",
      "metadata": {
        "id": "0b696932-0950-4358-81a9-3a507a0ccad5"
      },
      "source": [
        "<h3>Max and Min</h3>\n"
      ]
    },
    {
      "cell_type": "markdown",
      "metadata": {
        "id": "68b36143-a2bb-4b22-8caf-019750807f0b"
      },
      "source": [
        "Now, you'll review another two useful methods: <code><i>tensor_obj</i>.max()</code> and <code><i>tensor_obj</i>.min()</code>. These two methods are used for finding the maximum value and the minimum value in the tensor.\n"
      ]
    },
    {
      "cell_type": "markdown",
      "metadata": {
        "id": "8e0f5aa6-b1d9-46f4-a32f-5cadbfd65e2b"
      },
      "source": [
        "<!--Empty Space for separating topics-->\n"
      ]
    },
    {
      "cell_type": "markdown",
      "metadata": {
        "id": "f2179c74-5db6-4f66-bcf5-4333c47ddae7"
      },
      "source": [
        "Create a <code>max_min_tensor</code>:\n"
      ]
    },
    {
      "cell_type": "code",
      "metadata": {
        "colab": {
          "base_uri": "https://localhost:8080/"
        },
        "id": "a507b3b4-0dd6-49d3-b5cf-c918c80108b0",
        "outputId": "b9ae2431-c315-4bf3-b836-e5aabc9aab53"
      },
      "outputs": [
        {
          "output_type": "stream",
          "name": "stdout",
          "text": [
            "Tensor example:  tensor([1, 1, 3, 5, 5])\n"
          ]
        }
      ],
      "source": [
        "# Sample for introducing max and min methods\n",
        "\n",
        "max_min_tensor = torch.tensor([1, 1, 3, 5, 5])\n",
        "print(\"Tensor example: \", max_min_tensor)"
      ],
      "execution_count": 39
    },
    {
      "cell_type": "markdown",
      "metadata": {
        "id": "8669ffb3-87b4-43e2-b883-5502d5401cac"
      },
      "source": [
        "<b>Note: There are two minimum numbers as 1 and two maximum numbers as 5 in the tensor. Can you guess how PyTorch is going to deal with the duplicates?</b>\n"
      ]
    },
    {
      "cell_type": "markdown",
      "metadata": {
        "id": "ef2be241-e034-4b1e-892c-3b53fc49cfb9"
      },
      "source": [
        "<!--Empty Space for separating topics-->\n"
      ]
    },
    {
      "cell_type": "markdown",
      "metadata": {
        "id": "e0dd7ea1-eec3-46a9-b3fd-41be8d5835b9"
      },
      "source": [
        "Apply <code><i>tensor_obj</i>.max()</code> on <code>max_min_tensor</code>:\n"
      ]
    },
    {
      "cell_type": "code",
      "metadata": {
        "colab": {
          "base_uri": "https://localhost:8080/"
        },
        "id": "0865105c-cf56-4fd2-b3be-5c2eb1cf1c25",
        "outputId": "39eb6a2c-8595-4e78-cae6-5d2dc480830c"
      },
      "outputs": [
        {
          "output_type": "stream",
          "name": "stdout",
          "text": [
            "Maximum number in the tensor:  tensor(5)\n"
          ]
        }
      ],
      "source": [
        "# Method for finding the maximum value in the tensor\n",
        "\n",
        "max_val = max_min_tensor.max()\n",
        "print(\"Maximum number in the tensor: \", max_val)"
      ],
      "execution_count": 40
    },
    {
      "cell_type": "markdown",
      "metadata": {
        "id": "ee4141ef-447f-40b4-9172-b33ebb271bcf"
      },
      "source": [
        "The answer is <code>tensor(5)</code>. Therefore, the method <code><i>tensor_obj</i>.max()</code> is grabbing the maximum value but not the elements that contain the maximum value in the tensor.\n"
      ]
    },
    {
      "cell_type": "code",
      "metadata": {
        "colab": {
          "base_uri": "https://localhost:8080/"
        },
        "id": "30dadd17-d8f1-4344-b684-9925b251c7e9",
        "outputId": "3e3b642b-701f-4cbf-f92b-7fd26e3fcd18"
      },
      "outputs": [
        {
          "output_type": "execute_result",
          "data": {
            "text/plain": [
              "tensor(5)"
            ]
          },
          "metadata": {},
          "execution_count": 41
        }
      ],
      "source": [
        " max_min_tensor.max()"
      ],
      "execution_count": 41
    },
    {
      "cell_type": "markdown",
      "metadata": {
        "id": "afb818a7-53b9-4d79-99c5-0e7d33fbd2ea"
      },
      "source": [
        "<!--Empty Space for separating topics-->\n"
      ]
    },
    {
      "cell_type": "markdown",
      "metadata": {
        "id": "12deeec1-b6bc-4823-ab44-223aaa9f2df7"
      },
      "source": [
        "Use <code><i>tensor_obj</i>.min()</code> on <code>max_min_tensor</code>:\n"
      ]
    },
    {
      "cell_type": "code",
      "metadata": {
        "colab": {
          "base_uri": "https://localhost:8080/"
        },
        "id": "1a271c2c-a9a7-4f65-ba86-5040759bfc92",
        "outputId": "fd8a5820-9081-4b13-dc4c-71596b78ba1d"
      },
      "outputs": [
        {
          "output_type": "stream",
          "name": "stdout",
          "text": [
            "Minimum number in the tensor:  tensor(1)\n"
          ]
        }
      ],
      "source": [
        "# Method for finding the minimum value in the tensor\n",
        "\n",
        "min_val = max_min_tensor.min()\n",
        "print(\"Minimum number in the tensor: \", min_val)"
      ],
      "execution_count": 42
    },
    {
      "cell_type": "markdown",
      "metadata": {
        "id": "95944d8d-b27a-4812-beb3-774a6a7d4653"
      },
      "source": [
        "The answer is <code>tensor(1)</code>. Therefore, the method <code><i>tensor_obj</i>.min()</code> is grabbing the minimum value but not the elements that contain the minimum value in the tensor.\n"
      ]
    },
    {
      "cell_type": "markdown",
      "metadata": {
        "id": "e79abfbd-03c1-45c0-b3ee-059f55721407"
      },
      "source": [
        "<!--Empty Space for separating topics-->\n"
      ]
    },
    {
      "cell_type": "markdown",
      "metadata": {
        "id": "96e831da-3207-4208-925a-71b9842701bf"
      },
      "source": [
        "<h3>Sin</h3>\n"
      ]
    },
    {
      "cell_type": "markdown",
      "metadata": {
        "id": "c4e59b52-8ce4-4860-8a40-a55a78aeefbd"
      },
      "source": [
        "Sin is the trigonometric function of an angle. Again, you will not be introducedvto any mathematic functions. You'll focus on Python.\n"
      ]
    },
    {
      "cell_type": "markdown",
      "metadata": {
        "id": "3672d25f-1754-410d-bbcd-8c49cf612250"
      },
      "source": [
        "<!--Empty Space for separating topics-->\n"
      ]
    },
    {
      "cell_type": "markdown",
      "metadata": {
        "id": "4c3e1e91-b15e-4672-b45a-bde3f3924b1b"
      },
      "source": [
        "Create a tensor with 0, π/2 and π. Then, apply the sin function on the tensor. Notice here that the <code>sin()</code> is not a method of tensor object but is a function of torch:\n"
      ]
    },
    {
      "cell_type": "code",
      "metadata": {
        "colab": {
          "base_uri": "https://localhost:8080/"
        },
        "id": "3f30e31f-d25b-4f26-b80b-42bf23c787c9",
        "outputId": "bc8bc666-23fd-448c-ddc6-3cc93e6448bb"
      },
      "outputs": [
        {
          "output_type": "stream",
          "name": "stdout",
          "text": [
            "The sin result of pi_tensor:  tensor([ 0.0000e+00,  1.0000e+00, -8.7423e-08])\n"
          ]
        }
      ],
      "source": [
        "# Method for calculating the sin result of each element in the tensor\n",
        "\n",
        "pi_tensor = torch.tensor([0, np.pi/2, np.pi])\n",
        "sin = torch.sin(pi_tensor)\n",
        "print(\"The sin result of pi_tensor: \", sin)"
      ],
      "execution_count": 43
    },
    {
      "cell_type": "markdown",
      "metadata": {
        "id": "9f3c5aae-9ac6-437d-bc39-a0cddebbd9f2"
      },
      "source": [
        "The resultant tensor <code>sin</code> contains the result of the <code>sin</code> function applied to each element in the <code>pi_tensor</code>.<br>\n",
        "This is different from the previous methods. For <code><i>tensor_obj</i>.mean()</code>, <code><i>tensor_obj</i>.std()</code>, <code><i>tensor_obj</i>.max()</code>, and <code><i>tensor_obj</i>.min()</code>, the result is a tensor with only one number because these are aggregate methods.<br>\n",
        "However, the <code>torch.sin()</code> is not. Therefore, the resultant tensors have the same length as the input tensor.\n"
      ]
    },
    {
      "cell_type": "markdown",
      "metadata": {
        "id": "33a30559-6922-4593-82ef-ee8c899e46b7"
      },
      "source": [
        "<!--Empty Space for separating topics-->\n"
      ]
    },
    {
      "cell_type": "markdown",
      "metadata": {
        "id": "82784089-dc0e-4985-9a82-407b55657c4f"
      },
      "source": [
        "<h3>Create Tensor by <code>torch.linspace()</code></h3>\n"
      ]
    },
    {
      "cell_type": "markdown",
      "metadata": {
        "id": "44caaf68-528a-49cd-bdb9-22e762ef7414"
      },
      "source": [
        "A useful function for plotting mathematical functions is <code>torch.linspace()</code>. <code>torch.linspace()</code> returns evenly spaced numbers over a specified interval. You specify the starting point of the sequence and the ending point of the sequence. The parameter <code>steps</code> indicates the number of samples to generate. Now, you'll work with <code>steps = 5</code>.\n"
      ]
    },
    {
      "cell_type": "code",
      "metadata": {
        "colab": {
          "base_uri": "https://localhost:8080/"
        },
        "id": "9e6e8269-37c8-4b4c-bb8b-9fd21a08e57c",
        "outputId": "aa58f141-bb71-4026-dc28-04c1ce37957f"
      },
      "outputs": [
        {
          "output_type": "stream",
          "name": "stdout",
          "text": [
            "First Try on linspace tensor([-2., -1.,  0.,  1.,  2.])\n"
          ]
        }
      ],
      "source": [
        "# First try on using linspace to create tensor\n",
        "\n",
        "len_5_tensor = torch.linspace(-2, 2, steps = 5)\n",
        "print (\"First Try on linspace\", len_5_tensor)"
      ],
      "execution_count": 44
    },
    {
      "cell_type": "markdown",
      "metadata": {
        "id": "d9149d1c-5470-4e64-ae92-4e088c30f1ca"
      },
      "source": [
        "<!--Empty Space for separating topics-->\n"
      ]
    },
    {
      "cell_type": "markdown",
      "metadata": {
        "id": "72447d93-a842-45ae-a6c5-72fd3c389a1c"
      },
      "source": [
        "Assign <code>steps</code> with 9:\n"
      ]
    },
    {
      "cell_type": "code",
      "metadata": {
        "colab": {
          "base_uri": "https://localhost:8080/"
        },
        "id": "2c4fcd12-32ca-49c9-902c-0d4131cc0272",
        "outputId": "73245af8-e050-446e-8d8d-06e3fa0273c9"
      },
      "outputs": [
        {
          "output_type": "stream",
          "name": "stdout",
          "text": [
            "Second Try on linspace tensor([-2.0000, -1.5000, -1.0000, -0.5000,  0.0000,  0.5000,  1.0000,  1.5000,\n",
            "         2.0000])\n"
          ]
        }
      ],
      "source": [
        "# Second try on using linspace to create tensor\n",
        "\n",
        "len_9_tensor = torch.linspace(-2, 2, steps = 9)\n",
        "print (\"Second Try on linspace\", len_9_tensor)"
      ],
      "execution_count": 45
    },
    {
      "cell_type": "markdown",
      "metadata": {
        "id": "6478a4a1-7999-4408-91ac-d412de599693"
      },
      "source": [
        "<!--Empty Space for separating topics-->\n"
      ]
    },
    {
      "cell_type": "markdown",
      "metadata": {
        "id": "7c4450a4-8fab-4839-a4ca-af4d1978f904"
      },
      "source": [
        "Use both <code>torch.linspace()</code> and <code>torch.sin()</code> to construct a tensor that contains the 100 sin result in range from 0 (0 degree) to 2π (360 degree):\n"
      ]
    },
    {
      "cell_type": "code",
      "metadata": {
        "id": "7818839a-3609-4627-a94c-5a8d8c138fd2"
      },
      "outputs": [],
      "source": [
        "# Construct the tensor within 0 to 360 degree\n",
        "\n",
        "pi_tensor = torch.linspace(0, 2*np.pi, 100)\n",
        "sin_result = torch.sin(pi_tensor)"
      ],
      "execution_count": 46
    },
    {
      "cell_type": "markdown",
      "metadata": {
        "id": "3528b998-ca2c-455d-a2cf-cd5b59bfa912"
      },
      "source": [
        "Plot the result to get a clearer picture. You must cast the tensor to a numpy array before plotting it.\n"
      ]
    },
    {
      "cell_type": "code",
      "metadata": {
        "colab": {
          "base_uri": "https://localhost:8080/",
          "height": 447
        },
        "id": "24212d17-abba-494c-9c95-089b82a8eefa",
        "outputId": "de6670c3-caf0-4d56-f259-7c7dba5fbe44"
      },
      "outputs": [
        {
          "output_type": "execute_result",
          "data": {
            "text/plain": [
              "[<matplotlib.lines.Line2D at 0x7a472d46b950>]"
            ]
          },
          "metadata": {},
          "execution_count": 47
        },
        {
          "output_type": "display_data",
          "data": {
            "text/plain": [
              "<Figure size 640x480 with 1 Axes>"
            ],
            "image/png": "[encoded data removed]"
          },
          "metadata": {}
        }
      ],
      "source": [
        "# Plot sin_result\n",
        "\n",
        "plt.plot(pi_tensor.numpy(), sin_result.numpy())"
      ],
      "execution_count": 47
    },
    {
      "cell_type": "markdown",
      "metadata": {
        "id": "d0bac1e0-d238-453b-86a0-d31bd629b2e9"
      },
      "source": [
        "If you know the trigonometric function, you will notice this is the diagram of the sin result in the range 0 to 360 degrees.\n"
      ]
    },
    {
      "cell_type": "markdown",
      "metadata": {
        "id": "d0ecf9cf-454c-4785-9841-f20a542f7966"
      },
      "source": [
        "<!--Empty Space for separating topics-->\n"
      ]
    },
    {
      "cell_type": "markdown",
      "metadata": {
        "id": "22977870-0b27-4f1e-9586-d7b0c8447e94"
      },
      "source": [
        "<h3>Practice</h3>\n"
      ]
    },
    {
      "cell_type": "markdown",
      "metadata": {
        "id": "ccff955b-70a4-4dc7-937e-d5c9a5e0dd2a"
      },
      "source": [
        "Construct a tensor with 25 steps in the range 0 to π/2. Print out the Maximum and Minimum number. Also, plot  a graph showing the diagram that shows the result.\n"
      ]
    },
    {
      "cell_type": "code",
      "metadata": {
        "id": "72753d8c-471a-4c6c-967e-26e9aa8eb1a3"
      },
      "outputs": [],
      "source": [
        "# Practice: Create your tensor, print max and min number, plot the sin result diagram\n",
        "\n",
        "# Type your code here"
      ],
      "execution_count": 48
    },
    {
      "cell_type": "code",
      "source": [
        "pi_tensor = torch.linspace(0, np.pi/2, 100)\n",
        "print(\"Max Number: \", pi_tensor.max())\n",
        "print(\"Min Number\", pi_tensor.min())\n",
        "sin_result = torch.sin(pi_tensor)\n",
        "plt.plot(pi_tensor.numpy(), sin_result.numpy())"
      ],
      "metadata": {
        "colab": {
          "base_uri": "https://localhost:8080/",
          "height": 482
        },
        "id": "hg51SFD_sEU4",
        "outputId": "46464c7e-d275-4dc6-e19d-69986aeb314d"
      },
      "execution_count": 49,
      "outputs": [
        {
          "output_type": "stream",
          "name": "stdout",
          "text": [
            "Max Number:  tensor(1.5708)\n",
            "Min Number tensor(0.)\n"
          ]
        },
        {
          "output_type": "execute_result",
          "data": {
            "text/plain": [
              "[<matplotlib.lines.Line2D at 0x7a47422199d0>]"
            ]
          },
          "metadata": {},
          "execution_count": 49
        },
        {
          "output_type": "display_data",
          "data": {
            "text/plain": [
              "<Figure size 640x480 with 1 Axes>"
            ],
            "image/png": "[encoded data removed]"
          },
          "metadata": {}
        }
      ]
    },
    {
      "cell_type": "markdown",
      "metadata": {
        "id": "bde90f28-9343-4ed0-b3ed-c372ba260638"
      },
      "source": [
        "Double-click <b>here</b> for the solution.\n",
        "<!--\n",
        "pi_tensor = torch.linspace(0, np.pi/2, 100)\n",
        "print(\"Max Number: \", pi_tensor.max())\n",
        "print(\"Min Number\", pi_tensor.min())\n",
        "sin_result = torch.sin(pi_tensor)\n",
        "plt.plot(pi_tensor.numpy(), sin_result.numpy())\n",
        "-->\n"
      ]
    },
    {
      "cell_type": "markdown",
      "metadata": {
        "id": "06e5956f-4a64-401a-963a-c4c8f1442071"
      },
      "source": [
        "<!--Empty Space for separating topics-->\n"
      ]
    },
    {
      "cell_type": "markdown",
      "metadata": {
        "id": "dc14226e-14ad-44eb-b5dc-4a4fc58747b2"
      },
      "source": [
        "<!-- <h2 id=\"Tensor_Op\">Tensor Operations</h2>\n",
        " -->\n",
        " ## Tensor Operations\n"
      ]
    },
    {
      "cell_type": "markdown",
      "metadata": {
        "id": "2918ac15-97f4-4130-ae30-16a89ed9291f"
      },
      "source": [
        "In the following section, you'll work with operations that you can apply to a tensor.\n"
      ]
    },
    {
      "cell_type": "markdown",
      "metadata": {
        "id": "a472e119-2daa-418f-b91e-f14f102ff2ee"
      },
      "source": [
        "<!--Empty Space for separating topics-->\n"
      ]
    },
    {
      "cell_type": "markdown",
      "metadata": {
        "id": "db14cfd7-4aab-47f2-ad64-7d50e7487857"
      },
      "source": [
        "<h3>Tensor Addition</h3>\n"
      ]
    },
    {
      "cell_type": "markdown",
      "metadata": {
        "id": "111e6b69-b0ed-464a-a017-e0bcf8575142"
      },
      "source": [
        "You can perform addition between two tensors.\n"
      ]
    },
    {
      "cell_type": "markdown",
      "metadata": {
        "id": "5ddb152f-6516-4959-bf02-cbedf9b9891d"
      },
      "source": [
        "Create a tensor <code>u</code> with 1 dimension and 2 elements. Then, create another tensor <code>v</code> with the same number of dimensions and the same number of elements:\n"
      ]
    },
    {
      "cell_type": "code",
      "metadata": {
        "id": "1e083355-7e73-4036-b06d-afe11bb52a94"
      },
      "outputs": [],
      "source": [
        "# Create two sample tensors\n",
        "\n",
        "u = torch.tensor([1, 0])\n",
        "v = torch.tensor([0, 1])"
      ],
      "execution_count": 50
    },
    {
      "cell_type": "markdown",
      "metadata": {
        "id": "2bc16848-0ac4-4486-bd33-5df64a637333"
      },
      "source": [
        "Add <code>u</code> and <code>v</code> together:\n"
      ]
    },
    {
      "cell_type": "code",
      "metadata": {
        "colab": {
          "base_uri": "https://localhost:8080/"
        },
        "id": "e8843f10-a6d9-4535-ac8c-3b85caae7d63",
        "outputId": "38e3b781-bccf-4791-c9bf-a101eefff3a9"
      },
      "outputs": [
        {
          "output_type": "stream",
          "name": "stdout",
          "text": [
            "The result tensor:  tensor([1, 1])\n"
          ]
        }
      ],
      "source": [
        "# Add u and v\n",
        "\n",
        "w = u + v\n",
        "print(\"The result tensor: \", w)"
      ],
      "execution_count": 51
    },
    {
      "cell_type": "markdown",
      "metadata": {
        "id": "649f17ef-d3e2-4993-89e4-1d2952b6dadf"
      },
      "source": [
        "The result is <code>tensor([1, 1])</code>. The behavior is <i>[1 + 0, 0 + 1]</i>.\n"
      ]
    },
    {
      "cell_type": "markdown",
      "metadata": {
        "id": "20fb509e-461a-469e-87b4-9120964fd33f"
      },
      "source": [
        "Plot the result to to get a clearer picture.\n"
      ]
    },
    {
      "cell_type": "code",
      "metadata": {
        "colab": {
          "base_uri": "https://localhost:8080/",
          "height": 435
        },
        "id": "f8d92387-a4a0-4d2d-85e7-0bffd296b4d8",
        "outputId": "73bcab51-8b6c-4380-fe6b-187e683b1506"
      },
      "outputs": [
        {
          "output_type": "display_data",
          "data": {
            "text/plain": [
              "<Figure size 640x480 with 1 Axes>"
            ],
            "image/png": "[encoded data removed]"
          },
          "metadata": {}
        }
      ],
      "source": [
        "# Plot u, v, w\n",
        "\n",
        "plotVec([\n",
        "    {\"vector\": u.numpy(), \"name\": 'u', \"color\": 'r'},\n",
        "    {\"vector\": v.numpy(), \"name\": 'v', \"color\": 'b'},\n",
        "    {\"vector\": w.numpy(), \"name\": 'w', \"color\": 'g'}\n",
        "])"
      ],
      "execution_count": 52
    },
    {
      "cell_type": "markdown",
      "metadata": {
        "id": "c7b1ab35-c058-40d2-bd0a-c9a4a9a00d04"
      },
      "source": [
        "<!--Empty Space for separating topics-->\n"
      ]
    },
    {
      "cell_type": "markdown",
      "metadata": {
        "id": "127a17b4-58d9-49e7-8883-1d639076b7b6"
      },
      "source": [
        "<h3>Try</h3>\n"
      ]
    },
    {
      "cell_type": "markdown",
      "metadata": {
        "id": "5e3fa50d-cd85-47fc-8fcd-f74e9567c303"
      },
      "source": [
        "Implement the tensor subtraction with <code>u</code> and <code>v</code> as u-v.\n"
      ]
    },
    {
      "cell_type": "code",
      "metadata": {
        "id": "4df9fd46-ff2e-425a-b33e-334670e2c02d"
      },
      "outputs": [],
      "source": [
        "# Try by yourself to get a result of u-v\n",
        "\n",
        "u = torch.tensor([1, 0])\n",
        "v = torch.tensor([0, 1])"
      ],
      "execution_count": 53
    },
    {
      "cell_type": "code",
      "source": [],
      "metadata": {
        "id": "Y5f49EElslwH"
      },
      "execution_count": null,
      "outputs": []
    },
    {
      "cell_type": "code",
      "metadata": {
        "colab": {
          "base_uri": "https://localhost:8080/"
        },
        "outputId": "839f2da2-70aa-41f2-91d6-b428525945be",
        "id": "u6YXrkCSsmGg"
      },
      "outputs": [
        {
          "output_type": "stream",
          "name": "stdout",
          "text": [
            "The result tensor:  tensor([ 1, -1])\n"
          ]
        }
      ],
      "source": [
        "# Substract  u and v\n",
        "\n",
        "u-v == u - v\n",
        "print(\"The result tensor: \", u-v)"
      ],
      "execution_count": 56
    },
    {
      "cell_type": "markdown",
      "metadata": {
        "id": "4a77a28c-e9d2-4f9d-8534-e8ce2012390b"
      },
      "source": [
        "Double-click <b>here</b> for the solution.\n",
        "<!--\n",
        "print(\"The result tensor: \", u-v)\n",
        "-->\n"
      ]
    },
    {
      "cell_type": "markdown",
      "metadata": {
        "id": "3600d944-4be1-4d70-8256-0398bd82fb63"
      },
      "source": [
        "Tensors must be of the same data type to perform addition as well as other operations.If you uncomment the  following code and try to run it you will get an error as the two tensors are of two different data types. **NOTE This lab was created on a older PyTorch version so in the current version we are using this is possible and will produce a float64 tensor.**\n"
      ]
    },
    {
      "cell_type": "code",
      "metadata": {
        "id": "53fd5ade-1cf6-4f6c-90ef-9dcf5262f23a"
      },
      "outputs": [],
      "source": [
        "#torch.tensor([1,2,3],dtype=torch.int64)+torch.tensor([1,2,3],dtype=torch.float64)"
      ],
      "execution_count": 57
    },
    {
      "cell_type": "markdown",
      "metadata": {
        "id": "6601ce64-37a5-4fe4-8479-b62a56c205cb"
      },
      "source": [
        "<!--Empty Space for separating topics-->\n"
      ]
    },
    {
      "cell_type": "markdown",
      "metadata": {
        "id": "dcb7d1ef-6d9b-4158-81d1-d0a72a48a707"
      },
      "source": [
        "You can add a scalar to the tensor. Use <code>u</code> as the sample tensor:\n"
      ]
    },
    {
      "cell_type": "code",
      "metadata": {
        "colab": {
          "base_uri": "https://localhost:8080/"
        },
        "id": "e3d16557-a2e1-4493-97d8-396ea863176a",
        "outputId": "1b5ba69e-d2c5-4d7c-9678-5293b54de6e5"
      },
      "outputs": [
        {
          "output_type": "stream",
          "name": "stdout",
          "text": [
            "Addition Result:  tensor([2, 3, 4, 0])\n"
          ]
        }
      ],
      "source": [
        "# tensor + scalar\n",
        "\n",
        "u = torch.tensor([1, 2, 3, -1])\n",
        "v = u + 1\n",
        "print (\"Addition Result: \", v)"
      ],
      "execution_count": 58
    },
    {
      "cell_type": "markdown",
      "metadata": {
        "id": "18e0ea96-b45f-4023-801a-b3ab9623d190"
      },
      "source": [
        "The result is simply adding 1 to each element in tensor <code>u</code> as shown in the following image:\n"
      ]
    },
    {
      "cell_type": "markdown",
      "metadata": {
        "id": "72642c97-4484-419c-b093-45013ad12dad"
      },
      "source": [
        "<img src=\"https://s3-api.us-geo.objectstorage.softlayer.net/cf-courses-data/CognitiveClass/DL0110EN/notebook_images%20/chapter%201/brodcasting.gif\" width=\"500\" alt=\"tensor addition\">\n"
      ]
    },
    {
      "cell_type": "markdown",
      "metadata": {
        "id": "94725ad6-1e95-4f82-b001-b71412a34e5a"
      },
      "source": [
        "<!--Empty Space for separating topics-->\n"
      ]
    },
    {
      "cell_type": "markdown",
      "metadata": {
        "id": "a6273525-e3c9-4a75-9164-fd9e40915326"
      },
      "source": [
        "<h3>Tensor Multiplication </h3>\n"
      ]
    },
    {
      "cell_type": "markdown",
      "metadata": {
        "id": "6cddf829-ceb0-448e-924c-a7739cfb3d81"
      },
      "source": [
        "Now, you'll review the multiplication between a tensor and a scalar.\n"
      ]
    },
    {
      "cell_type": "markdown",
      "metadata": {
        "id": "2da20ad6-f1dc-44ea-b2f0-1e4a104f0da3"
      },
      "source": [
        "Create a tensor with value <code>[1, 2]</code> and then multiply it by 2:\n"
      ]
    },
    {
      "cell_type": "code",
      "metadata": {
        "colab": {
          "base_uri": "https://localhost:8080/"
        },
        "id": "57e01b1b-a9fa-4bf0-8194-f8e571472ee2",
        "outputId": "a33d3d31-c123-4a71-ab9c-d4a15ae3f1d3"
      },
      "outputs": [
        {
          "output_type": "stream",
          "name": "stdout",
          "text": [
            "The result of 2 * u:  tensor([2, 4])\n"
          ]
        }
      ],
      "source": [
        "# tensor * scalar\n",
        "\n",
        "u = torch.tensor([1, 2])\n",
        "v = 2 * u\n",
        "print(\"The result of 2 * u: \", v)"
      ],
      "execution_count": 59
    },
    {
      "cell_type": "markdown",
      "metadata": {
        "id": "190de8d5-4372-46af-ab02-08094e66031b"
      },
      "source": [
        "The result is <code>tensor([2, 4])</code>, so the code <code>2 * u</code> multiplies each element in the tensor by 2. This is how you get the product between a vector or matrix and a scalar in linear algebra.\n"
      ]
    },
    {
      "cell_type": "markdown",
      "metadata": {
        "id": "9bc3458f-38d6-4cd3-b30f-8958f8610b52"
      },
      "source": [
        "<!--Empty Space for separating topics-->\n"
      ]
    },
    {
      "cell_type": "markdown",
      "metadata": {
        "id": "89b2fb6c-211b-4d8d-9e1d-dbe9d48e0ce0"
      },
      "source": [
        "You can use multiplication between two tensors.\n"
      ]
    },
    {
      "cell_type": "markdown",
      "metadata": {
        "id": "2453e9ef-2091-4fa6-a0f4-f244488287a5"
      },
      "source": [
        "Create two tensors <code>u</code> and <code>v</code> and then multiply them together:\n"
      ]
    },
    {
      "cell_type": "code",
      "metadata": {
        "colab": {
          "base_uri": "https://localhost:8080/"
        },
        "id": "0d382995-7d7f-4f4d-8465-d2026eac8dd7",
        "outputId": "21d66362-73ed-491a-9e82-828fc92eb0d4"
      },
      "outputs": [
        {
          "output_type": "stream",
          "name": "stdout",
          "text": [
            "The result of u * v tensor([3, 4])\n"
          ]
        }
      ],
      "source": [
        "# tensor * tensor\n",
        "\n",
        "u = torch.tensor([1, 2])\n",
        "v = torch.tensor([3, 2])\n",
        "w = u * v\n",
        "print (\"The result of u * v\", w)"
      ],
      "execution_count": 60
    },
    {
      "cell_type": "markdown",
      "metadata": {
        "id": "5c55dfa5-a77c-4b1c-b968-8f29b028c726"
      },
      "source": [
        "The result is simply <code>tensor([3, 4])</code>. This result is achieved by multiplying every element in <code>u</code> with the corresponding element in the same position <code>v</code>, which is similar to <i>[1 * 3, 2 * 2]</i>.\n"
      ]
    },
    {
      "cell_type": "markdown",
      "metadata": {
        "id": "31885a98-1799-43e1-973d-802d07a00ff0"
      },
      "source": [
        "<!--Empty Space for separating topics-->\n"
      ]
    },
    {
      "cell_type": "markdown",
      "metadata": {
        "id": "b70aab70-1a12-4b7c-b1d9-1151bc0d38a4"
      },
      "source": [
        "<h3>Dot Product</h3>\n"
      ]
    },
    {
      "cell_type": "markdown",
      "metadata": {
        "id": "d398aae3-31a5-44f9-b10a-f00dc42f2954"
      },
      "source": [
        "The dot product is a special operation for a vector that you can use in Torch.\n"
      ]
    },
    {
      "cell_type": "markdown",
      "metadata": {
        "id": "79c54c08-555f-4d62-953f-1ad6028cb760"
      },
      "source": [
        "Here is the dot product of the two tensors <code>u</code> and <code>v</code>:\n"
      ]
    },
    {
      "cell_type": "code",
      "metadata": {
        "colab": {
          "base_uri": "https://localhost:8080/"
        },
        "id": "2734020d-6097-4ab2-ac03-207031addbac",
        "outputId": "13b155b0-edbf-4d5c-ecd0-0d038d38bbb2"
      },
      "outputs": [
        {
          "output_type": "stream",
          "name": "stdout",
          "text": [
            "Dot Product of u, v: tensor(7)\n"
          ]
        }
      ],
      "source": [
        "# Calculate dot product of u, v\n",
        "\n",
        "u = torch.tensor([1, 2])\n",
        "v = torch.tensor([3, 2])\n",
        "\n",
        "print(\"Dot Product of u, v:\", torch.dot(u,v))"
      ],
      "execution_count": 61
    },
    {
      "cell_type": "markdown",
      "metadata": {
        "id": "a0106fbc-0f10-425c-abcc-920fa2c48cf9"
      },
      "source": [
        "The result is <code>tensor(7)</code>. The function is <i>1 x 3 + 2 x 2 = 7</i>.\n"
      ]
    },
    {
      "cell_type": "markdown",
      "metadata": {
        "id": "6af81b5f-2446-41d4-8ef1-f2617e135bd2"
      },
      "source": [
        "<!--Empty Space for separating topics-->\n"
      ]
    },
    {
      "cell_type": "markdown",
      "metadata": {
        "id": "796b03de-7009-4600-b1ac-82776fe53b1b"
      },
      "source": [
        "<h3>Practice</h3>\n"
      ]
    },
    {
      "cell_type": "markdown",
      "metadata": {
        "id": "1f5b5503-b798-4a92-8c37-176d44f13068"
      },
      "source": [
        "Convert the list <i>[-1, 1]</i> and <i>[1, 1]</i> to tensors <code>u</code> and <code>v</code>. Then, plot the tensor <code>u</code> and <code>v</code> as a vector by using the function <code>plotVec</code> and find the dot product:\n"
      ]
    },
    {
      "cell_type": "code",
      "metadata": {
        "id": "9bc8dd0d-06ed-4169-9f6c-083906f60298"
      },
      "outputs": [],
      "source": [
        "# Practice: calculate the dot product of u and v, and plot out two vectors\n",
        "\n",
        "# Type your code here"
      ],
      "execution_count": 62
    },
    {
      "cell_type": "code",
      "source": [
        "u= torch.tensor([-1, 1])\n",
        "v= torch.tensor([1, 1])\n",
        "plotVec([\n",
        "    {\"vector\": u.numpy(), \"name\": 'u', \"color\": 'r'},\n",
        "    {\"vector\": v.numpy(), \"name\": 'v', \"color\": 'b'}\n",
        "])\n",
        "print(\"The Dot Product is\",np.dot(u, v))"
      ],
      "metadata": {
        "colab": {
          "base_uri": "https://localhost:8080/",
          "height": 487
        },
        "id": "xXifgUojtHT_",
        "outputId": "1a1ad7aa-ae86-4212-826b-686575e02ef0"
      },
      "execution_count": 63,
      "outputs": [
        {
          "output_type": "stream",
          "name": "stdout",
          "text": [
            "The Dot Product is 0\n"
          ]
        },
        {
          "output_type": "stream",
          "name": "stderr",
          "text": [
            "/tmp/ipython-input-63-64598886.py:7: DeprecationWarning: __array__ implementation doesn't accept a copy keyword, so passing copy=False failed. __array__ must implement 'dtype' and 'copy' keyword arguments.\n",
            "  print(\"The Dot Product is\",np.dot(u, v))\n"
          ]
        },
        {
          "output_type": "display_data",
          "data": {
            "text/plain": [
              "<Figure size 640x480 with 1 Axes>"
            ],
            "image/png": "[encoded data removed]"
          },
          "metadata": {}
        }
      ]
    },
    {
      "cell_type": "markdown",
      "metadata": {
        "id": "98f2dbc1-b22c-4b00-8607-596b3cde8c5a"
      },
      "source": [
        "Double-click <b>here</b> for the solution.\n",
        "<!--\n",
        "u= torch.tensor([-1, 1])\n",
        "v= torch.tensor([1, 1])\n",
        "plotVec([\n",
        "    {\"vector\": u.numpy(), \"name\": 'u', \"color\": 'r'},\n",
        "    {\"vector\": v.numpy(), \"name\": 'v', \"color\": 'b'}\n",
        "])\n",
        "print(\"The Dot Product is\",np.dot(u, v))\n",
        " -->\n"
      ]
    },
    {
      "cell_type": "markdown",
      "metadata": {
        "id": "8982d683-0c31-4093-9331-841f9ed11fc5"
      },
      "source": [
        "<!--Empty Space for separating topics-->\n"
      ]
    },
    {
      "cell_type": "markdown",
      "metadata": {
        "id": "c193546a-5df3-40ea-907f-bf9503efab58"
      },
      "source": [
        "See <a href=\"https://docs.scipy.org/doc/numpy-1.13.0/user/basics.broadcasting.html\">Broadcasting</a> for more information on numpy that is similar to PyTorch.\n"
      ]
    },
    {
      "cell_type": "markdown",
      "metadata": {
        "id": "eed698e8-1cd3-4d79-a27a-7272f3222b2f"
      },
      "source": [
        "<a href=\"https://dataplatform.cloud.ibm.com/registration/stepone?utm_source=skills_network&utm_content=in_lab_content_link&utm_id=Lab-IBMDeveloperSkillsNetwork-DL0110EN-SkillsNetwork&context=cpdaas&apps=data_science_experience%2Cwatson_machine_learning\"><img src=\"https://cf-courses-data.s3.us.cloud-object-storage.appdomain.cloud/IBMDeveloperSkillsNetwork-DL0110EN-SkillsNetwork/Template/module%201/images/Watson_Studio.png\"></a>\n"
      ]
    },
    {
      "cell_type": "markdown",
      "metadata": {
        "id": "0deceb1f-90f5-4599-8815-360f251fd931"
      },
      "source": [
        "<h2>About the Authors:</h2>\n",
        "\n",
        "<a href=\"https://www.linkedin.com/in/joseph-s-50398b136/\">Joseph Santarcangelo</a> has a PhD in Electrical Engineering, his research focused on using machine learning, signal processing, and computer vision to determine how videos impact human cognition. Joseph has been working for IBM since he completed his PhD.\n"
      ]
    },
    {
      "cell_type": "markdown",
      "metadata": {
        "id": "f2d971ec-a52e-4248-9e75-a4e4b4b19a93"
      },
      "source": [
        "Other contributors: <a href=\"https://www.linkedin.com/in/michelleccarey/\">Michelle Carey</a>, <a href=\"https://www.linkedin.com/in/jiahui-mavis-zhou-a4537814a/\">Mavis Zhou</a>\n"
      ]
    },
    {
      "cell_type": "markdown",
      "metadata": {
        "id": "5774ad24-77d3-4370-9390-d229eb622dd8"
      },
      "source": [
        "<!--\n",
        "## Change Log\n",
        "\n",
        "|  Date (YYYY-MM-DD) |  Version | Changed By  |  Change Description |\n",
        "|---|---|---|---|\n",
        "| 2020-09-21  | 2.0  | Shubham  |  Migrated Lab to Markdown and added to course repo in GitLab |\n",
        "\n",
        "-->\n"
      ]
    },
    {
      "cell_type": "markdown",
      "metadata": {
        "id": "549b565e-3341-44ae-b017-324da44619b7"
      },
      "source": [
        "<hr>\n"
      ]
    },
    {
      "cell_type": "markdown",
      "metadata": {
        "id": "cab263b6-89de-403d-9039-f529d2e8b702"
      },
      "source": [
        "## <h3 align=\"center\"> &#169; IBM Corporation. All rights reserved. <h3/>\n"
      ]
    }
  ],
  "metadata": {
    "kernelspec": {
      "display_name": "Python",
      "language": "python",
      "name": "conda-env-python-py"
    },
    "language_info": {
      "codemirror_mode": {
        "name": "ipython",
        "version": 3
      },
      "file_extension": ".py",
      "mimetype": "text/x-python",
      "name": "python",
      "nbconvert_exporter": "python",
      "pygments_lexer": "ipython3",
      "version": "3.7.12"
    },
    "prev_pub_hash": "8fc7aff0ef212be0da7e7ff0f5ca947303deaa57b9bbd14cfe5aff6188f2231b",
    "colab": {
      "provenance": [],
      "include_colab_link": true
    }
  },
  "nbformat": 4,
  "nbformat_minor": 0
}