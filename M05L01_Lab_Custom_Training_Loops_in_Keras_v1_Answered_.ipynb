{
  "cells": [
    {
      "cell_type": "markdown",
      "metadata": {
        "id": "view-in-github",
        "colab_type": "text"
      },
      "source": [
        "<a href=\"https://colab.research.google.com/github/jabanitaha/data-mining-2-/blob/main/M05L01_Lab_Custom_Training_Loops_in_Keras_v1_Answered_.ipynb\" target=\"_parent\"><img src=\"https://colab.research.google.com/assets/colab-badge.svg\" alt=\"Open In Colab\"/></a>"
      ]
    },
    {
      "cell_type": "markdown",
      "metadata": {
        "id": "95e1ed43-b72e-42a0-98cc-c78f4d1dfb6a"
      },
      "source": [
        "<p style=\"text-align:center\">\n",
        "    <a href=\"https://skills.network\" target=\"_blank\">\n",
        "    <img src=\"https://cf-courses-data.s3.us.cloud-object-storage.appdomain.cloud/assets/logos/SN_web_lightmode.png\" width=\"200\" alt=\"Skills Network Logo\"  />\n",
        "    </a>\n",
        "</p>\n"
      ]
    },
    {
      "cell_type": "markdown",
      "metadata": {
        "id": "d533ca40-8918-439b-ade4-b852959ec7d6"
      },
      "source": [
        "# **Lab: Custom Training Loops in Keras**\n"
      ]
    },
    {
      "cell_type": "markdown",
      "metadata": {
        "id": "8fb21332-2067-4dc1-9788-6809ed739a6a"
      },
      "source": [
        "Estimated time needed: **30** minutes\n"
      ]
    },
    {
      "cell_type": "markdown",
      "metadata": {
        "id": "e8e07912-e233-4249-ae1d-18029889caaf"
      },
      "source": [
        "In this lab, you will learn to implement a basic custom training loop in Keras.\n"
      ]
    },
    {
      "cell_type": "markdown",
      "metadata": {
        "id": "dc472da5-2ee1-457b-b623-5e7541df536b"
      },
      "source": [
        "## Objectives\n",
        "\n",
        "By the end of this lab, you will:\n",
        "\n",
        "- Set up the environment\n",
        "\n",
        "- Define the neural network model\n",
        "\n",
        "- Define the Loss Function and Optimizer\n",
        "\n",
        "- Implement the custom training loop\n",
        "\n",
        "- Enhance the custom training loop by adding an accuracy metric to monitor model performance\n",
        "\n",
        "- Implement a custom callback to log additional metrics and information during training\n"
      ]
    },
    {
      "cell_type": "markdown",
      "metadata": {
        "id": "fbcc4b26-ad4c-4fc5-99cf-c15b8df5dafb"
      },
      "source": [
        "----\n"
      ]
    },
    {
      "cell_type": "markdown",
      "metadata": {
        "id": "000a5343-2449-4858-b67b-b2848a1f1e3c"
      },
      "source": [
        "## Step-by-Step Instructions:\n"
      ]
    },
    {
      "cell_type": "markdown",
      "metadata": {
        "id": "7f05a3c6-920a-4368-a112-0fc707574e40"
      },
      "source": [
        "### Exercise 1: Basic custom training loop:\n",
        "\n",
        "#### 1. Set Up the Environment:\n",
        "\n",
        "- Import necessary libraries.\n",
        "\n",
        "- Load and preprocess the MNIST dataset.\n"
      ]
    },
    {
      "cell_type": "code",
      "metadata": {
        "colab": {
          "base_uri": "https://localhost:8080/"
        },
        "id": "ceaa1ebd-849b-4751-8ca6-34d3dafe5718",
        "outputId": "6ac60dc5-db01-4dbb-87a4-b941972091e9"
      },
      "outputs": [
        {
          "output_type": "stream",
          "name": "stdout",
          "text": [
            "Requirement already satisfied: tensorflow in /usr/local/lib/python3.11/dist-packages (2.18.0)\n",
            "Requirement already satisfied: numpy in /usr/local/lib/python3.11/dist-packages (2.0.2)\n",
            "Requirement already satisfied: absl-py>=1.0.0 in /usr/local/lib/python3.11/dist-packages (from tensorflow) (1.4.0)\n",
            "Requirement already satisfied: astunparse>=1.6.0 in /usr/local/lib/python3.11/dist-packages (from tensorflow) (1.6.3)\n",
            "Requirement already satisfied: flatbuffers>=24.3.25 in /usr/local/lib/python3.11/dist-packages (from tensorflow) (25.2.10)\n",
            "Requirement already satisfied: gast!=0.5.0,!=0.5.1,!=0.5.2,>=0.2.1 in /usr/local/lib/python3.11/dist-packages (from tensorflow) (0.6.0)\n",
            "Requirement already satisfied: google-pasta>=0.1.1 in /usr/local/lib/python3.11/dist-packages (from tensorflow) (0.2.0)\n",
            "Requirement already satisfied: libclang>=13.0.0 in /usr/local/lib/python3.11/dist-packages (from tensorflow) (18.1.1)\n",
            "Requirement already satisfied: opt-einsum>=2.3.2 in /usr/local/lib/python3.11/dist-packages (from tensorflow) (3.4.0)\n",
            "Requirement already satisfied: packaging in /usr/local/lib/python3.11/dist-packages (from tensorflow) (24.2)\n",
            "Requirement already satisfied: protobuf!=4.21.0,!=4.21.1,!=4.21.2,!=4.21.3,!=4.21.4,!=4.21.5,<6.0.0dev,>=3.20.3 in /usr/local/lib/python3.11/dist-packages (from tensorflow) (5.29.5)\n",
            "Requirement already satisfied: requests<3,>=2.21.0 in /usr/local/lib/python3.11/dist-packages (from tensorflow) (2.32.3)\n",
            "Requirement already satisfied: setuptools in /usr/local/lib/python3.11/dist-packages (from tensorflow) (75.2.0)\n",
            "Requirement already satisfied: six>=1.12.0 in /usr/local/lib/python3.11/dist-packages (from tensorflow) (1.17.0)\n",
            "Requirement already satisfied: termcolor>=1.1.0 in /usr/local/lib/python3.11/dist-packages (from tensorflow) (3.1.0)\n",
            "Requirement already satisfied: typing-extensions>=3.6.6 in /usr/local/lib/python3.11/dist-packages (from tensorflow) (4.14.0)\n",
            "Requirement already satisfied: wrapt>=1.11.0 in /usr/local/lib/python3.11/dist-packages (from tensorflow) (1.17.2)\n",
            "Requirement already satisfied: grpcio<2.0,>=1.24.3 in /usr/local/lib/python3.11/dist-packages (from tensorflow) (1.73.0)\n",
            "Requirement already satisfied: tensorboard<2.19,>=2.18 in /usr/local/lib/python3.11/dist-packages (from tensorflow) (2.18.0)\n",
            "Requirement already satisfied: keras>=3.5.0 in /usr/local/lib/python3.11/dist-packages (from tensorflow) (3.8.0)\n",
            "Requirement already satisfied: h5py>=3.11.0 in /usr/local/lib/python3.11/dist-packages (from tensorflow) (3.14.0)\n",
            "Requirement already satisfied: ml-dtypes<0.5.0,>=0.4.0 in /usr/local/lib/python3.11/dist-packages (from tensorflow) (0.4.1)\n",
            "Requirement already satisfied: tensorflow-io-gcs-filesystem>=0.23.1 in /usr/local/lib/python3.11/dist-packages (from tensorflow) (0.37.1)\n",
            "Requirement already satisfied: wheel<1.0,>=0.23.0 in /usr/local/lib/python3.11/dist-packages (from astunparse>=1.6.0->tensorflow) (0.45.1)\n",
            "Requirement already satisfied: rich in /usr/local/lib/python3.11/dist-packages (from keras>=3.5.0->tensorflow) (13.9.4)\n",
            "Requirement already satisfied: namex in /usr/local/lib/python3.11/dist-packages (from keras>=3.5.0->tensorflow) (0.1.0)\n",
            "Requirement already satisfied: optree in /usr/local/lib/python3.11/dist-packages (from keras>=3.5.0->tensorflow) (0.16.0)\n",
            "Requirement already satisfied: charset-normalizer<4,>=2 in /usr/local/lib/python3.11/dist-packages (from requests<3,>=2.21.0->tensorflow) (3.4.2)\n",
            "Requirement already satisfied: idna<4,>=2.5 in /usr/local/lib/python3.11/dist-packages (from requests<3,>=2.21.0->tensorflow) (3.10)\n",
            "Requirement already satisfied: urllib3<3,>=1.21.1 in /usr/local/lib/python3.11/dist-packages (from requests<3,>=2.21.0->tensorflow) (2.4.0)\n",
            "Requirement already satisfied: certifi>=2017.4.17 in /usr/local/lib/python3.11/dist-packages (from requests<3,>=2.21.0->tensorflow) (2025.6.15)\n",
            "Requirement already satisfied: markdown>=2.6.8 in /usr/local/lib/python3.11/dist-packages (from tensorboard<2.19,>=2.18->tensorflow) (3.8.2)\n",
            "Requirement already satisfied: tensorboard-data-server<0.8.0,>=0.7.0 in /usr/local/lib/python3.11/dist-packages (from tensorboard<2.19,>=2.18->tensorflow) (0.7.2)\n",
            "Requirement already satisfied: werkzeug>=1.0.1 in /usr/local/lib/python3.11/dist-packages (from tensorboard<2.19,>=2.18->tensorflow) (3.1.3)\n",
            "Requirement already satisfied: MarkupSafe>=2.1.1 in /usr/local/lib/python3.11/dist-packages (from werkzeug>=1.0.1->tensorboard<2.19,>=2.18->tensorflow) (3.0.2)\n",
            "Requirement already satisfied: markdown-it-py>=2.2.0 in /usr/local/lib/python3.11/dist-packages (from rich->keras>=3.5.0->tensorflow) (3.0.0)\n",
            "Requirement already satisfied: pygments<3.0.0,>=2.13.0 in /usr/local/lib/python3.11/dist-packages (from rich->keras>=3.5.0->tensorflow) (2.19.2)\n",
            "Requirement already satisfied: mdurl~=0.1 in /usr/local/lib/python3.11/dist-packages (from markdown-it-py>=2.2.0->rich->keras>=3.5.0->tensorflow) (0.1.2)\n"
          ]
        }
      ],
      "source": [
        "!pip install tensorflow numpy"
      ],
      "execution_count": 9
    },
    {
      "cell_type": "code",
      "source": [
        "!pip install keras-tuner --quiet"
      ],
      "metadata": {
        "colab": {
          "base_uri": "https://localhost:8080/"
        },
        "id": "yddU7co2yDdL",
        "outputId": "cedea109-50c7-4a91-dcad-8090b7631264"
      },
      "execution_count": 28,
      "outputs": [
        {
          "output_type": "stream",
          "name": "stdout",
          "text": [
            "\u001b[?25l   \u001b[90m━━━━━━━━━━━━━━━━━━━━━━━━━━━━━━━━━━━━━━━━\u001b[0m \u001b[32m0.0/129.1 kB\u001b[0m \u001b[31m?\u001b[0m eta \u001b[36m-:--:--\u001b[0m\r\u001b[2K   \u001b[90m━━━━━━━━━━━━━━━━━━━━━━━━━━━━━━━━━━━━━━━━\u001b[0m \u001b[32m129.1/129.1 kB\u001b[0m \u001b[31m9.1 MB/s\u001b[0m eta \u001b[36m0:00:00\u001b[0m\n",
            "\u001b[?25h"
          ]
        }
      ]
    },
    {
      "cell_type": "code",
      "metadata": {
        "colab": {
          "base_uri": "https://localhost:8080/"
        },
        "id": "728f25e0-fb12-49a0-a9cb-88312e48f5bf",
        "outputId": "b2966833-fb39-4327-eb59-7cbbe014de73"
      },
      "outputs": [
        {
          "output_type": "stream",
          "name": "stdout",
          "text": [
            "Downloading data from https://storage.googleapis.com/tensorflow/tf-keras-datasets/mnist.npz\n",
            "\u001b[1m11490434/11490434\u001b[0m \u001b[32m━━━━━━━━━━━━━━━━━━━━\u001b[0m\u001b[37m\u001b[0m \u001b[1m0s\u001b[0m 0us/step\n"
          ]
        }
      ],
      "source": [
        "import os\n",
        "import warnings\n",
        "import tensorflow as tf\n",
        "from tensorflow.keras.models import Sequential, Model\n",
        "from tensorflow.keras.layers import Dense, Flatten, Input\n",
        "from tensorflow.keras.callbacks import Callback\n",
        "import numpy as np\n",
        "\n",
        "# Suppress all Python warnings\n",
        "warnings.filterwarnings('ignore')\n",
        "\n",
        "# Set TensorFlow log level to suppress warnings and info messages\n",
        "os.environ['TF_CPP_MIN_LOG_LEVEL'] = '2'\n",
        "\n",
        "# Step 1: Set Up the Environment\n",
        "(x_train, y_train), (x_test, y_test) = tf.keras.datasets.mnist.load_data()\n",
        "x_train, x_test = x_train / 255.0, x_test / 255.0\n",
        "train_dataset = tf.data.Dataset.from_tensor_slices((x_train, y_train)).batch(32)\n"
      ],
      "execution_count": 1
    },
    {
      "cell_type": "markdown",
      "metadata": {
        "id": "2233472b-ec3c-45ba-a190-8086c8f61a6a"
      },
      "source": [
        "#### 2. Define the model:\n",
        "\n",
        "Create a simple neural network model with a Flatten layer followed by two Dense layers.\n"
      ]
    },
    {
      "cell_type": "code",
      "metadata": {
        "id": "a9ecb75e-7548-464d-bf40-d7bbff1a64e2"
      },
      "outputs": [],
      "source": [
        "# Step 2: Define the Model\n",
        "\n",
        "model = Sequential([\n",
        "    Flatten(input_shape=(28, 28)),\n",
        "    Dense(128, activation='relu'),\n",
        "    Dense(10)\n",
        "])\n"
      ],
      "execution_count": 2
    },
    {
      "cell_type": "markdown",
      "metadata": {
        "id": "39da66e3-1717-40ed-a8b5-413bb16dad08"
      },
      "source": [
        "#### 3. Define Loss Function and Optimizer:\n",
        "\n",
        "- Use Sparse Categorical Crossentropy for the loss function.\n",
        "- Use the Adam optimizer.\n"
      ]
    },
    {
      "cell_type": "code",
      "metadata": {
        "id": "fb5839c9-2bc1-41bd-a0cd-8b1fe65f2c7f"
      },
      "outputs": [],
      "source": [
        "# Step 3: Define Loss Function and Optimizer\n",
        "\n",
        "loss_fn = tf.keras.losses.SparseCategoricalCrossentropy(from_logits=True)\n",
        "optimizer = tf.keras.optimizers.Adam()\n"
      ],
      "execution_count": 3
    },
    {
      "cell_type": "markdown",
      "metadata": {
        "id": "1c75bf9b-6e3e-4246-a718-51bc4122d618"
      },
      "source": [
        "#### 4. Implement the Custom Training Loop:\n",
        "\n",
        "- Iterate over the dataset for a specified number of epochs.\n",
        "- Compute the loss and apply gradients to update the model's weights.\n"
      ]
    },
    {
      "cell_type": "code",
      "metadata": {
        "colab": {
          "base_uri": "https://localhost:8080/"
        },
        "id": "80afaf2c-1e40-4146-8672-d1b59b32ed91",
        "outputId": "cb35b038-88c8-4ea2-946c-bbe9c3b0341c"
      },
      "outputs": [
        {
          "output_type": "stream",
          "name": "stdout",
          "text": [
            "Start of epoch 1\n",
            "Epoch 1 Step 0: Loss = 2.364748954772949\n",
            "Epoch 1 Step 200: Loss = 0.4014464020729065\n",
            "Epoch 1 Step 400: Loss = 0.21100589632987976\n",
            "Epoch 1 Step 600: Loss = 0.18851196765899658\n",
            "Epoch 1 Step 800: Loss = 0.18301716446876526\n",
            "Epoch 1 Step 1000: Loss = 0.39724624156951904\n",
            "Epoch 1 Step 1200: Loss = 0.1480167955160141\n",
            "Epoch 1 Step 1400: Loss = 0.22252771258354187\n",
            "Epoch 1 Step 1600: Loss = 0.18365123867988586\n",
            "Epoch 1 Step 1800: Loss = 0.15444821119308472\n",
            "Start of epoch 2\n",
            "Epoch 2 Step 0: Loss = 0.07014244794845581\n",
            "Epoch 2 Step 200: Loss = 0.15619811415672302\n",
            "Epoch 2 Step 400: Loss = 0.1362435668706894\n",
            "Epoch 2 Step 600: Loss = 0.054333437234163284\n",
            "Epoch 2 Step 800: Loss = 0.09621519595384598\n",
            "Epoch 2 Step 1000: Loss = 0.2287851721048355\n",
            "Epoch 2 Step 1200: Loss = 0.11376159638166428\n",
            "Epoch 2 Step 1400: Loss = 0.13790659606456757\n",
            "Epoch 2 Step 1600: Loss = 0.12621289491653442\n",
            "Epoch 2 Step 1800: Loss = 0.06724829971790314\n"
          ]
        }
      ],
      "source": [
        "# Step 4: Implement the Custom Training Loop\n",
        "\n",
        "epochs = 2\n",
        "# train_dataset = train_dataset.repeat(epochs)\n",
        "train_dataset = tf.data.Dataset.from_tensor_slices((x_train, y_train)).batch(32)\n",
        "for epoch in range(epochs):\n",
        "    print(f'Start of epoch {epoch + 1}')\n",
        "\n",
        "    for step, (x_batch_train, y_batch_train) in enumerate(train_dataset):\n",
        "        with tf.GradientTape() as tape:\n",
        "            logits = model(x_batch_train, training=True)  # Forward pass\n",
        "            loss_value = loss_fn(y_batch_train, logits)  # Compute loss\n",
        "\n",
        "        # Compute gradients and update weights\n",
        "        grads = tape.gradient(loss_value, model.trainable_weights)\n",
        "        optimizer.apply_gradients(zip(grads, model.trainable_weights))\n",
        "\n",
        "        # Logging the loss every 200 steps\n",
        "        if step % 200 == 0:\n",
        "            print(f'Epoch {epoch + 1} Step {step}: Loss = {loss_value.numpy()}')\n"
      ],
      "execution_count": 4
    },
    {
      "cell_type": "markdown",
      "metadata": {
        "id": "238c0013-3e17-4937-a602-217111db3f22"
      },
      "source": [
        "### Exercise 2: Adding Accuracy Metric:\n",
        "\n",
        "Enhance the custom training loop by adding an accuracy metric to monitor model performance.\n",
        "\n",
        "#### 1. Set Up the Environment:\n",
        "\n",
        "Follow the setup from Exercise 1.\n"
      ]
    },
    {
      "cell_type": "code",
      "metadata": {
        "id": "b891a118-9ed8-4806-929c-baf71a646d09"
      },
      "outputs": [],
      "source": [
        "import tensorflow as tf\n",
        "from tensorflow.keras.models import Sequential\n",
        "from tensorflow.keras.layers import Dense, Flatten\n",
        "\n",
        "# Step 1: Set Up the Environment\n",
        "(x_train, y_train), (x_test, y_test) = tf.keras.datasets.mnist.load_data()\n",
        "\n",
        "# Normalize the pixel values to be between 0 and 1\n",
        "x_train, x_test = x_train / 255.0, x_test / 255.0\n",
        "\n",
        "# Create a batched dataset for training\n",
        "train_dataset = tf.data.Dataset.from_tensor_slices((x_train, y_train)).batch(32)\n"
      ],
      "execution_count": 5
    },
    {
      "cell_type": "markdown",
      "metadata": {
        "id": "a9cfea84-f1df-407d-9f84-0adb91e3bba7"
      },
      "source": [
        "#### 2. Define the Model:\n",
        "Use the same model as in Exercise 1.\n"
      ]
    },
    {
      "cell_type": "code",
      "metadata": {
        "id": "7263943a-fcaf-4b16-b24c-25f80911fe78"
      },
      "outputs": [],
      "source": [
        "# Step 2: Define the Model\n",
        "\n",
        "model = Sequential([\n",
        "    Flatten(input_shape=(28, 28)),  # Flatten the input to a 1D vector\n",
        "    Dense(128, activation='relu'),  # First hidden layer with 128 neurons and ReLU activation\n",
        "    Dense(10)  # Output layer with 10 neurons for the 10 classes (digits 0-9)\n",
        "])\n"
      ],
      "execution_count": 6
    },
    {
      "cell_type": "markdown",
      "metadata": {
        "id": "37bacfd4-5dbb-4f93-a388-bfdd1da07c59"
      },
      "source": [
        "#### 3. Define the loss function, optimizer, and metric:\n",
        "\n",
        "- Use Sparse Categorical Crossentropy for the loss function and Adam optimizer.\n",
        "\n",
        "- Add Sparse Categorical Accuracy as a metric.\n"
      ]
    },
    {
      "cell_type": "code",
      "metadata": {
        "id": "b425d918-3140-4e52-9e61-14e7b192ae7b"
      },
      "outputs": [],
      "source": [
        "# Step 3: Define Loss Function, Optimizer, and Metric\n",
        "\n",
        "loss_fn = tf.keras.losses.SparseCategoricalCrossentropy(from_logits=True)  # Loss function for multi-class classification\n",
        "optimizer = tf.keras.optimizers.Adam()  # Adam optimizer for efficient training\n",
        "accuracy_metric = tf.keras.metrics.SparseCategoricalAccuracy()  # Metric to track accuracy during training\n"
      ],
      "execution_count": 7
    },
    {
      "cell_type": "markdown",
      "metadata": {
        "id": "bba0bb46-7671-4192-b624-8b40e3bc8a00"
      },
      "source": [
        "#### 4. Implement the custom training loop with accuracy:\n",
        "\n",
        "Track the accuracy during training and print it at regular intervals.\n"
      ]
    },
    {
      "cell_type": "code",
      "metadata": {
        "colab": {
          "base_uri": "https://localhost:8080/"
        },
        "id": "7bb3041b-89b1-41f5-a557-4b9fad10236a",
        "outputId": "0340dc6f-1753-4df3-eee2-e17feb8d9720"
      },
      "outputs": [
        {
          "output_type": "stream",
          "name": "stdout",
          "text": [
            "Start of epoch 1\n",
            "Epoch 1 Step 0: Loss = 2.323561191558838 Accuracy = 0.125\n",
            "Epoch 1 Step 200: Loss = 0.41141724586486816 Accuracy = 0.8392412662506104\n",
            "Epoch 1 Step 400: Loss = 0.19501927495002747 Accuracy = 0.8700124621391296\n",
            "Epoch 1 Step 600: Loss = 0.17804428935050964 Accuracy = 0.8847233653068542\n",
            "Epoch 1 Step 800: Loss = 0.18697679042816162 Accuracy = 0.8974329233169556\n",
            "Epoch 1 Step 1000: Loss = 0.38758060336112976 Accuracy = 0.9044080972671509\n",
            "Epoch 1 Step 1200: Loss = 0.13785453140735626 Accuracy = 0.9110376834869385\n",
            "Epoch 1 Step 1400: Loss = 0.22846075892448425 Accuracy = 0.9157744646072388\n",
            "Epoch 1 Step 1600: Loss = 0.21667954325675964 Accuracy = 0.9190545082092285\n",
            "Epoch 1 Step 1800: Loss = 0.13433201611042023 Accuracy = 0.9229767918586731\n",
            "Start of epoch 2\n",
            "Epoch 2 Step 0: Loss = 0.07596714049577713 Accuracy = 1.0\n",
            "Epoch 2 Step 200: Loss = 0.14202824234962463 Accuracy = 0.9625310897827148\n",
            "Epoch 2 Step 400: Loss = 0.13603036105632782 Accuracy = 0.9590866565704346\n",
            "Epoch 2 Step 600: Loss = 0.057209160178899765 Accuracy = 0.9610545039176941\n",
            "Epoch 2 Step 800: Loss = 0.1086731106042862 Accuracy = 0.9622347354888916\n",
            "Epoch 2 Step 1000: Loss = 0.2989112138748169 Accuracy = 0.9623813629150391\n",
            "Epoch 2 Step 1200: Loss = 0.07020663470029831 Accuracy = 0.9634679555892944\n",
            "Epoch 2 Step 1400: Loss = 0.15789516270160675 Accuracy = 0.9641104340553284\n",
            "Epoch 2 Step 1600: Loss = 0.16214990615844727 Accuracy = 0.9642801284790039\n",
            "Epoch 2 Step 1800: Loss = 0.07789807766675949 Accuracy = 0.9649500250816345\n",
            "Start of epoch 3\n",
            "Epoch 3 Step 0: Loss = 0.04259908199310303 Accuracy = 1.0\n",
            "Epoch 3 Step 200: Loss = 0.04755925387144089 Accuracy = 0.9765236377716064\n",
            "Epoch 3 Step 400: Loss = 0.1269501894712448 Accuracy = 0.9745168089866638\n",
            "Epoch 3 Step 600: Loss = 0.027428360655903816 Accuracy = 0.9753015637397766\n",
            "Epoch 3 Step 800: Loss = 0.0698203593492508 Accuracy = 0.9754993915557861\n",
            "Epoch 3 Step 1000: Loss = 0.21759140491485596 Accuracy = 0.975649356842041\n",
            "Epoch 3 Step 1200: Loss = 0.03966943547129631 Accuracy = 0.9759835600852966\n",
            "Epoch 3 Step 1400: Loss = 0.11271442472934723 Accuracy = 0.9762446284294128\n",
            "Epoch 3 Step 1600: Loss = 0.10186582803726196 Accuracy = 0.9760501384735107\n",
            "Epoch 3 Step 1800: Loss = 0.059977538883686066 Accuracy = 0.9764366745948792\n",
            "Start of epoch 4\n",
            "Epoch 4 Step 0: Loss = 0.02977966144680977 Accuracy = 1.0\n",
            "Epoch 4 Step 200: Loss = 0.025313086807727814 Accuracy = 0.9836753606796265\n",
            "Epoch 4 Step 400: Loss = 0.0936192125082016 Accuracy = 0.9818422794342041\n",
            "Epoch 4 Step 600: Loss = 0.029109779745340347 Accuracy = 0.9823211431503296\n",
            "Epoch 4 Step 800: Loss = 0.06067151948809624 Accuracy = 0.9831070303916931\n",
            "Epoch 4 Step 1000: Loss = 0.14554943144321442 Accuracy = 0.9829545617103577\n",
            "Epoch 4 Step 1200: Loss = 0.03854053467512131 Accuracy = 0.9829829335212708\n",
            "Epoch 4 Step 1400: Loss = 0.07630797475576401 Accuracy = 0.9830701351165771\n",
            "Epoch 4 Step 1600: Loss = 0.06503625214099884 Accuracy = 0.982842743396759\n",
            "Epoch 4 Step 1800: Loss = 0.035536959767341614 Accuracy = 0.9832384586334229\n",
            "Start of epoch 5\n",
            "Epoch 5 Step 0: Loss = 0.022213386371731758 Accuracy = 1.0\n",
            "Epoch 5 Step 200: Loss = 0.0215633362531662 Accuracy = 0.9872512221336365\n",
            "Epoch 5 Step 400: Loss = 0.09379450231790543 Accuracy = 0.9857387542724609\n",
            "Epoch 5 Step 600: Loss = 0.030252374708652496 Accuracy = 0.9863768815994263\n",
            "Epoch 5 Step 800: Loss = 0.058862026780843735 Accuracy = 0.9868913888931274\n",
            "Epoch 5 Step 1000: Loss = 0.09772999584674835 Accuracy = 0.9870442152023315\n",
            "Epoch 5 Step 1200: Loss = 0.028212320059537888 Accuracy = 0.9872241616249084\n",
            "Epoch 5 Step 1400: Loss = 0.03100951761007309 Accuracy = 0.9873304963111877\n",
            "Epoch 5 Step 1600: Loss = 0.04515750706195831 Accuracy = 0.9873321652412415\n",
            "Epoch 5 Step 1800: Loss = 0.02963440492749214 Accuracy = 0.9877151846885681\n"
          ]
        }
      ],
      "source": [
        "# Step 4: Implement the Custom Training Loop with Accuracy\n",
        "\n",
        "epochs = 5  # Number of epochs for training\n",
        "\n",
        "for epoch in range(epochs):\n",
        "    print(f'Start of epoch {epoch + 1}')\n",
        "\n",
        "    for step, (x_batch_train, y_batch_train) in enumerate(train_dataset):\n",
        "        with tf.GradientTape() as tape:\n",
        "            # Forward pass: Compute predictions\n",
        "            logits = model(x_batch_train, training=True)\n",
        "            # Compute loss\n",
        "            loss_value = loss_fn(y_batch_train, logits)\n",
        "\n",
        "        # Compute gradients\n",
        "        grads = tape.gradient(loss_value, model.trainable_weights)\n",
        "        # Apply gradients to update model weights\n",
        "        optimizer.apply_gradients(zip(grads, model.trainable_weights))\n",
        "\n",
        "        # Update the accuracy metric\n",
        "        accuracy_metric.update_state(y_batch_train, logits)\n",
        "\n",
        "        # Log the loss and accuracy every 200 steps\n",
        "        if step % 200 == 0:\n",
        "            print(f'Epoch {epoch + 1} Step {step}: Loss = {loss_value.numpy()} Accuracy = {accuracy_metric.result().numpy()}')\n",
        "\n",
        "    # Reset the metric at the end of each epoch\n",
        "    accuracy_metric.reset_state()\n"
      ],
      "execution_count": 8
    },
    {
      "cell_type": "markdown",
      "metadata": {
        "id": "3aad4044-971c-4c8d-bd28-d8fc21cdaba5"
      },
      "source": [
        "### Exercise 3: Custom Callback for Advanced Logging:\n",
        "\n",
        "Implement a custom callback to log additional metrics and information during training.\n",
        "\n",
        "#### 1. Set Up the Environment:\n",
        "\n",
        "Follow the setup from Exercise 1.\n"
      ]
    },
    {
      "cell_type": "code",
      "metadata": {
        "id": "1dc7593c-59fe-4d2b-ae24-04277b43ba83"
      },
      "outputs": [],
      "source": [
        "import tensorflow as tf\n",
        "from tensorflow.keras.models import Sequential\n",
        "from tensorflow.keras.layers import Dense, Flatten\n",
        "\n",
        "# Step 1: Set Up the Environment\n",
        "(x_train, y_train), (x_test, y_test) = tf.keras.datasets.mnist.load_data()\n",
        "\n",
        "# Normalize the pixel values to be between 0 and 1\n",
        "x_train, x_test = x_train / 255.0, x_test / 255.0\n",
        "\n",
        "# Create a batched dataset for training\n",
        "train_dataset = tf.data.Dataset.from_tensor_slices((x_train, y_train)).batch(32)\n"
      ],
      "execution_count": 10
    },
    {
      "cell_type": "markdown",
      "metadata": {
        "id": "9e17f468-52d3-4f74-9160-49244766c548"
      },
      "source": [
        "#### 2. Define the Model:\n",
        "\n",
        "Use the same model as in Exercise 1.\n"
      ]
    },
    {
      "cell_type": "code",
      "metadata": {
        "id": "c7322571-c9f4-4ecb-b57a-a2051660692f"
      },
      "outputs": [],
      "source": [
        "# Step 2: Define the Model\n",
        "\n",
        "model = Sequential([\n",
        "    Flatten(input_shape=(28, 28)),  # Flatten the input to a 1D vector\n",
        "    Dense(128, activation='relu'),  # First hidden layer with 128 neurons and ReLU activation\n",
        "    Dense(10)  # Output layer with 10 neurons for the 10 classes (digits 0-9)\n",
        "])\n"
      ],
      "execution_count": 11
    },
    {
      "cell_type": "markdown",
      "metadata": {
        "id": "0f674612-bef3-4945-b39c-c11e7685ac5b"
      },
      "source": [
        "#### 3. Define Loss Function, Optimizer, and Metric:\n",
        "\n",
        "- Use Sparse Categorical Crossentropy for the loss function and Adam optimizer.\n",
        "\n",
        "- Add Sparse Categorical Accuracy as a metric.\n"
      ]
    },
    {
      "cell_type": "code",
      "metadata": {
        "id": "c07e5957-4fca-45ff-aca2-597a30303f1c"
      },
      "outputs": [],
      "source": [
        "# Step 3: Define Loss Function, Optimizer, and Metric\n",
        "\n",
        "loss_fn = tf.keras.losses.SparseCategoricalCrossentropy(from_logits=True)  # Loss function for multi-class classification\n",
        "optimizer = tf.keras.optimizers.Adam()  # Adam optimizer for efficient training\n",
        "accuracy_metric = tf.keras.metrics.SparseCategoricalAccuracy()  # Metric to track accuracy during training\n"
      ],
      "execution_count": 12
    },
    {
      "cell_type": "markdown",
      "metadata": {
        "id": "2e6cf7ff-9484-4bca-a1fe-3dc5641bfdd7"
      },
      "source": [
        "#### 4. Implement the custom training loop with custom callback:\n",
        "\n",
        "Create a custom callback to log additional metrics at the end of each epoch.\n"
      ]
    },
    {
      "cell_type": "code",
      "metadata": {
        "id": "ab211a00-900c-4d4a-bbec-4b189d4152d1"
      },
      "outputs": [],
      "source": [
        "from tensorflow.keras.callbacks import Callback\n",
        "\n",
        "# Step 4: Implement the Custom Callback\n",
        "class CustomCallback(Callback):\n",
        "    def on_epoch_end(self, epoch, logs=None):\n",
        "        logs = logs or {}\n",
        "        print(f'End of epoch {epoch + 1}, loss: {logs.get(\"loss\")}, accuracy: {logs.get(\"accuracy\")}')\n"
      ],
      "execution_count": 13
    },
    {
      "cell_type": "code",
      "metadata": {
        "colab": {
          "base_uri": "https://localhost:8080/"
        },
        "id": "96faf68c-e238-4c03-a37c-0a05e90e15c5",
        "outputId": "778f6b7c-4eaf-486c-aed3-84aaa35b4d0a"
      },
      "outputs": [
        {
          "output_type": "stream",
          "name": "stdout",
          "text": [
            "Start of epoch 1\n",
            "Epoch 1 Step 0: Loss = 2.3051934242248535 Accuracy = 0.125\n",
            "Epoch 1 Step 200: Loss = 0.37029320001602173 Accuracy = 0.8347325921058655\n",
            "Epoch 1 Step 400: Loss = 0.18809539079666138 Accuracy = 0.8673628568649292\n",
            "Epoch 1 Step 600: Loss = 0.22863906621932983 Accuracy = 0.8826954960823059\n",
            "Epoch 1 Step 800: Loss = 0.1341085433959961 Accuracy = 0.8955602645874023\n",
            "Epoch 1 Step 1000: Loss = 0.4830704927444458 Accuracy = 0.9030969142913818\n",
            "Epoch 1 Step 1200: Loss = 0.16699445247650146 Accuracy = 0.9096326231956482\n",
            "Epoch 1 Step 1400: Loss = 0.25519728660583496 Accuracy = 0.9147260785102844\n",
            "Epoch 1 Step 1600: Loss = 0.2104095071554184 Accuracy = 0.9177662134170532\n",
            "Epoch 1 Step 1800: Loss = 0.14216503500938416 Accuracy = 0.921762228012085\n",
            "End of epoch 1, loss: 0.056169286370277405, accuracy: 0.92371666431427\n",
            "Start of epoch 2\n",
            "Epoch 2 Step 0: Loss = 0.08957361429929733 Accuracy = 0.96875\n",
            "Epoch 2 Step 200: Loss = 0.1708766371011734 Accuracy = 0.9620646834373474\n",
            "Epoch 2 Step 400: Loss = 0.10874161869287491 Accuracy = 0.9582294225692749\n",
            "Epoch 2 Step 600: Loss = 0.0646442323923111 Accuracy = 0.9602225422859192\n",
            "Epoch 2 Step 800: Loss = 0.06079638749361038 Accuracy = 0.9612203240394592\n",
            "Epoch 2 Step 1000: Loss = 0.2700272798538208 Accuracy = 0.961507260799408\n",
            "Epoch 2 Step 1200: Loss = 0.11993273347616196 Accuracy = 0.9626613259315491\n",
            "Epoch 2 Step 1400: Loss = 0.15288524329662323 Accuracy = 0.9634413123130798\n",
            "Epoch 2 Step 1600: Loss = 0.15045668184757233 Accuracy = 0.9633627533912659\n",
            "Epoch 2 Step 1800: Loss = 0.07392843812704086 Accuracy = 0.9642559885978699\n",
            "End of epoch 2, loss: 0.06778542697429657, accuracy: 0.9649500250816345\n"
          ]
        }
      ],
      "source": [
        "# Step 5: Implement the Custom Training Loop with Custom Callback\n",
        "\n",
        "epochs = 2\n",
        "custom_callback = CustomCallback()  # Initialize the custom callback\n",
        "\n",
        "for epoch in range(epochs):\n",
        "    print(f'Start of epoch {epoch + 1}')\n",
        "\n",
        "    for step, (x_batch_train, y_batch_train) in enumerate(train_dataset):\n",
        "        with tf.GradientTape() as tape:\n",
        "            # Forward pass: Compute predictions\n",
        "            logits = model(x_batch_train, training=True)\n",
        "            # Compute loss\n",
        "            loss_value = loss_fn(y_batch_train, logits)\n",
        "\n",
        "        # Compute gradients\n",
        "        grads = tape.gradient(loss_value, model.trainable_weights)\n",
        "        # Apply gradients to update model weights\n",
        "        optimizer.apply_gradients(zip(grads, model.trainable_weights))\n",
        "\n",
        "        # Update the accuracy metric\n",
        "        accuracy_metric.update_state(y_batch_train, logits)\n",
        "\n",
        "        # Log the loss and accuracy every 200 steps\n",
        "        if step % 200 == 0:\n",
        "            print(f'Epoch {epoch + 1} Step {step}: Loss = {loss_value.numpy()} Accuracy = {accuracy_metric.result().numpy()}')\n",
        "\n",
        "    # Call the custom callback at the end of each epoch\n",
        "    custom_callback.on_epoch_end(epoch, logs={'loss': loss_value.numpy(), 'accuracy': accuracy_metric.result().numpy()})\n",
        "\n",
        "    # Reset the metric at the end of each epoch\n",
        "    accuracy_metric.reset_state()  # Use reset_state() instead of reset_states()\n"
      ],
      "execution_count": 14
    },
    {
      "cell_type": "markdown",
      "metadata": {
        "id": "1ee821e6-3cd8-40f0-ac75-dbfe945d8a61"
      },
      "source": [
        "### Exercise 4: Add Hidden Layers\n",
        "\n",
        "Next, you will add a couple of hidden layers to your model. Hidden layers help the model learn complex patterns in the data.\n"
      ]
    },
    {
      "cell_type": "code",
      "metadata": {
        "id": "b287da11-9d49-4168-b6f2-0bfd700436d9"
      },
      "outputs": [],
      "source": [
        "from tensorflow.keras.layers import Input, Dense\n",
        "\n",
        "# Define the input layer\n",
        "input_layer = Input(shape=(28, 28))  # Input layer with shape (28, 28)\n",
        "\n",
        "# Define hidden layers\n",
        "hidden_layer1 = Dense(64, activation='relu')(input_layer)  # First hidden layer with 64 neurons and ReLU activation\n",
        "hidden_layer2 = Dense(64, activation='relu')(hidden_layer1)  # Second hidden layer with 64 neurons and ReLU activation\n"
      ],
      "execution_count": 15
    },
    {
      "cell_type": "markdown",
      "metadata": {
        "id": "cc8f1d08-049b-48b9-ab13-6fa1e8dbb277"
      },
      "source": [
        "In the above code:\n",
        "\n",
        "`Dense(64, activation='relu')` creates a dense (fully connected) layer with 64 units and ReLU activation function.\n",
        "\n",
        "Each hidden layer takes the output of the previous layer as its input.\n"
      ]
    },
    {
      "cell_type": "markdown",
      "metadata": {
        "id": "2b18fcbc-2eaa-4bc2-bcb3-9f7de03b6ad6"
      },
      "source": [
        "### Exercise 5: Define the output layer\n",
        "\n",
        "Finally, you will define the output layer. Suppose you are working on a binary classification problem, so the output layer will have one unit with a sigmoid activation function.\n"
      ]
    },
    {
      "cell_type": "code",
      "metadata": {
        "id": "5086b813-b03b-477f-84b3-ab8bb9710092"
      },
      "outputs": [],
      "source": [
        "output_layer = Dense(1, activation='sigmoid')(hidden_layer2)"
      ],
      "execution_count": 16
    },
    {
      "cell_type": "markdown",
      "metadata": {
        "id": "5b8c8f85-6bcf-467f-a2c3-1b673e7e1c48"
      },
      "source": [
        "In the above code:\n",
        "\n",
        "`Dense(1, activation='sigmoid')` creates a dense layer with 1 unit and a sigmoid activation function, suitable for binary classification.\n"
      ]
    },
    {
      "cell_type": "markdown",
      "metadata": {
        "id": "7ff495f0-981d-47ff-8d39-5472a7e6fc41"
      },
      "source": [
        "### Exercise 6: Create the Model\n",
        "\n",
        "Now, you will create the model by specifying the input and output layers.\n"
      ]
    },
    {
      "cell_type": "code",
      "metadata": {
        "id": "1cfab49b-9c28-4bfb-8b63-b7d948d71720"
      },
      "outputs": [],
      "source": [
        "model = Model(inputs=input_layer, outputs=output_layer)"
      ],
      "execution_count": 17
    },
    {
      "cell_type": "markdown",
      "metadata": {
        "id": "ac3ab09e-86b9-4735-aa26-fe59132510e0"
      },
      "source": [
        "In the above code:\n",
        "\n",
        "`Model(inputs=input_layer, outputs=output_layer)` creates a Keras model that connects the input layer to the output layer through the hidden layers.\n"
      ]
    },
    {
      "cell_type": "markdown",
      "metadata": {
        "id": "c69cc5f9-f744-4b96-bd64-5dc8e6888d62"
      },
      "source": [
        "### Exercise 7: Compile the Model\n",
        "\n",
        "Before training the model, you need to compile it. You will specify the loss function, optimizer, and evaluation metrics.\n"
      ]
    },
    {
      "cell_type": "code",
      "metadata": {
        "id": "56d0280a-cad5-4baa-ac39-09d61500c54d"
      },
      "outputs": [],
      "source": [
        "model.compile(optimizer='adam', loss='binary_crossentropy', metrics=['accuracy'])"
      ],
      "execution_count": 18
    },
    {
      "cell_type": "markdown",
      "metadata": {
        "id": "a61da84d-5d34-40fa-b58b-c7b5d0f8ffea"
      },
      "source": [
        "In the above code:\n",
        "\n",
        "`optimizer='adam'` specifies the Adam optimizer, a popular choice for training neural networks.\n",
        "\n",
        "`loss='binary_crossentropy'` specifies the loss function for binary classification problems.\n",
        "\n",
        "`metrics=['accuracy']` tells Keras to evaluate the model using accuracy during training.\n"
      ]
    },
    {
      "cell_type": "markdown",
      "metadata": {
        "id": "c4701696-b4fb-4379-8d66-124b94e66def"
      },
      "source": [
        "### Exercise 8: Train the Model\n",
        "\n",
        "You can now train the model on some training data. For this example, let's assume `X_train` is our training input data and `y_train` is the corresponding labels.\n"
      ]
    },
    {
      "cell_type": "code",
      "metadata": {
        "colab": {
          "base_uri": "https://localhost:8080/"
        },
        "id": "a897aeb1-e49e-4b02-a912-ff9617024faa",
        "outputId": "2bc10174-cb5e-4de3-ed7e-6f488ebd0ded"
      },
      "outputs": [
        {
          "output_type": "stream",
          "name": "stdout",
          "text": [
            "Epoch 1/10\n",
            "\u001b[1m32/32\u001b[0m \u001b[32m━━━━━━━━━━━━━━━━━━━━\u001b[0m\u001b[37m\u001b[0m \u001b[1m1s\u001b[0m 3ms/step - accuracy: 0.5109 - loss: 0.6958\n",
            "Epoch 2/10\n",
            "\u001b[1m32/32\u001b[0m \u001b[32m━━━━━━━━━━━━━━━━━━━━\u001b[0m\u001b[37m\u001b[0m \u001b[1m0s\u001b[0m 2ms/step - accuracy: 0.5506 - loss: 0.6878\n",
            "Epoch 3/10\n",
            "\u001b[1m32/32\u001b[0m \u001b[32m━━━━━━━━━━━━━━━━━━━━\u001b[0m\u001b[37m\u001b[0m \u001b[1m0s\u001b[0m 3ms/step - accuracy: 0.5251 - loss: 0.6917\n",
            "Epoch 4/10\n",
            "\u001b[1m32/32\u001b[0m \u001b[32m━━━━━━━━━━━━━━━━━━━━\u001b[0m\u001b[37m\u001b[0m \u001b[1m0s\u001b[0m 3ms/step - accuracy: 0.5392 - loss: 0.6910\n",
            "Epoch 5/10\n",
            "\u001b[1m32/32\u001b[0m \u001b[32m━━━━━━━━━━━━━━━━━━━━\u001b[0m\u001b[37m\u001b[0m \u001b[1m0s\u001b[0m 3ms/step - accuracy: 0.5602 - loss: 0.6869\n",
            "Epoch 6/10\n",
            "\u001b[1m32/32\u001b[0m \u001b[32m━━━━━━━━━━━━━━━━━━━━\u001b[0m\u001b[37m\u001b[0m \u001b[1m0s\u001b[0m 3ms/step - accuracy: 0.5668 - loss: 0.6847\n",
            "Epoch 7/10\n",
            "\u001b[1m32/32\u001b[0m \u001b[32m━━━━━━━━━━━━━━━━━━━━\u001b[0m\u001b[37m\u001b[0m \u001b[1m0s\u001b[0m 3ms/step - accuracy: 0.5587 - loss: 0.6805\n",
            "Epoch 8/10\n",
            "\u001b[1m32/32\u001b[0m \u001b[32m━━━━━━━━━━━━━━━━━━━━\u001b[0m\u001b[37m\u001b[0m \u001b[1m0s\u001b[0m 3ms/step - accuracy: 0.5615 - loss: 0.6825\n",
            "Epoch 9/10\n",
            "\u001b[1m32/32\u001b[0m \u001b[32m━━━━━━━━━━━━━━━━━━━━\u001b[0m\u001b[37m\u001b[0m \u001b[1m0s\u001b[0m 3ms/step - accuracy: 0.5587 - loss: 0.6815\n",
            "Epoch 10/10\n",
            "\u001b[1m32/32\u001b[0m \u001b[32m━━━━━━━━━━━━━━━━━━━━\u001b[0m\u001b[37m\u001b[0m \u001b[1m0s\u001b[0m 3ms/step - accuracy: 0.5571 - loss: 0.6791\n"
          ]
        },
        {
          "output_type": "execute_result",
          "data": {
            "text/plain": [
              "<keras.src.callbacks.history.History at 0x7e708cf03850>"
            ]
          },
          "metadata": {},
          "execution_count": 19
        }
      ],
      "source": [
        "from tensorflow.keras.models import Sequential\n",
        "from tensorflow.keras.layers import Dense, Input\n",
        "import numpy as np\n",
        "\n",
        "# Step 1: Redefine the Model for 20 features\n",
        "model = Sequential([\n",
        "    Input(shape=(20,)),  # Adjust input shape to (20,)\n",
        "    Dense(128, activation='relu'),  # Hidden layer with 128 neurons and ReLU activation\n",
        "    Dense(1, activation='sigmoid')  # Output layer for binary classification with sigmoid activation\n",
        "])\n",
        "\n",
        "# Compile the model\n",
        "model.compile(optimizer='adam', loss='binary_crossentropy', metrics=['accuracy'])\n",
        "\n",
        "# Step 2: Generate Example Data\n",
        "X_train = np.random.rand(1000, 20)  # 1000 samples, 20 features each\n",
        "y_train = np.random.randint(2, size=(1000, 1))  # 1000 binary labels (0 or 1)\n",
        "\n",
        "# Step 3: Train the Model\n",
        "model.fit(X_train, y_train, epochs=10, batch_size=32)"
      ],
      "execution_count": 19
    },
    {
      "cell_type": "markdown",
      "metadata": {
        "id": "a0f0abe8-dffd-4a61-b8a3-9cbb7b714b87"
      },
      "source": [
        "In the above code:\n",
        "\n",
        "`X_train` and `y_train` are placeholders for your actual training data.\n",
        "\n",
        "`model.fit` trains the model for a specified number of epochs and batch size.\n"
      ]
    },
    {
      "cell_type": "markdown",
      "metadata": {
        "id": "73af7f88-da28-4fc1-9baf-24fe46aa1d74"
      },
      "source": [
        "### Exercise 9: Evaluate the Model\n",
        "\n",
        "After training, you can evaluate the model on test data to see how well it performs.\n"
      ]
    },
    {
      "cell_type": "code",
      "metadata": {
        "colab": {
          "base_uri": "https://localhost:8080/"
        },
        "id": "714c0880-de6d-46d1-baea-f6c906ce1ecb",
        "outputId": "2b28b2ed-55e1-44f1-8b74-0f3ff5f0e12d"
      },
      "outputs": [
        {
          "output_type": "stream",
          "name": "stdout",
          "text": [
            "\u001b[1m7/7\u001b[0m \u001b[32m━━━━━━━━━━━━━━━━━━━━\u001b[0m\u001b[37m\u001b[0m \u001b[1m0s\u001b[0m 5ms/step - accuracy: 0.5401 - loss: 0.7020  \n",
            "Test loss: 0.7010909914970398\n",
            "Test accuracy: 0.5199999809265137\n"
          ]
        }
      ],
      "source": [
        "# Example test data (in practice, use real dataset)\n",
        "X_test = np.random.rand(200, 20)  # 200 samples, 20 features each\n",
        "y_test = np.random.randint(2, size=(200, 1))  # 200 binary labels (0 or 1)\n",
        "\n",
        "# Evaluate the model on the test data\n",
        "loss, accuracy = model.evaluate(X_test, y_test)\n",
        "\n",
        "# Print test loss and accuracy\n",
        "print(f'Test loss: {loss}')\n",
        "print(f'Test accuracy: {accuracy}')\n"
      ],
      "execution_count": 20
    },
    {
      "cell_type": "markdown",
      "metadata": {
        "id": "9b57a228-968f-4d52-8ba5-ff9f58bd3235"
      },
      "source": [
        "In the above code:\n",
        "\n",
        "`model.evaluate` computes the loss and accuracy of the model on test data.\n",
        "\n",
        "`X_test` and `y_test` are placeholders for your actual test data.\n"
      ]
    },
    {
      "cell_type": "markdown",
      "metadata": {
        "id": "a3716157-70c1-4ca7-bf20-3761c355cf75"
      },
      "source": [
        "## Practice Exercises\n",
        "\n",
        "### Exercise 1: Basic Custom Training Loop\n",
        "\n",
        "#### Objective: Implement a basic custom training loop to train a simple neural network on the MNIST dataset.\n",
        "\n",
        "#### Instructions:\n",
        "\n",
        "- Set up the environment and load the dataset.\n",
        "\n",
        "- Define the model with a Flatten layer and two Dense layers.\n",
        "\n",
        "- Define the loss function and optimizer.\n",
        "\n",
        "- Implement a custom training loop to iterate over the dataset, compute the loss, and update the model's weights.\n"
      ]
    },
    {
      "cell_type": "code",
      "metadata": {
        "colab": {
          "base_uri": "https://localhost:8080/"
        },
        "id": "27baa5bc-ab07-4c5b-9fb8-4715f36259f6",
        "outputId": "d780c022-11c2-408b-cf3c-6ec5585d748d"
      },
      "outputs": [
        {
          "output_type": "stream",
          "name": "stdout",
          "text": [
            "\n",
            "Epoch 1/5\n",
            "Step 0: loss = 2.4150\n",
            "Step 100: loss = 0.3902\n",
            "Step 200: loss = 0.3003\n",
            "Step 300: loss = 0.2694\n",
            "Step 400: loss = 0.3211\n",
            "Step 500: loss = 0.1514\n",
            "Step 600: loss = 0.2177\n",
            "Step 700: loss = 0.1547\n",
            "Step 800: loss = 0.1468\n",
            "Step 900: loss = 0.1159\n",
            "\n",
            "Epoch 2/5\n",
            "Step 0: loss = 0.1034\n",
            "Step 100: loss = 0.1203\n",
            "Step 200: loss = 0.2074\n",
            "Step 300: loss = 0.1462\n",
            "Step 400: loss = 0.0442\n",
            "Step 500: loss = 0.1879\n",
            "Step 600: loss = 0.2908\n",
            "Step 700: loss = 0.3372\n",
            "Step 800: loss = 0.0346\n",
            "Step 900: loss = 0.0950\n",
            "\n",
            "Epoch 3/5\n",
            "Step 0: loss = 0.0698\n",
            "Step 100: loss = 0.0680\n",
            "Step 200: loss = 0.1029\n",
            "Step 300: loss = 0.0872\n",
            "Step 400: loss = 0.0957\n",
            "Step 500: loss = 0.1263\n",
            "Step 600: loss = 0.0823\n",
            "Step 700: loss = 0.0418\n",
            "Step 800: loss = 0.0852\n",
            "Step 900: loss = 0.0230\n",
            "\n",
            "Epoch 4/5\n",
            "Step 0: loss = 0.1762\n",
            "Step 100: loss = 0.1236\n",
            "Step 200: loss = 0.0535\n",
            "Step 300: loss = 0.0396\n",
            "Step 400: loss = 0.0838\n",
            "Step 500: loss = 0.1164\n",
            "Step 600: loss = 0.0838\n",
            "Step 700: loss = 0.0597\n",
            "Step 800: loss = 0.0796\n",
            "Step 900: loss = 0.0240\n",
            "\n",
            "Epoch 5/5\n",
            "Step 0: loss = 0.0257\n",
            "Step 100: loss = 0.0125\n",
            "Step 200: loss = 0.0993\n",
            "Step 300: loss = 0.0194\n",
            "Step 400: loss = 0.0194\n",
            "Step 500: loss = 0.0172\n",
            "Step 600: loss = 0.1003\n",
            "Step 700: loss = 0.0146\n",
            "Step 800: loss = 0.0372\n",
            "Step 900: loss = 0.0452\n"
          ]
        }
      ],
      "source": [
        "# Write your code here\n",
        "# Exercise 1: Basic Custom Training Loop\n",
        "\n",
        "import tensorflow as tf\n",
        "from tensorflow.keras.datasets import mnist\n",
        "from tensorflow.keras.models import Sequential\n",
        "from tensorflow.keras.layers import Dense, Flatten\n",
        "\n",
        "# Load and preprocess data\n",
        "(x_train, y_train), _ = mnist.load_data()\n",
        "x_train = x_train.astype(\"float32\") / 255.0\n",
        "\n",
        "# Build model\n",
        "model = Sequential([\n",
        "    Flatten(input_shape=(28, 28)),\n",
        "    Dense(128, activation='relu'),\n",
        "    Dense(10)\n",
        "])\n",
        "\n",
        "loss_fn = tf.keras.losses.SparseCategoricalCrossentropy(from_logits=True)\n",
        "optimizer = tf.keras.optimizers.Adam()\n",
        "\n",
        "# Training loop\n",
        "epochs = 5\n",
        "batch_size = 64\n",
        "train_dataset = tf.data.Dataset.from_tensor_slices((x_train, y_train)).shuffle(10000).batch(batch_size)\n",
        "\n",
        "for epoch in range(epochs):\n",
        "    print(f\"\\nEpoch {epoch + 1}/{epochs}\")\n",
        "    for step, (x_batch, y_batch) in enumerate(train_dataset):\n",
        "        with tf.GradientTape() as tape:\n",
        "            logits = model(x_batch, training=True)\n",
        "            loss = loss_fn(y_batch, logits)\n",
        "        grads = tape.gradient(loss, model.trainable_weights)\n",
        "        optimizer.apply_gradients(zip(grads, model.trainable_weights))\n",
        "        if step % 100 == 0:\n",
        "            print(f\"Step {step}: loss = {loss.numpy():.4f}\")\n"
      ],
      "execution_count": 21
    },
    {
      "cell_type": "markdown",
      "metadata": {
        "id": "6e9c5133-f463-4658-8f91-f4a5cb884dce"
      },
      "source": [
        "<details>\n",
        "<summary>Click here for solution</summary> </br>\n",
        "\n",
        "```python\n",
        "# Import necessary libraries\n",
        "import tensorflow as tf\n",
        "from tensorflow.keras.models import Sequential\n",
        "from tensorflow.keras.layers import Dense, Flatten\n",
        "\n",
        "# Step 1: Set Up the Environment\n",
        "(x_train, y_train), (x_test, y_test) = tf.keras.datasets.mnist.load_data()\n",
        "x_train, x_test = x_train / 255.0, x_test / 255.0\n",
        "train_dataset = tf.data.Dataset.from_tensor_slices((x_train, y_train)).batch(32)\n",
        "\n",
        "# Step 2: Define the Model\n",
        "model = Sequential([\n",
        "    Flatten(input_shape=(28, 28)),\n",
        "    Dense(128, activation='relu'),\n",
        "    Dense(10)\n",
        "])\n",
        "\n",
        "# Step 3: Define Loss Function and Optimizer\n",
        "loss_fn = tf.keras.losses.SparseCategoricalCrossentropy(from_logits=True)\n",
        "optimizer = tf.keras.optimizers.Adam()\n",
        "\n",
        "# Step 4: Implement the Custom Training Loop\n",
        "for epoch in range(5):\n",
        "    for x_batch, y_batch in train_dataset:\n",
        "        with tf.GradientTape() as tape:\n",
        "            logits = model(x_batch, training=True)\n",
        "            loss = loss_fn(y_batch, logits)\n",
        "        grads = tape.gradient(loss, model.trainable_weights)\n",
        "        optimizer.apply_gradients(zip(grads, model.trainable_weights))\n",
        "    print(f'Epoch {epoch + 1}: Loss = {loss.numpy()}')\n"
      ]
    },
    {
      "cell_type": "markdown",
      "metadata": {
        "id": "dac30c9b-f5ad-402c-8417-292d3f9717bd"
      },
      "source": [
        "### Exercise 2: Adding Accuracy Metric\n",
        "\n",
        "#### Objective: Enhance the custom training loop by adding an accuracy metric to monitor model performance.\n",
        "\n",
        "#### Instructions:\n",
        "\n",
        "1. Set up the environment and define the model, loss function, and optimizer.\n",
        "\n",
        "2. Add Sparse Categorical Accuracy as a metric.\n",
        "\n",
        "3. Implement the custom training loop with accuracy tracking.\n"
      ]
    },
    {
      "cell_type": "code",
      "metadata": {
        "colab": {
          "base_uri": "https://localhost:8080/"
        },
        "id": "d5ee0f57-de70-4464-8399-d7c78b10cba5",
        "outputId": "a7442ecd-7d93-4f29-8370-79adc5207905"
      },
      "outputs": [
        {
          "output_type": "stream",
          "name": "stdout",
          "text": [
            "\n",
            "Epoch 1/5\n",
            "Step 0: loss = 0.0201, acc = 1.0000\n",
            "Step 100: loss = 0.0455, acc = 0.9878\n",
            "Step 200: loss = 0.0596, acc = 0.9878\n",
            "Step 300: loss = 0.0087, acc = 0.9874\n",
            "Step 400: loss = 0.0505, acc = 0.9875\n",
            "Step 500: loss = 0.0220, acc = 0.9876\n",
            "Step 600: loss = 0.0233, acc = 0.9877\n",
            "Step 700: loss = 0.0121, acc = 0.9876\n",
            "Step 800: loss = 0.0661, acc = 0.9873\n",
            "Step 900: loss = 0.0457, acc = 0.9871\n",
            "Epoch 1 Accuracy: 0.9871\n",
            "\n",
            "Epoch 2/5\n",
            "Step 0: loss = 0.0231, acc = 0.9844\n",
            "Step 100: loss = 0.0081, acc = 0.9895\n",
            "Step 200: loss = 0.0296, acc = 0.9897\n",
            "Step 300: loss = 0.0074, acc = 0.9906\n",
            "Step 400: loss = 0.0299, acc = 0.9900\n",
            "Step 500: loss = 0.0271, acc = 0.9898\n",
            "Step 600: loss = 0.0215, acc = 0.9897\n",
            "Step 700: loss = 0.0240, acc = 0.9895\n",
            "Step 800: loss = 0.0424, acc = 0.9896\n",
            "Step 900: loss = 0.0374, acc = 0.9896\n",
            "Epoch 2 Accuracy: 0.9896\n",
            "\n",
            "Epoch 3/5\n",
            "Step 0: loss = 0.0577, acc = 0.9688\n",
            "Step 100: loss = 0.0611, acc = 0.9899\n",
            "Step 200: loss = 0.0372, acc = 0.9913\n",
            "Step 300: loss = 0.0182, acc = 0.9910\n",
            "Step 400: loss = 0.0132, acc = 0.9908\n",
            "Step 500: loss = 0.0124, acc = 0.9912\n",
            "Step 600: loss = 0.0234, acc = 0.9914\n",
            "Step 700: loss = 0.0184, acc = 0.9914\n",
            "Step 800: loss = 0.0041, acc = 0.9914\n",
            "Step 900: loss = 0.0062, acc = 0.9915\n",
            "Epoch 3 Accuracy: 0.9915\n",
            "\n",
            "Epoch 4/5\n",
            "Step 0: loss = 0.0208, acc = 1.0000\n",
            "Step 100: loss = 0.0045, acc = 0.9930\n",
            "Step 200: loss = 0.0059, acc = 0.9933\n",
            "Step 300: loss = 0.0109, acc = 0.9933\n",
            "Step 400: loss = 0.0103, acc = 0.9935\n",
            "Step 500: loss = 0.0660, acc = 0.9938\n",
            "Step 600: loss = 0.0250, acc = 0.9936\n",
            "Step 700: loss = 0.0506, acc = 0.9935\n",
            "Step 800: loss = 0.0023, acc = 0.9933\n",
            "Step 900: loss = 0.0116, acc = 0.9933\n",
            "Epoch 4 Accuracy: 0.9934\n",
            "\n",
            "Epoch 5/5\n",
            "Step 0: loss = 0.0068, acc = 1.0000\n",
            "Step 100: loss = 0.0104, acc = 0.9954\n",
            "Step 200: loss = 0.0077, acc = 0.9940\n",
            "Step 300: loss = 0.0134, acc = 0.9943\n",
            "Step 400: loss = 0.0040, acc = 0.9946\n",
            "Step 500: loss = 0.0219, acc = 0.9947\n",
            "Step 600: loss = 0.0412, acc = 0.9947\n",
            "Step 700: loss = 0.1147, acc = 0.9942\n",
            "Step 800: loss = 0.0121, acc = 0.9942\n",
            "Step 900: loss = 0.0152, acc = 0.9940\n",
            "Epoch 5 Accuracy: 0.9940\n"
          ]
        }
      ],
      "source": [
        "# Write your code here\n",
        "# Exercise 2: Adding Accuracy Metric\n",
        "\n",
        "accuracy_metric = tf.keras.metrics.SparseCategoricalAccuracy()\n",
        "\n",
        "for epoch in range(epochs):\n",
        "    print(f\"\\nEpoch {epoch + 1}/{epochs}\")\n",
        "    accuracy_metric.reset_state()\n",
        "    for step, (x_batch, y_batch) in enumerate(train_dataset):\n",
        "        with tf.GradientTape() as tape:\n",
        "            logits = model(x_batch, training=True)\n",
        "            loss = loss_fn(y_batch, logits)\n",
        "        grads = tape.gradient(loss, model.trainable_weights)\n",
        "        optimizer.apply_gradients(zip(grads, model.trainable_weights))\n",
        "\n",
        "        accuracy_metric.update_state(y_batch, logits)\n",
        "        if step % 100 == 0:\n",
        "            print(f\"Step {step}: loss = {loss.numpy():.4f}, acc = {accuracy_metric.result().numpy():.4f}\")\n",
        "\n",
        "    print(f\"Epoch {epoch + 1} Accuracy: {accuracy_metric.result().numpy():.4f}\")\n"
      ],
      "execution_count": 22
    },
    {
      "cell_type": "markdown",
      "metadata": {
        "id": "b979395e-b915-4d6f-824d-872e355c433c"
      },
      "source": [
        "<details>\n",
        "<summary>Click here for solution</summary><br>\n",
        "\n",
        "```python\n",
        "# Import necessary libraries\n",
        "import tensorflow as tf\n",
        "from tensorflow.keras.models import Sequential\n",
        "from tensorflow.keras.layers import Dense, Flatten\n",
        "\n",
        "# Step 1: Set Up the Environment\n",
        "(x_train, y_train), _ = tf.keras.datasets.mnist.load_data()\n",
        "x_train = x_train / 255.0\n",
        "train_dataset = tf.data.Dataset.from_tensor_slices((x_train, y_train)).batch(32)\n",
        "\n",
        "# Step 2: Define the Model\n",
        "model = Sequential([\n",
        "    Flatten(input_shape=(28, 28)),\n",
        "    Dense(128, activation='relu'),\n",
        "    Dense(10)\n",
        "])\n",
        "\n",
        "# Step 3: Define Loss Function, Optimizer, and Metric\n",
        "loss_fn = tf.keras.losses.SparseCategoricalCrossentropy(from_logits=True)\n",
        "optimizer = tf.keras.optimizers.Adam()\n",
        "accuracy_metric = tf.keras.metrics.SparseCategoricalAccuracy()\n",
        "\n",
        "# Step 4: Implement the Custom Training Loop with Accuracy Tracking\n",
        "epochs = 5\n",
        "for epoch in range(epochs):\n",
        "    for x_batch, y_batch in train_dataset:\n",
        "        with tf.GradientTape() as tape:\n",
        "            logits = model(x_batch, training=True)\n",
        "            loss = loss_fn(y_batch, logits)\n",
        "        grads = tape.gradient(loss, model.trainable_weights)\n",
        "        optimizer.apply_gradients(zip(grads, model.trainable_weights))\n",
        "        accuracy_metric.update_state(y_batch, logits)\n",
        "    print(f'Epoch {epoch + 1}: Loss = {loss.numpy()} Accuracy = {accuracy_metric.result().numpy()}')\n",
        "    accuracy_metric.reset_state()\n"
      ]
    },
    {
      "cell_type": "markdown",
      "metadata": {
        "id": "9ff1a85e-8fe1-4d92-a580-076b8cc0f0eb"
      },
      "source": [
        "### Exercise 3: Custom Callback for Advanced Logging\n",
        "\n",
        "#### Objective: Implement a custom callback to log additional metrics and information during training.\n",
        "\n",
        "#### Instructions:\n",
        "\n",
        "1. Set up the environment and define the model, loss function, optimizer, and metric.\n",
        "\n",
        "2. Create a custom callback to log additional metrics at the end of each epoch.\n",
        "\n",
        "3. Implement the custom training loop with the custom callback.\n"
      ]
    },
    {
      "cell_type": "code",
      "metadata": {
        "colab": {
          "base_uri": "https://localhost:8080/"
        },
        "id": "ccf29a1a-8e71-4571-9a0a-7a1d51aaff89",
        "outputId": "c4ac7ddd-092e-44b9-a84c-1022a41b3853"
      },
      "outputs": [
        {
          "output_type": "stream",
          "name": "stdout",
          "text": [
            "Epoch 1/3\n",
            "\u001b[1m933/938\u001b[0m \u001b[32m━━━━━━━━━━━━━━━━━━━\u001b[0m\u001b[37m━\u001b[0m \u001b[1m0s\u001b[0m 4ms/step - accuracy: 0.8359 - loss: 0.5999\n",
            "✅ End of Epoch 1: Loss = 0.3543, Accuracy = 0.9014\n",
            "\u001b[1m938/938\u001b[0m \u001b[32m━━━━━━━━━━━━━━━━━━━━\u001b[0m\u001b[37m\u001b[0m \u001b[1m4s\u001b[0m 4ms/step - accuracy: 0.8363 - loss: 0.5983\n",
            "Epoch 2/3\n",
            "\u001b[1m920/938\u001b[0m \u001b[32m━━━━━━━━━━━━━━━━━━━\u001b[0m\u001b[37m━\u001b[0m \u001b[1m0s\u001b[0m 3ms/step - accuracy: 0.9480 - loss: 0.1849\n",
            "✅ End of Epoch 2: Loss = 0.1734, Accuracy = 0.9503\n",
            "\u001b[1m938/938\u001b[0m \u001b[32m━━━━━━━━━━━━━━━━━━━━\u001b[0m\u001b[37m\u001b[0m \u001b[1m4s\u001b[0m 3ms/step - accuracy: 0.9480 - loss: 0.1847\n",
            "Epoch 3/3\n",
            "\u001b[1m938/938\u001b[0m \u001b[32m━━━━━━━━━━━━━━━━━━━━\u001b[0m\u001b[37m\u001b[0m \u001b[1m0s\u001b[0m 3ms/step - accuracy: 0.9630 - loss: 0.1309\n",
            "✅ End of Epoch 3: Loss = 0.1266, Accuracy = 0.9635\n",
            "\u001b[1m938/938\u001b[0m \u001b[32m━━━━━━━━━━━━━━━━━━━━\u001b[0m\u001b[37m\u001b[0m \u001b[1m3s\u001b[0m 3ms/step - accuracy: 0.9630 - loss: 0.1309\n"
          ]
        },
        {
          "output_type": "execute_result",
          "data": {
            "text/plain": [
              "<keras.src.callbacks.history.History at 0x7e708545b850>"
            ]
          },
          "metadata": {},
          "execution_count": 25
        }
      ],
      "source": [
        "# Write your code here\n",
        "# Exercise 3: Custom Callback for Advanced Logging\n",
        "\n",
        "class CustomLogger(tf.keras.callbacks.Callback):\n",
        "    def on_epoch_end(self, epoch, logs=None):\n",
        "        print(f\"\\n✅ End of Epoch {epoch+1}: Loss = {logs['loss']:.4f}, Accuracy = {logs['accuracy']:.4f}\")\n",
        "\n",
        "# Build and compile a simple model\n",
        "model = Sequential([\n",
        "    Flatten(input_shape=(28, 28)),\n",
        "    Dense(64, activation='relu'),\n",
        "    Dense(10, activation='softmax')\n",
        "])\n",
        "model.compile(optimizer='adam',\n",
        "              loss='sparse_categorical_crossentropy',\n",
        "              metrics=['accuracy'])\n",
        "\n",
        "# Train with callback\n",
        "model.fit(x_train, y_train, epochs=3, batch_size=64, callbacks=[CustomLogger()])\n"
      ],
      "execution_count": 25
    },
    {
      "cell_type": "markdown",
      "metadata": {
        "id": "0059837f-303a-42a9-b7a7-2189486d998f"
      },
      "source": [
        "<details>\n",
        "<summary>Click here for solution</summary> </br>\n",
        "\n",
        "```python\n",
        "# Import necessary libraries\n",
        "import tensorflow as tf\n",
        "from tensorflow.keras.models import Sequential\n",
        "from tensorflow.keras.layers import Dense, Flatten\n",
        "from tensorflow.keras.callbacks import Callback\n",
        "\n",
        "# Step 1: Set Up the Environment\n",
        "(x_train, y_train), (x_test, y_test) = tf.keras.datasets.mnist.load_data()\n",
        "x_train = x_train / 255.0\n",
        "train_dataset = tf.data.Dataset.from_tensor_slices((x_train, y_train)).batch(32)\n",
        "\n",
        "# Step 2: Define the Model\n",
        "model = Sequential([\n",
        "    tf.keras.Input(shape=(28, 28)),  # Updated Input layer syntax\n",
        "    Flatten(),\n",
        "    Dense(128, activation='relu'),\n",
        "    Dense(10)\n",
        "])\n",
        "\n",
        "# Step 3: Define Loss Function, Optimizer, and Metric\n",
        "loss_fn = tf.keras.losses.SparseCategoricalCrossentropy(from_logits=True)\n",
        "optimizer = tf.keras.optimizers.Adam()\n",
        "accuracy_metric = tf.keras.metrics.SparseCategoricalAccuracy()\n",
        "\n",
        "# Step 4: Implement the Custom Callback\n",
        "class CustomCallback(Callback):\n",
        "    def on_epoch_end(self, epoch, logs=None):\n",
        "        print(f'End of epoch {epoch + 1}, loss: {logs.get(\"loss\")}, accuracy: {logs.get(\"accuracy\")}')\n",
        "\n",
        "# Step 5: Implement the Custom Training Loop with Custom Callback\n",
        "custom_callback = CustomCallback()\n",
        "\n",
        "for epoch in range(5):\n",
        "    for x_batch, y_batch in train_dataset:\n",
        "        with tf.GradientTape() as tape:\n",
        "            logits = model(x_batch, training=True)\n",
        "            loss = loss_fn(y_batch, logits)\n",
        "        grads = tape.gradient(loss, model.trainable_weights)\n",
        "        optimizer.apply_gradients(zip(grads, model.trainable_weights))\n",
        "        accuracy_metric.update_state(y_batch, logits)\n",
        "    custom_callback.on_epoch_end(epoch, logs={'loss': loss.numpy(), 'accuracy': accuracy_metric.result().numpy()})\n",
        "    accuracy_metric.reset_state()  # Updated method\n",
        "\n"
      ]
    },
    {
      "cell_type": "markdown",
      "metadata": {
        "id": "fdaa30a2-3560-4d90-b4d2-53346de3bc48"
      },
      "source": [
        "### Exercise 4: Lab - Hyperparameter Tuning\n",
        "\n",
        "#### Enhancement: Add functionality to save the results of each hyperparameter tuning iteration as JSON files in a specified directory.\n",
        "\n",
        "#### Additional Instructions:\n",
        "\n",
        "Modify the tuning loop to save each iteration's results as JSON files.\n",
        "\n",
        "Specify the directory where these JSON files will be stored for easier retrieval and analysis of tuning results.\n"
      ]
    },
    {
      "cell_type": "code",
      "metadata": {
        "colab": {
          "base_uri": "https://localhost:8080/"
        },
        "id": "80eb3640-4655-4c5e-8b91-e577e68b8b01",
        "outputId": "16f7b666-363a-4df8-bd2e-385c6fc99169"
      },
      "outputs": [
        {
          "output_type": "stream",
          "name": "stdout",
          "text": [
            "Trial 3 Complete [00h 00m 55s]\n",
            "val_accuracy: 0.9750000238418579\n",
            "\n",
            "Best val_accuracy So Far: 0.9779999852180481\n",
            "Total elapsed time: 00h 02m 44s\n"
          ]
        }
      ],
      "source": [
        "# Write your code here\n",
        "# ✅ Exercise 4: Lab - Hyperparameter Tuning\n",
        "import keras_tuner as kt\n",
        "import json\n",
        "import tensorflow as tf\n",
        "from tensorflow.keras.datasets import mnist\n",
        "from tensorflow.keras.models import Sequential\n",
        "from tensorflow.keras.layers import Flatten, Dense\n",
        "\n",
        "def build_model(hp):\n",
        "    model = Sequential()\n",
        "    model.add(Flatten(input_shape=(28, 28)))\n",
        "    model.add(Dense(\n",
        "        units=hp.Int(\"units\", min_value=32, max_value=512, step=32),\n",
        "        activation='relu'))\n",
        "    model.add(Dense(10, activation='softmax'))\n",
        "    model.compile(\n",
        "        optimizer='adam',\n",
        "        loss='sparse_categorical_crossentropy',\n",
        "        metrics=['accuracy'])\n",
        "    return model\n",
        "\n",
        "# Define tuner\n",
        "tuner = kt.RandomSearch(\n",
        "    build_model,\n",
        "    objective=\"val_accuracy\",\n",
        "    max_trials=3,\n",
        "    executions_per_trial=1,\n",
        "    directory=\"my_tuning_dir\",\n",
        "    project_name=\"mnist_tuning\"\n",
        ")\n",
        "\n",
        "# Load and normalize MNIST data\n",
        "(x_train, y_train), (x_val, y_val) = mnist.load_data()\n",
        "x_train, x_val = x_train / 255.0, x_val / 255.0\n",
        "\n",
        "# Run the hyperparameter search\n",
        "tuner.search(x_train, y_train, epochs=3, validation_data=(x_val, y_val))\n",
        "\n",
        "# Save best trial results to JSON\n",
        "results = tuner.oracle.get_best_trials(num_trials=3)\n",
        "for i, trial in enumerate(results):\n",
        "    trial_result = {\n",
        "        \"trial_id\": trial.trial_id,\n",
        "        \"score\": trial.score,\n",
        "        \"params\": trial.hyperparameters.values\n",
        "    }\n",
        "    with open(f\"trial_{i+1}_results.json\", \"w\") as f:\n",
        "        json.dump(trial_result, f, indent=4)\n"
      ],
      "execution_count": 29
    },
    {
      "cell_type": "markdown",
      "metadata": {
        "id": "749161c1-b272-4289-bc9e-538b01f37046"
      },
      "source": [
        "<details>\n",
        "<summary>Click here for solution</summary> </br>\n",
        "\n",
        "```python\n",
        "!pip install keras-tuner\n",
        "!pip install scikit-learn\n",
        "\n",
        "import json\n",
        "import os\n",
        "import keras_tuner as kt\n",
        "from tensorflow.keras import Sequential\n",
        "from tensorflow.keras.layers import Dense\n",
        "from tensorflow.keras.optimizers import Adam\n",
        "from sklearn.model_selection import train_test_split\n",
        "from sklearn.datasets import make_classification\n",
        "\n",
        "# Step 1: Load your dataset\n",
        "X, y = make_classification(n_samples=1000, n_features=20, n_classes=2)\n",
        "X_train, X_val, y_train, y_val = train_test_split(X, y, test_size=0.2)\n",
        "\n",
        "# Step 2: Define the model-building function\n",
        "def build_model(hp):\n",
        "    model = Sequential()\n",
        "    # Tune the number of units in the first Dense layer\n",
        "    model.add(Dense(units=hp.Int('units', min_value=32, max_value=512, step=32),\n",
        "                    activation='relu'))\n",
        "    model.add(Dense(1, activation='sigmoid'))  # Binary classification example\n",
        "    model.compile(optimizer=Adam(hp.Float('learning_rate', 1e-4, 1e-2, sampling='LOG')),\n",
        "                  loss='binary_crossentropy',\n",
        "                  metrics=['accuracy'])\n",
        "    return model\n",
        "\n",
        "# Step 3: Initialize a Keras Tuner RandomSearch tuner\n",
        "tuner = kt.RandomSearch(\n",
        "    build_model,\n",
        "    objective='val_accuracy',\n",
        "    max_trials=10,  # Set the number of trials\n",
        "    executions_per_trial=1,  # Set how many executions per trial\n",
        "    directory='tuner_results',  # Directory for saving logs\n",
        "    project_name='hyperparam_tuning'\n",
        ")\n",
        "\n",
        "# Step 4: Run the tuner search (make sure the data is correct)\n",
        "tuner.search(X_train, y_train, validation_data=(X_val, y_val), epochs=5)\n",
        "\n",
        "# Step 5: Save the tuning results as JSON files\n",
        "try:\n",
        "    for i in range(10):\n",
        "        # Fetch the best hyperparameters from the tuner\n",
        "        best_hps = tuner.get_best_hyperparameters(num_trials=1)[0]\n",
        "        \n",
        "        # Results dictionary to save hyperparameters and score\n",
        "        results = {\n",
        "            \"trial\": i + 1,\n",
        "            \"hyperparameters\": best_hps.values,  # Hyperparameters tuned in this trial\n",
        "            \"score\": None  # Add any score or metrics if available\n",
        "        }\n",
        "\n",
        "        # Save the results as JSON\n",
        "        with open(os.path.join('tuning_results', f\"trial_{i + 1}.json\"), \"w\") as f:\n",
        "            json.dump(results, f)\n",
        "\n",
        "except IndexError:\n",
        "    print(\"Tuning process has not completed or no results available.\")\n",
        " ```   \n",
        "\n",
        "</details>\n"
      ]
    },
    {
      "cell_type": "markdown",
      "metadata": {
        "id": "87767081-4566-4f33-9e70-33ece4894793"
      },
      "source": [
        "### Exercise 5: Explanation of Hyperparameter Tuning\n",
        "\n",
        "**Addition to Explanation:** Add a note explaining the purpose of num_trials in the hyperparameter tuning context:\n"
      ]
    },
    {
      "cell_type": "code",
      "metadata": {
        "id": "5ff5d626-21e2-49b4-91a8-e0669d8cde39"
      },
      "outputs": [],
      "source": [
        "# Write your code here\n",
        "# Exercise 5: Explanation of Hyperparameter Tuning\n",
        "\n",
        "# The hyperparameter tuning is controlled by `max_trials`.\n",
        "# Each trial represents a unique combination of hyperparameters.\n",
        "\n",
        "# Example:\n",
        "max_trials = 5\n",
        "\n",
        "# This tells the tuner to try 5 different combinations of hyperparameters.\n",
        "# The tuner will evaluate each and keep the best result.\n",
        "\n",
        "# Other important parameters:\n",
        "# - executions_per_trial: repeats training with the same params to reduce randomness.\n",
        "# - objective: guides the tuner on what to maximize (e.g., val_accuracy).\n"
      ],
      "execution_count": 30
    },
    {
      "cell_type": "markdown",
      "metadata": {
        "id": "92df4870-fa52-4b32-bfe1-382280d8e645"
      },
      "source": [
        "<details>\n",
        "<summary>Click here for solution</summary> </br>\n",
        "\n",
        "```python\n",
        "Explanation: \"num_trials specifies the number of top hyperparameter sets to return. Setting num_trials=1 means that it will return only the best set of hyperparameters found during the tuning process.\"\n",
        " ```   \n",
        "\n",
        "</details>\n"
      ]
    },
    {
      "cell_type": "markdown",
      "metadata": {
        "id": "0e579e35-aa44-4d80-be3f-f72112a76ab4"
      },
      "source": [
        "### Conclusion:\n",
        "\n",
        "Congratulations on completing this lab! You have now successfully created, trained, and evaluated a simple neural network model using the Keras Functional API. This foundational knowledge will allow you to build more complex models and explore advanced functionalities in Keras.\n"
      ]
    },
    {
      "cell_type": "markdown",
      "metadata": {
        "id": "2d5f8b86-5f72-4904-aa74-b8323e22a484"
      },
      "source": [
        "Copyright © IBM Corporation. All rights reserved.\n"
      ]
    }
  ],
  "metadata": {
    "kernelspec": {
      "display_name": "Python 3 (ipykernel)",
      "language": "python",
      "name": "python3"
    },
    "language_info": {
      "codemirror_mode": {
        "name": "ipython",
        "version": 3
      },
      "file_extension": ".py",
      "mimetype": "text/x-python",
      "name": "python",
      "nbconvert_exporter": "python",
      "pygments_lexer": "ipython3",
      "version": "3.11.9"
    },
    "prev_pub_hash": "48a1eb2565c8b635156cd21708473ccadb84e292e93f3530a9d5223b7590344e",
    "colab": {
      "provenance": [],
      "include_colab_link": true
    }
  },
  "nbformat": 4,
  "nbformat_minor": 0
}