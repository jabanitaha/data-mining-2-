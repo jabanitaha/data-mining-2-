{
  "nbformat": 4,
  "nbformat_minor": 0,
  "metadata": {
    "colab": {
      "provenance": [],
      "authorship_tag": "ABX9TyMckF2SR9ZD5wPwCo7oT110",
      "include_colab_link": true
    },
    "kernelspec": {
      "name": "python3",
      "display_name": "Python 3"
    },
    "language_info": {
      "name": "python"
    }
  },
  "cells": [
    {
      "cell_type": "markdown",
      "metadata": {
        "id": "view-in-github",
        "colab_type": "text"
      },
      "source": [
        "<a href=\"https://colab.research.google.com/github/jabanitaha/data-mining-2-/blob/main/Practical_on_pyhton_Dr_Alaa_.ipynb\" target=\"_parent\"><img src=\"https://colab.research.google.com/assets/colab-badge.svg\" alt=\"Open In Colab\"/></a>"
      ]
    },
    {
      "cell_type": "code",
      "execution_count": null,
      "metadata": {
        "id": "Weqq_JSlgiRO"
      },
      "outputs": [],
      "source": []
    },
    {
      "cell_type": "markdown",
      "source": [
        "# Basic Arthemtic Operation\n"
      ],
      "metadata": {
        "id": "YSc_SduohEGA"
      }
    },
    {
      "cell_type": "markdown",
      "source": [],
      "metadata": {
        "id": "PKokXvnjhZNE"
      }
    },
    {
      "cell_type": "code",
      "source": [
        "a=10\n",
        "b=5\n",
        "sum=a+b\n",
        "print(sum)"
      ],
      "metadata": {
        "colab": {
          "base_uri": "https://localhost:8080/"
        },
        "id": "5O4WiJ3_hLUT",
        "outputId": "22ad6ce0-1019-493f-e2d6-cf8f722c9c34"
      },
      "execution_count": 1,
      "outputs": [
        {
          "output_type": "stream",
          "name": "stdout",
          "text": [
            "15\n"
          ]
        }
      ]
    },
    {
      "cell_type": "code",
      "source": [
        "differance=a-b\n",
        "print(differance)"
      ],
      "metadata": {
        "colab": {
          "base_uri": "https://localhost:8080/"
        },
        "id": "uQAWLEidhj9j",
        "outputId": "b88ec18d-4d96-403c-ed15-3291baae0af9"
      },
      "execution_count": 2,
      "outputs": [
        {
          "output_type": "stream",
          "name": "stdout",
          "text": [
            "5\n"
          ]
        }
      ]
    },
    {
      "cell_type": "code",
      "source": [
        "product=a*b\n",
        "print(product)"
      ],
      "metadata": {
        "colab": {
          "base_uri": "https://localhost:8080/"
        },
        "id": "WLSvt1eJh7uI",
        "outputId": "74c7f7be-1fe0-402a-c77f-4e669be56261"
      },
      "execution_count": 3,
      "outputs": [
        {
          "output_type": "stream",
          "name": "stdout",
          "text": [
            "50\n"
          ]
        }
      ]
    },
    {
      "cell_type": "code",
      "source": [
        "divison=a/b\n",
        "print(divison)"
      ],
      "metadata": {
        "colab": {
          "base_uri": "https://localhost:8080/"
        },
        "id": "VapT1j69iFq3",
        "outputId": "e121d87c-da93-4cfe-fb34-2fdc1cbf727c"
      },
      "execution_count": 4,
      "outputs": [
        {
          "output_type": "stream",
          "name": "stdout",
          "text": [
            "2.0\n"
          ]
        }
      ]
    },
    {
      "cell_type": "code",
      "source": [
        "print(\"Sum\" ,sum)\n",
        "print(\"Differance\" ,differance)\n",
        "print(\"Product\" ,product)\n",
        "print(\"Divison\" ,divison)"
      ],
      "metadata": {
        "colab": {
          "base_uri": "https://localhost:8080/"
        },
        "id": "ss7itMloia3w",
        "outputId": "d94b62ed-6d8f-4ed3-d52a-c9408203bb3b"
      },
      "execution_count": 6,
      "outputs": [
        {
          "output_type": "stream",
          "name": "stdout",
          "text": [
            "Sum 15\n",
            "Differance 5\n",
            "Product 50\n",
            "Divison 2.0\n"
          ]
        }
      ]
    },
    {
      "cell_type": "code",
      "source": [
        "print(f\"the sum of the two number  a , b is (sum)\")  # couldnt insert the symbol of curly bracket in python shift + C"
      ],
      "metadata": {
        "colab": {
          "base_uri": "https://localhost:8080/"
        },
        "id": "lkNbe3n1jQto",
        "outputId": "3fbac94a-ad58-4b39-88cb-c3af75760ddd"
      },
      "execution_count": 9,
      "outputs": [
        {
          "output_type": "stream",
          "name": "stdout",
          "text": [
            "the sum of the two number  a , b is (sum)\n"
          ]
        }
      ]
    },
    {
      "cell_type": "code",
      "source": [
        "x=a//b\n",
        "print(x)"
      ],
      "metadata": {
        "colab": {
          "base_uri": "https://localhost:8080/"
        },
        "id": "yrSisNrjlQtS",
        "outputId": "f4f59bb0-0989-4fee-d25e-f1668987cc81"
      },
      "execution_count": 10,
      "outputs": [
        {
          "output_type": "stream",
          "name": "stdout",
          "text": [
            "2\n"
          ]
        }
      ]
    },
    {
      "cell_type": "code",
      "source": [
        "x=13//2\n",
        "print(x)"
      ],
      "metadata": {
        "colab": {
          "base_uri": "https://localhost:8080/"
        },
        "id": "XS4l5gNAliFj",
        "outputId": "ba7bce2a-406f-49aa-eff6-79729f752146"
      },
      "execution_count": 11,
      "outputs": [
        {
          "output_type": "stream",
          "name": "stdout",
          "text": [
            "6\n"
          ]
        }
      ]
    },
    {
      "cell_type": "code",
      "source": [
        "y=13%2\n",
        "print(y)"
      ],
      "metadata": {
        "colab": {
          "base_uri": "https://localhost:8080/"
        },
        "id": "JK1qwZuolyiv",
        "outputId": "84822e2c-ef86-49c4-e074-53aa4d104830"
      },
      "execution_count": 13,
      "outputs": [
        {
          "output_type": "stream",
          "name": "stdout",
          "text": [
            "1\n"
          ]
        }
      ]
    },
    {
      "cell_type": "code",
      "source": [
        "x=13//2\n",
        "print(x)\n",
        "y=13%2 # 13 divied by 2 reminder 1\n",
        "print(y)"
      ],
      "metadata": {
        "colab": {
          "base_uri": "https://localhost:8080/"
        },
        "outputId": "5ec3ddc6-bccf-4000-9f6d-b97700ea7a2d",
        "id": "ZmlQAHiZmGe7"
      },
      "execution_count": 15,
      "outputs": [
        {
          "output_type": "stream",
          "name": "stdout",
          "text": [
            "6\n",
            "1\n"
          ]
        }
      ]
    },
    {
      "cell_type": "markdown",
      "source": [
        "# boolean Variables and comparsion"
      ],
      "metadata": {
        "id": "tr4iMrFEmRxf"
      }
    },
    {
      "cell_type": "code",
      "source": [
        "x=10\n",
        "y=5\n",
        "is_greater=x>y\n",
        "is_equal=x==y\n",
        "is_not_equal=x!=y\n",
        "print(\"is x grater than y ?\",is_greater)\n",
        "print(\"is x equal y ?\" ,is_equal)\n",
        "print(\"is x not equal y ? \", is_not_equal)"
      ],
      "metadata": {
        "colab": {
          "base_uri": "https://localhost:8080/"
        },
        "id": "ZwXGyYx2mbc9",
        "outputId": "14fed700-43f9-4428-e3d7-ecef1f105908"
      },
      "execution_count": 21,
      "outputs": [
        {
          "output_type": "stream",
          "name": "stdout",
          "text": [
            "is x grater than y ? True\n",
            "is x equal y ? False\n",
            "is x not equal y ?  True\n"
          ]
        }
      ]
    },
    {
      "cell_type": "markdown",
      "source": [
        "**# Variable Assigment **"
      ],
      "metadata": {
        "id": "0bIOYKmhozV_"
      }
    },
    {
      "cell_type": "code",
      "source": [
        "name=\"Yacoub\"\n",
        "age=45\n",
        "is_engineer= True\n",
        "print(f\"{name} age is ,{age} ,he is engineer {is_engineer}\")\n"
      ],
      "metadata": {
        "colab": {
          "base_uri": "https://localhost:8080/"
        },
        "id": "g9L8uxZKo3HD",
        "outputId": "6dc6f4dc-2d66-40e1-c534-42e240aa4e60"
      },
      "execution_count": 26,
      "outputs": [
        {
          "output_type": "stream",
          "name": "stdout",
          "text": [
            "Yacoub age is ,45 ,he is engineer True\n"
          ]
        }
      ]
    },
    {
      "cell_type": "markdown",
      "source": [
        "# Define and using a function"
      ],
      "metadata": {
        "id": "XMm7NcoXr3ew"
      }
    },
    {
      "cell_type": "code",
      "source": [
        "def greet(name):\n",
        " return(\"Hello,\" + name +\"!\")\n",
        "greet(\"Yacoub\")"
      ],
      "metadata": {
        "colab": {
          "base_uri": "https://localhost:8080/",
          "height": 35
        },
        "id": "yz-axw2pr8D2",
        "outputId": "ff2a7aef-4a74-4220-c386-caff07ad3b33"
      },
      "execution_count": 32,
      "outputs": [
        {
          "output_type": "execute_result",
          "data": {
            "text/plain": [
              "'Hello,Yacoub!'"
            ],
            "application/vnd.google.colaboratory.intrinsic+json": {
              "type": "string"
            }
          },
          "metadata": {},
          "execution_count": 32
        }
      ]
    },
    {
      "cell_type": "code",
      "source": [
        "my_name=input(\"Enter your name\")\n",
        "greet(\"my_name\")"
      ],
      "metadata": {
        "colab": {
          "base_uri": "https://localhost:8080/",
          "height": 53
        },
        "id": "XKq8pWGbuleD",
        "outputId": "67fd2e34-7216-4310-9f48-c08446de30c0"
      },
      "execution_count": 34,
      "outputs": [
        {
          "name": "stdout",
          "output_type": "stream",
          "text": [
            "Enter your nameyacoub banitaha\n"
          ]
        },
        {
          "output_type": "execute_result",
          "data": {
            "text/plain": [
              "'Hello,My name !'"
            ],
            "application/vnd.google.colaboratory.intrinsic+json": {
              "type": "string"
            }
          },
          "metadata": {},
          "execution_count": 34
        }
      ]
    },
    {
      "cell_type": "code",
      "source": [
        "def add_numbers(a,b):\n",
        " return(a+b)\n",
        "a=input(\"Enter the first number\")\n",
        "b=input(\"Enter the second number\")\n",
        "addition_value= add_numbers(a,b)\n",
        "print(f\"the results of addition of {a},{b} is {addition_value}\")"
      ],
      "metadata": {
        "colab": {
          "base_uri": "https://localhost:8080/"
        },
        "id": "hivhkYqXvQyG",
        "outputId": "47fc4056-ff18-4ae1-dc9a-f84ccfb174e0"
      },
      "execution_count": 38,
      "outputs": [
        {
          "output_type": "stream",
          "name": "stdout",
          "text": [
            "Enter the first number10\n",
            "Enter the second number20\n",
            "the results of addition of 10,20 is 1020\n"
          ]
        }
      ]
    },
    {
      "cell_type": "code",
      "source": [
        "def add_numbers(a,b):\n",
        " return(a+b)\n",
        "a=int(input(\"Enter the first number\"))\n",
        "b=int(input(\"Enter the second number\"))\n",
        "addition_value= add_numbers(a,b)\n",
        "print(f\"the results of addition of {a},{b} is {addition_value}\")"
      ],
      "metadata": {
        "colab": {
          "base_uri": "https://localhost:8080/"
        },
        "id": "QvEppsLJxJjn",
        "outputId": "d0e50044-451a-4570-f3b2-8c74e2f99a7a"
      },
      "execution_count": 39,
      "outputs": [
        {
          "output_type": "stream",
          "name": "stdout",
          "text": [
            "Enter the first number10\n",
            "Enter the second number20\n",
            "the results of addition of 10,20 is 30\n"
          ]
        }
      ]
    },
    {
      "cell_type": "code",
      "source": [
        "def add_numbers(a,b):\n",
        " return(a+b)\n",
        "a=eval(input(\"Enter the first number\"))\n",
        "b=eval(input(\"Enter the second number\"))\n",
        "addition_value= add_numbers(a,b)\n",
        "print(f\"the results of addition of {a},{b} is {addition_value}\")"
      ],
      "metadata": {
        "colab": {
          "base_uri": "https://localhost:8080/"
        },
        "id": "B1APjMJgxqIu",
        "outputId": "d678a10c-d50e-4085-d2f5-be5fa4bb3b67"
      },
      "execution_count": 40,
      "outputs": [
        {
          "output_type": "stream",
          "name": "stdout",
          "text": [
            "Enter the first number10\n",
            "Enter the second number20\n",
            "the results of addition of 10,20 is 30\n"
          ]
        }
      ]
    },
    {
      "cell_type": "code",
      "source": [
        "def add_numbers(a,b):\n",
        " return(a+b)\n",
        "a=eval(input(\"Enter the first number\"))\n",
        "b=eval(input(\"Enter the second number\"))\n",
        "addition_value= add_numbers(a,b)\n",
        "print(f\"the results of addition of {a},{b} is {addition_value}\")"
      ],
      "metadata": {
        "colab": {
          "base_uri": "https://localhost:8080/"
        },
        "id": "0dqPbRPmx34z",
        "outputId": "e0a2aff1-81bd-45c0-a90e-ba2e8b9820ef"
      },
      "execution_count": 42,
      "outputs": [
        {
          "output_type": "stream",
          "name": "stdout",
          "text": [
            "Enter the first number10\n",
            "Enter the second number-5\n",
            "the results of addition of 10,-5 is 5\n"
          ]
        }
      ]
    },
    {
      "cell_type": "markdown",
      "source": [
        "# working with strings  "
      ],
      "metadata": {
        "id": "PIs9AwcWypJJ"
      }
    },
    {
      "cell_type": "code",
      "source": [
        "message=\"Hello ,World\"\n",
        "length=len(message)\n",
        "uppercase=message.upper()\n",
        "lowercase=message.lower()\n",
        "substring=message[7:12]\n",
        "print(\"oringinal message:\",message)\n",
        "print(\"the length is \" ,length)\n",
        "print(\"upper case is :\" , uppercase)\n",
        "print(\"lowercase is :\" ,lowercase)\n",
        "print(\"substring is :\" ,substring)\n",
        "print(\"part of the message is : \", substring)"
      ],
      "metadata": {
        "colab": {
          "base_uri": "https://localhost:8080/"
        },
        "id": "5o8IoH6SysVW",
        "outputId": "26946dd6-6473-48ec-b04b-fa09c77600ee"
      },
      "execution_count": 46,
      "outputs": [
        {
          "output_type": "stream",
          "name": "stdout",
          "text": [
            "oringinal message: Hello ,World\n",
            "the length is  12\n",
            "upper case is : HELLO ,WORLD\n",
            "lowercase is : hello ,world\n",
            "substring is : World\n",
            "part of the message is :  World\n"
          ]
        }
      ]
    },
    {
      "cell_type": "markdown",
      "source": [
        "#basic input examples"
      ],
      "metadata": {
        "id": "SbvKxkaG2aNO"
      }
    },
    {
      "cell_type": "code",
      "source": [
        "Last =input(\"Enter the Last name  :\")\n",
        "First =input(\"Enter theFrist Name :\")\n",
        "print(f\"{Last},{First}\")"
      ],
      "metadata": {
        "colab": {
          "base_uri": "https://localhost:8080/"
        },
        "id": "vXJYISfp2dVh",
        "outputId": "cd5ab16f-3b1c-4c9a-ccbc-44ef69a0f359"
      },
      "execution_count": 49,
      "outputs": [
        {
          "output_type": "stream",
          "name": "stdout",
          "text": [
            "Enter the Last name  :Bani Taha \n",
            "Enter theFrist Name :Yacoub \n",
            "Bani Taha ,Yacoub \n"
          ]
        }
      ]
    },
    {
      "cell_type": "markdown",
      "source": [
        "# Numeric input examples"
      ],
      "metadata": {
        "id": "9j0SEd3R4Kmj"
      }
    },
    {
      "cell_type": "code",
      "source": [
        "age=int(input(\"Enter your age :\"))\n",
        "print(f\"you will be\" ,age + 1 , \"years old next year\")"
      ],
      "metadata": {
        "colab": {
          "base_uri": "https://localhost:8080/"
        },
        "id": "-K2thcL64QCl",
        "outputId": "c95aaaaa-a3e3-4341-9e5a-b1e3107201b6"
      },
      "execution_count": 50,
      "outputs": [
        {
          "output_type": "stream",
          "name": "stdout",
          "text": [
            "Enter your age :45\n",
            "you will be 46 years old next year\n"
          ]
        }
      ]
    },
    {
      "cell_type": "markdown",
      "source": [
        "# calculation with input"
      ],
      "metadata": {
        "id": "yHMeRYE_5Ehe"
      }
    },
    {
      "cell_type": "code",
      "source": [
        "num1= float(input(\"enter a number :\"))\n",
        "num2= float(input(\"enter another number :\"))\n",
        "sum_result=num1+num2\n",
        "print(\"SUM is \",sum_result)"
      ],
      "metadata": {
        "colab": {
          "base_uri": "https://localhost:8080/"
        },
        "id": "csdMDEVB5Ior",
        "outputId": "ef33f416-4d4e-49dc-9626-8983948a12f0"
      },
      "execution_count": 52,
      "outputs": [
        {
          "output_type": "stream",
          "name": "stdout",
          "text": [
            "enter a number :12\n",
            "enter another number :14\n",
            "SUM is  26.0\n"
          ]
        }
      ]
    },
    {
      "cell_type": "markdown",
      "source": [
        "#string with concatenation with input"
      ],
      "metadata": {
        "id": "fQcDOGlX6Dms"
      }
    },
    {
      "cell_type": "code",
      "source": [
        "city=input(\"input your city: \")\n",
        "country=input(\"input your country \")\n",
        "loaction=city + \",\" + country\n",
        "print(f\"you are from {loaction}\")"
      ],
      "metadata": {
        "colab": {
          "base_uri": "https://localhost:8080/"
        },
        "id": "0jc_v3Ui6LdK",
        "outputId": "bba1f004-913f-49fc-c32f-01ae94b65afb"
      },
      "execution_count": 53,
      "outputs": [
        {
          "output_type": "stream",
          "name": "stdout",
          "text": [
            "input your city: aqaba\n",
            "input your country jordan\n",
            "you are from aqaba,jordan\n"
          ]
        }
      ]
    },
    {
      "cell_type": "markdown",
      "source": [],
      "metadata": {
        "id": "N1P6fVfr7CLz"
      }
    },
    {
      "cell_type": "markdown",
      "source": [
        "# multiple input"
      ],
      "metadata": {
        "id": "rmSi1Heg7Gva"
      }
    },
    {
      "cell_type": "code",
      "source": [
        "name,age =(\"enter your name and age sperated by comma\").split()\n",
        "print(f\"my name is {name} and my age is {age}\" )\n",
        "# a have wrong code even a comply with the code listed in the youtube video"
      ],
      "metadata": {
        "colab": {
          "base_uri": "https://localhost:8080/",
          "height": 159
        },
        "id": "pqOro-Vt7NB5",
        "outputId": "f446169b-5e47-4b7b-c182-f9ced1fb4533"
      },
      "execution_count": 59,
      "outputs": [
        {
          "output_type": "error",
          "ename": "ValueError",
          "evalue": "not enough values to unpack (expected 2, got 1)",
          "traceback": [
            "\u001b[0;31m---------------------------------------------------------------------------\u001b[0m",
            "\u001b[0;31mValueError\u001b[0m                                Traceback (most recent call last)",
            "\u001b[0;32m<ipython-input-59-e000c978f697>\u001b[0m in \u001b[0;36m<cell line: 0>\u001b[0;34m()\u001b[0m\n\u001b[0;32m----> 1\u001b[0;31m \u001b[0mname\u001b[0m\u001b[0;34m,\u001b[0m\u001b[0mage\u001b[0m \u001b[0;34m=\u001b[0m\u001b[0;34m(\u001b[0m\u001b[0;34m\"enter your name and age sperated by comma\"\u001b[0m\u001b[0;34m)\u001b[0m\u001b[0;34m.\u001b[0m\u001b[0msplit\u001b[0m\u001b[0;34m(\u001b[0m\u001b[0;34m\"name,age\"\u001b[0m\u001b[0;34m)\u001b[0m\u001b[0;34m\u001b[0m\u001b[0;34m\u001b[0m\u001b[0m\n\u001b[0m\u001b[1;32m      2\u001b[0m \u001b[0mprint\u001b[0m\u001b[0;34m(\u001b[0m\u001b[0;34mf\"my name is {name} and my age is {age}\"\u001b[0m \u001b[0;34m)\u001b[0m\u001b[0;34m\u001b[0m\u001b[0;34m\u001b[0m\u001b[0m\n",
            "\u001b[0;31mValueError\u001b[0m: not enough values to unpack (expected 2, got 1)"
          ]
        }
      ]
    },
    {
      "cell_type": "markdown",
      "source": [],
      "metadata": {
        "id": "pcEfZkp986uP"
      }
    }
  ]
}