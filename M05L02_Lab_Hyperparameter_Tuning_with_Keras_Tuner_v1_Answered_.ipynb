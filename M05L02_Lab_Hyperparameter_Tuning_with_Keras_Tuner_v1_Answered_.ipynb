{
  "cells": [
    {
      "cell_type": "markdown",
      "metadata": {
        "id": "view-in-github",
        "colab_type": "text"
      },
      "source": [
        "<a href=\"https://colab.research.google.com/github/jabanitaha/data-mining-2-/blob/main/M05L02_Lab_Hyperparameter_Tuning_with_Keras_Tuner_v1_Answered_.ipynb\" target=\"_parent\"><img src=\"https://colab.research.google.com/assets/colab-badge.svg\" alt=\"Open In Colab\"/></a>"
      ]
    },
    {
      "cell_type": "markdown",
      "metadata": {
        "id": "bfa80ef3-e0de-47e6-b54b-1113f46d691d"
      },
      "source": [
        "<p style=\"text-align:center\">\n",
        "    <a href=\"https://skills.network\" target=\"_blank\">\n",
        "    <img src=\"https://cf-courses-data.s3.us.cloud-object-storage.appdomain.cloud/assets/logos/SN_web_lightmode.png\" width=\"200\" alt=\"Skills Network Logo\"  />\n",
        "    </a>\n",
        "</p>\n"
      ]
    },
    {
      "cell_type": "markdown",
      "metadata": {
        "id": "183f37eb-497c-4803-b947-ec9ed1a4adf9"
      },
      "source": [
        "# **Lab: Hyperparameter Tuning with Keras Tuner**\n"
      ]
    },
    {
      "cell_type": "markdown",
      "metadata": {
        "id": "87f0d461-9bfd-49b1-af77-fa98c5cee1de"
      },
      "source": [
        "Estimated time needed: **30** minutes\n"
      ]
    },
    {
      "cell_type": "markdown",
      "metadata": {
        "id": "97357f65-c520-4ab9-b72a-c34e97431ded"
      },
      "source": [
        "In this lab, you will learn how to set up Keras Tuner and prepare the environment for hyperparameter tuning.\n",
        "\n",
        "## Learning objectives:\n",
        "By the end of this lab, you will:\n",
        "- Install Keras Tuner and import the necessary libraries\n",
        "- Load and preprocess the MNIST data set\n",
        "- Define a model-building function that uses hyperparameters to configure the model architecture\n",
        "- Set up Keras Tuner to search for the best hyperparameter configuration\n",
        "- Retrieve the best hyperparameters from the search and build a model with these optimized values\n",
        "\n",
        "## Prerequisites:\n",
        "- Basic understanding of Python programming\n",
        "- Keras and TensorFlow installed\n"
      ]
    },
    {
      "cell_type": "markdown",
      "metadata": {
        "id": "b4d44da5-2935-4a93-879b-baa32249c070"
      },
      "source": [
        "### Exercise 1: Install the Keras Tuner\n",
        "\n",
        "This exercise guides you through the initial setup for using Keras Tuner. You install the library, import necessary modules, and load and preprocess the MNIST data set, which will be used for hyperparameter tuning.\n",
        "1. **Install Keras Tuner:**\n",
        "    - Use pip to install Keras Tuner\n",
        "2. **Import necessary libraries:**\n",
        "    - Import Keras Tuner, TensorFlow, and Keras modules\n",
        "3. **Load and preprocess the MNIST data set:**\n",
        "    - Load the MNIST data set.\n",
        "    - Normalize the data set by dividing by 255.0.\n"
      ]
    },
    {
      "cell_type": "code",
      "metadata": {
        "colab": {
          "base_uri": "https://localhost:8080/"
        },
        "id": "847a428c-a164-46cb-9d86-7bffa76cce12",
        "outputId": "5742d179-3f6f-4aee-dd88-c61440a3cb26"
      },
      "outputs": [
        {
          "output_type": "stream",
          "name": "stdout",
          "text": [
            "Requirement already satisfied: tensorflow==2.16.2 in /usr/local/lib/python3.11/dist-packages (2.16.2)\n",
            "Requirement already satisfied: absl-py>=1.0.0 in /usr/local/lib/python3.11/dist-packages (from tensorflow==2.16.2) (1.4.0)\n",
            "Requirement already satisfied: astunparse>=1.6.0 in /usr/local/lib/python3.11/dist-packages (from tensorflow==2.16.2) (1.6.3)\n",
            "Requirement already satisfied: flatbuffers>=23.5.26 in /usr/local/lib/python3.11/dist-packages (from tensorflow==2.16.2) (25.2.10)\n",
            "Requirement already satisfied: gast!=0.5.0,!=0.5.1,!=0.5.2,>=0.2.1 in /usr/local/lib/python3.11/dist-packages (from tensorflow==2.16.2) (0.6.0)\n",
            "Requirement already satisfied: google-pasta>=0.1.1 in /usr/local/lib/python3.11/dist-packages (from tensorflow==2.16.2) (0.2.0)\n",
            "Requirement already satisfied: h5py>=3.10.0 in /usr/local/lib/python3.11/dist-packages (from tensorflow==2.16.2) (3.14.0)\n",
            "Requirement already satisfied: libclang>=13.0.0 in /usr/local/lib/python3.11/dist-packages (from tensorflow==2.16.2) (18.1.1)\n",
            "Requirement already satisfied: ml-dtypes~=0.3.1 in /usr/local/lib/python3.11/dist-packages (from tensorflow==2.16.2) (0.3.2)\n",
            "Requirement already satisfied: opt-einsum>=2.3.2 in /usr/local/lib/python3.11/dist-packages (from tensorflow==2.16.2) (3.4.0)\n",
            "Requirement already satisfied: packaging in /usr/local/lib/python3.11/dist-packages (from tensorflow==2.16.2) (24.2)\n",
            "Requirement already satisfied: protobuf!=4.21.0,!=4.21.1,!=4.21.2,!=4.21.3,!=4.21.4,!=4.21.5,<5.0.0dev,>=3.20.3 in /usr/local/lib/python3.11/dist-packages (from tensorflow==2.16.2) (4.25.8)\n",
            "Requirement already satisfied: requests<3,>=2.21.0 in /usr/local/lib/python3.11/dist-packages (from tensorflow==2.16.2) (2.32.3)\n",
            "Requirement already satisfied: setuptools in /usr/local/lib/python3.11/dist-packages (from tensorflow==2.16.2) (75.2.0)\n",
            "Requirement already satisfied: six>=1.12.0 in /usr/local/lib/python3.11/dist-packages (from tensorflow==2.16.2) (1.17.0)\n",
            "Requirement already satisfied: termcolor>=1.1.0 in /usr/local/lib/python3.11/dist-packages (from tensorflow==2.16.2) (3.1.0)\n",
            "Requirement already satisfied: typing-extensions>=3.6.6 in /usr/local/lib/python3.11/dist-packages (from tensorflow==2.16.2) (4.14.0)\n",
            "Requirement already satisfied: wrapt>=1.11.0 in /usr/local/lib/python3.11/dist-packages (from tensorflow==2.16.2) (1.17.2)\n",
            "Requirement already satisfied: grpcio<2.0,>=1.24.3 in /usr/local/lib/python3.11/dist-packages (from tensorflow==2.16.2) (1.73.0)\n",
            "Requirement already satisfied: tensorboard<2.17,>=2.16 in /usr/local/lib/python3.11/dist-packages (from tensorflow==2.16.2) (2.16.2)\n",
            "Requirement already satisfied: keras>=3.0.0 in /usr/local/lib/python3.11/dist-packages (from tensorflow==2.16.2) (3.8.0)\n",
            "Requirement already satisfied: tensorflow-io-gcs-filesystem>=0.23.1 in /usr/local/lib/python3.11/dist-packages (from tensorflow==2.16.2) (0.37.1)\n",
            "Requirement already satisfied: numpy<2.0.0,>=1.23.5 in /usr/local/lib/python3.11/dist-packages (from tensorflow==2.16.2) (1.26.4)\n",
            "Requirement already satisfied: wheel<1.0,>=0.23.0 in /usr/local/lib/python3.11/dist-packages (from astunparse>=1.6.0->tensorflow==2.16.2) (0.45.1)\n",
            "Requirement already satisfied: rich in /usr/local/lib/python3.11/dist-packages (from keras>=3.0.0->tensorflow==2.16.2) (13.9.4)\n",
            "Requirement already satisfied: namex in /usr/local/lib/python3.11/dist-packages (from keras>=3.0.0->tensorflow==2.16.2) (0.1.0)\n",
            "Requirement already satisfied: optree in /usr/local/lib/python3.11/dist-packages (from keras>=3.0.0->tensorflow==2.16.2) (0.16.0)\n",
            "Requirement already satisfied: charset-normalizer<4,>=2 in /usr/local/lib/python3.11/dist-packages (from requests<3,>=2.21.0->tensorflow==2.16.2) (3.4.2)\n",
            "Requirement already satisfied: idna<4,>=2.5 in /usr/local/lib/python3.11/dist-packages (from requests<3,>=2.21.0->tensorflow==2.16.2) (3.10)\n",
            "Requirement already satisfied: urllib3<3,>=1.21.1 in /usr/local/lib/python3.11/dist-packages (from requests<3,>=2.21.0->tensorflow==2.16.2) (2.4.0)\n",
            "Requirement already satisfied: certifi>=2017.4.17 in /usr/local/lib/python3.11/dist-packages (from requests<3,>=2.21.0->tensorflow==2.16.2) (2025.6.15)\n",
            "Requirement already satisfied: markdown>=2.6.8 in /usr/local/lib/python3.11/dist-packages (from tensorboard<2.17,>=2.16->tensorflow==2.16.2) (3.8.2)\n",
            "Requirement already satisfied: tensorboard-data-server<0.8.0,>=0.7.0 in /usr/local/lib/python3.11/dist-packages (from tensorboard<2.17,>=2.16->tensorflow==2.16.2) (0.7.2)\n",
            "Requirement already satisfied: werkzeug>=1.0.1 in /usr/local/lib/python3.11/dist-packages (from tensorboard<2.17,>=2.16->tensorflow==2.16.2) (3.1.3)\n",
            "Requirement already satisfied: MarkupSafe>=2.1.1 in /usr/local/lib/python3.11/dist-packages (from werkzeug>=1.0.1->tensorboard<2.17,>=2.16->tensorflow==2.16.2) (3.0.2)\n",
            "Requirement already satisfied: markdown-it-py>=2.2.0 in /usr/local/lib/python3.11/dist-packages (from rich->keras>=3.0.0->tensorflow==2.16.2) (3.0.0)\n",
            "Requirement already satisfied: pygments<3.0.0,>=2.13.0 in /usr/local/lib/python3.11/dist-packages (from rich->keras>=3.0.0->tensorflow==2.16.2) (2.19.2)\n",
            "Requirement already satisfied: mdurl~=0.1 in /usr/local/lib/python3.11/dist-packages (from markdown-it-py>=2.2.0->rich->keras>=3.0.0->tensorflow==2.16.2) (0.1.2)\n",
            "Requirement already satisfied: keras-tuner==1.4.7 in /usr/local/lib/python3.11/dist-packages (1.4.7)\n",
            "Requirement already satisfied: keras in /usr/local/lib/python3.11/dist-packages (from keras-tuner==1.4.7) (3.8.0)\n",
            "Requirement already satisfied: packaging in /usr/local/lib/python3.11/dist-packages (from keras-tuner==1.4.7) (24.2)\n",
            "Requirement already satisfied: requests in /usr/local/lib/python3.11/dist-packages (from keras-tuner==1.4.7) (2.32.3)\n",
            "Requirement already satisfied: kt-legacy in /usr/local/lib/python3.11/dist-packages (from keras-tuner==1.4.7) (1.0.5)\n",
            "Requirement already satisfied: absl-py in /usr/local/lib/python3.11/dist-packages (from keras->keras-tuner==1.4.7) (1.4.0)\n",
            "Requirement already satisfied: numpy in /usr/local/lib/python3.11/dist-packages (from keras->keras-tuner==1.4.7) (1.26.4)\n",
            "Requirement already satisfied: rich in /usr/local/lib/python3.11/dist-packages (from keras->keras-tuner==1.4.7) (13.9.4)\n",
            "Requirement already satisfied: namex in /usr/local/lib/python3.11/dist-packages (from keras->keras-tuner==1.4.7) (0.1.0)\n",
            "Requirement already satisfied: h5py in /usr/local/lib/python3.11/dist-packages (from keras->keras-tuner==1.4.7) (3.14.0)\n",
            "Requirement already satisfied: optree in /usr/local/lib/python3.11/dist-packages (from keras->keras-tuner==1.4.7) (0.16.0)\n",
            "Requirement already satisfied: ml-dtypes in /usr/local/lib/python3.11/dist-packages (from keras->keras-tuner==1.4.7) (0.3.2)\n",
            "Requirement already satisfied: charset-normalizer<4,>=2 in /usr/local/lib/python3.11/dist-packages (from requests->keras-tuner==1.4.7) (3.4.2)\n",
            "Requirement already satisfied: idna<4,>=2.5 in /usr/local/lib/python3.11/dist-packages (from requests->keras-tuner==1.4.7) (3.10)\n",
            "Requirement already satisfied: urllib3<3,>=1.21.1 in /usr/local/lib/python3.11/dist-packages (from requests->keras-tuner==1.4.7) (2.4.0)\n",
            "Requirement already satisfied: certifi>=2017.4.17 in /usr/local/lib/python3.11/dist-packages (from requests->keras-tuner==1.4.7) (2025.6.15)\n",
            "Requirement already satisfied: typing-extensions>=4.6.0 in /usr/local/lib/python3.11/dist-packages (from optree->keras->keras-tuner==1.4.7) (4.14.0)\n",
            "Requirement already satisfied: markdown-it-py>=2.2.0 in /usr/local/lib/python3.11/dist-packages (from rich->keras->keras-tuner==1.4.7) (3.0.0)\n",
            "Requirement already satisfied: pygments<3.0.0,>=2.13.0 in /usr/local/lib/python3.11/dist-packages (from rich->keras->keras-tuner==1.4.7) (2.19.2)\n",
            "Requirement already satisfied: mdurl~=0.1 in /usr/local/lib/python3.11/dist-packages (from markdown-it-py>=2.2.0->rich->keras->keras-tuner==1.4.7) (0.1.2)\n",
            "/bin/bash: line 1: 2.0.0: No such file or directory\n"
          ]
        }
      ],
      "source": [
        "!pip install tensorflow==2.16.2\n",
        "!pip install keras-tuner==1.4.7\n",
        "!pip install numpy<2.0.0\n",
        "\n"
      ],
      "execution_count": 1
    },
    {
      "cell_type": "markdown",
      "metadata": {
        "id": "8ae40fb2-7df4-49eb-af6c-ccf40d7c7d93"
      },
      "source": [
        "#### Explanation:\n",
        "This code installs the necessary libraries using pip\n",
        "\n",
        "- **TensorFlow**: Ensures compatibility with the Keras Tuner.\n",
        "- **Keras Tuner**: The version used in this lab.\n",
        "- **Numpy**: Ensures compatibility with the other installed packages.\n"
      ]
    },
    {
      "cell_type": "code",
      "metadata": {
        "id": "60b0d4d6-55ea-42d1-9484-20c278e7ec6f"
      },
      "outputs": [],
      "source": [
        "import sys\n",
        "\n",
        "# Increase recursion limit to prevent potential issues\n",
        "sys.setrecursionlimit(100000)"
      ],
      "execution_count": 2
    },
    {
      "cell_type": "markdown",
      "metadata": {
        "id": "9fe339e0-00b7-4707-92b8-62b1dc175b1f"
      },
      "source": [
        "#### Explanation:\n",
        "The sys.setrecursionlimit function is used to increase the recursion limit, which helps prevent potential recursion errors when running complex models with deep nested functions or when using certain libraries like TensorFlow.\n"
      ]
    },
    {
      "cell_type": "code",
      "metadata": {
        "id": "2e9ac456-ffc4-42ed-991f-54d67145f36b"
      },
      "outputs": [],
      "source": [
        "# Step 2: Import necessary libraries\n",
        "import keras_tuner as kt\n",
        "from tensorflow.keras.models import Sequential\n",
        "from tensorflow.keras.layers import Dense, Flatten\n",
        "from tensorflow.keras.datasets import mnist\n",
        "from tensorflow.keras.optimizers import Adam\n",
        "import os\n",
        "import warnings\n",
        "\n",
        "# Suppress all Python warnings\n",
        "warnings.filterwarnings('ignore')\n",
        "\n",
        "# Set TensorFlow log level to suppress warnings and info messages\n",
        "os.environ['TF_CPP_MIN_LOG_LEVEL'] = '2'  # 0 = all logs, 1 = filter out INFO, 2 = filter out INFO and WARNING, 3 = ERROR only\n",
        "\n"
      ],
      "execution_count": 3
    },
    {
      "cell_type": "code",
      "metadata": {
        "colab": {
          "base_uri": "https://localhost:8080/"
        },
        "id": "bd6e5e26-4bb6-4490-993c-2839573f9107",
        "outputId": "81990d8a-b979-468f-cd5f-97af73ed4864"
      },
      "outputs": [
        {
          "output_type": "stream",
          "name": "stdout",
          "text": [
            "Requirement already satisfied: scikit-learn in /usr/local/lib/python3.11/dist-packages (1.6.1)\n",
            "Requirement already satisfied: numpy>=1.19.5 in /usr/local/lib/python3.11/dist-packages (from scikit-learn) (1.26.4)\n",
            "Requirement already satisfied: scipy>=1.6.0 in /usr/local/lib/python3.11/dist-packages (from scikit-learn) (1.15.3)\n",
            "Requirement already satisfied: joblib>=1.2.0 in /usr/local/lib/python3.11/dist-packages (from scikit-learn) (1.5.1)\n",
            "Requirement already satisfied: threadpoolctl>=3.1.0 in /usr/local/lib/python3.11/dist-packages (from scikit-learn) (3.6.0)\n",
            "Downloading data from https://storage.googleapis.com/tensorflow/tf-keras-datasets/mnist.npz\n",
            "\u001b[1m11490434/11490434\u001b[0m \u001b[32m━━━━━━━━━━━━━━━━━━━━\u001b[0m\u001b[37m\u001b[0m \u001b[1m0s\u001b[0m 0us/step\n"
          ]
        }
      ],
      "source": [
        "!pip install scikit-learn\n",
        "from tensorflow import keras\n",
        "from sklearn.model_selection import train_test_split\n",
        "\n",
        "# Load the MNIST dataset\n",
        "(x_all, y_all), _ = keras.datasets.mnist.load_data()\n",
        "\n",
        "# Flatten and normalize the images\n",
        "x_all = x_all.reshape((x_all.shape[0], -1)).astype(\"float32\") / 255.0\n",
        "\n",
        "# Split into train+val and test (80/20)\n",
        "x_temp, x_test, y_temp, y_test = train_test_split(x_all, y_all, test_size=0.2, random_state=42)\n",
        "\n",
        "# Split train+val into train and validation (75/25 of 80% = 60/20 overall)\n",
        "x_train, x_val, y_train, y_val = train_test_split(x_temp, y_temp, test_size=0.25, random_state=42)"
      ],
      "execution_count": 4
    },
    {
      "cell_type": "markdown",
      "metadata": {
        "id": "e12b4701-7df6-4232-a99d-01cd2b836016"
      },
      "source": [
        "#### Explanation\n",
        "\n",
        "This code imports the necessary libraries:\n",
        "\n",
        "- **`keras_tuner`**: Used for hyperparameter tuning.\n",
        "- **`Sequential`**: A linear stack of layers in Keras.\n",
        "- **`Dense`**, **`Flatten`**: Common Keras layers.\n",
        "- **`mnist`**: The MNIST dataset, a standard dataset for image classification.\n",
        "- **`Adam`**: An optimizer in Keras.\n"
      ]
    },
    {
      "cell_type": "code",
      "metadata": {
        "colab": {
          "base_uri": "https://localhost:8080/"
        },
        "id": "c8b2d6e0-607d-4654-8fc2-ebaa2e29cfb6",
        "outputId": "896f5470-2c47-4234-8ec9-88ff9ddf8b3e"
      },
      "outputs": [
        {
          "output_type": "stream",
          "name": "stdout",
          "text": [
            "Training data shape: (60000, 28, 28)\n",
            "Validation data shape: (10000, 28, 28)\n"
          ]
        }
      ],
      "source": [
        "\n",
        "# Step 3: Load and preprocess the MNIST dataset\n",
        "(x_train, y_train), (x_val, y_val) = mnist.load_data()\n",
        "x_train, x_val = x_train / 255.0, x_val / 255.0\n",
        "\n",
        "print(f'Training data shape: {x_train.shape}')\n",
        "print(f'Validation data shape: {x_val.shape}')"
      ],
      "execution_count": 5
    },
    {
      "cell_type": "markdown",
      "metadata": {
        "id": "afccd39a-c6a0-4e0b-8e6d-426a3d2e5c33"
      },
      "source": [
        "#### Explanation\n",
        "\n",
        "This code loads the MNIST dataset and preprocesses it:\n",
        "\n",
        "- **`mnist.load_data()`**: Loads the dataset, returning training and validation splits.\n",
        "- **`x_train / 255.0`**: Normalizes the pixel values to be between 0 and 1.\n",
        "- **`print(f'...')`**: Displays the shapes of the training and validation datasets.\n"
      ]
    },
    {
      "cell_type": "markdown",
      "metadata": {
        "id": "eb863c30-436f-4f40-a073-34914d09cd00"
      },
      "source": [
        "### Exercise 2: Defining the model with hyperparameters\n",
        "\n",
        "In this exercise, you define a model-building function that uses the `HyperParameters` object to specify the number of units in a dense layer and the learning rate. This function returns a compiled Keras model that is ready for hyperparameter tuning.\n",
        "\n",
        "**Define a model-building function:**\n",
        "- Create a function `build_model` that takes a `HyperParameters` object as input.\n",
        "- Use the `HyperParameters` object to define the number of units in a dense layer and the learning rate for the optimizer.\n",
        "- Compile the model with sparse categorical cross-entropy loss and Adam optimizer.\n"
      ]
    },
    {
      "cell_type": "code",
      "metadata": {
        "id": "d10483f1-8b0a-4aef-9f73-ef6826a1dc38"
      },
      "outputs": [],
      "source": [
        "# Define a model-building function\n",
        "\n",
        "def build_model(hp):\n",
        "    model = Sequential([\n",
        "        Flatten(input_shape=(28, 28)),\n",
        "        Dense(units=hp.Int('units', min_value=32, max_value=512, step=32), activation='relu'),\n",
        "        Dense(10, activation='softmax')\n",
        "    ])\n",
        "\n",
        "    model.compile(\n",
        "        optimizer=Adam(learning_rate=hp.Float('learning_rate', min_value=1e-4, max_value=1e-2, sampling='LOG')),\n",
        "        loss='sparse_categorical_crossentropy',\n",
        "        metrics=['accuracy']\n",
        "    )\n",
        "\n",
        "    return model\n"
      ],
      "execution_count": 6
    },
    {
      "cell_type": "markdown",
      "metadata": {
        "id": "ce4bf167-cd96-487e-8b36-1e7e376e5785"
      },
      "source": [
        "#### Explanation\n",
        "\n",
        "This function builds and compiles a Keras model with hyperparameters:\n",
        "\n",
        "- **`hp.Int('units', ...)`**: Defines the number of units in the Dense layer as a hyperparameter.\n",
        "- **`hp.Float('learning_rate', ...)`**: Defines the learning rate as a hyperparameter.\n",
        "- **`model.compile()`**: Compiles the model with the Adam optimizer and sparse categorical cross-entropy loss.\n"
      ]
    },
    {
      "cell_type": "markdown",
      "metadata": {
        "id": "e4fad9b1-0f80-45b3-88d7-ec6ca7c40496"
      },
      "source": [
        "### Exercise 3: Configuring the hyperparameter search\n",
        "\n",
        "This exercise guides you through configuring Keras Tuner. You create a `RandomSearch` tuner, specifying the model-building function, the optimization objective, the number of trials, and the directory for storing results. The search space summary provides an overview of the hyperparameters being tuned.\n",
        "\n",
        "**Create a RandomSearch Tuner:**\n",
        "- Use the `RandomSearch` class from Keras Tuner.\n",
        "- Specify the model-building function, optimization objective (validation accuracy), number of trials, and directory for storing results.\n"
      ]
    },
    {
      "cell_type": "code",
      "metadata": {
        "colab": {
          "base_uri": "https://localhost:8080/"
        },
        "id": "a51ce74a-09be-4efa-b96a-c41f7cc5182e",
        "outputId": "c95d0d63-1a9a-48a1-ba0d-f1508f296c90"
      },
      "outputs": [
        {
          "output_type": "stream",
          "name": "stdout",
          "text": [
            "Search space summary\n",
            "Default search space size: 2\n",
            "units (Int)\n",
            "{'default': None, 'conditions': [], 'min_value': 32, 'max_value': 512, 'step': 32, 'sampling': 'linear'}\n",
            "learning_rate (Float)\n",
            "{'default': 0.0001, 'conditions': [], 'min_value': 0.0001, 'max_value': 0.01, 'step': None, 'sampling': 'log'}\n"
          ]
        }
      ],
      "source": [
        "# Create a RandomSearch Tuner\n",
        "\n",
        "tuner = kt.RandomSearch(\n",
        "    build_model,\n",
        "    objective='val_accuracy',\n",
        "    max_trials=10,\n",
        "    executions_per_trial=2,\n",
        "    directory='my_dir',\n",
        "    project_name='intro_to_kt'\n",
        ")\n",
        "\n",
        "# Display a summary of the search space\n",
        "tuner.search_space_summary()"
      ],
      "execution_count": 7
    },
    {
      "cell_type": "markdown",
      "metadata": {
        "id": "9828a7aa-e492-489e-b2e4-c74ffb4a51ab"
      },
      "source": [
        "#### Explanation\n",
        "\n",
        "This code sets up a Keras Tuner `RandomSearch`:\n",
        "\n",
        "- **`build_model`**: The model-building function.\n",
        "- **`objective='val_accuracy'`**: The metric to optimize (validation accuracy).\n",
        "- **`max_trials=10`**: The maximum number of different hyperparameter configurations to try.\n",
        "- **`executions_per_trial=2`**: The number of times to run each configuration.\n",
        "- **`directory='my_dir'`**: Directory to save the results.\n",
        "- **`project_name='intro_to_kt'`**: Name of the project for organizing results.\n",
        "\n",
        "Displays a summary of the hyperparameter search space, providing an overview of the hyperparameters being tuned.\n",
        "\n"
      ]
    },
    {
      "cell_type": "markdown",
      "metadata": {
        "id": "f874963e-4716-415d-8801-9e22e3fb7ccd"
      },
      "source": [
        "### Exercise 4: Running the hyperparameter search\n",
        "\n",
        "In this exercise, you run the hyperparameter search using the `search` method of the tuner. You provide the training and validation data along with the number of epochs. After the search is complete, the results summary displays the best hyperparameter configurations found.\n",
        "\n",
        "**Run the search:**\n",
        "- Use the `search` method of the tuner.\n",
        "- Pass in the training data, validation data, and the number of epochs\n"
      ]
    },
    {
      "cell_type": "code",
      "metadata": {
        "colab": {
          "base_uri": "https://localhost:8080/"
        },
        "id": "4f66c076-79ba-4b6b-87ab-99b6b258e33e",
        "outputId": "5c4f05dd-7d65-4ee1-910e-453bbf88511d"
      },
      "outputs": [
        {
          "output_type": "stream",
          "name": "stdout",
          "text": [
            "Trial 3 Complete [00h 01m 46s]\n",
            "val_accuracy: 0.9791000187397003\n",
            "\n",
            "Best val_accuracy So Far: 0.9791000187397003\n",
            "Total elapsed time: 00h 05m 06s\n",
            "\n",
            "Search: Running Trial #4\n",
            "\n",
            "Value             |Best Value So Far |Hyperparameter\n",
            "96                |384               |units\n",
            "0.0018548         |0.00042879        |learning_rate\n",
            "\n",
            "Epoch 1/5\n",
            "\u001b[1m1875/1875\u001b[0m \u001b[32m━━━━━━━━━━━━━━━━━━━━\u001b[0m\u001b[37m\u001b[0m \u001b[1m7s\u001b[0m 3ms/step - accuracy: 0.8853 - loss: 0.3857 - val_accuracy: 0.9632 - val_loss: 0.1269\n",
            "Epoch 2/5\n",
            "\u001b[1m1875/1875\u001b[0m \u001b[32m━━━━━━━━━━━━━━━━━━━━\u001b[0m\u001b[37m\u001b[0m \u001b[1m5s\u001b[0m 3ms/step - accuracy: 0.9657 - loss: 0.1097 - val_accuracy: 0.9686 - val_loss: 0.1003\n",
            "Epoch 3/5\n",
            "\u001b[1m1875/1875\u001b[0m \u001b[32m━━━━━━━━━━━━━━━━━━━━\u001b[0m\u001b[37m\u001b[0m \u001b[1m6s\u001b[0m 3ms/step - accuracy: 0.9768 - loss: 0.0738 - val_accuracy: 0.9677 - val_loss: 0.1062\n",
            "Epoch 4/5\n",
            "\u001b[1m1875/1875\u001b[0m \u001b[32m━━━━━━━━━━━━━━━━━━━━\u001b[0m\u001b[37m\u001b[0m \u001b[1m9s\u001b[0m 3ms/step - accuracy: 0.9838 - loss: 0.0504 - val_accuracy: 0.9740 - val_loss: 0.0874\n",
            "Epoch 5/5\n",
            "\u001b[1m1875/1875\u001b[0m \u001b[32m━━━━━━━━━━━━━━━━━━━━\u001b[0m\u001b[37m\u001b[0m \u001b[1m5s\u001b[0m 3ms/step - accuracy: 0.9866 - loss: 0.0408 - val_accuracy: 0.9726 - val_loss: 0.1016\n",
            "Epoch 1/5\n",
            "\u001b[1m 865/1875\u001b[0m \u001b[32m━━━━━━━━━\u001b[0m\u001b[37m━━━━━━━━━━━\u001b[0m \u001b[1m3s\u001b[0m 3ms/step - accuracy: 0.8484 - loss: 0.5149"
          ]
        }
      ],
      "source": [
        "# Run the hyperparameter search\n",
        "tuner.search(x_train, y_train, epochs=5, validation_data=(x_val, y_val))\n",
        "\n",
        "# Display a summary of the results\n",
        "tuner.results_summary()"
      ],
      "execution_count": null
    },
    {
      "cell_type": "markdown",
      "metadata": {
        "id": "bede143e-8910-4ed9-9c57-f2d0909b4d1a"
      },
      "source": [
        "#### Explanation\n",
        "\n",
        "This command runs the hyperparameter search:\n",
        "\n",
        "- **`epochs=5`**: Each trial is trained for 5 epochs.\n",
        "- **`validation_data=(x_val, y_val)`**: The validation data to evaluate the model's performance during the search.\n",
        "\n",
        "After the search is complete, this command displays a summary of the best hyperparameter configurations found during the search.\n"
      ]
    },
    {
      "cell_type": "markdown",
      "metadata": {
        "id": "85a5b1c3-2c01-475f-a514-759b77f789f3"
      },
      "source": [
        "## Exercise 5: Analyzing and using the best hyperparameters\n",
        "\n",
        "In this exercise, you retrieve the best hyperparameters found during the search and print their values. You then build a model with these optimized hyperparameters and train it on the full training data set. Finally, you evaluate the model’s performance on the test set to ensure that it performs well with the selected hyperparameters.\n",
        "\n",
        "**Retrieve the best hyperparameters:**\n",
        "- Use the `get_best_hyperparameters` method to get the best hyperparameters.\n",
        "- Print the optimal values for the hyperparameters.\n",
        "\n",
        "**Build and train the model:**\n",
        "- Build a model using the best hyperparameters.\n",
        "- Train the model on the full training data set and evaluate its performance on the test set.\n"
      ]
    },
    {
      "cell_type": "code",
      "metadata": {
        "colab": {
          "base_uri": "https://localhost:8080/"
        },
        "id": "7124821a-7f60-4dca-96f2-754f146d4148",
        "outputId": "5b6d1ba6-7371-48a2-82e1-183204f94fe9"
      },
      "outputs": [
        {
          "output_type": "stream",
          "name": "stdout",
          "text": [
            " \n",
            "\n",
            "The optimal number of units in the first dense layer is 384. \n",
            "\n",
            "The optimal learning rate for the optimizer is 0.00042879400123408047. \n",
            "\n",
            "\n",
            "Epoch 1/10\n",
            "\u001b[1m1500/1500\u001b[0m \u001b[32m━━━━━━━━━━━━━━━━━━━━\u001b[0m\u001b[37m\u001b[0m \u001b[1m15s\u001b[0m 9ms/step - accuracy: 0.8615 - loss: 0.5053 - val_accuracy: 0.9532 - val_loss: 0.1620\n",
            "Epoch 2/10\n",
            "\u001b[1m1500/1500\u001b[0m \u001b[32m━━━━━━━━━━━━━━━━━━━━\u001b[0m\u001b[37m\u001b[0m \u001b[1m8s\u001b[0m 5ms/step - accuracy: 0.9586 - loss: 0.1430 - val_accuracy: 0.9668 - val_loss: 0.1173\n",
            "Epoch 3/10\n",
            "\u001b[1m1500/1500\u001b[0m \u001b[32m━━━━━━━━━━━━━━━━━━━━\u001b[0m\u001b[37m\u001b[0m \u001b[1m10s\u001b[0m 5ms/step - accuracy: 0.9725 - loss: 0.0963 - val_accuracy: 0.9701 - val_loss: 0.0992\n",
            "Epoch 4/10\n",
            "\u001b[1m1500/1500\u001b[0m \u001b[32m━━━━━━━━━━━━━━━━━━━━\u001b[0m\u001b[37m\u001b[0m \u001b[1m12s\u001b[0m 7ms/step - accuracy: 0.9809 - loss: 0.0663 - val_accuracy: 0.9743 - val_loss: 0.0872\n",
            "Epoch 5/10\n",
            "\u001b[1m1500/1500\u001b[0m \u001b[32m━━━━━━━━━━━━━━━━━━━━\u001b[0m\u001b[37m\u001b[0m \u001b[1m10s\u001b[0m 6ms/step - accuracy: 0.9874 - loss: 0.0453 - val_accuracy: 0.9727 - val_loss: 0.0899\n",
            "Epoch 6/10\n",
            "\u001b[1m1500/1500\u001b[0m \u001b[32m━━━━━━━━━━━━━━━━━━━━\u001b[0m\u001b[37m\u001b[0m \u001b[1m10s\u001b[0m 7ms/step - accuracy: 0.9905 - loss: 0.0362 - val_accuracy: 0.9772 - val_loss: 0.0785\n",
            "Epoch 7/10\n",
            "\u001b[1m1500/1500\u001b[0m \u001b[32m━━━━━━━━━━━━━━━━━━━━\u001b[0m\u001b[37m\u001b[0m \u001b[1m9s\u001b[0m 6ms/step - accuracy: 0.9940 - loss: 0.0249 - val_accuracy: 0.9777 - val_loss: 0.0744\n",
            "Epoch 8/10\n",
            "\u001b[1m1500/1500\u001b[0m \u001b[32m━━━━━━━━━━━━━━━━━━━━\u001b[0m\u001b[37m\u001b[0m \u001b[1m9s\u001b[0m 6ms/step - accuracy: 0.9950 - loss: 0.0201 - val_accuracy: 0.9787 - val_loss: 0.0775\n",
            "Epoch 9/10\n",
            "\u001b[1m1500/1500\u001b[0m \u001b[32m━━━━━━━━━━━━━━━━━━━━\u001b[0m\u001b[37m\u001b[0m \u001b[1m11s\u001b[0m 6ms/step - accuracy: 0.9971 - loss: 0.0141 - val_accuracy: 0.9786 - val_loss: 0.0737\n",
            "Epoch 10/10\n",
            "\u001b[1m1500/1500\u001b[0m \u001b[32m━━━━━━━━━━━━━━━━━━━━\u001b[0m\u001b[37m\u001b[0m \u001b[1m10s\u001b[0m 6ms/step - accuracy: 0.9979 - loss: 0.0117 - val_accuracy: 0.9787 - val_loss: 0.0765\n",
            "\u001b[1m313/313\u001b[0m \u001b[32m━━━━━━━━━━━━━━━━━━━━\u001b[0m\u001b[37m\u001b[0m \u001b[1m1s\u001b[0m 2ms/step - accuracy: 0.9778 - loss: 0.0780\n",
            "Test accuracy: 0.9807999730110168\n"
          ]
        }
      ],
      "source": [
        "# Step 1: Retrieve the best hyperparameters\n",
        "\n",
        "best_hps = tuner.get_best_hyperparameters(num_trials=1)[0]\n",
        "print(f\"\"\"\n",
        "\n",
        "The optimal number of units in the first dense layer is {best_hps.get('units')}.\n",
        "\n",
        "The optimal learning rate for the optimizer is {best_hps.get('learning_rate')}.\n",
        "\n",
        "\"\"\")\n",
        "\n",
        "# Step 2: Build and Train the Model with Best Hyperparameters\n",
        "model = tuner.hypermodel.build(best_hps)\n",
        "model.fit(x_train, y_train, epochs=10, validation_split=0.2)\n",
        "\n",
        "# Evaluate the model on the test set\n",
        "test_loss, test_acc = model.evaluate(x_val, y_val)\n",
        "print(f'Test accuracy: {test_acc}')"
      ],
      "execution_count": 9
    },
    {
      "cell_type": "markdown",
      "metadata": {
        "id": "e2140dd6-5f9c-4265-a704-cb8a483cf486"
      },
      "source": [
        "#### Explanation\n",
        "\n",
        "This code retrieves the best hyperparameters found during the search:\n",
        "\n",
        "- **`get_best_hyperparameters(num_trials=1)`**: Gets the best hyperparameter configuration.\n",
        "- **`print(f\"...\")`**: Prints the best hyperparameters.\n",
        "- **`model.fit(...)`**: Trains the model on the full training data with a validation split of 20%.\n",
        "- **`model.evaluate(...)`**: Evaluates the model on the test (validation) dataset and prints the accuracy, which gives an indication of how well the model generalizes.\n"
      ]
    },
    {
      "cell_type": "markdown",
      "metadata": {
        "id": "c6569e85-7b85-44ae-9772-3f551550cc05"
      },
      "source": [
        "## Practice exercises\n",
        "\n",
        "### Exercise 1: Setting Up Keras Tuner\n",
        "\n",
        "#### Objective:\n",
        "Learn how to set up Keras Tuner and prepare the environment for hyperparameter tuning.\n",
        "\n",
        "#### Instructions:\n",
        "1. Install Keras Tuner.\n",
        "2. Import necessary libraries.\n",
        "3. Load and preprocess the MNIST data set.\n"
      ]
    },
    {
      "cell_type": "code",
      "metadata": {
        "colab": {
          "base_uri": "https://localhost:8080/"
        },
        "id": "45ffabf1-adbc-4655-b6b4-5d69c1e3b504",
        "outputId": "b45c4ef6-d5ca-422f-bf23-43abf68dec9c"
      },
      "outputs": [
        {
          "output_type": "stream",
          "name": "stdout",
          "text": [
            "Requirement already satisfied: keras-tuner in /usr/local/lib/python3.11/dist-packages (1.4.7)\n",
            "Requirement already satisfied: keras in /usr/local/lib/python3.11/dist-packages (from keras-tuner) (3.8.0)\n",
            "Requirement already satisfied: packaging in /usr/local/lib/python3.11/dist-packages (from keras-tuner) (24.2)\n",
            "Requirement already satisfied: requests in /usr/local/lib/python3.11/dist-packages (from keras-tuner) (2.32.3)\n",
            "Requirement already satisfied: kt-legacy in /usr/local/lib/python3.11/dist-packages (from keras-tuner) (1.0.5)\n",
            "Requirement already satisfied: absl-py in /usr/local/lib/python3.11/dist-packages (from keras->keras-tuner) (1.4.0)\n",
            "Requirement already satisfied: numpy in /usr/local/lib/python3.11/dist-packages (from keras->keras-tuner) (1.26.4)\n",
            "Requirement already satisfied: rich in /usr/local/lib/python3.11/dist-packages (from keras->keras-tuner) (13.9.4)\n",
            "Requirement already satisfied: namex in /usr/local/lib/python3.11/dist-packages (from keras->keras-tuner) (0.1.0)\n",
            "Requirement already satisfied: h5py in /usr/local/lib/python3.11/dist-packages (from keras->keras-tuner) (3.14.0)\n",
            "Requirement already satisfied: optree in /usr/local/lib/python3.11/dist-packages (from keras->keras-tuner) (0.16.0)\n",
            "Requirement already satisfied: ml-dtypes in /usr/local/lib/python3.11/dist-packages (from keras->keras-tuner) (0.3.2)\n",
            "Requirement already satisfied: charset-normalizer<4,>=2 in /usr/local/lib/python3.11/dist-packages (from requests->keras-tuner) (3.4.2)\n",
            "Requirement already satisfied: idna<4,>=2.5 in /usr/local/lib/python3.11/dist-packages (from requests->keras-tuner) (3.10)\n",
            "Requirement already satisfied: urllib3<3,>=1.21.1 in /usr/local/lib/python3.11/dist-packages (from requests->keras-tuner) (2.4.0)\n",
            "Requirement already satisfied: certifi>=2017.4.17 in /usr/local/lib/python3.11/dist-packages (from requests->keras-tuner) (2025.6.15)\n",
            "Requirement already satisfied: typing-extensions>=4.6.0 in /usr/local/lib/python3.11/dist-packages (from optree->keras->keras-tuner) (4.14.0)\n",
            "Requirement already satisfied: markdown-it-py>=2.2.0 in /usr/local/lib/python3.11/dist-packages (from rich->keras->keras-tuner) (3.0.0)\n",
            "Requirement already satisfied: pygments<3.0.0,>=2.13.0 in /usr/local/lib/python3.11/dist-packages (from rich->keras->keras-tuner) (2.19.2)\n",
            "Requirement already satisfied: mdurl~=0.1 in /usr/local/lib/python3.11/dist-packages (from markdown-it-py>=2.2.0->rich->keras->keras-tuner) (0.1.2)\n",
            "Training data shape: (60000, 28, 28)\n",
            "Validation data shape: (10000, 28, 28)\n"
          ]
        }
      ],
      "source": [
        "# Write your code here\n",
        "!pip install keras-tuner\n",
        "\n",
        "# Step 2: Import necessary libraries\n",
        "import keras_tuner as kt\n",
        "from tensorflow.keras.models import Sequential\n",
        "from tensorflow.keras.layers import Dense, Flatten\n",
        "from tensorflow.keras.datasets import mnist\n",
        "from tensorflow.keras.optimizers import Adam\n",
        "\n",
        "# Step 3: Load and preprocess the MNIST data set\n",
        "(x_train, y_train), (x_val, y_val) = mnist.load_data()\n",
        "x_train, x_val = x_train / 255.0, x_val / 255.0\n",
        "\n",
        "# Print the shapes of the training and validation datasets\n",
        "print(f'Training data shape: {x_train.shape}')\n",
        "print(f'Validation data shape: {x_val.shape}')"
      ],
      "execution_count": 10
    },
    {
      "cell_type": "markdown",
      "metadata": {
        "id": "ae5c2e62-43fa-4c44-a052-a6572cbd9e20"
      },
      "source": [
        "<details>\n",
        "    <summary>Click here for Solution</summary>\n",
        "\n",
        "```python\n",
        "!pip install keras-tuner\n",
        "\n",
        "# Step 2: Import necessary libraries\n",
        "import keras_tuner as kt\n",
        "from tensorflow.keras.models import Sequential\n",
        "from tensorflow.keras.layers import Dense, Flatten\n",
        "from tensorflow.keras.datasets import mnist\n",
        "from tensorflow.keras.optimizers import Adam\n",
        "\n",
        "# Step 3: Load and preprocess the MNIST data set\n",
        "(x_train, y_train), (x_val, y_val) = mnist.load_data()\n",
        "x_train, x_val = x_train / 255.0, x_val / 255.0\n",
        "\n",
        "# Print the shapes of the training and validation datasets\n",
        "print(f'Training data shape: {x_train.shape}')\n",
        "print(f'Validation data shape: {x_val.shape}')\n",
        "```\n",
        "\n",
        "</details>\n"
      ]
    },
    {
      "cell_type": "markdown",
      "metadata": {
        "id": "fd7f458c-7c1c-4660-899c-fcfd02ee92fa"
      },
      "source": [
        "### Exercise 2: Defining the model with hyperparameters\n",
        "\n",
        "#### Objective:\n",
        "Define a model-building function that uses hyperparameters to configure the model architecture.\n",
        "\n",
        "#### Instructions:\n",
        "1. Define a model-building function that uses the `HyperParameters` object to specify the number of units in a dense layer and the learning rate.\n",
        "2. Compile the model with sparse categorical cross-entropy loss and Adam optimizer.\n"
      ]
    },
    {
      "cell_type": "code",
      "metadata": {
        "id": "b478a7ce-ff4c-4aaf-a360-0e91cab1e0c1"
      },
      "outputs": [],
      "source": [
        "# Write your code here\n",
        "from tensorflow.keras.models import Sequential\n",
        "from tensorflow.keras.layers import Dense, Flatten\n",
        "from tensorflow.keras.optimizers import Adam\n",
        "import keras_tuner as kt\n",
        "\n",
        "# Step 1: Define a model-building function\n",
        "def build_model(hp):\n",
        "    model = Sequential([\n",
        "        Flatten(input_shape=(28, 28)),\n",
        "        Dense(units=hp.Int('units', min_value=32, max_value=512, step=32), activation='relu'),\n",
        "        Dense(10, activation='softmax')\n",
        "    ])\n",
        "\n",
        "    model.compile(\n",
        "        optimizer=Adam(learning_rate=hp.Float('learning_rate', min_value=1e-4, max_value=1e-2, sampling='LOG')),\n",
        "        loss='sparse_categorical_crossentropy',\n",
        "        metrics=['accuracy']\n",
        "    )\n",
        "\n",
        "    return model"
      ],
      "execution_count": 11
    },
    {
      "cell_type": "markdown",
      "metadata": {
        "id": "b5410b94-246c-4c25-b9ee-b5f3c0a7ce1d"
      },
      "source": [
        "<details>\n",
        "    <summary>Click here for Solution</summary>\n",
        "\n",
        "```python\n",
        "from tensorflow.keras.models import Sequential\n",
        "from tensorflow.keras.layers import Dense, Flatten\n",
        "from tensorflow.keras.optimizers import Adam\n",
        "import keras_tuner as kt\n",
        "\n",
        "# Step 1: Define a model-building function\n",
        "def build_model(hp):\n",
        "    model = Sequential([\n",
        "        Flatten(input_shape=(28, 28)),\n",
        "        Dense(units=hp.Int('units', min_value=32, max_value=512, step=32), activation='relu'),\n",
        "        Dense(10, activation='softmax')\n",
        "    ])\n",
        "\n",
        "    model.compile(\n",
        "        optimizer=Adam(learning_rate=hp.Float('learning_rate', min_value=1e-4, max_value=1e-2, sampling='LOG')),\n",
        "        loss='sparse_categorical_crossentropy',\n",
        "        metrics=['accuracy']\n",
        "    )\n",
        "    \n",
        "    return model\n",
        "```\n",
        "\n",
        "</details>\n"
      ]
    },
    {
      "cell_type": "markdown",
      "metadata": {
        "id": "6275473d-9012-4d64-a4d7-64a301904516"
      },
      "source": [
        "### Exercise 3: Configuring the hyperparameter search\n",
        "\n",
        "#### Objective:\n",
        "Set up Keras Tuner to search for the best hyperparameter configuration.\n",
        "\n",
        "#### Instructions:\n",
        "1. Create a `RandomSearch` tuner using the model-building function.\n",
        "2. Specify the optimization objective, number of trials, and directory for storing results.\n"
      ]
    },
    {
      "cell_type": "code",
      "metadata": {
        "colab": {
          "base_uri": "https://localhost:8080/"
        },
        "id": "e381f159-cf43-47a0-bd5e-42cd79232af5",
        "outputId": "8c5c91d3-e907-4ae2-d825-456de6de96b0"
      },
      "outputs": [
        {
          "output_type": "stream",
          "name": "stdout",
          "text": [
            "Reloading Tuner from my_dir/intro_to_kt/tuner0.json\n",
            "Search space summary\n",
            "Default search space size: 2\n",
            "units (Int)\n",
            "{'default': None, 'conditions': [], 'min_value': 32, 'max_value': 512, 'step': 32, 'sampling': 'linear'}\n",
            "learning_rate (Float)\n",
            "{'default': 0.0001, 'conditions': [], 'min_value': 0.0001, 'max_value': 0.01, 'step': None, 'sampling': 'log'}\n"
          ]
        }
      ],
      "source": [
        "# Write your code here\n",
        "import keras_tuner as kt\n",
        "\n",
        "# Step 1: Create a RandomSearch Tuner\n",
        "tuner = kt.RandomSearch(\n",
        "    build_model,  # Ensure 'build_model' function is defined from previous code\n",
        "    objective='val_accuracy',\n",
        "    max_trials=10,\n",
        "    executions_per_trial=2,\n",
        "    directory='my_dir',\n",
        "    project_name='intro_to_kt'\n",
        ")\n",
        "\n",
        "# Display a summary of the search space\n",
        "tuner.search_space_summary()"
      ],
      "execution_count": 12
    },
    {
      "cell_type": "markdown",
      "metadata": {
        "id": "76e241d0-ee32-4e97-837d-35f54a82d5cd"
      },
      "source": [
        "<details>\n",
        "    <summary>Click here for Solution</summary>\n",
        "\n",
        "```python\n",
        "import keras_tuner as kt\n",
        "\n",
        "# Step 1: Create a RandomSearch Tuner\n",
        "tuner = kt.RandomSearch(\n",
        "    build_model,  # Ensure 'build_model' function is defined from previous code\n",
        "    objective='val_accuracy',\n",
        "    max_trials=10,\n",
        "    executions_per_trial=2,\n",
        "    directory='my_dir',\n",
        "    project_name='intro_to_kt'\n",
        ")\n",
        "\n",
        "# Display a summary of the search space\n",
        "tuner.search_space_summary()\n",
        "```\n",
        "\n",
        "</details>\n"
      ]
    },
    {
      "cell_type": "markdown",
      "metadata": {
        "id": "9a3e0817-3ab3-4840-b0cd-83ba25170e66"
      },
      "source": [
        "### Exercise 4: Running the hyperparameter search\n",
        "\n",
        "#### Objective:\n",
        "Run the hyperparameter search and dispaly the summary of the results.\n",
        "\n",
        "#### Instructions:\n",
        "1. Run the hyperparameter search using the `search` method of the tuner.\n",
        "2. Pass in the training data, validation data, and the number of epochs.\n",
        "3. Display a summary of the results.\n"
      ]
    },
    {
      "cell_type": "code",
      "metadata": {
        "colab": {
          "base_uri": "https://localhost:8080/"
        },
        "id": "5bd2184b-56e0-4f10-8eab-18e0d151f83e",
        "outputId": "ef082eea-57aa-4463-f59e-44c2b4492c10"
      },
      "outputs": [
        {
          "output_type": "stream",
          "name": "stdout",
          "text": [
            "Results summary\n",
            "Results in my_dir/intro_to_kt\n",
            "Showing 10 best trials\n",
            "Objective(name=\"val_accuracy\", direction=\"max\")\n",
            "\n",
            "Trial 02 summary\n",
            "Hyperparameters:\n",
            "units: 384\n",
            "learning_rate: 0.00042879400123408047\n",
            "Score: 0.9791000187397003\n",
            "\n",
            "Trial 05 summary\n",
            "Hyperparameters:\n",
            "units: 320\n",
            "learning_rate: 0.0004715905554018508\n",
            "Score: 0.9787499904632568\n",
            "\n",
            "Trial 06 summary\n",
            "Hyperparameters:\n",
            "units: 384\n",
            "learning_rate: 0.00038022063079588576\n",
            "Score: 0.9786500036716461\n",
            "\n",
            "Trial 00 summary\n",
            "Hyperparameters:\n",
            "units: 320\n",
            "learning_rate: 0.0003996653654975816\n",
            "Score: 0.9778999984264374\n",
            "\n",
            "Trial 04 summary\n",
            "Hyperparameters:\n",
            "units: 224\n",
            "learning_rate: 0.000341287926624841\n",
            "Score: 0.9761500060558319\n",
            "\n",
            "Trial 03 summary\n",
            "Hyperparameters:\n",
            "units: 96\n",
            "learning_rate: 0.0018548065881481112\n",
            "Score: 0.9748499989509583\n",
            "\n",
            "Trial 08 summary\n",
            "Hyperparameters:\n",
            "units: 64\n",
            "learning_rate: 0.001423015903577145\n",
            "Score: 0.9736000001430511\n",
            "\n",
            "Trial 07 summary\n",
            "Hyperparameters:\n",
            "units: 352\n",
            "learning_rate: 0.004337380941415229\n",
            "Score: 0.97325000166893\n",
            "\n",
            "Trial 09 summary\n",
            "Hyperparameters:\n",
            "units: 128\n",
            "learning_rate: 0.007538484149179979\n",
            "Score: 0.9657000005245209\n",
            "\n",
            "Trial 01 summary\n",
            "Hyperparameters:\n",
            "units: 224\n",
            "learning_rate: 0.00013362203429226978\n",
            "Score: 0.9646500051021576\n"
          ]
        }
      ],
      "source": [
        "# Write your code here\n",
        "# Step 1: Run the hyperparameter search\n",
        "\n",
        "tuner.search(x_train, y_train, epochs=5, validation_data=(x_val, y_val))\n",
        "\n",
        " # Display a summary of the results\n",
        "\n",
        "tuner.results_summary()"
      ],
      "execution_count": 13
    },
    {
      "cell_type": "markdown",
      "metadata": {
        "id": "c90edacc-d082-4598-93e6-af16f5fc4fa2"
      },
      "source": [
        "<details>\n",
        "    <summary>Click here for Solution</summary>\n",
        "\n",
        "```python\n",
        "# Step 1: Run the hyperparameter search\n",
        "\n",
        "tuner.search(x_train, y_train, epochs=5, validation_data=(x_val, y_val))\n",
        "\n",
        " # Display a summary of the results\n",
        "\n",
        "tuner.results_summary()\n",
        "```\n",
        "\n",
        "</details>\n"
      ]
    },
    {
      "cell_type": "markdown",
      "metadata": {
        "id": "e4d307e7-3765-4920-a1e1-2cf9b1f38965"
      },
      "source": [
        "### Exercise 5: Analyzing and using the best hyperparameters\n",
        "\n",
        "#### Objective:\n",
        "Retrieve the best hyperparameters from the search and build a model with these optimized values.\n",
        "\n",
        "#### Instructions:\n",
        "1. Retrieve the best hyperparameters using the `get_best_hyperparameters` method.\n",
        "2. Build a model using the best hyperparameters.\n",
        "3. Train the model on the full training data set and evaluate its performance on the validation set.\n"
      ]
    },
    {
      "cell_type": "code",
      "metadata": {
        "colab": {
          "base_uri": "https://localhost:8080/"
        },
        "id": "5b2f74ec-6bab-4ece-b88b-185ba46a4e9b",
        "outputId": "ce6f3729-bee4-43ec-812b-d376aa5e17e0"
      },
      "outputs": [
        {
          "output_type": "stream",
          "name": "stdout",
          "text": [
            " \n",
            "\n",
            "The optimal number of units in the first dense layer is 384. \n",
            "\n",
            "The optimal learning rate for the optimizer is 0.00042879400123408047. \n",
            "\n",
            "\n",
            "Epoch 1/10\n",
            "\u001b[1m1500/1500\u001b[0m \u001b[32m━━━━━━━━━━━━━━━━━━━━\u001b[0m\u001b[37m\u001b[0m \u001b[1m9s\u001b[0m 6ms/step - accuracy: 0.8615 - loss: 0.5074 - val_accuracy: 0.9553 - val_loss: 0.1631\n",
            "Epoch 2/10\n",
            "\u001b[1m1500/1500\u001b[0m \u001b[32m━━━━━━━━━━━━━━━━━━━━\u001b[0m\u001b[37m\u001b[0m \u001b[1m9s\u001b[0m 6ms/step - accuracy: 0.9604 - loss: 0.1428 - val_accuracy: 0.9679 - val_loss: 0.1142\n",
            "Epoch 3/10\n",
            "\u001b[1m1500/1500\u001b[0m \u001b[32m━━━━━━━━━━━━━━━━━━━━\u001b[0m\u001b[37m\u001b[0m \u001b[1m10s\u001b[0m 6ms/step - accuracy: 0.9736 - loss: 0.0946 - val_accuracy: 0.9693 - val_loss: 0.0976\n",
            "Epoch 4/10\n",
            "\u001b[1m1500/1500\u001b[0m \u001b[32m━━━━━━━━━━━━━━━━━━━━\u001b[0m\u001b[37m\u001b[0m \u001b[1m8s\u001b[0m 5ms/step - accuracy: 0.9818 - loss: 0.0647 - val_accuracy: 0.9750 - val_loss: 0.0812\n",
            "Epoch 5/10\n",
            "\u001b[1m1500/1500\u001b[0m \u001b[32m━━━━━━━━━━━━━━━━━━━━\u001b[0m\u001b[37m\u001b[0m \u001b[1m10s\u001b[0m 5ms/step - accuracy: 0.9874 - loss: 0.0464 - val_accuracy: 0.9754 - val_loss: 0.0783\n",
            "Epoch 6/10\n",
            "\u001b[1m1500/1500\u001b[0m \u001b[32m━━━━━━━━━━━━━━━━━━━━\u001b[0m\u001b[37m\u001b[0m \u001b[1m11s\u001b[0m 6ms/step - accuracy: 0.9910 - loss: 0.0351 - val_accuracy: 0.9758 - val_loss: 0.0790\n",
            "Epoch 7/10\n",
            "\u001b[1m1500/1500\u001b[0m \u001b[32m━━━━━━━━━━━━━━━━━━━━\u001b[0m\u001b[37m\u001b[0m \u001b[1m10s\u001b[0m 6ms/step - accuracy: 0.9928 - loss: 0.0281 - val_accuracy: 0.9778 - val_loss: 0.0727\n",
            "Epoch 8/10\n",
            "\u001b[1m1500/1500\u001b[0m \u001b[32m━━━━━━━━━━━━━━━━━━━━\u001b[0m\u001b[37m\u001b[0m \u001b[1m8s\u001b[0m 6ms/step - accuracy: 0.9954 - loss: 0.0198 - val_accuracy: 0.9801 - val_loss: 0.0704\n",
            "Epoch 9/10\n",
            "\u001b[1m1500/1500\u001b[0m \u001b[32m━━━━━━━━━━━━━━━━━━━━\u001b[0m\u001b[37m\u001b[0m \u001b[1m9s\u001b[0m 5ms/step - accuracy: 0.9961 - loss: 0.0156 - val_accuracy: 0.9775 - val_loss: 0.0774\n",
            "Epoch 10/10\n",
            "\u001b[1m1500/1500\u001b[0m \u001b[32m━━━━━━━━━━━━━━━━━━━━\u001b[0m\u001b[37m\u001b[0m \u001b[1m14s\u001b[0m 9ms/step - accuracy: 0.9978 - loss: 0.0119 - val_accuracy: 0.9784 - val_loss: 0.0758\n",
            "\u001b[1m313/313\u001b[0m \u001b[32m━━━━━━━━━━━━━━━━━━━━\u001b[0m\u001b[37m\u001b[0m \u001b[1m1s\u001b[0m 2ms/step - accuracy: 0.9743 - loss: 0.0838\n",
            "Validation accuracy: 0.9781000018119812\n"
          ]
        }
      ],
      "source": [
        "# Write your code here\n",
        "# Step 1: Retrieve the best hyperparameters\n",
        "\n",
        "best_hps = tuner.get_best_hyperparameters(num_trials=1)[0]\n",
        "\n",
        "print(f\"\"\"\n",
        "\n",
        "The optimal number of units in the first dense layer is {best_hps.get('units')}.\n",
        "\n",
        "The optimal learning rate for the optimizer is {best_hps.get('learning_rate')}.\n",
        "\n",
        "\"\"\")\n",
        "\n",
        " # Step 2: Build and train the model with best hyperparameters\n",
        "\n",
        "model = tuner.hypermodel.build(best_hps)\n",
        "\n",
        "model.fit(x_train, y_train, epochs=10, validation_split=0.2)\n",
        "\n",
        " # Evaluate the model on the validation set\n",
        "\n",
        "val_loss, val_acc = model.evaluate(x_val, y_val)\n",
        "\n",
        "print(f'Validation accuracy: {val_acc}')"
      ],
      "execution_count": 14
    },
    {
      "cell_type": "markdown",
      "metadata": {
        "id": "a8180c3e-56be-4fb2-83db-8f8b13617055"
      },
      "source": [
        "<details>\n",
        "    <summary>Click here for Solution</summary>\n",
        "\n",
        "```python\n",
        "# Step 1: Retrieve the best hyperparameters\n",
        "\n",
        "best_hps = tuner.get_best_hyperparameters(num_trials=1)[0]\n",
        "\n",
        "print(f\"\"\"\n",
        "\n",
        "The optimal number of units in the first dense layer is {best_hps.get('units')}.\n",
        "\n",
        "The optimal learning rate for the optimizer is {best_hps.get('learning_rate')}.\n",
        "\n",
        "\"\"\")\n",
        "\n",
        " # Step 2: Build and train the model with best hyperparameters\n",
        "\n",
        "model = tuner.hypermodel.build(best_hps)\n",
        "\n",
        "model.fit(x_train, y_train, epochs=10, validation_split=0.2)\n",
        "\n",
        " # Evaluate the model on the validation set\n",
        "\n",
        "val_loss, val_acc = model.evaluate(x_val, y_val)\n",
        "\n",
        "print(f'Validation accuracy: {val_acc}')\n",
        "```\n",
        "\n",
        "</details>\n"
      ]
    },
    {
      "cell_type": "markdown",
      "metadata": {
        "id": "a8ef029a-d153-4f78-be1c-29c20833ce8f"
      },
      "source": [
        "### Conclusion\n",
        "\n",
        "Congratulations on completing this lab! You have learned to set up Keras Tuner and prepare the environment for hyperparameter tuning. In addition, you defined a model-building function that uses hyperparameters to configure the model architecture. You configured Keras Tuner to search for the best hyperparameter configuration and learned to run the hyperparameter search and analyze the results. Finally, you retrieved the best hyperparameters and built a model with these optimized values.\n"
      ]
    },
    {
      "cell_type": "markdown",
      "metadata": {
        "id": "2ea0b45d-7294-4c34-9c93-0bd5b89eb859"
      },
      "source": [
        "## Authors\n"
      ]
    },
    {
      "cell_type": "markdown",
      "metadata": {
        "id": "bd34b5b2-1275-4108-87b4-caeb1f71daeb"
      },
      "source": [
        "Skillup\n"
      ]
    },
    {
      "cell_type": "markdown",
      "metadata": {
        "id": "2636358b-39c1-4787-aa71-06a8a5106d48"
      },
      "source": [
        "Copyright ©IBM Corporation. All rights reserved.\n"
      ]
    }
  ],
  "metadata": {
    "kernelspec": {
      "display_name": "Python 3 (ipykernel)",
      "language": "python",
      "name": "python3"
    },
    "language_info": {
      "name": "python",
      "version": "3.12.8",
      "mimetype": "text/x-python",
      "codemirror_mode": {
        "name": "ipython",
        "version": 3
      },
      "pygments_lexer": "ipython3",
      "nbconvert_exporter": "python",
      "file_extension": ".py"
    },
    "prev_pub_hash": "4480f294d0e5af91350ef1c70e7b3bd8f76b50e8822bcb90342d59ff1810e228",
    "colab": {
      "provenance": [],
      "include_colab_link": true
    }
  },
  "nbformat": 4,
  "nbformat_minor": 0
}