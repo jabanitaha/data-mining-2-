{
  "cells": [
    {
      "cell_type": "markdown",
      "metadata": {
        "id": "view-in-github",
        "colab_type": "text"
      },
      "source": [
        "<a href=\"https://colab.research.google.com/github/jabanitaha/data-mining-2-/blob/main/ML_Pipelines_and_GridSearchCV_v1_Answered_.ipynb\" target=\"_parent\"><img src=\"https://colab.research.google.com/assets/colab-badge.svg\" alt=\"Open In Colab\"/></a>"
      ]
    },
    {
      "cell_type": "markdown",
      "metadata": {
        "id": "dbaec610-23d3-4174-9b53-643186e75912"
      },
      "source": [
        "<p style=\"text-align:center\">\n",
        "    <a href=\"https://skills.network\" target=\"_blank\">\n",
        "    <img src=\"https://cf-courses-data.s3.us.cloud-object-storage.appdomain.cloud/assets/logos/SN_web_lightmode.png\" width=\"200\" alt=\"Skills Network Logo\">\n",
        "    </a>\n",
        "</p>\n",
        "\n",
        "\n",
        "# Machine Learning Pipelines and GridSearchCV\n",
        "Estimated time needed: **25** minutes\n",
        "    \n",
        "\n",
        "## Objectives\n",
        "\n",
        "After completing this lab you will be able to:\n",
        "\n",
        "- Build and evaluate a machine learning pipeline\n",
        "- Implement GridSearchCV for hyperparameter tuning with crossvalidation\n",
        "- Implement and optimize a complex classification pipeline using real-world data\n",
        "- Extract feature importances from a trained pipeline\n"
      ]
    },
    {
      "cell_type": "markdown",
      "metadata": {
        "id": "d4a426d5-e7d9-4e7b-80a3-6c4c13c508ed"
      },
      "source": [
        "## Introduction\n",
        "In machine learning workflows, the Pipeline class from Scikit-Learn is invaluable for streamlining data preprocessing and model training into a single, coherent sequence. A pipeline is essentially a sequence of data transformers that culminates with an optional final predictor. This structure enables seamless integration of preprocessing and predictive modeling, ensuring that the same data transformations applied during training are consistently applied to new data during prediction.\n",
        "\n",
        "Each intermediate step in a pipeline must be a transformer, meaning it should implement both fit and transform methods. The final step, which is typically a predictive model, or estimator, only requires a fit method. The entire pipeline can be trained simultaneously using a method like GridSearchCV, resulting in self-contained predictor that can be used to make predictions on unseen data.\n",
        "\n",
        "Importantly, the pipeline allows you to set the parameters of each of these steps using their names and parameter names connected by a double underscore `__`. For example, if a pipeline step is named `imputer` and you want to change its strategy, you can pass a parameter like `imputer__strategy='median'`. Additionally, steps can be entirely swapped out by assigning a different estimator or even bypassed by setting them to `'passthrough'` or `None`.\n",
        "\n",
        "A major advantage of using a pipeline is that it enables comprehensive cross-validation and hyperparameter tuning for all steps simultaneously. By integrating the pipeline within GridSearchCV, you can fine-tune not only the model but also the preprocessing steps, leading to optimized overall performance. Pipelines are essential for scenarios where preprocessing involves estimators performing operations like scaling, encoding categorical variables, imputing missing values, and dimensionality reduction. Pipelines ensure these steps are reproducibly applied to both training and test data.\n"
      ]
    },
    {
      "cell_type": "markdown",
      "metadata": {
        "id": "479f320c-9439-4a80-8840-94f0d8f674b2"
      },
      "source": [
        "In this lab you will:\n",
        "- Generate synthetic data for running targeted experiments using scikit-learn\n",
        "- Train and evaluate a KNN classification model using a pipeline\n",
        "- Tune model hyperparameters using a pipeline within a cross-validation grid search\n",
        "- Build a more complex random forest classification pipeline using real-world data\n",
        "- Extract the feature importances from the trained pipeline\n",
        "\n",
        "Your goal in this lab is to learn how to build and optimize a complex machine learning model using a pipeline and crossvalidation to tune its hyperparameters.\n",
        "\n",
        "The Practice Project, which follows next, is more hands-on. There you will participate by completing code segments and formulating responses to more open-ended questions.\n",
        "The better you understand this lab, the easier the Practice Project and Final Project will be for you.\n"
      ]
    },
    {
      "cell_type": "markdown",
      "metadata": {
        "id": "f03798fd-967d-4d4e-8407-78a246b9d7c1"
      },
      "source": [
        "## Import the required libraries\n"
      ]
    },
    {
      "cell_type": "markdown",
      "metadata": {
        "id": "d4f6392b-6019-40a5-9bc0-e2b2058355bb"
      },
      "source": [
        "X_train, X_test, y_train, y_test = train_test_split(X, y, test_size=0.2, random_state=42, stratify=y)"
      ]
    },
    {
      "cell_type": "code",
      "metadata": {
        "colab": {
          "base_uri": "https://localhost:8080/"
        },
        "id": "ca928370-ff6d-40ae-9f79-bfd1f6e10e9e",
        "outputId": "f7761dad-4b23-4025-fff5-323df0a9422c"
      },
      "outputs": [
        {
          "output_type": "stream",
          "name": "stdout",
          "text": [
            "Requirement already satisfied: scikit-learn==1.6.0 in /usr/local/lib/python3.11/dist-packages (1.6.0)\n",
            "Requirement already satisfied: numpy>=1.19.5 in /usr/local/lib/python3.11/dist-packages (from scikit-learn==1.6.0) (2.0.2)\n",
            "Requirement already satisfied: scipy>=1.6.0 in /usr/local/lib/python3.11/dist-packages (from scikit-learn==1.6.0) (1.15.3)\n",
            "Requirement already satisfied: joblib>=1.2.0 in /usr/local/lib/python3.11/dist-packages (from scikit-learn==1.6.0) (1.5.1)\n",
            "Requirement already satisfied: threadpoolctl>=3.1.0 in /usr/local/lib/python3.11/dist-packages (from scikit-learn==1.6.0) (3.6.0)\n",
            "Requirement already satisfied: matplotlib==3.9.3 in /usr/local/lib/python3.11/dist-packages (3.9.3)\n",
            "Requirement already satisfied: contourpy>=1.0.1 in /usr/local/lib/python3.11/dist-packages (from matplotlib==3.9.3) (1.3.2)\n",
            "Requirement already satisfied: cycler>=0.10 in /usr/local/lib/python3.11/dist-packages (from matplotlib==3.9.3) (0.12.1)\n",
            "Requirement already satisfied: fonttools>=4.22.0 in /usr/local/lib/python3.11/dist-packages (from matplotlib==3.9.3) (4.58.4)\n",
            "Requirement already satisfied: kiwisolver>=1.3.1 in /usr/local/lib/python3.11/dist-packages (from matplotlib==3.9.3) (1.4.8)\n",
            "Requirement already satisfied: numpy>=1.23 in /usr/local/lib/python3.11/dist-packages (from matplotlib==3.9.3) (2.0.2)\n",
            "Requirement already satisfied: packaging>=20.0 in /usr/local/lib/python3.11/dist-packages (from matplotlib==3.9.3) (24.2)\n",
            "Requirement already satisfied: pillow>=8 in /usr/local/lib/python3.11/dist-packages (from matplotlib==3.9.3) (11.2.1)\n",
            "Requirement already satisfied: pyparsing>=2.3.1 in /usr/local/lib/python3.11/dist-packages (from matplotlib==3.9.3) (3.2.3)\n",
            "Requirement already satisfied: python-dateutil>=2.7 in /usr/local/lib/python3.11/dist-packages (from matplotlib==3.9.3) (2.9.0.post0)\n",
            "Requirement already satisfied: six>=1.5 in /usr/local/lib/python3.11/dist-packages (from python-dateutil>=2.7->matplotlib==3.9.3) (1.17.0)\n",
            "Requirement already satisfied: seaborn==0.13.2 in /usr/local/lib/python3.11/dist-packages (0.13.2)\n",
            "Requirement already satisfied: numpy!=1.24.0,>=1.20 in /usr/local/lib/python3.11/dist-packages (from seaborn==0.13.2) (2.0.2)\n",
            "Requirement already satisfied: pandas>=1.2 in /usr/local/lib/python3.11/dist-packages (from seaborn==0.13.2) (2.2.2)\n",
            "Requirement already satisfied: matplotlib!=3.6.1,>=3.4 in /usr/local/lib/python3.11/dist-packages (from seaborn==0.13.2) (3.9.3)\n",
            "Requirement already satisfied: contourpy>=1.0.1 in /usr/local/lib/python3.11/dist-packages (from matplotlib!=3.6.1,>=3.4->seaborn==0.13.2) (1.3.2)\n",
            "Requirement already satisfied: cycler>=0.10 in /usr/local/lib/python3.11/dist-packages (from matplotlib!=3.6.1,>=3.4->seaborn==0.13.2) (0.12.1)\n",
            "Requirement already satisfied: fonttools>=4.22.0 in /usr/local/lib/python3.11/dist-packages (from matplotlib!=3.6.1,>=3.4->seaborn==0.13.2) (4.58.4)\n",
            "Requirement already satisfied: kiwisolver>=1.3.1 in /usr/local/lib/python3.11/dist-packages (from matplotlib!=3.6.1,>=3.4->seaborn==0.13.2) (1.4.8)\n",
            "Requirement already satisfied: packaging>=20.0 in /usr/local/lib/python3.11/dist-packages (from matplotlib!=3.6.1,>=3.4->seaborn==0.13.2) (24.2)\n",
            "Requirement already satisfied: pillow>=8 in /usr/local/lib/python3.11/dist-packages (from matplotlib!=3.6.1,>=3.4->seaborn==0.13.2) (11.2.1)\n",
            "Requirement already satisfied: pyparsing>=2.3.1 in /usr/local/lib/python3.11/dist-packages (from matplotlib!=3.6.1,>=3.4->seaborn==0.13.2) (3.2.3)\n",
            "Requirement already satisfied: python-dateutil>=2.7 in /usr/local/lib/python3.11/dist-packages (from matplotlib!=3.6.1,>=3.4->seaborn==0.13.2) (2.9.0.post0)\n",
            "Requirement already satisfied: pytz>=2020.1 in /usr/local/lib/python3.11/dist-packages (from pandas>=1.2->seaborn==0.13.2) (2025.2)\n",
            "Requirement already satisfied: tzdata>=2022.7 in /usr/local/lib/python3.11/dist-packages (from pandas>=1.2->seaborn==0.13.2) (2025.2)\n",
            "Requirement already satisfied: six>=1.5 in /usr/local/lib/python3.11/dist-packages (from python-dateutil>=2.7->matplotlib!=3.6.1,>=3.4->seaborn==0.13.2) (1.17.0)\n"
          ]
        }
      ],
      "source": [
        "!pip install scikit-learn==1.6.0\n",
        "!pip install matplotlib==3.9.3\n",
        "!pip install seaborn==0.13.2"
      ],
      "execution_count": 11
    },
    {
      "cell_type": "markdown",
      "metadata": {
        "id": "59a18d43-9dcf-4dd3-95aa-8c1451908190"
      },
      "source": [
        "Now, you can import the required libraries and relevant functions.\n"
      ]
    },
    {
      "cell_type": "markdown",
      "metadata": {
        "id": "6313f395-971a-4b27-8ddd-3ed9e3b440ef"
      },
      "source": [
        "## Train a model using a pipeline\n",
        "We'll start with an example of building a pipeline, fitting it to the Iris data, and evaluating its accuracy.\n"
      ]
    },
    {
      "cell_type": "markdown",
      "metadata": {
        "id": "200fed42-d663-4afe-9301-60bd6b873d44"
      },
      "source": [
        "### Load the Iris data set\n"
      ]
    },
    {
      "cell_type": "code",
      "source": [
        "# Import required libraries\n",
        "from sklearn.model_selection import train_test_split, GridSearchCV, StratifiedKFold\n",
        "from sklearn.preprocessing import StandardScaler\n",
        "from sklearn.decomposition import PCA\n",
        "from sklearn.neighbors import KNeighborsClassifier\n",
        "from sklearn.pipeline import Pipeline\n",
        "from sklearn.datasets import load_iris\n",
        "from sklearn.metrics import confusion_matrix\n",
        "import matplotlib.pyplot as plt\n",
        "import seaborn as sns\n",
        "\n",
        "# Load data\n",
        "data = load_iris()\n",
        "X, y = data.data, data.target\n",
        "labels = data.target_names\n",
        "\n",
        "# Split data\n",
        "X_train, X_test, y_train, y_test = train_test_split(X, y, test_size=0.2, random_state=42)\n",
        "\n",
        "# Define pipeline\n",
        "pipeline = Pipeline([\n",
        "    ('scaler', StandardScaler()),\n",
        "    ('pca', PCA()),\n",
        "    ('classifier', KNeighborsClassifier())\n",
        "])\n",
        "\n",
        "# Define parameter grid\n",
        "param_grid = {\n",
        "    'pca__n_components': [2, 3],\n",
        "    'classifier__n_neighbors': [3, 5, 7]\n",
        "}\n",
        "\n",
        "# Define cross-validation strategy\n",
        "cv = StratifiedKFold(n_splits=5, shuffle=True, random_state=42)\n",
        "\n",
        "# Run GridSearchCV\n",
        "best_model = GridSearchCV(estimator=pipeline,\n",
        "                          param_grid=param_grid,\n",
        "                          cv=cv,\n",
        "                          scoring='accuracy',\n",
        "                          verbose=2)\n",
        "\n",
        "# Fit the model\n",
        "best_model.fit(X_train, y_train)\n",
        "\n",
        "# Predict\n",
        "y_pred = best_model.predict(X_test)\n",
        "\n",
        "# Compute confusion matrix\n",
        "conf_matrix = confusion_matrix(y_test, y_pred)\n",
        "\n",
        "# Plot confusion matrix\n",
        "plt.figure(figsize=(6, 4))\n",
        "sns.heatmap(conf_matrix, annot=True, fmt='d', cmap='Blues', cbar=False,\n",
        "            xticklabels=labels, yticklabels=labels)\n",
        "plt.title('Classification Pipeline Confusion Matrix')\n",
        "plt.xlabel('Predicted')\n",
        "plt.ylabel('Actual')\n",
        "plt.tight_layout()\n",
        "plt.show()\n"
      ],
      "metadata": {
        "colab": {
          "base_uri": "https://localhost:8080/",
          "height": 945
        },
        "id": "ReiG-8qIsIAT",
        "outputId": "4df86650-a34f-4f54-934c-68d6928fd792"
      },
      "execution_count": 12,
      "outputs": [
        {
          "output_type": "stream",
          "name": "stdout",
          "text": [
            "Fitting 5 folds for each of 6 candidates, totalling 30 fits\n",
            "[CV] END .....classifier__n_neighbors=3, pca__n_components=2; total time=   0.1s\n",
            "[CV] END .....classifier__n_neighbors=3, pca__n_components=2; total time=   0.1s\n",
            "[CV] END .....classifier__n_neighbors=3, pca__n_components=2; total time=   0.1s\n",
            "[CV] END .....classifier__n_neighbors=3, pca__n_components=2; total time=   0.1s\n",
            "[CV] END .....classifier__n_neighbors=3, pca__n_components=2; total time=   0.0s\n",
            "[CV] END .....classifier__n_neighbors=3, pca__n_components=3; total time=   0.1s\n",
            "[CV] END .....classifier__n_neighbors=3, pca__n_components=3; total time=   0.1s\n",
            "[CV] END .....classifier__n_neighbors=3, pca__n_components=3; total time=   0.0s\n",
            "[CV] END .....classifier__n_neighbors=3, pca__n_components=3; total time=   0.0s\n",
            "[CV] END .....classifier__n_neighbors=3, pca__n_components=3; total time=   0.0s\n",
            "[CV] END .....classifier__n_neighbors=5, pca__n_components=2; total time=   0.0s\n",
            "[CV] END .....classifier__n_neighbors=5, pca__n_components=2; total time=   0.0s\n",
            "[CV] END .....classifier__n_neighbors=5, pca__n_components=2; total time=   0.0s\n",
            "[CV] END .....classifier__n_neighbors=5, pca__n_components=2; total time=   0.0s\n",
            "[CV] END .....classifier__n_neighbors=5, pca__n_components=2; total time=   0.0s\n",
            "[CV] END .....classifier__n_neighbors=5, pca__n_components=3; total time=   0.0s\n",
            "[CV] END .....classifier__n_neighbors=5, pca__n_components=3; total time=   0.0s\n",
            "[CV] END .....classifier__n_neighbors=5, pca__n_components=3; total time=   0.0s\n",
            "[CV] END .....classifier__n_neighbors=5, pca__n_components=3; total time=   0.0s\n",
            "[CV] END .....classifier__n_neighbors=5, pca__n_components=3; total time=   0.0s\n",
            "[CV] END .....classifier__n_neighbors=7, pca__n_components=2; total time=   0.0s\n",
            "[CV] END .....classifier__n_neighbors=7, pca__n_components=2; total time=   0.0s\n",
            "[CV] END .....classifier__n_neighbors=7, pca__n_components=2; total time=   0.1s\n",
            "[CV] END .....classifier__n_neighbors=7, pca__n_components=2; total time=   0.0s\n",
            "[CV] END .....classifier__n_neighbors=7, pca__n_components=2; total time=   0.0s\n",
            "[CV] END .....classifier__n_neighbors=7, pca__n_components=3; total time=   0.0s\n",
            "[CV] END .....classifier__n_neighbors=7, pca__n_components=3; total time=   0.0s\n",
            "[CV] END .....classifier__n_neighbors=7, pca__n_components=3; total time=   0.0s\n",
            "[CV] END .....classifier__n_neighbors=7, pca__n_components=3; total time=   0.0s\n",
            "[CV] END .....classifier__n_neighbors=7, pca__n_components=3; total time=   0.0s\n"
          ]
        },
        {
          "output_type": "display_data",
          "data": {
            "text/plain": [
              "<Figure size 600x400 with 1 Axes>"
            ],
            "image/png": "[encoded data removed]"
          },
          "metadata": {}
        }
      ]
    },
    {
      "cell_type": "markdown",
      "metadata": {
        "id": "f0e21930-893f-4664-8e91-3ac5c26be1f4"
      },
      "source": [
        "### Instantiate a pipeline consisting of StandardScaler, PCA, and KNeighborsClassifier\n"
      ]
    },
    {
      "cell_type": "markdown",
      "metadata": {
        "id": "e302c196-5229-49d8-a4c8-2a997c6bb2cc"
      },
      "source": [
        "### Exercise 1. Split the data into training and test sets\n",
        "Be sure to stratify the target.\n"
      ]
    },
    {
      "cell_type": "code",
      "metadata": {
        "colab": {
          "base_uri": "https://localhost:8080/"
        },
        "id": "512fcac7-977f-4c1b-a9de-3136e7030ec8",
        "outputId": "bb7095aa-6a27-48cf-8374-cc8279333be7"
      },
      "outputs": [
        {
          "output_type": "stream",
          "name": "stdout",
          "text": [
            "1.000\n"
          ]
        }
      ],
      "source": [
        "test_score = best_model.score(X_test, y_test)\n",
        "print(f\"{test_score:.3f}\")"
      ],
      "execution_count": 13
    },
    {
      "cell_type": "markdown",
      "metadata": {
        "id": "d3fba8a5-4710-4593-8de5-37bb77ab51f9"
      },
      "source": [
        "<details><summary>Click here for the solution</summary>\n",
        "X_train, X_test, y_train, y_test = train_test_split(X, y, test_size=0.2, random_state=42, stratify=y)\n",
        "</details>\n"
      ]
    },
    {
      "cell_type": "markdown",
      "metadata": {
        "id": "31f3af01-6b78-4729-ba0c-52dca29426a1"
      },
      "source": [
        "### Fit the pipeline on the training set\n",
        "The pipeline consists of a sequence of three estimators, and should be viewed as the machine learning model we are training and testing.  \n",
        "Let's go ahead and fit the model to the training data and evaluate its accuracy.\n"
      ]
    },
    {
      "cell_type": "code",
      "metadata": {
        "colab": {
          "base_uri": "https://localhost:8080/"
        },
        "id": "56a18c96-a62a-448d-b87b-5ae06a3e2c37",
        "outputId": "0a1690b9-0c90-407d-93a9-455b0fa75b07"
      },
      "outputs": [
        {
          "output_type": "stream",
          "name": "stdout",
          "text": [
            "1.000\n"
          ]
        }
      ],
      "source": [
        "pipeline.fit(X_train, y_train)\n",
        "\n",
        "# Measure the pipeline accuracy on the test data\n",
        "test_score = pipeline.score(X_test, y_test)\n",
        "print(f\"{test_score:.3f}\")"
      ],
      "execution_count": 14
    },
    {
      "cell_type": "markdown",
      "metadata": {
        "id": "37a4b7be-b475-4f76-9106-c3aa4ec1979d"
      },
      "source": [
        "### Get the model predictions\n"
      ]
    },
    {
      "cell_type": "code",
      "metadata": {
        "id": "3293812d-a276-4e1c-a393-3b56348d8376"
      },
      "outputs": [],
      "source": [
        "y_pred = pipeline.predict(X_test)"
      ],
      "execution_count": 15
    },
    {
      "cell_type": "markdown",
      "metadata": {
        "id": "46443b13-6af7-4ee3-9131-9d6b554c807c"
      },
      "source": [
        "### Exercise 2. Generate the confusion matrix for the KNN model and plot it\n"
      ]
    },
    {
      "cell_type": "markdown",
      "source": [
        "# Enter your code here\n",
        "conf_matrix = confusion_matrix(y_test, ...)\n",
        "\n",
        "# Create a single plot for the confusion matrix\n",
        "plt.figure()\n",
        "sns.heatmap(..., annot=True, cmap='Blues', fmt='d',\n",
        "            xticklabels=labels, yticklabels=labels)\n",
        "\n",
        "# Set the title and labels\n",
        "plt.title('Classification Pipeline Confusion Matrix')\n",
        "plt.xlabel('Predicted')\n",
        "plt.ylabel('Actual')\n",
        "\n",
        "# Show the plot\n",
        "plt.tight_layout()\n",
        "plt.show()"
      ],
      "metadata": {
        "id": "EJc30WbbsoYV"
      }
    },
    {
      "cell_type": "code",
      "source": [
        "# Compute confusion matrix correctly\n",
        "conf_matrix = confusion_matrix(y_test, y_pred)\n",
        "\n",
        "# Create a single plot for the confusion matrix\n",
        "plt.figure(figsize=(6, 4))\n",
        "sns.heatmap(conf_matrix, annot=True, cmap='Blues', fmt='d',\n",
        "            xticklabels=labels, yticklabels=labels)\n",
        "\n",
        "# Set the title and labels\n",
        "plt.title('Classification Pipeline Confusion Matrix')\n",
        "plt.xlabel('Predicted')\n",
        "plt.ylabel('Actual')\n",
        "\n",
        "# Show the plot\n",
        "plt.tight_layout()\n",
        "plt.show()\n"
      ],
      "metadata": {
        "colab": {
          "base_uri": "https://localhost:8080/",
          "height": 407
        },
        "id": "2L_C0jz5tDmv",
        "outputId": "125bcb3d-d942-469a-a99a-e63b4a346cbc"
      },
      "execution_count": 17,
      "outputs": [
        {
          "output_type": "display_data",
          "data": {
            "text/plain": [
              "<Figure size 600x400 with 2 Axes>"
            ],
            "image/png": "[encoded data removed]"
          },
          "metadata": {}
        }
      ]
    },
    {
      "cell_type": "markdown",
      "metadata": {
        "id": "0abc49e9-20db-4670-bcd6-0e54851f15b4"
      },
      "source": [
        "<details><summary>Click here for the solution</summary>\n",
        "    \n",
        "```python\n",
        "# generate the confusion matrix\n",
        "conf_matrix = confusion_matrix(y_test, y_pred)\n",
        "\n",
        "# Create a plot for the confusion matrix\n",
        "plt.figure()\n",
        "sns.heatmap(conf_matrix, annot=True, cmap='Blues', fmt='d',\n",
        "            xticklabels=labels, yticklabels=labels)\n",
        "\n",
        "# Set the title and labels\n",
        "plt.title('Classification Pipeline Confusion Matrix')\n",
        "plt.xlabel('Predicted')\n",
        "plt.ylabel('Actual')\n",
        "\n",
        "# Show the plot\n",
        "plt.tight_layout()\n",
        "plt.show()\n",
        "```\n",
        "</details>\n"
      ]
    },
    {
      "cell_type": "markdown",
      "metadata": {
        "id": "275f7ce4-acf5-4011-ac21-0c8fbd4a4129"
      },
      "source": [
        "### Exercise 3. Describe the errors made by the model.\n"
      ]
    },
    {
      "cell_type": "markdown",
      "source": [
        "             Predicted\n",
        "            | setosa | versicolor | virginica\n",
        "-----------------------------------------------\n",
        "Actual setosa     10           0           0\n",
        "Actual versicolor  0           9           0\n",
        "Actual virginica   0           0          11\n",
        "Interpretation:\n",
        "The diagonal elements (10, 9, 11) are correct predictions.\n",
        "\n",
        "The off-diagonal elements (all zeros) are misclassifications — but here, there are none.\n",
        "Conclusion:\n",
        "The model made zero errors on the test set.\n",
        "\n",
        "It perfectly classified all examples of:\n",
        "\n",
        "Setosa (10/10 correct),\n",
        "\n",
        "Versicolor (9/9 correct),\n",
        "\n",
        "Virginica (11/11 correct).\n",
        "\n",
        "Answer for Exercise 3:\n",
        "\n",
        "The model did not make any classification errors on the test set. All predictions matched the actual labels perfectly for all three classes: setosa, versicolor, and virginica."
      ],
      "metadata": {
        "id": "_e4J6Xbotgpo"
      }
    },
    {
      "cell_type": "markdown",
      "metadata": {
        "id": "0ed3fa5b-d846-4601-86f1-faa82f26d930"
      },
      "source": [
        "<details><summary>Click here for the solution</summary>\n",
        "The model incorectly classified two viginica irises as versicolor, and one versicolor as virginica. Not bad, only three classification errors out of 30 irises on our first attempt!\n",
        "\n",
        "</details>\n"
      ]
    },
    {
      "cell_type": "markdown",
      "metadata": {
        "id": "21344a16-7cfa-4aec-8aca-c83831b7ed45"
      },
      "source": [
        "## Tune hyperparameters using a pipeline within cross-validation grid search\n",
        "We created a model but haven't yet attempted to optimize its performance.  Let's see if we can do better.\n",
        "Recall that it would be a mistake to keep running the model over and over again with different hyperparamters to find the best one.  \n",
        "You would effectively be overfiiting the model to your test data set.  \n",
        "The correct way to handle this tuning is to use cross validation.\n",
        "\n",
        "Let's see how it works, using the same data set.\n"
      ]
    },
    {
      "cell_type": "markdown",
      "metadata": {
        "id": "498fa087-22f9-4881-a7fd-5d6733e9f2db"
      },
      "source": [
        "### Instantiate the pipeline\n",
        "We'll preprocess the data by scaling it and transforming it onto a to-be-determined number of principle components, follow that up with a KNN model classifier, and combine these estimators into a pipeline. We'll then optimize the pipeline using crossvalidation over a hyperparameter grid search. This will allow us find the best model for the set of trial hyperparamters.\n"
      ]
    },
    {
      "cell_type": "code",
      "metadata": {
        "id": "4ace09f5-779d-415b-aaa6-006eb616edbd"
      },
      "outputs": [],
      "source": [
        "# make a pipeline without specifying any parameters yet\n",
        "pipeline = Pipeline(\n",
        "                    [('scaler', StandardScaler()),\n",
        "                     ('pca', PCA()),\n",
        "                     ('knn', KNeighborsClassifier())\n",
        "                    ]\n",
        "                   )"
      ],
      "execution_count": 18
    },
    {
      "cell_type": "markdown",
      "metadata": {
        "id": "5f8c674b-a7f8-4603-a865-fa143db97650"
      },
      "source": [
        "### Define a model parameter grid to search over\n"
      ]
    },
    {
      "cell_type": "code",
      "metadata": {
        "id": "470b43f9-ad39-40a7-a0fd-bed7ae6f589c"
      },
      "outputs": [],
      "source": [
        "# Hyperparameter search grid for numbers of PCA components and KNN neighbors\n",
        "param_grid = {'pca__n_components': [2, 3],\n",
        "              'knn__n_neighbors': [3, 5, 7]\n",
        "             }"
      ],
      "execution_count": 19
    },
    {
      "cell_type": "markdown",
      "metadata": {
        "id": "0d09db91-f165-4217-a01e-b96bc4873e97"
      },
      "source": [
        "### Choose a cross validation method\n",
        "To ensure the target is stratified, we can use scikit-learn's `StratifiedKFold` cross-validation class.\n"
      ]
    },
    {
      "cell_type": "code",
      "metadata": {
        "id": "91a275ae-54d7-4d94-9621-d41ba8d5e491"
      },
      "outputs": [],
      "source": [
        "cv = StratifiedKFold(n_splits=5, shuffle=True, random_state=42)"
      ],
      "execution_count": 20
    },
    {
      "cell_type": "markdown",
      "metadata": {
        "id": "e5be5000-e2cf-4c24-8c19-b5118c02bc71"
      },
      "source": [
        "### Exercise 4. Determine the best parameters\n",
        "Pass your `pipeline`, `param_grid`, and the `StratifiedKFold` cross validation method to `GridSearchCV`\n"
      ]
    },
    {
      "cell_type": "code",
      "source": [
        "best_model = GridSearchCV(estimator=pipeline,\n",
        "                          param_grid=param_grid,\n",
        "                          cv=cv,     # <- correct: use the StratifiedKFold object defined earlier\n",
        "                          scoring='accuracy',\n",
        "                          verbose=2)\n"
      ],
      "metadata": {
        "id": "pxaNF7V1uXtA"
      },
      "execution_count": 25,
      "outputs": []
    },
    {
      "cell_type": "markdown",
      "metadata": {
        "id": "8b390093-10fe-41c4-812b-0a6e80287cf2"
      },
      "source": [
        "<details><summary>Click here for the solution</summary>\n",
        "    \n",
        "```python\n",
        "best_model = GridSearchCV(estimator=pipeline,\n",
        "                          param_grid=param_grid,\n",
        "                          cv=cv,\n",
        "                          scoring='accuracy',\n",
        "                          verbose=2\n",
        "                         )\n",
        "```\n"
      ]
    },
    {
      "cell_type": "markdown",
      "metadata": {
        "id": "a9ac9e5d-f445-4220-9824-e309fd1695f6"
      },
      "source": [
        "### Fit the best `GridSearchCV` model to the training data\n"
      ]
    },
    {
      "cell_type": "code",
      "metadata": {
        "colab": {
          "base_uri": "https://localhost:8080/",
          "height": 768
        },
        "id": "874a9d82-c0eb-4d7e-b7fc-92428f95e7d6",
        "outputId": "d39e4bd3-0920-4d1d-9c4f-f1ff535089f2"
      },
      "outputs": [
        {
          "output_type": "stream",
          "name": "stdout",
          "text": [
            "Fitting 5 folds for each of 6 candidates, totalling 30 fits\n",
            "[CV] END ............knn__n_neighbors=3, pca__n_components=2; total time=   0.0s\n",
            "[CV] END ............knn__n_neighbors=3, pca__n_components=2; total time=   0.0s\n",
            "[CV] END ............knn__n_neighbors=3, pca__n_components=2; total time=   0.0s\n",
            "[CV] END ............knn__n_neighbors=3, pca__n_components=2; total time=   0.0s\n",
            "[CV] END ............knn__n_neighbors=3, pca__n_components=2; total time=   0.0s\n",
            "[CV] END ............knn__n_neighbors=3, pca__n_components=3; total time=   0.0s\n",
            "[CV] END ............knn__n_neighbors=3, pca__n_components=3; total time=   0.0s\n",
            "[CV] END ............knn__n_neighbors=3, pca__n_components=3; total time=   0.0s\n",
            "[CV] END ............knn__n_neighbors=3, pca__n_components=3; total time=   0.0s\n",
            "[CV] END ............knn__n_neighbors=3, pca__n_components=3; total time=   0.0s\n",
            "[CV] END ............knn__n_neighbors=5, pca__n_components=2; total time=   0.0s\n",
            "[CV] END ............knn__n_neighbors=5, pca__n_components=2; total time=   0.0s\n",
            "[CV] END ............knn__n_neighbors=5, pca__n_components=2; total time=   0.0s\n",
            "[CV] END ............knn__n_neighbors=5, pca__n_components=2; total time=   0.0s\n",
            "[CV] END ............knn__n_neighbors=5, pca__n_components=2; total time=   0.0s\n",
            "[CV] END ............knn__n_neighbors=5, pca__n_components=3; total time=   0.0s\n",
            "[CV] END ............knn__n_neighbors=5, pca__n_components=3; total time=   0.1s\n",
            "[CV] END ............knn__n_neighbors=5, pca__n_components=3; total time=   0.0s\n",
            "[CV] END ............knn__n_neighbors=5, pca__n_components=3; total time=   0.0s\n",
            "[CV] END ............knn__n_neighbors=5, pca__n_components=3; total time=   0.0s\n",
            "[CV] END ............knn__n_neighbors=7, pca__n_components=2; total time=   0.0s\n",
            "[CV] END ............knn__n_neighbors=7, pca__n_components=2; total time=   0.0s\n",
            "[CV] END ............knn__n_neighbors=7, pca__n_components=2; total time=   0.0s\n",
            "[CV] END ............knn__n_neighbors=7, pca__n_components=2; total time=   0.0s\n",
            "[CV] END ............knn__n_neighbors=7, pca__n_components=2; total time=   0.0s\n",
            "[CV] END ............knn__n_neighbors=7, pca__n_components=3; total time=   0.0s\n",
            "[CV] END ............knn__n_neighbors=7, pca__n_components=3; total time=   0.0s\n",
            "[CV] END ............knn__n_neighbors=7, pca__n_components=3; total time=   0.0s\n",
            "[CV] END ............knn__n_neighbors=7, pca__n_components=3; total time=   0.0s\n",
            "[CV] END ............knn__n_neighbors=7, pca__n_components=3; total time=   0.0s\n"
          ]
        },
        {
          "output_type": "execute_result",
          "data": {
            "text/plain": [
              "GridSearchCV(cv=StratifiedKFold(n_splits=5, random_state=42, shuffle=True),\n",
              "             estimator=Pipeline(steps=[('scaler', StandardScaler()),\n",
              "                                       ('pca', PCA()),\n",
              "                                       ('knn', KNeighborsClassifier())]),\n",
              "             param_grid={'knn__n_neighbors': [3, 5, 7],\n",
              "                         'pca__n_components': [2, 3]},\n",
              "             scoring='accuracy', verbose=2)"
            ],
            "text/html": [
              "<style>#sk-container-id-2 {\n",
              "  /* Definition of color scheme common for light and dark mode */\n",
              "  --sklearn-color-text: #000;\n",
              "  --sklearn-color-text-muted: #666;\n",
              "  --sklearn-color-line: gray;\n",
              "  /* Definition of color scheme for unfitted estimators */\n",
              "  --sklearn-color-unfitted-level-0: #fff5e6;\n",
              "  --sklearn-color-unfitted-level-1: #f6e4d2;\n",
              "  --sklearn-color-unfitted-level-2: #ffe0b3;\n",
              "  --sklearn-color-unfitted-level-3: chocolate;\n",
              "  /* Definition of color scheme for fitted estimators */\n",
              "  --sklearn-color-fitted-level-0: #f0f8ff;\n",
              "  --sklearn-color-fitted-level-1: #d4ebff;\n",
              "  --sklearn-color-fitted-level-2: #b3dbfd;\n",
              "  --sklearn-color-fitted-level-3: cornflowerblue;\n",
              "\n",
              "  /* Specific color for light theme */\n",
              "  --sklearn-color-text-on-default-background: var(--sg-text-color, var(--theme-code-foreground, var(--jp-content-font-color1, black)));\n",
              "  --sklearn-color-background: var(--sg-background-color, var(--theme-background, var(--jp-layout-color0, white)));\n",
              "  --sklearn-color-border-box: var(--sg-text-color, var(--theme-code-foreground, var(--jp-content-font-color1, black)));\n",
              "  --sklearn-color-icon: #696969;\n",
              "\n",
              "  @media (prefers-color-scheme: dark) {\n",
              "    /* Redefinition of color scheme for dark theme */\n",
              "    --sklearn-color-text-on-default-background: var(--sg-text-color, var(--theme-code-foreground, var(--jp-content-font-color1, white)));\n",
              "    --sklearn-color-background: var(--sg-background-color, var(--theme-background, var(--jp-layout-color0, #111)));\n",
              "    --sklearn-color-border-box: var(--sg-text-color, var(--theme-code-foreground, var(--jp-content-font-color1, white)));\n",
              "    --sklearn-color-icon: #878787;\n",
              "  }\n",
              "}\n",
              "\n",
              "#sk-container-id-2 {\n",
              "  color: var(--sklearn-color-text);\n",
              "}\n",
              "\n",
              "#sk-container-id-2 pre {\n",
              "  padding: 0;\n",
              "}\n",
              "\n",
              "#sk-container-id-2 input.sk-hidden--visually {\n",
              "  border: 0;\n",
              "  clip: rect(1px 1px 1px 1px);\n",
              "  clip: rect(1px, 1px, 1px, 1px);\n",
              "  height: 1px;\n",
              "  margin: -1px;\n",
              "  overflow: hidden;\n",
              "  padding: 0;\n",
              "  position: absolute;\n",
              "  width: 1px;\n",
              "}\n",
              "\n",
              "#sk-container-id-2 div.sk-dashed-wrapped {\n",
              "  border: 1px dashed var(--sklearn-color-line);\n",
              "  margin: 0 0.4em 0.5em 0.4em;\n",
              "  box-sizing: border-box;\n",
              "  padding-bottom: 0.4em;\n",
              "  background-color: var(--sklearn-color-background);\n",
              "}\n",
              "\n",
              "#sk-container-id-2 div.sk-container {\n",
              "  /* jupyter's `normalize.less` sets `[hidden] { display: none; }`\n",
              "     but bootstrap.min.css set `[hidden] { display: none !important; }`\n",
              "     so we also need the `!important` here to be able to override the\n",
              "     default hidden behavior on the sphinx rendered scikit-learn.org.\n",
              "     See: https://github.com/scikit-learn/scikit-learn/issues/21755 */\n",
              "  display: inline-block !important;\n",
              "  position: relative;\n",
              "}\n",
              "\n",
              "#sk-container-id-2 div.sk-text-repr-fallback {\n",
              "  display: none;\n",
              "}\n",
              "\n",
              "div.sk-parallel-item,\n",
              "div.sk-serial,\n",
              "div.sk-item {\n",
              "  /* draw centered vertical line to link estimators */\n",
              "  background-image: linear-gradient(var(--sklearn-color-text-on-default-background), var(--sklearn-color-text-on-default-background));\n",
              "  background-size: 2px 100%;\n",
              "  background-repeat: no-repeat;\n",
              "  background-position: center center;\n",
              "}\n",
              "\n",
              "/* Parallel-specific style estimator block */\n",
              "\n",
              "#sk-container-id-2 div.sk-parallel-item::after {\n",
              "  content: \"\";\n",
              "  width: 100%;\n",
              "  border-bottom: 2px solid var(--sklearn-color-text-on-default-background);\n",
              "  flex-grow: 1;\n",
              "}\n",
              "\n",
              "#sk-container-id-2 div.sk-parallel {\n",
              "  display: flex;\n",
              "  align-items: stretch;\n",
              "  justify-content: center;\n",
              "  background-color: var(--sklearn-color-background);\n",
              "  position: relative;\n",
              "}\n",
              "\n",
              "#sk-container-id-2 div.sk-parallel-item {\n",
              "  display: flex;\n",
              "  flex-direction: column;\n",
              "}\n",
              "\n",
              "#sk-container-id-2 div.sk-parallel-item:first-child::after {\n",
              "  align-self: flex-end;\n",
              "  width: 50%;\n",
              "}\n",
              "\n",
              "#sk-container-id-2 div.sk-parallel-item:last-child::after {\n",
              "  align-self: flex-start;\n",
              "  width: 50%;\n",
              "}\n",
              "\n",
              "#sk-container-id-2 div.sk-parallel-item:only-child::after {\n",
              "  width: 0;\n",
              "}\n",
              "\n",
              "/* Serial-specific style estimator block */\n",
              "\n",
              "#sk-container-id-2 div.sk-serial {\n",
              "  display: flex;\n",
              "  flex-direction: column;\n",
              "  align-items: center;\n",
              "  background-color: var(--sklearn-color-background);\n",
              "  padding-right: 1em;\n",
              "  padding-left: 1em;\n",
              "}\n",
              "\n",
              "\n",
              "/* Toggleable style: style used for estimator/Pipeline/ColumnTransformer box that is\n",
              "clickable and can be expanded/collapsed.\n",
              "- Pipeline and ColumnTransformer use this feature and define the default style\n",
              "- Estimators will overwrite some part of the style using the `sk-estimator` class\n",
              "*/\n",
              "\n",
              "/* Pipeline and ColumnTransformer style (default) */\n",
              "\n",
              "#sk-container-id-2 div.sk-toggleable {\n",
              "  /* Default theme specific background. It is overwritten whether we have a\n",
              "  specific estimator or a Pipeline/ColumnTransformer */\n",
              "  background-color: var(--sklearn-color-background);\n",
              "}\n",
              "\n",
              "/* Toggleable label */\n",
              "#sk-container-id-2 label.sk-toggleable__label {\n",
              "  cursor: pointer;\n",
              "  display: flex;\n",
              "  width: 100%;\n",
              "  margin-bottom: 0;\n",
              "  padding: 0.5em;\n",
              "  box-sizing: border-box;\n",
              "  text-align: center;\n",
              "  align-items: start;\n",
              "  justify-content: space-between;\n",
              "  gap: 0.5em;\n",
              "}\n",
              "\n",
              "#sk-container-id-2 label.sk-toggleable__label .caption {\n",
              "  font-size: 0.6rem;\n",
              "  font-weight: lighter;\n",
              "  color: var(--sklearn-color-text-muted);\n",
              "}\n",
              "\n",
              "#sk-container-id-2 label.sk-toggleable__label-arrow:before {\n",
              "  /* Arrow on the left of the label */\n",
              "  content: \"▸\";\n",
              "  float: left;\n",
              "  margin-right: 0.25em;\n",
              "  color: var(--sklearn-color-icon);\n",
              "}\n",
              "\n",
              "#sk-container-id-2 label.sk-toggleable__label-arrow:hover:before {\n",
              "  color: var(--sklearn-color-text);\n",
              "}\n",
              "\n",
              "/* Toggleable content - dropdown */\n",
              "\n",
              "#sk-container-id-2 div.sk-toggleable__content {\n",
              "  max-height: 0;\n",
              "  max-width: 0;\n",
              "  overflow: hidden;\n",
              "  text-align: left;\n",
              "  /* unfitted */\n",
              "  background-color: var(--sklearn-color-unfitted-level-0);\n",
              "}\n",
              "\n",
              "#sk-container-id-2 div.sk-toggleable__content.fitted {\n",
              "  /* fitted */\n",
              "  background-color: var(--sklearn-color-fitted-level-0);\n",
              "}\n",
              "\n",
              "#sk-container-id-2 div.sk-toggleable__content pre {\n",
              "  margin: 0.2em;\n",
              "  border-radius: 0.25em;\n",
              "  color: var(--sklearn-color-text);\n",
              "  /* unfitted */\n",
              "  background-color: var(--sklearn-color-unfitted-level-0);\n",
              "}\n",
              "\n",
              "#sk-container-id-2 div.sk-toggleable__content.fitted pre {\n",
              "  /* unfitted */\n",
              "  background-color: var(--sklearn-color-fitted-level-0);\n",
              "}\n",
              "\n",
              "#sk-container-id-2 input.sk-toggleable__control:checked~div.sk-toggleable__content {\n",
              "  /* Expand drop-down */\n",
              "  max-height: 200px;\n",
              "  max-width: 100%;\n",
              "  overflow: auto;\n",
              "}\n",
              "\n",
              "#sk-container-id-2 input.sk-toggleable__control:checked~label.sk-toggleable__label-arrow:before {\n",
              "  content: \"▾\";\n",
              "}\n",
              "\n",
              "/* Pipeline/ColumnTransformer-specific style */\n",
              "\n",
              "#sk-container-id-2 div.sk-label input.sk-toggleable__control:checked~label.sk-toggleable__label {\n",
              "  color: var(--sklearn-color-text);\n",
              "  background-color: var(--sklearn-color-unfitted-level-2);\n",
              "}\n",
              "\n",
              "#sk-container-id-2 div.sk-label.fitted input.sk-toggleable__control:checked~label.sk-toggleable__label {\n",
              "  background-color: var(--sklearn-color-fitted-level-2);\n",
              "}\n",
              "\n",
              "/* Estimator-specific style */\n",
              "\n",
              "/* Colorize estimator box */\n",
              "#sk-container-id-2 div.sk-estimator input.sk-toggleable__control:checked~label.sk-toggleable__label {\n",
              "  /* unfitted */\n",
              "  background-color: var(--sklearn-color-unfitted-level-2);\n",
              "}\n",
              "\n",
              "#sk-container-id-2 div.sk-estimator.fitted input.sk-toggleable__control:checked~label.sk-toggleable__label {\n",
              "  /* fitted */\n",
              "  background-color: var(--sklearn-color-fitted-level-2);\n",
              "}\n",
              "\n",
              "#sk-container-id-2 div.sk-label label.sk-toggleable__label,\n",
              "#sk-container-id-2 div.sk-label label {\n",
              "  /* The background is the default theme color */\n",
              "  color: var(--sklearn-color-text-on-default-background);\n",
              "}\n",
              "\n",
              "/* On hover, darken the color of the background */\n",
              "#sk-container-id-2 div.sk-label:hover label.sk-toggleable__label {\n",
              "  color: var(--sklearn-color-text);\n",
              "  background-color: var(--sklearn-color-unfitted-level-2);\n",
              "}\n",
              "\n",
              "/* Label box, darken color on hover, fitted */\n",
              "#sk-container-id-2 div.sk-label.fitted:hover label.sk-toggleable__label.fitted {\n",
              "  color: var(--sklearn-color-text);\n",
              "  background-color: var(--sklearn-color-fitted-level-2);\n",
              "}\n",
              "\n",
              "/* Estimator label */\n",
              "\n",
              "#sk-container-id-2 div.sk-label label {\n",
              "  font-family: monospace;\n",
              "  font-weight: bold;\n",
              "  display: inline-block;\n",
              "  line-height: 1.2em;\n",
              "}\n",
              "\n",
              "#sk-container-id-2 div.sk-label-container {\n",
              "  text-align: center;\n",
              "}\n",
              "\n",
              "/* Estimator-specific */\n",
              "#sk-container-id-2 div.sk-estimator {\n",
              "  font-family: monospace;\n",
              "  border: 1px dotted var(--sklearn-color-border-box);\n",
              "  border-radius: 0.25em;\n",
              "  box-sizing: border-box;\n",
              "  margin-bottom: 0.5em;\n",
              "  /* unfitted */\n",
              "  background-color: var(--sklearn-color-unfitted-level-0);\n",
              "}\n",
              "\n",
              "#sk-container-id-2 div.sk-estimator.fitted {\n",
              "  /* fitted */\n",
              "  background-color: var(--sklearn-color-fitted-level-0);\n",
              "}\n",
              "\n",
              "/* on hover */\n",
              "#sk-container-id-2 div.sk-estimator:hover {\n",
              "  /* unfitted */\n",
              "  background-color: var(--sklearn-color-unfitted-level-2);\n",
              "}\n",
              "\n",
              "#sk-container-id-2 div.sk-estimator.fitted:hover {\n",
              "  /* fitted */\n",
              "  background-color: var(--sklearn-color-fitted-level-2);\n",
              "}\n",
              "\n",
              "/* Specification for estimator info (e.g. \"i\" and \"?\") */\n",
              "\n",
              "/* Common style for \"i\" and \"?\" */\n",
              "\n",
              ".sk-estimator-doc-link,\n",
              "a:link.sk-estimator-doc-link,\n",
              "a:visited.sk-estimator-doc-link {\n",
              "  float: right;\n",
              "  font-size: smaller;\n",
              "  line-height: 1em;\n",
              "  font-family: monospace;\n",
              "  background-color: var(--sklearn-color-background);\n",
              "  border-radius: 1em;\n",
              "  height: 1em;\n",
              "  width: 1em;\n",
              "  text-decoration: none !important;\n",
              "  margin-left: 0.5em;\n",
              "  text-align: center;\n",
              "  /* unfitted */\n",
              "  border: var(--sklearn-color-unfitted-level-1) 1pt solid;\n",
              "  color: var(--sklearn-color-unfitted-level-1);\n",
              "}\n",
              "\n",
              ".sk-estimator-doc-link.fitted,\n",
              "a:link.sk-estimator-doc-link.fitted,\n",
              "a:visited.sk-estimator-doc-link.fitted {\n",
              "  /* fitted */\n",
              "  border: var(--sklearn-color-fitted-level-1) 1pt solid;\n",
              "  color: var(--sklearn-color-fitted-level-1);\n",
              "}\n",
              "\n",
              "/* On hover */\n",
              "div.sk-estimator:hover .sk-estimator-doc-link:hover,\n",
              ".sk-estimator-doc-link:hover,\n",
              "div.sk-label-container:hover .sk-estimator-doc-link:hover,\n",
              ".sk-estimator-doc-link:hover {\n",
              "  /* unfitted */\n",
              "  background-color: var(--sklearn-color-unfitted-level-3);\n",
              "  color: var(--sklearn-color-background);\n",
              "  text-decoration: none;\n",
              "}\n",
              "\n",
              "div.sk-estimator.fitted:hover .sk-estimator-doc-link.fitted:hover,\n",
              ".sk-estimator-doc-link.fitted:hover,\n",
              "div.sk-label-container:hover .sk-estimator-doc-link.fitted:hover,\n",
              ".sk-estimator-doc-link.fitted:hover {\n",
              "  /* fitted */\n",
              "  background-color: var(--sklearn-color-fitted-level-3);\n",
              "  color: var(--sklearn-color-background);\n",
              "  text-decoration: none;\n",
              "}\n",
              "\n",
              "/* Span, style for the box shown on hovering the info icon */\n",
              ".sk-estimator-doc-link span {\n",
              "  display: none;\n",
              "  z-index: 9999;\n",
              "  position: relative;\n",
              "  font-weight: normal;\n",
              "  right: .2ex;\n",
              "  padding: .5ex;\n",
              "  margin: .5ex;\n",
              "  width: min-content;\n",
              "  min-width: 20ex;\n",
              "  max-width: 50ex;\n",
              "  color: var(--sklearn-color-text);\n",
              "  box-shadow: 2pt 2pt 4pt #999;\n",
              "  /* unfitted */\n",
              "  background: var(--sklearn-color-unfitted-level-0);\n",
              "  border: .5pt solid var(--sklearn-color-unfitted-level-3);\n",
              "}\n",
              "\n",
              ".sk-estimator-doc-link.fitted span {\n",
              "  /* fitted */\n",
              "  background: var(--sklearn-color-fitted-level-0);\n",
              "  border: var(--sklearn-color-fitted-level-3);\n",
              "}\n",
              "\n",
              ".sk-estimator-doc-link:hover span {\n",
              "  display: block;\n",
              "}\n",
              "\n",
              "/* \"?\"-specific style due to the `<a>` HTML tag */\n",
              "\n",
              "#sk-container-id-2 a.estimator_doc_link {\n",
              "  float: right;\n",
              "  font-size: 1rem;\n",
              "  line-height: 1em;\n",
              "  font-family: monospace;\n",
              "  background-color: var(--sklearn-color-background);\n",
              "  border-radius: 1rem;\n",
              "  height: 1rem;\n",
              "  width: 1rem;\n",
              "  text-decoration: none;\n",
              "  /* unfitted */\n",
              "  color: var(--sklearn-color-unfitted-level-1);\n",
              "  border: var(--sklearn-color-unfitted-level-1) 1pt solid;\n",
              "}\n",
              "\n",
              "#sk-container-id-2 a.estimator_doc_link.fitted {\n",
              "  /* fitted */\n",
              "  border: var(--sklearn-color-fitted-level-1) 1pt solid;\n",
              "  color: var(--sklearn-color-fitted-level-1);\n",
              "}\n",
              "\n",
              "/* On hover */\n",
              "#sk-container-id-2 a.estimator_doc_link:hover {\n",
              "  /* unfitted */\n",
              "  background-color: var(--sklearn-color-unfitted-level-3);\n",
              "  color: var(--sklearn-color-background);\n",
              "  text-decoration: none;\n",
              "}\n",
              "\n",
              "#sk-container-id-2 a.estimator_doc_link.fitted:hover {\n",
              "  /* fitted */\n",
              "  background-color: var(--sklearn-color-fitted-level-3);\n",
              "}\n",
              "</style><div id=\"sk-container-id-2\" class=\"sk-top-container\"><div class=\"sk-text-repr-fallback\"><pre>GridSearchCV(cv=StratifiedKFold(n_splits=5, random_state=42, shuffle=True),\n",
              "             estimator=Pipeline(steps=[(&#x27;scaler&#x27;, StandardScaler()),\n",
              "                                       (&#x27;pca&#x27;, PCA()),\n",
              "                                       (&#x27;knn&#x27;, KNeighborsClassifier())]),\n",
              "             param_grid={&#x27;knn__n_neighbors&#x27;: [3, 5, 7],\n",
              "                         &#x27;pca__n_components&#x27;: [2, 3]},\n",
              "             scoring=&#x27;accuracy&#x27;, verbose=2)</pre><b>In a Jupyter environment, please rerun this cell to show the HTML representation or trust the notebook. <br />On GitHub, the HTML representation is unable to render, please try loading this page with nbviewer.org.</b></div><div class=\"sk-container\" hidden><div class=\"sk-item sk-dashed-wrapped\"><div class=\"sk-label-container\"><div class=\"sk-label fitted sk-toggleable\"><input class=\"sk-toggleable__control sk-hidden--visually\" id=\"sk-estimator-id-6\" type=\"checkbox\" ><label for=\"sk-estimator-id-6\" class=\"sk-toggleable__label fitted sk-toggleable__label-arrow\"><div><div>GridSearchCV</div></div><div><a class=\"sk-estimator-doc-link fitted\" rel=\"noreferrer\" target=\"_blank\" href=\"https://scikit-learn.org/1.6/modules/generated/sklearn.model_selection.GridSearchCV.html\">?<span>Documentation for GridSearchCV</span></a><span class=\"sk-estimator-doc-link fitted\">i<span>Fitted</span></span></div></label><div class=\"sk-toggleable__content fitted\"><pre>GridSearchCV(cv=StratifiedKFold(n_splits=5, random_state=42, shuffle=True),\n",
              "             estimator=Pipeline(steps=[(&#x27;scaler&#x27;, StandardScaler()),\n",
              "                                       (&#x27;pca&#x27;, PCA()),\n",
              "                                       (&#x27;knn&#x27;, KNeighborsClassifier())]),\n",
              "             param_grid={&#x27;knn__n_neighbors&#x27;: [3, 5, 7],\n",
              "                         &#x27;pca__n_components&#x27;: [2, 3]},\n",
              "             scoring=&#x27;accuracy&#x27;, verbose=2)</pre></div> </div></div><div class=\"sk-parallel\"><div class=\"sk-parallel-item\"><div class=\"sk-item\"><div class=\"sk-label-container\"><div class=\"sk-label fitted sk-toggleable\"><input class=\"sk-toggleable__control sk-hidden--visually\" id=\"sk-estimator-id-7\" type=\"checkbox\" ><label for=\"sk-estimator-id-7\" class=\"sk-toggleable__label fitted sk-toggleable__label-arrow\"><div><div>best_estimator_: Pipeline</div></div></label><div class=\"sk-toggleable__content fitted\"><pre>Pipeline(steps=[(&#x27;scaler&#x27;, StandardScaler()), (&#x27;pca&#x27;, PCA(n_components=3)),\n",
              "                (&#x27;knn&#x27;, KNeighborsClassifier(n_neighbors=7))])</pre></div> </div></div><div class=\"sk-serial\"><div class=\"sk-item\"><div class=\"sk-serial\"><div class=\"sk-item\"><div class=\"sk-estimator fitted sk-toggleable\"><input class=\"sk-toggleable__control sk-hidden--visually\" id=\"sk-estimator-id-8\" type=\"checkbox\" ><label for=\"sk-estimator-id-8\" class=\"sk-toggleable__label fitted sk-toggleable__label-arrow\"><div><div>StandardScaler</div></div><div><a class=\"sk-estimator-doc-link fitted\" rel=\"noreferrer\" target=\"_blank\" href=\"https://scikit-learn.org/1.6/modules/generated/sklearn.preprocessing.StandardScaler.html\">?<span>Documentation for StandardScaler</span></a></div></label><div class=\"sk-toggleable__content fitted\"><pre>StandardScaler()</pre></div> </div></div><div class=\"sk-item\"><div class=\"sk-estimator fitted sk-toggleable\"><input class=\"sk-toggleable__control sk-hidden--visually\" id=\"sk-estimator-id-9\" type=\"checkbox\" ><label for=\"sk-estimator-id-9\" class=\"sk-toggleable__label fitted sk-toggleable__label-arrow\"><div><div>PCA</div></div><div><a class=\"sk-estimator-doc-link fitted\" rel=\"noreferrer\" target=\"_blank\" href=\"https://scikit-learn.org/1.6/modules/generated/sklearn.decomposition.PCA.html\">?<span>Documentation for PCA</span></a></div></label><div class=\"sk-toggleable__content fitted\"><pre>PCA(n_components=3)</pre></div> </div></div><div class=\"sk-item\"><div class=\"sk-estimator fitted sk-toggleable\"><input class=\"sk-toggleable__control sk-hidden--visually\" id=\"sk-estimator-id-10\" type=\"checkbox\" ><label for=\"sk-estimator-id-10\" class=\"sk-toggleable__label fitted sk-toggleable__label-arrow\"><div><div>KNeighborsClassifier</div></div><div><a class=\"sk-estimator-doc-link fitted\" rel=\"noreferrer\" target=\"_blank\" href=\"https://scikit-learn.org/1.6/modules/generated/sklearn.neighbors.KNeighborsClassifier.html\">?<span>Documentation for KNeighborsClassifier</span></a></div></label><div class=\"sk-toggleable__content fitted\"><pre>KNeighborsClassifier(n_neighbors=7)</pre></div> </div></div></div></div></div></div></div></div></div></div></div>"
            ]
          },
          "metadata": {},
          "execution_count": 26
        }
      ],
      "source": [
        "best_model.fit(X_train, y_train)"
      ],
      "execution_count": 26
    },
    {
      "cell_type": "markdown",
      "metadata": {
        "id": "54ee2ba8-3a5b-4336-9ab9-bb82b89be775"
      },
      "source": [
        "Go ahead and explore the `GridSearchCV` graphic that describes your estimator's structure, including the hyperparameters found for the best estimator.\n",
        "You can get specific help on each components by clicking on its question mark.\n"
      ]
    },
    {
      "cell_type": "markdown",
      "metadata": {
        "id": "7fce0a04-c63d-4c1c-9fec-09a4f3ab8ca4"
      },
      "source": [
        "### Exercise 5. Evaluate the accuracy of the best model on the test set\n"
      ]
    },
    {
      "cell_type": "markdown",
      "source": [
        "# Enter your code here\n",
        "test_score = best_model.score(..., ...)\n",
        "print(f\"{test_score:.3f}\")"
      ],
      "metadata": {
        "id": "Jy_Ag3cMuzR_"
      }
    },
    {
      "cell_type": "code",
      "source": [
        "test_score = best_model.score(X_test, y_test)\n",
        "print(f\"Test accuracy: {test_score:.3f}\")\n"
      ],
      "metadata": {
        "colab": {
          "base_uri": "https://localhost:8080/"
        },
        "id": "USsDqA3yuthB",
        "outputId": "c7637a75-f35e-45ec-9fbd-aa606594f8b2"
      },
      "execution_count": 28,
      "outputs": [
        {
          "output_type": "stream",
          "name": "stdout",
          "text": [
            "Test accuracy: 1.000\n"
          ]
        }
      ]
    },
    {
      "cell_type": "markdown",
      "metadata": {
        "id": "aa849e2d-2157-4a94-9fc9-0d44dced07cc"
      },
      "source": [
        "<details><summary>Click here for the solution</summary>\n",
        "    \n",
        "```python\n",
        "test_score = best_model.score(X_test, y_test)\n",
        "print(f\"{test_score:.3f}\")\n",
        "```\n"
      ]
    },
    {
      "cell_type": "markdown",
      "metadata": {
        "id": "d6f36e8b-74cf-479c-9503-434cf2f7d8f2"
      },
      "source": [
        "We've made a great accuracy improvement from 90% to 93%.\n"
      ]
    },
    {
      "cell_type": "markdown",
      "metadata": {
        "id": "d9770711-0a0b-48b2-b451-059578cef48d"
      },
      "source": [
        "### Display the best parameters\n"
      ]
    },
    {
      "cell_type": "code",
      "metadata": {
        "colab": {
          "base_uri": "https://localhost:8080/"
        },
        "id": "d07dfad8-9685-4ddf-be70-2c5e6753f639",
        "outputId": "9306bb82-db86-41c7-8588-87d5bdf724f9"
      },
      "outputs": [
        {
          "output_type": "execute_result",
          "data": {
            "text/plain": [
              "{'knn__n_neighbors': 7, 'pca__n_components': 3}"
            ]
          },
          "metadata": {},
          "execution_count": 30
        }
      ],
      "source": [
        "best_model.best_params_"
      ],
      "execution_count": 30
    },
    {
      "cell_type": "markdown",
      "metadata": {
        "id": "84f6d570-bda9-4f05-8be4-4e934b5add7c"
      },
      "source": [
        "### Plot the confusion matrix for the predictions on the test set\n"
      ]
    },
    {
      "cell_type": "code",
      "metadata": {
        "colab": {
          "base_uri": "https://localhost:8080/",
          "height": 487
        },
        "id": "4a29068f-be4e-4a86-a466-ec39fb6d34fe",
        "outputId": "275d07c5-6e9b-44dc-cf15-030ba422d08e"
      },
      "outputs": [
        {
          "output_type": "display_data",
          "data": {
            "text/plain": [
              "<Figure size 640x480 with 2 Axes>"
            ],
            "image/png": "[encoded data removed]"
          },
          "metadata": {}
        }
      ],
      "source": [
        "y_pred = best_model.predict(X_test)\n",
        "\n",
        "# Generate the confusion matrix for KNN\n",
        "conf_matrix = confusion_matrix(y_test, y_pred)\n",
        "\n",
        "# Create a single plot for the confusion matrix\n",
        "plt.figure()\n",
        "sns.heatmap(conf_matrix, annot=True, cmap='Blues', fmt='d',\n",
        "            xticklabels=labels, yticklabels=labels)\n",
        "\n",
        "# Set the title and labels\n",
        "plt.title('KNN Classification Testing Confusion Matrix')\n",
        "plt.xlabel('Predicted')\n",
        "plt.ylabel('Actual')\n",
        "\n",
        "# Show the plot\n",
        "plt.tight_layout()\n",
        "plt.show()\n"
      ],
      "execution_count": 31
    },
    {
      "cell_type": "markdown",
      "metadata": {
        "id": "cb01b363-0313-408f-99e9-1c2928172f91"
      },
      "source": [
        "That's impressive, only two errors where the predictions were Versicolor but the iris was actually a Virginica.\n",
        "\n",
        "That conludes the lab. You are now equipped with an advanced methodolgy for building sophisticated machine learning models from the ground up. Still, there is much to learn of course. Digging into the rich set of examples from scikit-learn's website is a must. The help documentation is also fantastic. You'll learn something every time you look for certain. Of course, there is no substitude for gaining experience through practice.\n",
        "\n",
        "Now it's time to roll up your sleeves and dive into a hands-on Practice Project.\n"
      ]
    },
    {
      "cell_type": "markdown",
      "metadata": {
        "id": "98c0836a-d0e8-44a3-8f15-d60d724e8eb7"
      },
      "source": [
        "### Congratulations! You've made it this far and are now equipped to complete your Practice Project in preparation for your final project!\n",
        "\n",
        "## Author\n",
        "\n",
        "<a href=\"https://www.linkedin.com/in/jpgrossman/\" target=\"_blank\">Jeff Grossman</a>\n",
        "\n",
        "### Other Contributor(s)\n",
        "\n",
        "<a href=\"https://www.linkedin.com/in/abhishek-gagneja-23051987/\" taget=\"_blank\">Abhishek Gagneja</a>\n",
        "\n",
        "\n",
        "<!-- ## Changelog\n",
        "\n",
        "| Date | Version | Changed by | Change Description |\n",
        "|:------------|:------|:------------------|:---------------------------------------|\n",
        "| 2024-11-20 | 1.0  | Jeff Grossman    | Create lab |\n",
        "\n",
        " -->\n",
        "<h3 align=\"center\"> © IBM Corporation. All rights reserved. <h3/>\n"
      ]
    },
    {
      "cell_type": "code",
      "metadata": {
        "id": "53c73a42-dc1c-46e3-aa42-6583178406ee"
      },
      "outputs": [],
      "source": [],
      "execution_count": null
    }
  ],
  "metadata": {
    "kernelspec": {
      "display_name": "Python 3 (ipykernel)",
      "language": "python",
      "name": "python3"
    },
    "language_info": {
      "codemirror_mode": {
        "name": "ipython",
        "version": 3
      },
      "file_extension": ".py",
      "mimetype": "text/x-python",
      "name": "python",
      "nbconvert_exporter": "python",
      "pygments_lexer": "ipython3",
      "version": "3.11.9"
    },
    "prev_pub_hash": "e7c3fb2acbf8e20d7c922bea565e13c4bd9c7e201849ce552ff4b75a012796d5",
    "colab": {
      "provenance": [],
      "include_colab_link": true
    }
  },
  "nbformat": 4,
  "nbformat_minor": 0
}