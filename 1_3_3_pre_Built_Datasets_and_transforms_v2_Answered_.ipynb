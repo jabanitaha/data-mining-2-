{
  "cells": [
    {
      "cell_type": "markdown",
      "metadata": {
        "id": "view-in-github",
        "colab_type": "text"
      },
      "source": [
        "<a href=\"https://colab.research.google.com/github/jabanitaha/data-mining-2-/blob/main/1_3_3_pre_Built_Datasets_and_transforms_v2_Answered_.ipynb\" target=\"_parent\"><img src=\"https://colab.research.google.com/assets/colab-badge.svg\" alt=\"Open In Colab\"/></a>"
      ]
    },
    {
      "cell_type": "markdown",
      "metadata": {
        "id": "f427dcb4-7312-4559-98e4-a2bc2e3caf44"
      },
      "source": [
        "<p style=\"text-align:center\">\n",
        "    <a href=\"https://skills.network\" target=\"_blank\">\n",
        "    <img src=\"https://cf-courses-data.s3.us.cloud-object-storage.appdomain.cloud/assets/logos/SN_web_lightmode.png\" width=\"200\" alt=\"Skills Network Logo\">\n",
        "    </a>\n",
        "</p>\n"
      ]
    },
    {
      "cell_type": "markdown",
      "metadata": {
        "id": "0748ced1-4c73-4bad-b809-be34ce3bd83b"
      },
      "source": [
        "<h1>Prebuilt Datasets and Transforms</h1>\n"
      ]
    },
    {
      "cell_type": "markdown",
      "metadata": {
        "id": "db7cf174-838c-4847-b9bc-944d31a3ccb4"
      },
      "source": [
        "<h2>Objective</h2><ul><li> How to use MNIST prebuilt dataset in pytorch.</li></ul>\n"
      ]
    },
    {
      "cell_type": "markdown",
      "metadata": {
        "id": "fa5dcca5-56e2-4c2e-a63c-41256cbe190c"
      },
      "source": [
        "<h2>Table of Contents</h2>\n",
        "<p>In this lab, you will use a prebuilt dataset and then use some prebuilt dataset transforms.</p>\n",
        "<ul>\n",
        "    <li><a href=\"#Prebuilt_Dataset\">Prebuilt Datasets</a></li>\n",
        "    <li><a href=\"#Torchvision\">Torchvision Transforms</a></li>\n",
        "</ul>\n",
        "<p>Estimated Time Needed: <strong>10 min</strong></p>\n",
        "\n",
        "<hr>\n"
      ]
    },
    {
      "cell_type": "markdown",
      "metadata": {
        "id": "b28adb67-a79a-48f9-81e7-6c9eb6955885"
      },
      "source": [
        "<h2>Preparation</h2>\n"
      ]
    },
    {
      "cell_type": "markdown",
      "metadata": {
        "id": "d07e9016-71fa-4039-93da-3c3cefe6a5a0"
      },
      "source": [
        "The following are the libraries we are going to use for this lab. The <code>torch.manual_seed()</code> is for forcing the random function to give the same number every time we try to recompile it.\n"
      ]
    },
    {
      "cell_type": "code",
      "source": [
        "# Skip manual installation in Colab — use built-in versions\n",
        "import torch\n",
        "import matplotlib.pylab as plt\n",
        "import numpy as np\n",
        "import torchvision\n",
        "torch.manual_seed(0)\n",
        "\n",
        "# Print versions (optional)\n",
        "print(\"Torch version:\", torch.__version__)\n",
        "print(\"Torchvision version:\", torchvision.__version__)\n"
      ],
      "metadata": {
        "colab": {
          "base_uri": "https://localhost:8080/"
        },
        "id": "syKCYsSXXltQ",
        "outputId": "8b6b1526-4d94-4d08-d85e-6c7fcdc2d53b"
      },
      "execution_count": 3,
      "outputs": [
        {
          "output_type": "stream",
          "name": "stdout",
          "text": [
            "Torch version: 2.6.0+cu124\n",
            "Torchvision version: 0.21.0+cu124\n"
          ]
        }
      ]
    },
    {
      "cell_type": "markdown",
      "metadata": {
        "id": "692c880f-0581-4af7-b872-7b598d874368"
      },
      "source": [
        "This is the function for displaying images.\n"
      ]
    },
    {
      "cell_type": "code",
      "metadata": {
        "id": "23d0fef4-e9b7-425c-892c-a6c69a52c08c"
      },
      "outputs": [],
      "source": [
        "# Show data by diagram\n",
        "\n",
        "def show_data(data_sample, shape = (28, 28)):\n",
        "    plt.imshow(data_sample[0].numpy().reshape(shape), cmap='gray')\n",
        "    plt.title('y = ' + str(data_sample[1]))\n",
        "    plt.show()"
      ],
      "execution_count": 5
    },
    {
      "cell_type": "code",
      "source": [],
      "metadata": {
        "id": "XZZa7O-RYBU1"
      },
      "execution_count": null,
      "outputs": []
    },
    {
      "cell_type": "code",
      "source": [
        "import torch\n",
        "import matplotlib.pyplot as plt\n",
        "from torchvision import datasets, transforms\n",
        "\n",
        "# Define the show_data function\n",
        "def show_data(data_sample, shape=(28, 28)):\n",
        "    image_tensor, label = data_sample\n",
        "    plt.imshow(image_tensor.numpy().reshape(shape), cmap='gray')\n",
        "    plt.title('y = ' + str(label))\n",
        "    plt.axis('off')\n",
        "    plt.show()\n",
        "\n",
        "# Load MNIST dataset with ToTensor transform\n",
        "dataset = datasets.MNIST(root='./data', download=True, transform=transforms.ToTensor())\n",
        "\n",
        "# Show the first sample\n",
        "show_data(dataset[0])\n",
        "\n"
      ],
      "metadata": {
        "colab": {
          "base_uri": "https://localhost:8080/",
          "height": 501
        },
        "id": "8r2U5yOoYBVu",
        "outputId": "c51f3957-eea2-48dd-8c6c-eb1cdcf67732"
      },
      "execution_count": 7,
      "outputs": [
        {
          "output_type": "stream",
          "name": "stderr",
          "text": [
            "100%|██████████| 9.91M/9.91M [00:00<00:00, 35.8MB/s]\n",
            "100%|██████████| 28.9k/28.9k [00:00<00:00, 1.05MB/s]\n",
            "100%|██████████| 1.65M/1.65M [00:00<00:00, 9.28MB/s]\n",
            "100%|██████████| 4.54k/4.54k [00:00<00:00, 4.82MB/s]\n"
          ]
        },
        {
          "output_type": "display_data",
          "data": {
            "text/plain": [
              "<Figure size 640x480 with 1 Axes>"
            ],
            "image/png": "[encoded data removed]"
          },
          "metadata": {}
        }
      ]
    },
    {
      "cell_type": "markdown",
      "metadata": {
        "id": "dbdf7f79-00f3-4d54-b24b-1fb482cc8cbf"
      },
      "source": [
        "<!--Empty Space for separating topics-->\n"
      ]
    },
    {
      "cell_type": "markdown",
      "metadata": {
        "id": "c82d35ec-796b-4b1e-93d9-7f6e42ac70da"
      },
      "source": [
        "<a name=\"Prebuilt_Dataset\"><h2 id=\"Prebuilt_Dataset\">Prebuilt Datasets</h2></a>\n"
      ]
    },
    {
      "cell_type": "markdown",
      "metadata": {
        "id": "39e94870-6f96-4c1f-a9f8-cf84d4d5e307"
      },
      "source": [
        "You will focus on the following libraries:\n"
      ]
    },
    {
      "cell_type": "code",
      "metadata": {
        "id": "55ceef6f-96e4-402e-8ff3-170d2aafa696"
      },
      "outputs": [],
      "source": [
        "# Run the command below when you do not have torchvision installed\n",
        "# !mamba install -y torchvision\n",
        "\n",
        "import torchvision.transforms as transforms\n",
        "import torchvision.datasets as dsets"
      ],
      "execution_count": 8
    },
    {
      "cell_type": "markdown",
      "metadata": {
        "id": "c4f5c7fd-1672-4d15-a702-7c5f333450d8"
      },
      "source": [
        "We can import a prebuilt dataset. In this case, use MNIST. You'll work with several of these parameters later by placing a transform object in the argument <code>transform</code>.\n"
      ]
    },
    {
      "cell_type": "code",
      "metadata": {
        "id": "dc0aca85-5c1f-476e-912a-41d110119f8f"
      },
      "outputs": [],
      "source": [
        "# Import the prebuilt dataset into variable dataset\n",
        "\n",
        "\n",
        "dataset = dsets.MNIST(\n",
        "    root = './data',\n",
        "    download = True,\n",
        "    transform = transforms.ToTensor()\n",
        ")"
      ],
      "execution_count": 9
    },
    {
      "cell_type": "markdown",
      "metadata": {
        "id": "5909fe1c-6fa9-469c-8efe-f932e66ef40b"
      },
      "source": [
        "Each element of the dataset object contains a tuple. Let us see whether the first element in the dataset is a tuple and what is in it.\n"
      ]
    },
    {
      "cell_type": "code",
      "metadata": {
        "colab": {
          "base_uri": "https://localhost:8080/"
        },
        "id": "547f9e6c-c679-4eb2-8cde-ffea710d74ed",
        "outputId": "020d44dd-fc31-49b5-e30e-7db270beca55"
      },
      "outputs": [
        {
          "output_type": "stream",
          "name": "stdout",
          "text": [
            "Type of the first element:  <class 'tuple'>\n",
            "The length of the tuple:  2\n",
            "The shape of the first element in the tuple:  torch.Size([1, 28, 28])\n",
            "The type of the first element in the tuple <class 'torch.Tensor'>\n",
            "The second element in the tuple:  5\n",
            "The type of the second element in the tuple:  <class 'int'>\n",
            "As the result, the structure of the first element in the dataset is (tensor([1, 28, 28]), tensor(7)).\n"
          ]
        }
      ],
      "source": [
        "# Examine whether the elements in dataset MNIST are tuples, and what is in the tuple?\n",
        "\n",
        "print(\"Type of the first element: \", type(dataset[0]))\n",
        "print(\"The length of the tuple: \", len(dataset[0]))\n",
        "print(\"The shape of the first element in the tuple: \", dataset[0][0].shape)\n",
        "print(\"The type of the first element in the tuple\", type(dataset[0][0]))\n",
        "print(\"The second element in the tuple: \", dataset[0][1])\n",
        "print(\"The type of the second element in the tuple: \", type(dataset[0][1]))\n",
        "print(\"As the result, the structure of the first element in the dataset is (tensor([1, 28, 28]), tensor(7)).\")"
      ],
      "execution_count": 10
    },
    {
      "cell_type": "markdown",
      "metadata": {
        "id": "e82bfb88-ebba-4e23-91ae-dc93bf44aa3e"
      },
      "source": [
        "As shown in the output, the first element in the tuple is a cuboid tensor. As you can see, there is a dimension with only size 1, so basically, it is a rectangular tensor.<br>\n",
        "The second element in the tuple is a number tensor, which indicate the real number the image shows. As the second element in the tuple is <code>tensor(7)</code>, the image should show a hand-written 7.\n"
      ]
    },
    {
      "cell_type": "markdown",
      "metadata": {
        "id": "7286ab82-8066-4283-8856-186444cf65e3"
      },
      "source": [
        "<!--Empty Space for separating topics-->\n"
      ]
    },
    {
      "cell_type": "markdown",
      "metadata": {
        "id": "9d75960d-5543-4813-a32f-76f2831b5815"
      },
      "source": [
        "Let us plot the first element in the dataset:\n"
      ]
    },
    {
      "cell_type": "code",
      "metadata": {
        "colab": {
          "base_uri": "https://localhost:8080/",
          "height": 428
        },
        "id": "28f7eb6e-a9b1-4f46-9dc8-4816eef4d45f",
        "outputId": "6a54fa12-bad1-4f01-d897-f86af00d6611"
      },
      "outputs": [
        {
          "output_type": "display_data",
          "data": {
            "text/plain": [
              "<Figure size 640x480 with 1 Axes>"
            ],
            "image/png": "[encoded data removed]"
          },
          "metadata": {}
        }
      ],
      "source": [
        "# Plot the first element in the dataset\n",
        "\n",
        "show_data(dataset[0])"
      ],
      "execution_count": 11
    },
    {
      "cell_type": "markdown",
      "metadata": {
        "id": "da80cda8-c180-4e6e-b1a3-1812daedd734"
      },
      "source": [
        "As we can see, it is a 7.\n"
      ]
    },
    {
      "cell_type": "markdown",
      "metadata": {
        "id": "09daa92d-14ac-4d5b-81b9-c443d3f6aa9f"
      },
      "source": [
        "Plot the second sample:   \n"
      ]
    },
    {
      "cell_type": "code",
      "metadata": {
        "colab": {
          "base_uri": "https://localhost:8080/",
          "height": 428
        },
        "id": "0af69462-e466-4a2d-b819-b51a985b0ac4",
        "outputId": "703fec8c-2ae5-41c2-c998-c1a436eba166"
      },
      "outputs": [
        {
          "output_type": "display_data",
          "data": {
            "text/plain": [
              "<Figure size 640x480 with 1 Axes>"
            ],
            "image/png": "[encoded data removed]"
          },
          "metadata": {}
        }
      ],
      "source": [
        "# Plot the second element in the dataset\n",
        "\n",
        "show_data(dataset[1])"
      ],
      "execution_count": 12
    },
    {
      "cell_type": "markdown",
      "metadata": {
        "id": "568dc4d5-50a9-451a-8efe-eb1478c9e196"
      },
      "source": [
        "<!--Empty Space for separating topics-->\n"
      ]
    },
    {
      "cell_type": "markdown",
      "metadata": {
        "id": "d3d875ad-f108-49b6-8372-89897a34a905"
      },
      "source": [
        "<a name=\"Torchvision\"><h2 id=\"Torchvision\"> Torchvision Transforms  </h2></a>\n"
      ]
    },
    {
      "cell_type": "markdown",
      "metadata": {
        "id": "9c436085-82b6-4e00-8942-c41073fbd926"
      },
      "source": [
        "We can apply some image transform functions on the MNIST dataset.\n"
      ]
    },
    {
      "cell_type": "markdown",
      "metadata": {
        "id": "f4dfc449-aad1-4089-bc31-8072f2ba7673"
      },
      "source": [
        "As an example, the images in the MNIST dataset can be cropped and converted to a tensor. We can use <code>transform.Compose</code> we learned from the previous lab to combine the two transform functions.\n"
      ]
    },
    {
      "cell_type": "code",
      "metadata": {
        "colab": {
          "base_uri": "https://localhost:8080/"
        },
        "id": "4feceed6-9733-469b-84f3-7ef376e05f80",
        "outputId": "a2d0f39f-90cb-47e9-cf62-588e4068f83b"
      },
      "outputs": [
        {
          "output_type": "stream",
          "name": "stdout",
          "text": [
            "The shape of the first element in the first tuple:  torch.Size([1, 20, 20])\n"
          ]
        }
      ],
      "source": [
        "# Combine two transforms: crop and convert to tensor. Apply the compose to MNIST dataset\n",
        "\n",
        "croptensor_data_transform = transforms.Compose([transforms.CenterCrop(20), transforms.ToTensor()])\n",
        "dataset = dsets.MNIST(root = './data', download = True, transform = croptensor_data_transform)\n",
        "print(\"The shape of the first element in the first tuple: \", dataset[0][0].shape)"
      ],
      "execution_count": 13
    },
    {
      "cell_type": "markdown",
      "metadata": {
        "id": "8a97ddbb-a7c5-44d1-a12e-0c2a1b6b845a"
      },
      "source": [
        "We can see the image is now 20 x 20 instead of 28 x 28.\n"
      ]
    },
    {
      "cell_type": "markdown",
      "metadata": {
        "id": "fa4acb37-85fe-4854-aea1-8e4bcdcf5ff1"
      },
      "source": [
        "<!--Empty Space for separating topics-->\n"
      ]
    },
    {
      "cell_type": "markdown",
      "metadata": {
        "id": "6b71d6da-57a1-4678-9e93-e1773015279b"
      },
      "source": [
        "Let us plot the first image again. Notice that the black space around the <b>7</b> become less apparent.\n"
      ]
    },
    {
      "cell_type": "code",
      "metadata": {
        "colab": {
          "base_uri": "https://localhost:8080/",
          "height": 428
        },
        "id": "1b6a7fd2-cccc-49f2-b47f-394ef13b6882",
        "outputId": "2822dd08-a57e-43e2-ecca-477fad60de0a"
      },
      "outputs": [
        {
          "output_type": "display_data",
          "data": {
            "text/plain": [
              "<Figure size 640x480 with 1 Axes>"
            ],
            "image/png": "[encoded data removed]"
          },
          "metadata": {}
        }
      ],
      "source": [
        "# Plot the first element in the dataset\n",
        "\n",
        "show_data(dataset[0],shape = (20, 20))"
      ],
      "execution_count": 14
    },
    {
      "cell_type": "code",
      "metadata": {
        "colab": {
          "base_uri": "https://localhost:8080/",
          "height": 428
        },
        "id": "3029dc70-2b92-40f7-9495-8a323e98a080",
        "outputId": "e8d74f30-2d73-44e8-8b63-367705262b32"
      },
      "outputs": [
        {
          "output_type": "display_data",
          "data": {
            "text/plain": [
              "<Figure size 640x480 with 1 Axes>"
            ],
            "image/png": "[encoded data removed]"
          },
          "metadata": {}
        }
      ],
      "source": [
        "# Plot the second element in the dataset\n",
        "\n",
        "show_data(dataset[1],shape = (20, 20))"
      ],
      "execution_count": 15
    },
    {
      "cell_type": "markdown",
      "metadata": {
        "id": "36d1b2d7-b9a9-4f78-bf77-536ee37469df"
      },
      "source": [
        "In the below example, we horizontally flip the image, and then convert it to a tensor. Use <code>transforms.Compose()</code> to combine these two transform functions. Plot the flipped image.\n"
      ]
    },
    {
      "cell_type": "code",
      "metadata": {
        "colab": {
          "base_uri": "https://localhost:8080/",
          "height": 428
        },
        "id": "3a97bfd2-7be0-4b9a-98ce-8ac135442ea7",
        "outputId": "8fd22790-75c4-46b3-baf6-7b19c19127a1"
      },
      "outputs": [
        {
          "output_type": "display_data",
          "data": {
            "text/plain": [
              "<Figure size 640x480 with 1 Axes>"
            ],
            "image/png": "[encoded data removed]"
          },
          "metadata": {}
        }
      ],
      "source": [
        "# Construct the compose. Apply it on MNIST dataset. Plot the image out.\n",
        "\n",
        "fliptensor_data_transform = transforms.Compose([transforms.RandomHorizontalFlip(p = 1),transforms.ToTensor()])\n",
        "dataset = dsets.MNIST(root = './data', download = True, transform = fliptensor_data_transform)\n",
        "show_data(dataset[1])"
      ],
      "execution_count": 16
    },
    {
      "cell_type": "markdown",
      "metadata": {
        "id": "b427dfa9-9f8f-471b-a259-6a6ebbc74f59"
      },
      "source": [
        "<!--Empty Space for separating topics-->\n"
      ]
    },
    {
      "cell_type": "markdown",
      "metadata": {
        "id": "562a01a6-2b20-454c-ab12-a6d4a0914060"
      },
      "source": [
        "<h3>Practice</h3>\n"
      ]
    },
    {
      "cell_type": "markdown",
      "metadata": {
        "id": "ba38ebec-8baa-479d-a0ba-2e5d2d85f4f7"
      },
      "source": [
        "Try to use the <code>RandomVerticalFlip</code> (vertically flip the image) with horizontally flip and convert to tensor as a compose. Apply the compose on image. Use <code>show_data()</code> to plot the second image (the image as <b>2</b>).\n"
      ]
    },
    {
      "cell_type": "code",
      "metadata": {
        "colab": {
          "base_uri": "https://localhost:8080/",
          "height": 428
        },
        "id": "92a134c3-7c26-4a00-906f-9b4946ced5cc",
        "outputId": "5bf6ce75-e43f-41c8-b774-cd371b7e671d"
      },
      "outputs": [
        {
          "output_type": "display_data",
          "data": {
            "text/plain": [
              "<Figure size 640x480 with 1 Axes>"
            ],
            "image/png": "[encoded data removed]"
          },
          "metadata": {}
        }
      ],
      "source": [
        "# Practice: Combine vertical flip, horizontal flip and convert to tensor as a compose. Apply the compose on image. Then plot the image\n",
        "\n",
        "# Type your code here\n",
        "import torch\n",
        "import matplotlib.pyplot as plt\n",
        "from torchvision import datasets, transforms\n",
        "\n",
        "# Compose: vertical flip → horizontal flip → to tensor\n",
        "transform = transforms.Compose([\n",
        "    transforms.RandomVerticalFlip(p=1.0),     # Always flip vertically\n",
        "    transforms.RandomHorizontalFlip(p=1.0),   # Always flip horizontally\n",
        "    transforms.ToTensor()\n",
        "])\n",
        "\n",
        "# Load MNIST dataset with composed transform\n",
        "mnist_dataset = datasets.MNIST(root='./data', train=True, download=True, transform=transform)\n",
        "\n",
        "# Get one transformed image\n",
        "image_tensor, label = mnist_dataset[0]\n",
        "\n",
        "# Plot the transformed image\n",
        "plt.imshow(image_tensor.squeeze(), cmap='gray')\n",
        "plt.title(f'Flipped MNIST Image (Label: {label})')\n",
        "plt.axis('off')\n",
        "plt.show()\n"
      ],
      "execution_count": 18
    },
    {
      "cell_type": "markdown",
      "metadata": {
        "id": "da7fdb39-e5c8-4277-8a5c-ec44145103b7"
      },
      "source": [
        "Double-click **here** for the solution.\n",
        "\n",
        "<!--\n",
        "my_data_transform = transforms.Compose([transforms.RandomVerticalFlip(p = 1), transforms.RandomHorizontalFlip(p = 1), transforms.ToTensor()])\n",
        "dataset = dsets.MNIST(root = './data', train = False, download = True, transform = my_data_transform)\n",
        "show_data(dataset[1])\n",
        " -->\n"
      ]
    },
    {
      "cell_type": "markdown",
      "metadata": {
        "id": "7c4d6c07-1a2b-4e56-9cce-face11cad2f0"
      },
      "source": [
        "<a href=\"https://dataplatform.cloud.ibm.com/registration/stepone?utm_source=skills_network&utm_content=in_lab_content_link&utm_id=Lab-IBMDeveloperSkillsNetwork-DL0110EN-SkillsNetwork&context=cpdaas&apps=data_science_experience%2Cwatson_machine_learning\"><img src=\"https://cf-courses-data.s3.us.cloud-object-storage.appdomain.cloud/IBMDeveloperSkillsNetwork-DL0110EN-SkillsNetwork/Template/module%201/images/Watson_Studio.png\"></a>\n"
      ]
    },
    {
      "cell_type": "markdown",
      "metadata": {
        "id": "69988285-06d0-4d11-b9f8-be1c41613e26"
      },
      "source": [
        "<!--Empty Space for separating topics-->\n"
      ]
    },
    {
      "cell_type": "markdown",
      "metadata": {
        "id": "c708535f-9c45-43a1-a9a3-79febafb75d2"
      },
      "source": [
        "<h2>About the Authors:</h2>\n",
        "\n",
        "<a href=\"https://www.linkedin.com/in/joseph-s-50398b136/\">Joseph Santarcangelo</a> has a PhD in Electrical Engineering, his research focused on using machine learning, signal processing, and computer vision to determine how videos impact human cognition. Joseph has been working for IBM since he completed his PhD.\n"
      ]
    },
    {
      "cell_type": "markdown",
      "metadata": {
        "id": "2e007ad2-cf05-44c1-938a-02914ecaaba9"
      },
      "source": [
        "Other contributors: <a href=\"https://www.linkedin.com/in/michelleccarey/\">Michelle Carey</a>, <a href=\"www.linkedin.com/in/jiahui-mavis-zhou-a4537814a\">Mavis Zhou</a>\n"
      ]
    },
    {
      "cell_type": "markdown",
      "metadata": {
        "id": "8f2fcf08-ac04-4d82-a725-6b0c29b27015"
      },
      "source": [
        "<!--\n",
        "## Change Log\n",
        "\n",
        "| Date (YYYY-MM-DD) | Version | Changed By | Change Description                                          |\n",
        "| ----------------- | ------- | ---------- | ----------------------------------------------------------- |\n",
        "| 2020-09-21        | 2.0     | Shubham    | Migrated Lab to Markdown and added to course repo in GitLab |\n",
        "-->\n"
      ]
    },
    {
      "cell_type": "markdown",
      "metadata": {
        "id": "aa3bba11-8fd4-466a-8c88-d26c52d0de86"
      },
      "source": [
        "<hr>\n"
      ]
    },
    {
      "cell_type": "markdown",
      "metadata": {
        "id": "171cc962-94ed-4230-bfc3-87cf95df6879"
      },
      "source": [
        "## <h3 align=\"center\"> &#169; IBM Corporation. All rights reserved. <h3/>\n"
      ]
    }
  ],
  "metadata": {
    "kernelspec": {
      "display_name": "Python",
      "language": "python",
      "name": "conda-env-python-py"
    },
    "language_info": {
      "name": "python",
      "version": "3.7.12",
      "mimetype": "text/x-python",
      "codemirror_mode": {
        "name": "ipython",
        "version": 3
      },
      "pygments_lexer": "ipython3",
      "nbconvert_exporter": "python",
      "file_extension": ".py"
    },
    "prev_pub_hash": "1928496fd9a10b9d9a8848cad51eee73eb842a2d08a5331c6b3f7c03a33687eb",
    "colab": {
      "provenance": [],
      "include_colab_link": true
    }
  },
  "nbformat": 4,
  "nbformat_minor": 0
}