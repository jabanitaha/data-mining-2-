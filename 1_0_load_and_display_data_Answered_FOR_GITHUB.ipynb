{
  "cells": [
    {
      "cell_type": "markdown",
      "metadata": {
        "id": "view-in-github",
        "colab_type": "text"
      },
      "source": [
        "<a href=\"https://colab.research.google.com/github/jabanitaha/data-mining-2-/blob/main/1_0_load_and_display_data_Answered_FOR_GITHUB.ipynb\" target=\"_parent\"><img src=\"https://colab.research.google.com/assets/colab-badge.svg\" alt=\"Open In Colab\"/></a>"
      ]
    },
    {
      "cell_type": "markdown",
      "metadata": {
        "id": "io5uA5xufO5r"
      },
      "source": [
        "<a href=\"http://cocl.us/pytorch_link_top\">\n",
        "    <img src=\"https://s3-api.us-geo.objectstorage.softlayer.net/cf-courses-data/CognitiveClass/DL0110EN/notebook_images%20/Pytochtop.png\" width=\"750\" alt=\"IBM Product \">\n",
        "</a>\n"
      ]
    },
    {
      "cell_type": "markdown",
      "metadata": {
        "id": "ENQKlMn3fO5s"
      },
      "source": [
        "<img src=\"https://cf-courses-data.s3.us.cloud-object-storage.appdomain.cloud/IBMDeveloperSkillsNetwork-DL0321EN-SkillsNetwork/image/IDSN-logo.png\" width=\"200\" alt=\"cognitiveclass.ai logo\">\n"
      ]
    },
    {
      "cell_type": "markdown",
      "metadata": {
        "id": "ke9BI5CFfO5s"
      },
      "source": [
        "<h2>Objective</h2><ul><li> How to download and pre-process the Concrete dataset.</li></ul> <p>Crack detection has vital importance for structural health monitoring and inspection. We would like to train a network to detect Cracks, we will denote the images that contain cracks as positive and images with no cracks as negative. In this lab you are going to have to download the data and study the dataset. There are two questions in this lab, including listing the path to some of the image files as well as plotting a few images. Remember the results as you will be quizzed on them. </p>\n"
      ]
    },
    {
      "cell_type": "markdown",
      "metadata": {
        "id": "uKU-qWz3fO5t"
      },
      "source": [
        "<h2>Table of Contents</h2>\n"
      ]
    },
    {
      "cell_type": "markdown",
      "metadata": {
        "id": "0tyg63N3fO5t"
      },
      "source": [
        "<div class=\"alert alert-block alert-info\" style=\"margin-top: 20px\">\n",
        "\n",
        "\n",
        "<ul>\n",
        "    <li><a href=\"#auxiliary\"> Imports and Auxiliary Functions </a></li>\n",
        "    <li><a href=\"#download_data\"> Download data</a></li>\n",
        "    <li><a href=\"#examine_files\">Examine Files</a></li>\n",
        "    <li><a href=\"#Question_1\">Question 1 </a></li>\n",
        "    <li><a href=\"#Display\">Display and Analyze Image With No Cracks    </a></li>\n",
        "    <li><a href=\"#Question_2\">Question 2 </a></li>\n",
        "</ul>\n",
        "<p>Estimated Time Needed: <strong>25 min</strong></p>\n",
        " </div>\n",
        "<hr>\n"
      ]
    },
    {
      "cell_type": "markdown",
      "metadata": {
        "id": "4Pv6WsEvfO5t"
      },
      "source": [
        "<h2 id=\"auxiliary\">Imports and Auxiliary Functions</h2>\n"
      ]
    },
    {
      "cell_type": "code",
      "execution_count": null,
      "metadata": {
        "id": "-GBKhB9zfO5t"
      },
      "outputs": [],
      "source": [
        "!pip install skillsnetwork"
      ]
    },
    {
      "cell_type": "markdown",
      "metadata": {
        "id": "wcvCr3wsfO5t"
      },
      "source": [
        "The following are the libraries we are going to use for this lab:\n"
      ]
    },
    {
      "cell_type": "code",
      "execution_count": null,
      "metadata": {
        "id": "P-qOwU-wfO5t"
      },
      "outputs": [],
      "source": [
        "from PIL import Image\n",
        "from matplotlib.pyplot import imshow\n",
        "import pandas\n",
        "import matplotlib.pylab as plt\n",
        "import os\n",
        "import glob\n"
      ]
    },
    {
      "cell_type": "markdown",
      "metadata": {
        "id": "epjyAamEfO5u"
      },
      "source": [
        "We will use this function in the lab to plot:\n"
      ]
    },
    {
      "cell_type": "code",
      "execution_count": null,
      "metadata": {
        "id": "k_dfI2yffO5u"
      },
      "outputs": [],
      "source": [
        "def show_data(data_sample, shape = (28, 28)):\n",
        "    plt.imshow(data_sample[0].numpy().reshape(shape), cmap='gray')\n",
        "    plt.title('y = ' + data_sample[1])"
      ]
    },
    {
      "cell_type": "markdown",
      "metadata": {
        "id": "AiXrPN9UfO5u"
      },
      "source": [
        "<h2 id=\"download_data\">Download Data</h2>\n"
      ]
    },
    {
      "cell_type": "markdown",
      "metadata": {
        "id": "x381naJEfO5u"
      },
      "source": [
        "In this section, you are going to download the data from IBM object storage using **skillsnetwork.prepare** command. <b>skillsnetwork.prepare</b> is a command that's used to download a zip file, unzip it and store it in a specified directory. Locally we store the data in the directory  **/resources/data**.\n"
      ]
    },
    {
      "cell_type": "code",
      "execution_count": null,
      "metadata": {
        "id": "K6NDbUo5fO5u"
      },
      "outputs": [],
      "source": [
        "# Install the skillsnetwork package\n",
        "!pip install skillsnetwork --quiet\n",
        "\n",
        "# Create the data directory\n",
        "import os\n",
        "os.makedirs(\"/resources/data\", exist_ok=True)\n",
        "\n",
        "# Import the library\n",
        "import skillsnetwork\n",
        "\n",
        "# Run the data download\n",
        "await skillsnetwork.prepare(\n",
        "    \"https://s3-api.us-geo.objectstorage.softlayer.net/cf-courses-data/CognitiveClass/DL0321EN/data/images/concrete_crack_images_for_classification.zip\",\n",
        "    path=\"/resources/data\",\n",
        "    overwrite=True\n",
        ")\n"
      ]
    },
    {
      "cell_type": "markdown",
      "metadata": {
        "id": "hLa0kcxdfO5u"
      },
      "source": [
        "We then download the files that contain the negative images:\n"
      ]
    },
    {
      "cell_type": "markdown",
      "metadata": {
        "id": "tkRB8QDPfO5u"
      },
      "source": [
        "<h2 id=\"examine_files\">Examine Files </h2>\n"
      ]
    },
    {
      "cell_type": "markdown",
      "metadata": {
        "id": "XW_LSnBVfO5u"
      },
      "source": [
        "In this section we are going to get a list of the negative image files, then plot them. Then for the first question your job to do something similar to the positive files.\n"
      ]
    },
    {
      "cell_type": "markdown",
      "metadata": {
        "id": "s6rTzOn3fO5u"
      },
      "source": [
        "The path to all the images are stored in the variable  <code>directory</code>.\n"
      ]
    },
    {
      "cell_type": "code",
      "execution_count": null,
      "metadata": {
        "id": "DKlaLgdzfO5u"
      },
      "outputs": [],
      "source": [
        "directory=\"/resources/data\""
      ]
    },
    {
      "cell_type": "markdown",
      "metadata": {
        "id": "HzIzsIbpfO5u"
      },
      "source": [
        "The images with out the cracks are stored in the file <b>Negative</b>\n"
      ]
    },
    {
      "cell_type": "code",
      "execution_count": null,
      "metadata": {
        "id": "fcYkQGPWfO5u"
      },
      "outputs": [],
      "source": [
        "negative='Negative'"
      ]
    },
    {
      "cell_type": "markdown",
      "metadata": {
        "id": "thDdKRABfO5u"
      },
      "source": [
        "We can find the path to the file with all the negative images by  using the function <code>os.path.join</code>. Inputs are the variable directory as well as the variable  <code>negative</code>.\n"
      ]
    },
    {
      "cell_type": "code",
      "execution_count": null,
      "metadata": {
        "id": "wZ_4QMlMfO5v"
      },
      "outputs": [],
      "source": [
        "negative_file_path=os.path.join(directory,negative)\n",
        "negative_file_path"
      ]
    },
    {
      "cell_type": "markdown",
      "metadata": {
        "id": "DXtDd4e5fO5v"
      },
      "source": [
        "<h3> Loading the File Path of Each Image </h3>\n"
      ]
    },
    {
      "cell_type": "markdown",
      "metadata": {
        "id": "UXUpPrhifO5v"
      },
      "source": [
        "We need each the path of each image, we can find the all the file in the directory  <code>negative_file_path</code> using the function <code>os.listdir</code>, the result is a list. We print out the first three elements of the list.\n"
      ]
    },
    {
      "cell_type": "code",
      "execution_count": null,
      "metadata": {
        "id": "SbGxUxNkfO5v"
      },
      "outputs": [],
      "source": [
        " os.listdir(negative_file_path)[0:3]"
      ]
    },
    {
      "cell_type": "markdown",
      "metadata": {
        "id": "6QG2Xsm6fO5v"
      },
      "source": [
        "We need the full path of the image so we join them as above. Here are a few samples  three samples:\n"
      ]
    },
    {
      "cell_type": "code",
      "execution_count": null,
      "metadata": {
        "id": "b8IOzDQSfO5v"
      },
      "outputs": [],
      "source": [
        "[os.path.join(negative_file_path,file) for file in  os.listdir(negative_file_path)][0:3]"
      ]
    },
    {
      "cell_type": "markdown",
      "metadata": {
        "id": "fQqYbioxfO5v"
      },
      "source": [
        "In some cases, we may have files of a different type, so we have to ensure it's of type <b>jpg</b>. We have to check the extension using the method <code> endswith()</code>. The method  <code>endswith()</code> returns True if the string ends with the specified suffix, otherwise, it will return False. Let's do a quick example:\n"
      ]
    },
    {
      "cell_type": "code",
      "execution_count": null,
      "metadata": {
        "id": "XQEWGmRpfO5v"
      },
      "outputs": [],
      "source": [
        "print(\"test.jpg\".endswith(\".jpg\"))\n",
        "print(\"test.mpg\".endswith(\".jpg\"))"
      ]
    },
    {
      "cell_type": "markdown",
      "metadata": {
        "id": "7ZV9vePSfO5v"
      },
      "source": [
        "We now have all the tools to create a list with the path to each image file.  We use a List Comprehensions  to make the code more compact. We assign it to the variable <code>negative_files<code> , sort it in and display the first three elements:\n"
      ]
    },
    {
      "cell_type": "code",
      "execution_count": null,
      "metadata": {
        "id": "q0Y_iyRyfO5v"
      },
      "outputs": [],
      "source": [
        "negative_files=[os.path.join(negative_file_path,file) for file in  os.listdir(negative_file_path) if file.endswith(\".jpg\")]\n",
        "negative_files.sort()\n",
        "negative_files[0:3]"
      ]
    },
    {
      "cell_type": "markdown",
      "metadata": {
        "id": "LJxKCC0XfO5v"
      },
      "source": [
        "\n",
        "\n",
        "<h2 id=\"Question_1\">Question 1</h2>\n"
      ]
    },
    {
      "cell_type": "markdown",
      "metadata": {
        "id": "y-kMOaEdfO5v"
      },
      "source": [
        "<b>Using the procedure above, load all the images with cracks paths into a list called positive files, the directory of these images is called Positive.  Make sure the list is sorted and display the first three elements of the list you will need this for the question so remember it.</b>\n"
      ]
    },
    {
      "cell_type": "code",
      "execution_count": null,
      "metadata": {
        "id": "FvxLLCBFfO5v"
      },
      "outputs": [],
      "source": [
        "positive=\"Positive\"\n"
      ]
    },
    {
      "cell_type": "markdown",
      "metadata": {
        "id": "p6x3PtpFfO5v"
      },
      "source": [
        "<h2 id=\"Display\">Display and Analyze Image With No Cracks</h2>\n"
      ]
    },
    {
      "cell_type": "markdown",
      "metadata": {
        "id": "XTPQZXegfO5v"
      },
      "source": [
        "We can open an image by using the <code>Image</code> Module in the  <b>PIL</b> library, using the function open. We only require the image path; the input is the path of the image. For example we can load the first image as follows:\n"
      ]
    },
    {
      "cell_type": "code",
      "execution_count": null,
      "metadata": {
        "id": "Y2EPrHVkfO5v"
      },
      "outputs": [],
      "source": [
        "\n",
        "image1 = Image.open(negative_files[0])\n",
        "# you can view the image directly\n",
        "#image"
      ]
    },
    {
      "cell_type": "markdown",
      "metadata": {
        "id": "N2IMZQ88fO5w"
      },
      "source": [
        "we can plot the image\n"
      ]
    },
    {
      "cell_type": "code",
      "execution_count": null,
      "metadata": {
        "id": "capAkH4efO53"
      },
      "outputs": [],
      "source": [
        "plt.imshow(image1)\n",
        "plt.title(\"1st Image With No Cracks\")\n",
        "plt.show()"
      ]
    },
    {
      "cell_type": "markdown",
      "metadata": {
        "id": "UXNStrZUfO53"
      },
      "source": [
        "We can also plot the second image.\n"
      ]
    },
    {
      "cell_type": "code",
      "execution_count": null,
      "metadata": {
        "id": "19cW0VWIfO53"
      },
      "outputs": [],
      "source": [
        "image2 = Image.open(negative_files[1])\n",
        "plt.imshow(image2)\n",
        "plt.title(\"2nd Image With No Cracks\")\n",
        "plt.show()"
      ]
    },
    {
      "cell_type": "code",
      "execution_count": null,
      "metadata": {
        "id": "zZkHfqxQfO53"
      },
      "outputs": [],
      "source": [
        "# soultion of excerize\n",
        "import glob\n",
        "import os\n",
        "\n",
        "# Define the path to the \"Positive\" folder\n",
        "positive_dir = \"/resources/data/Positive\"\n",
        "\n",
        "# Get all image file paths in the Positive folder\n",
        "positive_files = glob.glob(os.path.join(positive_dir, \"*.jpg\"))\n",
        "\n",
        "# Sort the list (alphabetically)\n",
        "positive_files.sort()\n",
        "\n",
        "# Display the first 3 file paths\n",
        "print(\"First 3 positive image file paths:\")\n",
        "for path in positive_files[:3]:\n",
        "    print(path)\n"
      ]
    },
    {
      "cell_type": "code",
      "execution_count": null,
      "metadata": {
        "id": "haNUXB5GfO53"
      },
      "outputs": [],
      "source": [
        "from PIL import Image\n",
        "import matplotlib.pyplot as plt\n",
        "import glob\n",
        "import os\n",
        "\n",
        "# Load image paths if not already done\n",
        "negative_dir = \"/resources/data/Negative\"\n",
        "negative_files = glob.glob(os.path.join(negative_dir, \"*.jpg\"))\n",
        "negative_files.sort()\n",
        "\n",
        "# Open and show the first image\n",
        "image1 = Image.open(negative_files[0])\n",
        "plt.imshow(image1)\n",
        "plt.title(\"1st Image With No Cracks\")\n",
        "plt.axis('off')\n",
        "plt.show()\n",
        "\n",
        "# Open and show the second image\n",
        "image2 = Image.open(negative_files[1])\n",
        "plt.imshow(image2)\n",
        "plt.title(\"2nd Image With No Cracks\")\n",
        "plt.axis('off')\n",
        "plt.show()\n"
      ]
    },
    {
      "cell_type": "markdown",
      "metadata": {
        "id": "MiDH8WjOfO53"
      },
      "source": [
        "<h2 id=\"Question_2\">Question 2</h2>\n"
      ]
    },
    {
      "cell_type": "markdown",
      "metadata": {
        "id": "lGizDYgvfO53"
      },
      "source": [
        "<b>Plot the first three images for the dataset with cracks. Don't forget. You will be asked in the quiz, so remember the image. </b>\n",
        "\n"
      ]
    },
    {
      "cell_type": "markdown",
      "metadata": {
        "id": "Uwn1xLmDfO53"
      },
      "source": [
        "✅ One Code Box: Plot First 3 Crack Images (positive_files)\n",
        "\n"
      ]
    },
    {
      "cell_type": "code",
      "execution_count": null,
      "metadata": {
        "id": "THOJukVUfO54"
      },
      "outputs": [],
      "source": [
        "from PIL import Image\n",
        "import matplotlib.pyplot as plt\n",
        "\n",
        "# Plot the first 3 images with cracks\n",
        "for i in range(3):\n",
        "    image = Image.open(positive_files[i])\n",
        "    plt.imshow(image)\n",
        "    plt.title(f\"Positive Image {i+1} (Crack)\")\n",
        "    plt.axis('off')\n",
        "    plt.show()\n"
      ]
    },
    {
      "cell_type": "markdown",
      "metadata": {
        "id": "4gTD01KmfO54"
      },
      "source": [
        "<hr>\n"
      ]
    },
    {
      "cell_type": "markdown",
      "metadata": {
        "id": "Az1McTS-fO54"
      },
      "source": [
        "<h2>About the Authors:</h2>\n",
        "\n",
        "<a href=\"https://www.linkedin.com/in/joseph-s-50398b136/?utm_medium=Exinfluencer&utm_source=Exinfluencer&utm_content=000026UJ&utm_term=10006555&utm_id=NA-SkillsNetwork-Channel-SkillsNetworkCoursesIBMDeveloperSkillsNetworkDL0321ENSkillsNetwork951-2022-01-01\">Joseph Santarcangelo</a> has a PhD in Electrical Engineering, his research focused on using machine learning, signal processing, and computer vision to determine how videos impact human cognition. Joseph has been working for IBM since he completed his PhD.\n"
      ]
    },
    {
      "cell_type": "markdown",
      "metadata": {
        "id": "pSj1iLhWfO54"
      },
      "source": [
        " [Alex Aklson](https://www.linkedin.com/in/aklson/?utm_medium=Exinfluencer&utm_source=Exinfluencer&utm_content=000026UJ&utm_term=10006555&utm_id=NA-SkillsNetwork-Channel-SkillsNetworkCoursesIBMDeveloperSkillsNetworkDL0321ENSkillsNetwork951-2022-01-01). Ph.D., is a data scientist in the Digital Business Group at IBM Canada. Alex has been intensively involved in many exciting data science projects such as designing a smart system that could detect the onset of dementia in older adults using longitudinal trajectories of walking speed and home activity. Before joining IBM, Alex worked as a data scientist at Datascope Analytics, a data science consulting firm in Chicago, IL, where he designed solutions and products using a human-centred, data-driven approach. Alex received his Ph.D. in Biomedical Engineering from the University of Toronto.\n"
      ]
    },
    {
      "cell_type": "markdown",
      "metadata": {
        "id": "Kzcwi-MyfO54"
      },
      "source": [
        "\n",
        "## Change Log\n",
        "\n",
        "|  Date (YYYY-MM-DD) |  Version | Changed By  |  Change Description |\n",
        "|---|---|---|---|\n",
        "| 2020-09-18  | 2.0  | Shubham  |  Migrated Lab to Markdown and added to course repo in GitLab |\n",
        "\n",
        "\n",
        "\n",
        "<hr>\n",
        "\n",
        "## <h3 align=\"center\"> © IBM Corporation 2020. All rights reserved. <h3/>\n"
      ]
    }
  ],
  "metadata": {
    "colab": {
      "provenance": [],
      "include_colab_link": true
    }
  },
  "nbformat": 4,
  "nbformat_minor": 0
}