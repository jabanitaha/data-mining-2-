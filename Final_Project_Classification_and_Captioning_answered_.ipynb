{
  "cells": [
    {
      "cell_type": "markdown",
      "metadata": {
        "id": "view-in-github",
        "colab_type": "text"
      },
      "source": [
        "<a href=\"https://colab.research.google.com/github/jabanitaha/data-mining-2-/blob/main/Final_Project_Classification_and_Captioning_answered_.ipynb\" target=\"_parent\"><img src=\"https://colab.research.google.com/assets/colab-badge.svg\" alt=\"Open In Colab\"/></a>"
      ]
    },
    {
      "cell_type": "markdown",
      "metadata": {
        "id": "bd255a8b-83cc-4ca8-99a4-cd263081bcd0"
      },
      "source": [
        "<p style=\"text-align:center\">\n",
        "    <a href=\"https://skills.network\" target=\"_blank\">\n",
        "    <img src=\"https://cf-courses-data.s3.us.cloud-object-storage.appdomain.cloud/assets/logos/SN_web_lightmode.png\" width=\"200\" alt=\"Skills Network Logo\"  />\n",
        "    </a>\n",
        "</p>\n"
      ]
    },
    {
      "cell_type": "markdown",
      "metadata": {
        "id": "a09deab8-243d-4e10-af9d-b1490625a13c"
      },
      "source": [
        "# Final Project: Classification and Captioning Aircraft Damage Using Pretrained Models\n"
      ]
    },
    {
      "cell_type": "markdown",
      "metadata": {
        "id": "aca17f62-8229-4cb1-a757-1c69d980c0dd"
      },
      "source": [
        "Estimated time needed: **90** minutes\n"
      ]
    },
    {
      "cell_type": "markdown",
      "metadata": {
        "id": "6a16bdba-05a9-4ed7-a57c-10e5e90490ae"
      },
      "source": [
        "## **Introduction**\n",
        "\n",
        "In this project, you will classify aircraft damage using a pre-trained VGG16 model and generate captions using a Transformer-based pretrained model.\n",
        "\n",
        "## **Project Overview**\n",
        "\n",
        "Aircraft damage detection is essential for maintaining the safety and longevity of aircraft. Traditional manual inspection methods are time-consuming and prone to human error. This project aims to automate the classification of aircraft damage into two categories: \"dent\" and \"crack.\" For this, we will utilize feature extraction with a pre-trained VGG16 model to classify the damage from aircraft images. Additionally, we will use a pre-trained Transformer model to generate captions and summaries for the images.\n",
        "\n",
        "## **Aim of the Project**\n",
        "\n",
        "The goal of this project is to develop an automated model that accurately classifies aircraft damage from images. By the end of the project, you will have trained and evaluated a model that utilizes feature extraction from VGG16 for damage classification. This model will be applicable in real-world damage detection within the aviation industry. Furthermore, the project will showcase how we can use a Transformer-based model to caption and summarize images, providing a detailed description of the damage.\n",
        "\n",
        "## **Final Output**\n",
        "\n",
        "- A trained model capable of classifying aircraft images into \"dent\" and \"crack\" categories, enabling automated aircraft damage detection.\n",
        "- A Transformer-based model that generates captions and summaries of images\n"
      ]
    },
    {
      "cell_type": "markdown",
      "metadata": {
        "id": "2485c766-0ca8-4fe8-ac34-e273f710e31f"
      },
      "source": [
        "You will be using the [Aircraft dataset](https://cf-courses-data.s3.us.cloud-object-storage.appdomain.cloud/ZjXM4RKxlBK9__ZjHBLl5A/aircraft-damage-dataset-v1.tar).\n",
        "The dataset is taken from the here (Original Source): [Roboflow Aircraft Dataset](https://universe.roboflow.com/youssef-donia-fhktl/aircraft-damage-detection-1j9qk) Provided by a Roboflow user, License: CC BY 4.\n"
      ]
    },
    {
      "cell_type": "markdown",
      "metadata": {
        "id": "772587bf-7703-442b-92ce-19f0d2ec7727"
      },
      "source": [
        "<h2>Table of Contents</h2>\n",
        "\n",
        "<div class=\"alert alert-block alert-info\" style=\"margin-top: 20px\">\n",
        "    <p><font size=\"5\">Part 1 - Classification Problem: Classifying the defect on the aircraft as 'dent' or 'crack'</p>\n",
        "<font size=\"3\">\n",
        "        1. <a href=\"#1.1-Dataset-Preparation\">1.1 Dataset Preparation</a><br>\n",
        "        2. <a href=\"#1.2-Data-Preprocessing\">1.2 Data Preprocessing</a><br>\n",
        "        3. <a href=\"#1.3-Model-Definition\">1.3 Model Definition</a><br>\n",
        "        4. <a href=\"#1.4-Model-Training\">1.4 Model Training</a><br>\n",
        "        5. <a href=\"#1.5-Visualizing-Training-Results\">1.5 Visualizing Training Results</a><br>\n",
        "        6. <a href=\"#1.6-Model-Evaluation\">1.6 Model Evaluation</a><br>\n",
        "        7. <a href=\"#1.7-Visualizing-Predictions\">1.7 Visualizing Predictions</a><br>\n",
        "    <br>\n",
        "<p><font size=\"5\">Part 2: Image Captioning and Summarization using BLIP Pretrained Model</p>\n",
        "<font size=\"3\">\n",
        "        1. <a href=\"#2.1-Loading-BLIP-Model\">2.1 Loading BLIP Model</a><br>\n",
        "        2. <a href=\"#2.2-Generating-Captions-and-Summaries\">2.2 Generating Captions and Summaries</a><br>\n",
        "        <br>\n",
        "    \n"
      ]
    },
    {
      "cell_type": "markdown",
      "metadata": {
        "id": "785e99ac-0960-44a9-a98c-09a93a8e0cfb"
      },
      "source": [
        "# 1.1 Dataset-Preparation\n"
      ]
    },
    {
      "cell_type": "markdown",
      "metadata": {
        "id": "3666d9e5-90c4-4da7-a4ae-51c45a8203ea"
      },
      "source": [
        "## Objectives\n",
        "\n",
        "After you complete the project, you will be able to:\n",
        "\n",
        "- Use the VGG16 model for image classification.\n",
        "- Prepare and preprocess image data for a machine learning task.\n",
        "- Evaluate the model’s performance using appropriate metrics.\n",
        "- Visualize model predictions on test data.\n",
        "- Use a custom Keras layer.\n",
        "\n",
        "\n",
        " ### Task List\n",
        "To achieve the above objectives, you will complete the following tasks:\n",
        "\n",
        "- Task 1: Create a `valid_generator` using the `valid_datagen` object\n",
        "- Task 2: Create a `test_generator` using the `test_datagen` object\n",
        "- Task 3: Load the VGG16 model\n",
        "- Task 4: Compile the model\n",
        "- Task 5: Train the model\n",
        "- Task 6: Plot accuracy curves for training and validation sets\n",
        "- Task 7: Visualizing the results\n",
        "- Task 8: Implement a Helper Function to Use the Custom Keras Layer\n",
        "- Task 9: Generate a caption for an image using the using BLIP pretrained model\n",
        "- Task 10: Generate a summary of an image using BLIP pretrained model\n",
        "\n",
        "**Note**:.<br>\n",
        "1. For each task, copy and save the code or output as mentioned in the task for final grading.<br>\n",
        "2. Download the file after completion of the final project.The file should have both code and output.This will be used for final grading.\n"
      ]
    },
    {
      "cell_type": "markdown",
      "metadata": {
        "id": "3e125355-045d-4f89-bebe-1cee4f6bf482"
      },
      "source": [
        "## Setup\n"
      ]
    },
    {
      "cell_type": "code",
      "metadata": {
        "id": "5be021e3-88e2-44bd-b8de-903addc83271"
      },
      "outputs": [],
      "source": [
        "import warnings\n",
        "warnings.filterwarnings('ignore')"
      ],
      "execution_count": 1
    },
    {
      "cell_type": "markdown",
      "metadata": {
        "id": "1c9d5d8a-3f95-4335-a719-30d2bed1e3ea"
      },
      "source": [
        "### Installing Required Libraries\n"
      ]
    },
    {
      "cell_type": "markdown",
      "metadata": {
        "id": "77d37302-42f9-47e7-bef8-0fdada0f35f4"
      },
      "source": [
        "The following required libraries are __not__ pre-installed in the Skills Network Labs environment. __You will need to run the following cell__ to install them:\n"
      ]
    },
    {
      "cell_type": "code",
      "metadata": {
        "colab": {
          "base_uri": "https://localhost:8080/",
          "height": 3568
        },
        "id": "b8104fcc-fdfd-445e-a919-862c1d63c66a",
        "outputId": "dc7d7f44-79eb-4cef-aeee-d573e4da9d80"
      },
      "outputs": [
        {
          "output_type": "stream",
          "name": "stdout",
          "text": [
            "Requirement already satisfied: pandas==2.2.3 in /usr/local/lib/python3.11/dist-packages (2.2.3)\n",
            "Requirement already satisfied: numpy>=1.23.2 in /usr/local/lib/python3.11/dist-packages (from pandas==2.2.3) (1.26.4)\n",
            "Requirement already satisfied: python-dateutil>=2.8.2 in /usr/local/lib/python3.11/dist-packages (from pandas==2.2.3) (2.9.0.post0)\n",
            "Requirement already satisfied: pytz>=2020.1 in /usr/local/lib/python3.11/dist-packages (from pandas==2.2.3) (2025.2)\n",
            "Requirement already satisfied: tzdata>=2022.7 in /usr/local/lib/python3.11/dist-packages (from pandas==2.2.3) (2025.2)\n",
            "Requirement already satisfied: six>=1.5 in /usr/local/lib/python3.11/dist-packages (from python-dateutil>=2.8.2->pandas==2.2.3) (1.17.0)\n",
            "Requirement already satisfied: tensorflow==2.17.1 in /usr/local/lib/python3.11/dist-packages (2.17.1)\n",
            "Requirement already satisfied: absl-py>=1.0.0 in /usr/local/lib/python3.11/dist-packages (from tensorflow==2.17.1) (1.4.0)\n",
            "Requirement already satisfied: astunparse>=1.6.0 in /usr/local/lib/python3.11/dist-packages (from tensorflow==2.17.1) (1.6.3)\n",
            "Requirement already satisfied: flatbuffers>=24.3.25 in /usr/local/lib/python3.11/dist-packages (from tensorflow==2.17.1) (25.2.10)\n",
            "Requirement already satisfied: gast!=0.5.0,!=0.5.1,!=0.5.2,>=0.2.1 in /usr/local/lib/python3.11/dist-packages (from tensorflow==2.17.1) (0.6.0)\n",
            "Requirement already satisfied: google-pasta>=0.1.1 in /usr/local/lib/python3.11/dist-packages (from tensorflow==2.17.1) (0.2.0)\n",
            "Requirement already satisfied: h5py>=3.10.0 in /usr/local/lib/python3.11/dist-packages (from tensorflow==2.17.1) (3.14.0)\n",
            "Requirement already satisfied: libclang>=13.0.0 in /usr/local/lib/python3.11/dist-packages (from tensorflow==2.17.1) (18.1.1)\n",
            "Requirement already satisfied: ml-dtypes<0.5.0,>=0.3.1 in /usr/local/lib/python3.11/dist-packages (from tensorflow==2.17.1) (0.4.1)\n",
            "Requirement already satisfied: opt-einsum>=2.3.2 in /usr/local/lib/python3.11/dist-packages (from tensorflow==2.17.1) (3.4.0)\n",
            "Requirement already satisfied: packaging in /usr/local/lib/python3.11/dist-packages (from tensorflow==2.17.1) (24.2)\n",
            "Requirement already satisfied: protobuf!=4.21.0,!=4.21.1,!=4.21.2,!=4.21.3,!=4.21.4,!=4.21.5,<5.0.0dev,>=3.20.3 in /usr/local/lib/python3.11/dist-packages (from tensorflow==2.17.1) (4.25.8)\n",
            "Requirement already satisfied: requests<3,>=2.21.0 in /usr/local/lib/python3.11/dist-packages (from tensorflow==2.17.1) (2.32.3)\n",
            "Requirement already satisfied: setuptools in /usr/local/lib/python3.11/dist-packages (from tensorflow==2.17.1) (75.2.0)\n",
            "Requirement already satisfied: six>=1.12.0 in /usr/local/lib/python3.11/dist-packages (from tensorflow==2.17.1) (1.17.0)\n",
            "Requirement already satisfied: termcolor>=1.1.0 in /usr/local/lib/python3.11/dist-packages (from tensorflow==2.17.1) (3.1.0)\n",
            "Requirement already satisfied: typing-extensions>=3.6.6 in /usr/local/lib/python3.11/dist-packages (from tensorflow==2.17.1) (4.14.0)\n",
            "Requirement already satisfied: wrapt>=1.11.0 in /usr/local/lib/python3.11/dist-packages (from tensorflow==2.17.1) (1.17.2)\n",
            "Requirement already satisfied: grpcio<2.0,>=1.24.3 in /usr/local/lib/python3.11/dist-packages (from tensorflow==2.17.1) (1.73.0)\n",
            "Requirement already satisfied: tensorboard<2.18,>=2.17 in /usr/local/lib/python3.11/dist-packages (from tensorflow==2.17.1) (2.17.1)\n",
            "Requirement already satisfied: keras>=3.2.0 in /usr/local/lib/python3.11/dist-packages (from tensorflow==2.17.1) (3.8.0)\n",
            "Requirement already satisfied: tensorflow-io-gcs-filesystem>=0.23.1 in /usr/local/lib/python3.11/dist-packages (from tensorflow==2.17.1) (0.37.1)\n",
            "Requirement already satisfied: numpy<2.0.0,>=1.23.5 in /usr/local/lib/python3.11/dist-packages (from tensorflow==2.17.1) (1.26.4)\n",
            "Requirement already satisfied: wheel<1.0,>=0.23.0 in /usr/local/lib/python3.11/dist-packages (from astunparse>=1.6.0->tensorflow==2.17.1) (0.45.1)\n",
            "Requirement already satisfied: rich in /usr/local/lib/python3.11/dist-packages (from keras>=3.2.0->tensorflow==2.17.1) (13.9.4)\n",
            "Requirement already satisfied: namex in /usr/local/lib/python3.11/dist-packages (from keras>=3.2.0->tensorflow==2.17.1) (0.1.0)\n",
            "Requirement already satisfied: optree in /usr/local/lib/python3.11/dist-packages (from keras>=3.2.0->tensorflow==2.17.1) (0.16.0)\n",
            "Requirement already satisfied: charset-normalizer<4,>=2 in /usr/local/lib/python3.11/dist-packages (from requests<3,>=2.21.0->tensorflow==2.17.1) (3.4.2)\n",
            "Requirement already satisfied: idna<4,>=2.5 in /usr/local/lib/python3.11/dist-packages (from requests<3,>=2.21.0->tensorflow==2.17.1) (3.10)\n",
            "Requirement already satisfied: urllib3<3,>=1.21.1 in /usr/local/lib/python3.11/dist-packages (from requests<3,>=2.21.0->tensorflow==2.17.1) (2.4.0)\n",
            "Requirement already satisfied: certifi>=2017.4.17 in /usr/local/lib/python3.11/dist-packages (from requests<3,>=2.21.0->tensorflow==2.17.1) (2025.6.15)\n",
            "Requirement already satisfied: markdown>=2.6.8 in /usr/local/lib/python3.11/dist-packages (from tensorboard<2.18,>=2.17->tensorflow==2.17.1) (3.8.2)\n",
            "Requirement already satisfied: tensorboard-data-server<0.8.0,>=0.7.0 in /usr/local/lib/python3.11/dist-packages (from tensorboard<2.18,>=2.17->tensorflow==2.17.1) (0.7.2)\n",
            "Requirement already satisfied: werkzeug>=1.0.1 in /usr/local/lib/python3.11/dist-packages (from tensorboard<2.18,>=2.17->tensorflow==2.17.1) (3.1.3)\n",
            "Requirement already satisfied: MarkupSafe>=2.1.1 in /usr/local/lib/python3.11/dist-packages (from werkzeug>=1.0.1->tensorboard<2.18,>=2.17->tensorflow==2.17.1) (3.0.2)\n",
            "Requirement already satisfied: markdown-it-py>=2.2.0 in /usr/local/lib/python3.11/dist-packages (from rich->keras>=3.2.0->tensorflow==2.17.1) (3.0.0)\n",
            "Requirement already satisfied: pygments<3.0.0,>=2.13.0 in /usr/local/lib/python3.11/dist-packages (from rich->keras>=3.2.0->tensorflow==2.17.1) (2.19.2)\n",
            "Requirement already satisfied: mdurl~=0.1 in /usr/local/lib/python3.11/dist-packages (from markdown-it-py>=2.2.0->rich->keras>=3.2.0->tensorflow==2.17.1) (0.1.2)\n",
            "Requirement already satisfied: pillow==11.1.0 in /usr/local/lib/python3.11/dist-packages (11.1.0)\n",
            "Collecting matplotlib==3.9.2\n",
            "  Using cached matplotlib-3.9.2-cp311-cp311-manylinux_2_17_x86_64.manylinux2014_x86_64.whl.metadata (11 kB)\n",
            "Requirement already satisfied: contourpy>=1.0.1 in /usr/local/lib/python3.11/dist-packages (from matplotlib==3.9.2) (1.3.2)\n",
            "Requirement already satisfied: cycler>=0.10 in /usr/local/lib/python3.11/dist-packages (from matplotlib==3.9.2) (0.12.1)\n",
            "Requirement already satisfied: fonttools>=4.22.0 in /usr/local/lib/python3.11/dist-packages (from matplotlib==3.9.2) (4.58.4)\n",
            "Requirement already satisfied: kiwisolver>=1.3.1 in /usr/local/lib/python3.11/dist-packages (from matplotlib==3.9.2) (1.4.8)\n",
            "Requirement already satisfied: numpy>=1.23 in /usr/local/lib/python3.11/dist-packages (from matplotlib==3.9.2) (1.26.4)\n",
            "Requirement already satisfied: packaging>=20.0 in /usr/local/lib/python3.11/dist-packages (from matplotlib==3.9.2) (24.2)\n",
            "Requirement already satisfied: pillow>=8 in /usr/local/lib/python3.11/dist-packages (from matplotlib==3.9.2) (11.1.0)\n",
            "Requirement already satisfied: pyparsing>=2.3.1 in /usr/local/lib/python3.11/dist-packages (from matplotlib==3.9.2) (3.2.3)\n",
            "Requirement already satisfied: python-dateutil>=2.7 in /usr/local/lib/python3.11/dist-packages (from matplotlib==3.9.2) (2.9.0.post0)\n",
            "Requirement already satisfied: six>=1.5 in /usr/local/lib/python3.11/dist-packages (from python-dateutil>=2.7->matplotlib==3.9.2) (1.17.0)\n",
            "Using cached matplotlib-3.9.2-cp311-cp311-manylinux_2_17_x86_64.manylinux2014_x86_64.whl (8.3 MB)\n",
            "Installing collected packages: matplotlib\n",
            "  Attempting uninstall: matplotlib\n",
            "    Found existing installation: matplotlib 3.10.0\n",
            "    Uninstalling matplotlib-3.10.0:\n",
            "      Successfully uninstalled matplotlib-3.10.0\n",
            "Successfully installed matplotlib-3.9.2\n"
          ]
        },
        {
          "output_type": "display_data",
          "data": {
            "application/vnd.colab-display-data+json": {
              "pip_warning": {
                "packages": [
                  "matplotlib",
                  "mpl_toolkits"
                ]
              },
              "id": "ec656e17160c4d0494840f1ee2e3b47f"
            }
          },
          "metadata": {}
        },
        {
          "output_type": "stream",
          "name": "stdout",
          "text": [
            "Collecting transformers==4.38.2\n",
            "  Downloading transformers-4.38.2-py3-none-any.whl.metadata (130 kB)\n",
            "\u001b[?25l     \u001b[90m━━━━━━━━━━━━━━━━━━━━━━━━━━━━━━━━━━━━━━━━\u001b[0m \u001b[32m0.0/130.7 kB\u001b[0m \u001b[31m?\u001b[0m eta \u001b[36m-:--:--\u001b[0m\r\u001b[2K     \u001b[90m━━━━━━━━━━━━━━━━━━━━━━━━━━━━━━━━━━━━━━━\u001b[0m \u001b[32m130.7/130.7 kB\u001b[0m \u001b[31m5.6 MB/s\u001b[0m eta \u001b[36m0:00:00\u001b[0m\n",
            "\u001b[?25hRequirement already satisfied: filelock in /usr/local/lib/python3.11/dist-packages (from transformers==4.38.2) (3.18.0)\n",
            "Requirement already satisfied: huggingface-hub<1.0,>=0.19.3 in /usr/local/lib/python3.11/dist-packages (from transformers==4.38.2) (0.33.0)\n",
            "Requirement already satisfied: numpy>=1.17 in /usr/local/lib/python3.11/dist-packages (from transformers==4.38.2) (1.26.4)\n",
            "Requirement already satisfied: packaging>=20.0 in /usr/local/lib/python3.11/dist-packages (from transformers==4.38.2) (24.2)\n",
            "Requirement already satisfied: pyyaml>=5.1 in /usr/local/lib/python3.11/dist-packages (from transformers==4.38.2) (6.0.2)\n",
            "Requirement already satisfied: regex!=2019.12.17 in /usr/local/lib/python3.11/dist-packages (from transformers==4.38.2) (2024.11.6)\n",
            "Requirement already satisfied: requests in /usr/local/lib/python3.11/dist-packages (from transformers==4.38.2) (2.32.3)\n",
            "Collecting tokenizers<0.19,>=0.14 (from transformers==4.38.2)\n",
            "  Downloading tokenizers-0.15.2-cp311-cp311-manylinux_2_17_x86_64.manylinux2014_x86_64.whl.metadata (6.7 kB)\n",
            "Requirement already satisfied: safetensors>=0.4.1 in /usr/local/lib/python3.11/dist-packages (from transformers==4.38.2) (0.5.3)\n",
            "Requirement already satisfied: tqdm>=4.27 in /usr/local/lib/python3.11/dist-packages (from transformers==4.38.2) (4.67.1)\n",
            "Requirement already satisfied: fsspec>=2023.5.0 in /usr/local/lib/python3.11/dist-packages (from huggingface-hub<1.0,>=0.19.3->transformers==4.38.2) (2025.3.2)\n",
            "Requirement already satisfied: typing-extensions>=3.7.4.3 in /usr/local/lib/python3.11/dist-packages (from huggingface-hub<1.0,>=0.19.3->transformers==4.38.2) (4.14.0)\n",
            "Requirement already satisfied: hf-xet<2.0.0,>=1.1.2 in /usr/local/lib/python3.11/dist-packages (from huggingface-hub<1.0,>=0.19.3->transformers==4.38.2) (1.1.5)\n",
            "Requirement already satisfied: charset-normalizer<4,>=2 in /usr/local/lib/python3.11/dist-packages (from requests->transformers==4.38.2) (3.4.2)\n",
            "Requirement already satisfied: idna<4,>=2.5 in /usr/local/lib/python3.11/dist-packages (from requests->transformers==4.38.2) (3.10)\n",
            "Requirement already satisfied: urllib3<3,>=1.21.1 in /usr/local/lib/python3.11/dist-packages (from requests->transformers==4.38.2) (2.4.0)\n",
            "Requirement already satisfied: certifi>=2017.4.17 in /usr/local/lib/python3.11/dist-packages (from requests->transformers==4.38.2) (2025.6.15)\n",
            "Downloading transformers-4.38.2-py3-none-any.whl (8.5 MB)\n",
            "\u001b[2K   \u001b[90m━━━━━━━━━━━━━━━━━━━━━━━━━━━━━━━━━━━━━━━━\u001b[0m \u001b[32m8.5/8.5 MB\u001b[0m \u001b[31m74.8 MB/s\u001b[0m eta \u001b[36m0:00:00\u001b[0m\n",
            "\u001b[?25hDownloading tokenizers-0.15.2-cp311-cp311-manylinux_2_17_x86_64.manylinux2014_x86_64.whl (3.6 MB)\n",
            "\u001b[2K   \u001b[90m━━━━━━━━━━━━━━━━━━━━━━━━━━━━━━━━━━━━━━━━\u001b[0m \u001b[32m3.6/3.6 MB\u001b[0m \u001b[31m77.2 MB/s\u001b[0m eta \u001b[36m0:00:00\u001b[0m\n",
            "\u001b[?25hInstalling collected packages: tokenizers, transformers\n",
            "  Attempting uninstall: tokenizers\n",
            "    Found existing installation: tokenizers 0.21.1\n",
            "    Uninstalling tokenizers-0.21.1:\n",
            "      Successfully uninstalled tokenizers-0.21.1\n",
            "  Attempting uninstall: transformers\n",
            "    Found existing installation: transformers 4.52.4\n",
            "    Uninstalling transformers-4.52.4:\n",
            "      Successfully uninstalled transformers-4.52.4\n",
            "\u001b[31mERROR: pip's dependency resolver does not currently take into account all the packages that are installed. This behaviour is the source of the following dependency conflicts.\n",
            "sentence-transformers 4.1.0 requires transformers<5.0.0,>=4.41.0, but you have transformers 4.38.2 which is incompatible.\u001b[0m\u001b[31m\n",
            "\u001b[0mSuccessfully installed tokenizers-0.15.2 transformers-4.38.2\n",
            "Requirement already satisfied: torch in /usr/local/lib/python3.11/dist-packages (2.6.0+cu124)\n",
            "Requirement already satisfied: filelock in /usr/local/lib/python3.11/dist-packages (from torch) (3.18.0)\n",
            "Requirement already satisfied: typing-extensions>=4.10.0 in /usr/local/lib/python3.11/dist-packages (from torch) (4.14.0)\n",
            "Requirement already satisfied: networkx in /usr/local/lib/python3.11/dist-packages (from torch) (3.5)\n",
            "Requirement already satisfied: jinja2 in /usr/local/lib/python3.11/dist-packages (from torch) (3.1.6)\n",
            "Requirement already satisfied: fsspec in /usr/local/lib/python3.11/dist-packages (from torch) (2025.3.2)\n",
            "Collecting nvidia-cuda-nvrtc-cu12==12.4.127 (from torch)\n",
            "  Downloading nvidia_cuda_nvrtc_cu12-12.4.127-py3-none-manylinux2014_x86_64.whl.metadata (1.5 kB)\n",
            "Collecting nvidia-cuda-runtime-cu12==12.4.127 (from torch)\n",
            "  Downloading nvidia_cuda_runtime_cu12-12.4.127-py3-none-manylinux2014_x86_64.whl.metadata (1.5 kB)\n",
            "Collecting nvidia-cuda-cupti-cu12==12.4.127 (from torch)\n",
            "  Downloading nvidia_cuda_cupti_cu12-12.4.127-py3-none-manylinux2014_x86_64.whl.metadata (1.6 kB)\n",
            "Collecting nvidia-cudnn-cu12==9.1.0.70 (from torch)\n",
            "  Downloading nvidia_cudnn_cu12-9.1.0.70-py3-none-manylinux2014_x86_64.whl.metadata (1.6 kB)\n",
            "Collecting nvidia-cublas-cu12==12.4.5.8 (from torch)\n",
            "  Downloading nvidia_cublas_cu12-12.4.5.8-py3-none-manylinux2014_x86_64.whl.metadata (1.5 kB)\n",
            "Collecting nvidia-cufft-cu12==11.2.1.3 (from torch)\n",
            "  Downloading nvidia_cufft_cu12-11.2.1.3-py3-none-manylinux2014_x86_64.whl.metadata (1.5 kB)\n",
            "Collecting nvidia-curand-cu12==10.3.5.147 (from torch)\n",
            "  Downloading nvidia_curand_cu12-10.3.5.147-py3-none-manylinux2014_x86_64.whl.metadata (1.5 kB)\n",
            "Collecting nvidia-cusolver-cu12==11.6.1.9 (from torch)\n",
            "  Downloading nvidia_cusolver_cu12-11.6.1.9-py3-none-manylinux2014_x86_64.whl.metadata (1.6 kB)\n",
            "Collecting nvidia-cusparse-cu12==12.3.1.170 (from torch)\n",
            "  Downloading nvidia_cusparse_cu12-12.3.1.170-py3-none-manylinux2014_x86_64.whl.metadata (1.6 kB)\n",
            "Requirement already satisfied: nvidia-cusparselt-cu12==0.6.2 in /usr/local/lib/python3.11/dist-packages (from torch) (0.6.2)\n",
            "Requirement already satisfied: nvidia-nccl-cu12==2.21.5 in /usr/local/lib/python3.11/dist-packages (from torch) (2.21.5)\n",
            "Requirement already satisfied: nvidia-nvtx-cu12==12.4.127 in /usr/local/lib/python3.11/dist-packages (from torch) (12.4.127)\n",
            "Collecting nvidia-nvjitlink-cu12==12.4.127 (from torch)\n",
            "  Downloading nvidia_nvjitlink_cu12-12.4.127-py3-none-manylinux2014_x86_64.whl.metadata (1.5 kB)\n",
            "Requirement already satisfied: triton==3.2.0 in /usr/local/lib/python3.11/dist-packages (from torch) (3.2.0)\n",
            "Requirement already satisfied: sympy==1.13.1 in /usr/local/lib/python3.11/dist-packages (from torch) (1.13.1)\n",
            "Requirement already satisfied: mpmath<1.4,>=1.1.0 in /usr/local/lib/python3.11/dist-packages (from sympy==1.13.1->torch) (1.3.0)\n",
            "Requirement already satisfied: MarkupSafe>=2.0 in /usr/local/lib/python3.11/dist-packages (from jinja2->torch) (3.0.2)\n",
            "Downloading nvidia_cublas_cu12-12.4.5.8-py3-none-manylinux2014_x86_64.whl (363.4 MB)\n",
            "\u001b[2K   \u001b[90m━━━━━━━━━━━━━━━━━━━━━━━━━━━━━━━━━━━━━━━━\u001b[0m \u001b[32m363.4/363.4 MB\u001b[0m \u001b[31m3.9 MB/s\u001b[0m eta \u001b[36m0:00:00\u001b[0m\n",
            "\u001b[?25hDownloading nvidia_cuda_cupti_cu12-12.4.127-py3-none-manylinux2014_x86_64.whl (13.8 MB)\n",
            "\u001b[2K   \u001b[90m━━━━━━━━━━━━━━━━━━━━━━━━━━━━━━━━━━━━━━━━\u001b[0m \u001b[32m13.8/13.8 MB\u001b[0m \u001b[31m65.2 MB/s\u001b[0m eta \u001b[36m0:00:00\u001b[0m\n",
            "\u001b[?25hDownloading nvidia_cuda_nvrtc_cu12-12.4.127-py3-none-manylinux2014_x86_64.whl (24.6 MB)\n",
            "\u001b[2K   \u001b[90m━━━━━━━━━━━━━━━━━━━━━━━━━━━━━━━━━━━━━━━━\u001b[0m \u001b[32m24.6/24.6 MB\u001b[0m \u001b[31m81.1 MB/s\u001b[0m eta \u001b[36m0:00:00\u001b[0m\n",
            "\u001b[?25hDownloading nvidia_cuda_runtime_cu12-12.4.127-py3-none-manylinux2014_x86_64.whl (883 kB)\n",
            "\u001b[2K   \u001b[90m━━━━━━━━━━━━━━━━━━━━━━━━━━━━━━━━━━━━━━━━\u001b[0m \u001b[32m883.7/883.7 kB\u001b[0m \u001b[31m54.5 MB/s\u001b[0m eta \u001b[36m0:00:00\u001b[0m\n",
            "\u001b[?25hDownloading nvidia_cudnn_cu12-9.1.0.70-py3-none-manylinux2014_x86_64.whl (664.8 MB)\n",
            "\u001b[2K   \u001b[90m━━━━━━━━━━━━━━━━━━━━━━━━━━━━━━━━━━━━━━━━\u001b[0m \u001b[32m664.8/664.8 MB\u001b[0m \u001b[31m2.1 MB/s\u001b[0m eta \u001b[36m0:00:00\u001b[0m\n",
            "\u001b[?25hDownloading nvidia_cufft_cu12-11.2.1.3-py3-none-manylinux2014_x86_64.whl (211.5 MB)\n",
            "\u001b[2K   \u001b[90m━━━━━━━━━━━━━━━━━━━━━━━━━━━━━━━━━━━━━━━━\u001b[0m \u001b[32m211.5/211.5 MB\u001b[0m \u001b[31m5.9 MB/s\u001b[0m eta \u001b[36m0:00:00\u001b[0m\n",
            "\u001b[?25hDownloading nvidia_curand_cu12-10.3.5.147-py3-none-manylinux2014_x86_64.whl (56.3 MB)\n",
            "\u001b[2K   \u001b[90m━━━━━━━━━━━━━━━━━━━━━━━━━━━━━━━━━━━━━━━━\u001b[0m \u001b[32m56.3/56.3 MB\u001b[0m \u001b[31m12.6 MB/s\u001b[0m eta \u001b[36m0:00:00\u001b[0m\n",
            "\u001b[?25hDownloading nvidia_cusolver_cu12-11.6.1.9-py3-none-manylinux2014_x86_64.whl (127.9 MB)\n",
            "\u001b[2K   \u001b[90m━━━━━━━━━━━━━━━━━━━━━━━━━━━━━━━━━━━━━━━━\u001b[0m \u001b[32m127.9/127.9 MB\u001b[0m \u001b[31m7.2 MB/s\u001b[0m eta \u001b[36m0:00:00\u001b[0m\n",
            "\u001b[?25hDownloading nvidia_cusparse_cu12-12.3.1.170-py3-none-manylinux2014_x86_64.whl (207.5 MB)\n",
            "\u001b[2K   \u001b[90m━━━━━━━━━━━━━━━━━━━━━━━━━━━━━━━━━━━━━━━━\u001b[0m \u001b[32m207.5/207.5 MB\u001b[0m \u001b[31m7.6 MB/s\u001b[0m eta \u001b[36m0:00:00\u001b[0m\n",
            "\u001b[?25hDownloading nvidia_nvjitlink_cu12-12.4.127-py3-none-manylinux2014_x86_64.whl (21.1 MB)\n",
            "\u001b[2K   \u001b[90m━━━━━━━━━━━━━━━━━━━━━━━━━━━━━━━━━━━━━━━━\u001b[0m \u001b[32m21.1/21.1 MB\u001b[0m \u001b[31m40.6 MB/s\u001b[0m eta \u001b[36m0:00:00\u001b[0m\n",
            "\u001b[?25hInstalling collected packages: nvidia-nvjitlink-cu12, nvidia-curand-cu12, nvidia-cufft-cu12, nvidia-cuda-runtime-cu12, nvidia-cuda-nvrtc-cu12, nvidia-cuda-cupti-cu12, nvidia-cublas-cu12, nvidia-cusparse-cu12, nvidia-cudnn-cu12, nvidia-cusolver-cu12\n",
            "  Attempting uninstall: nvidia-nvjitlink-cu12\n",
            "    Found existing installation: nvidia-nvjitlink-cu12 12.5.82\n",
            "    Uninstalling nvidia-nvjitlink-cu12-12.5.82:\n",
            "      Successfully uninstalled nvidia-nvjitlink-cu12-12.5.82\n",
            "  Attempting uninstall: nvidia-curand-cu12\n",
            "    Found existing installation: nvidia-curand-cu12 10.3.6.82\n",
            "    Uninstalling nvidia-curand-cu12-10.3.6.82:\n",
            "      Successfully uninstalled nvidia-curand-cu12-10.3.6.82\n",
            "  Attempting uninstall: nvidia-cufft-cu12\n",
            "    Found existing installation: nvidia-cufft-cu12 11.2.3.61\n",
            "    Uninstalling nvidia-cufft-cu12-11.2.3.61:\n",
            "      Successfully uninstalled nvidia-cufft-cu12-11.2.3.61\n",
            "  Attempting uninstall: nvidia-cuda-runtime-cu12\n",
            "    Found existing installation: nvidia-cuda-runtime-cu12 12.5.82\n",
            "    Uninstalling nvidia-cuda-runtime-cu12-12.5.82:\n",
            "      Successfully uninstalled nvidia-cuda-runtime-cu12-12.5.82\n",
            "  Attempting uninstall: nvidia-cuda-nvrtc-cu12\n",
            "    Found existing installation: nvidia-cuda-nvrtc-cu12 12.5.82\n",
            "    Uninstalling nvidia-cuda-nvrtc-cu12-12.5.82:\n",
            "      Successfully uninstalled nvidia-cuda-nvrtc-cu12-12.5.82\n",
            "  Attempting uninstall: nvidia-cuda-cupti-cu12\n",
            "    Found existing installation: nvidia-cuda-cupti-cu12 12.5.82\n",
            "    Uninstalling nvidia-cuda-cupti-cu12-12.5.82:\n",
            "      Successfully uninstalled nvidia-cuda-cupti-cu12-12.5.82\n",
            "  Attempting uninstall: nvidia-cublas-cu12\n",
            "    Found existing installation: nvidia-cublas-cu12 12.5.3.2\n",
            "    Uninstalling nvidia-cublas-cu12-12.5.3.2:\n",
            "      Successfully uninstalled nvidia-cublas-cu12-12.5.3.2\n",
            "  Attempting uninstall: nvidia-cusparse-cu12\n",
            "    Found existing installation: nvidia-cusparse-cu12 12.5.1.3\n",
            "    Uninstalling nvidia-cusparse-cu12-12.5.1.3:\n",
            "      Successfully uninstalled nvidia-cusparse-cu12-12.5.1.3\n",
            "  Attempting uninstall: nvidia-cudnn-cu12\n",
            "    Found existing installation: nvidia-cudnn-cu12 9.3.0.75\n",
            "    Uninstalling nvidia-cudnn-cu12-9.3.0.75:\n",
            "      Successfully uninstalled nvidia-cudnn-cu12-9.3.0.75\n",
            "  Attempting uninstall: nvidia-cusolver-cu12\n",
            "    Found existing installation: nvidia-cusolver-cu12 11.6.3.83\n",
            "    Uninstalling nvidia-cusolver-cu12-11.6.3.83:\n",
            "      Successfully uninstalled nvidia-cusolver-cu12-11.6.3.83\n",
            "\u001b[31mERROR: pip's dependency resolver does not currently take into account all the packages that are installed. This behaviour is the source of the following dependency conflicts.\n",
            "sentence-transformers 4.1.0 requires transformers<5.0.0,>=4.41.0, but you have transformers 4.38.2 which is incompatible.\u001b[0m\u001b[31m\n",
            "\u001b[0mSuccessfully installed nvidia-cublas-cu12-12.4.5.8 nvidia-cuda-cupti-cu12-12.4.127 nvidia-cuda-nvrtc-cu12-12.4.127 nvidia-cuda-runtime-cu12-12.4.127 nvidia-cudnn-cu12-9.1.0.70 nvidia-cufft-cu12-11.2.1.3 nvidia-curand-cu12-10.3.5.147 nvidia-cusolver-cu12-11.6.1.9 nvidia-cusparse-cu12-12.3.1.170 nvidia-nvjitlink-cu12-12.4.127\n"
          ]
        }
      ],
      "source": [
        "!pip install pandas==2.2.3\n",
        "!pip install tensorflow==2.17.1\n",
        "!pip install pillow==11.1.0\n",
        "!pip install matplotlib==3.9.2\n",
        "!pip install transformers==4.38.2\n",
        "!pip install torch"
      ],
      "execution_count": 2
    },
    {
      "cell_type": "markdown",
      "metadata": {
        "id": "26406dd5-ccf2-4e33-9a0e-244d9fd8343b"
      },
      "source": [
        "#### Suppress the tensorflow warning messages\n",
        "We use the following code to  suppress the warning messages due to use of CPU architechture for tensoflow.\n",
        "\n",
        "You may want to **comment out** these lines if you are using the GPU architechture\n"
      ]
    },
    {
      "cell_type": "code",
      "metadata": {
        "id": "98112db6-d4b6-4c69-b348-3f4fc534867d"
      },
      "outputs": [],
      "source": [
        "import os\n",
        "os.environ['TF_ENABLE_ONEDNN_OPTS'] = '0'\n",
        "os.environ['TF_CPP_MIN_LOG_LEVEL'] = '2'"
      ],
      "execution_count": 3
    },
    {
      "cell_type": "markdown",
      "metadata": {
        "id": "307729e8-8a3d-4196-be2d-61f542234332"
      },
      "source": [
        "### Importing Required Libraries\n"
      ]
    },
    {
      "cell_type": "code",
      "metadata": {
        "id": "e13bcd0f-c9e8-4919-9537-b879bb99489b"
      },
      "outputs": [],
      "source": [
        "import zipfile\n",
        "import keras\n",
        "from keras.models import Sequential, Model\n",
        "from keras.layers import Dense, Dropout, Flatten\n",
        "from keras.applications import VGG16\n",
        "from keras.optimizers import Adam\n",
        "import tensorflow as tf\n",
        "from tensorflow.keras.preprocessing.image import ImageDataGenerator\n",
        "import matplotlib.pyplot as plt\n",
        "import numpy as np\n",
        "from keras.preprocessing import image\n",
        "import random"
      ],
      "execution_count": 4
    },
    {
      "cell_type": "code",
      "metadata": {
        "id": "cb41ca5e-c55b-4f14-94f7-0e8ab508ecd9"
      },
      "outputs": [],
      "source": [
        "# Set seed for reproducibility\n",
        "seed_value = 42\n",
        "random.seed(seed_value)\n",
        "np.random.seed(seed_value)\n",
        "tf.random.set_seed(seed_value)"
      ],
      "execution_count": 5
    },
    {
      "cell_type": "markdown",
      "metadata": {
        "id": "1b0eeb8b-7366-4312-b170-4b33be9922cc"
      },
      "source": [
        "#### Pretrained Model\n",
        "\n",
        "A pretrained model refers to a machine learning model that has already been trained on a large dataset, typically for a specific task, and is ready for use or fine-tuning on a new task or dataset. The key idea behind a pretrained model is that it has already learned useful patterns or features from the data it was trained on, so you don’t need to start from scratch.\n",
        "\n",
        "- **ResNet, VGG (Image Classification):** These are pretrained models commonly used for image classification tasks. They have learned from millions of images and can be fine-tuned for specific image-related tasks.\n",
        "\n",
        "- **BLIP (Image Captioning and Summarization):** BLIP is a pretrained model that can generate captions and summaries for images. It has already been trained on image-text pairs, so it can easily generate descriptive captions for new images.\n"
      ]
    },
    {
      "cell_type": "markdown",
      "metadata": {
        "id": "d68e2c8a-72cc-453e-b2d6-897310515e06"
      },
      "source": [
        "## <a id='toc1_'> </a> [Part 1 - Classification Problem: Classifying the defect on the aircraft as 'dent' or 'crack'](#toc1_)\n",
        "\n",
        "### <a id='toc1_1_'></a> [1.1 Dataset Preparation](#toc1_)\n",
        "\n",
        "The first step is to load and prepare the dataset of aircraft images. These images are labeled either as 'dent' or 'crack'. We will also split the dataset into training, validation, and test sets.\n",
        "\n",
        "Your goal is to train an algorithm on these images and to predict the labels for images in your test set.\n",
        "\n",
        "\n"
      ]
    },
    {
      "cell_type": "markdown",
      "metadata": {
        "id": "40069677-2a92-44eb-aef7-1f87dae5e51e"
      },
      "source": [
        "**Define configuration options**\n",
        "\n",
        "It's time to define some model configuration options.\n",
        "\n",
        "*  Set the **batch size** is set to 32.\n",
        "*  Set the **number of epcohs** is 5.\n"
      ]
    },
    {
      "cell_type": "markdown",
      "source": [
        "#Set the batch size,epochs\n",
        "batch_size =\n",
        "n_epochs =\n",
        "img_rows, img_cols = 224, 224\n",
        "input_shape = (img_rows, img_cols, 3)"
      ],
      "metadata": {
        "id": "Pill6OtZUXIz"
      }
    },
    {
      "cell_type": "code",
      "source": [
        "# Set the batch size and number of epochs\n",
        "batch_size = 32\n",
        "n_epochs = 5\n",
        "\n",
        "img_rows, img_cols = 224, 224\n",
        "input_shape = (img_rows, img_cols, 3)\n"
      ],
      "metadata": {
        "id": "V-DoPygNUSpj"
      },
      "execution_count": 10,
      "outputs": []
    },
    {
      "cell_type": "markdown",
      "metadata": {
        "id": "81b68bba-365b-403d-accc-ce29931f2a98"
      },
      "source": [
        "Extract the Dataset:\n",
        "Unzip the dataset to the current directory, creating directories for training, testing, and validation splits.\n"
      ]
    },
    {
      "cell_type": "code",
      "metadata": {
        "colab": {
          "base_uri": "https://localhost:8080/",
          "height": 0
        },
        "id": "8ad77074-bd80-4bd3-9f57-d5e386b03713",
        "outputId": "5869bd04-a123-4e26-fe4b-2576fbf42364"
      },
      "outputs": [
        {
          "output_type": "stream",
          "name": "stdout",
          "text": [
            "Downloaded aircraft_damage_dataset_v1.tar. Extraction will begin now.\n",
            "Extracted aircraft_damage_dataset_v1.tar successfully.\n"
          ]
        }
      ],
      "source": [
        "import tarfile\n",
        "import urllib.request\n",
        "import os\n",
        "import shutil\n",
        "\n",
        "# URL of the tar file\n",
        "url = \"https://cf-courses-data.s3.us.cloud-object-storage.appdomain.cloud/ZjXM4RKxlBK9__ZjHBLl5A/aircraft-damage-dataset-v1.tar\"\n",
        "\n",
        "# Define the path to save the file\n",
        "tar_filename = \"aircraft_damage_dataset_v1.tar\"\n",
        "extracted_folder = \"aircraft_damage_dataset_v1\"  # Folder where contents will be extracted\n",
        "\n",
        "# Download the tar file\n",
        "urllib.request.urlretrieve(url, tar_filename)\n",
        "print(f\"Downloaded {tar_filename}. Extraction will begin now.\")\n",
        "\n",
        "# Check if the folder already exists\n",
        "if os.path.exists(extracted_folder):\n",
        "    print(f\"The folder '{extracted_folder}' already exists. Removing the existing folder.\")\n",
        "\n",
        "    # Remove the existing folder to avoid overwriting or duplication\n",
        "    shutil.rmtree(extracted_folder)\n",
        "    print(f\"Removed the existing folder: {extracted_folder}\")\n",
        "\n",
        "# Extract the contents of the tar file\n",
        "with tarfile.open(tar_filename, \"r\") as tar_ref:\n",
        "    tar_ref.extractall()  # This will extract to the current directory\n",
        "    print(f\"Extracted {tar_filename} successfully.\")\n"
      ],
      "execution_count": 11
    },
    {
      "cell_type": "markdown",
      "metadata": {
        "id": "fd20c128-0937-4922-a79d-c8e8baed7e2a"
      },
      "source": [
        "The folder structure looks as follows:\n",
        "\n",
        "```python\n",
        "aircraft_damage_dataset_v1/\n",
        "├── train/\n",
        "│   ├── dent/\n",
        "│   └── crack/\n",
        "├── valid/\n",
        "│   ├── dent/\n",
        "│   └── crack/\n",
        "└── test/\n",
        "    ├── dent/\n",
        "    └── crack/\n",
        "\n",
        "```\n",
        "\n"
      ]
    },
    {
      "cell_type": "code",
      "metadata": {
        "id": "1d931d76-5f78-4dd1-aaa8-6ec9c0ba1219"
      },
      "outputs": [],
      "source": [
        "# Define directories for train, test, and validation splits\n",
        "extract_path = \"aircraft_damage_dataset_v1\"\n",
        "train_dir = os.path.join(extract_path, 'train')\n",
        "test_dir = os.path.join(extract_path, 'test')\n",
        "valid_dir = os.path.join(extract_path, 'valid')"
      ],
      "execution_count": 12
    },
    {
      "cell_type": "markdown",
      "metadata": {
        "id": "8d2e6f35-a2ba-4716-8ffe-e8965c31df98"
      },
      "source": [
        "## 1.2 Data Preprocessing\n",
        "\n",
        "Create data generators for training, validation, and testing datasets.\n",
        "\n",
        "First,we will create ImageDataGenerators used for training, validation and testing.\n",
        "The ImageDataGenerator class is part of Keras. It is a powerful utility for real-time image data augmentation, preprocessing, and feeding data into deep learning models during training. This class is particularly useful when working with image datasets that are too large to fit into memory all at once, or when you want to augment your dataset  to improve model generalization.\n",
        "\n",
        "We will create instances of the ImageDataGenerator class. Each instance corresponds to one of the datasets: training, validation, and testing.\n"
      ]
    },
    {
      "cell_type": "code",
      "metadata": {
        "id": "bdb8eb4c-8ec0-4dca-bbb0-27846f005e15"
      },
      "outputs": [],
      "source": [
        "# Create ImageDataGenerators to preprocess the data\n",
        "train_datagen = ImageDataGenerator(rescale=1./255)\n",
        "valid_datagen = ImageDataGenerator(rescale=1./255)\n",
        "test_datagen = ImageDataGenerator(rescale=1./255)"
      ],
      "execution_count": 13
    },
    {
      "cell_type": "markdown",
      "metadata": {
        "id": "b951e3e5-1104-402e-b954-25c53ceb3f12"
      },
      "source": [
        "Next, we use flow_from_directory() method to load the images from directory and generate the training dataset. The flow_from_directory() method is part of the ImageDataGenerator class in Keras, and it plays a crucial role in automating the process of loading, preprocessing, and batching images for training, validation, and testing.\n",
        "We use the train_datagen object to load and preprocess the training images. Specifically, the flow_from_directory() function is used to read images directly from the directory and generate batches of data that will be fed into the model for training.\n"
      ]
    },
    {
      "cell_type": "code",
      "metadata": {
        "colab": {
          "base_uri": "https://localhost:8080/",
          "height": 0
        },
        "id": "deb9eba3-f4cf-408a-83f2-0557d890c85b",
        "outputId": "086d253b-8a4f-4d55-dc03-fadf31fd0586"
      },
      "outputs": [
        {
          "output_type": "stream",
          "name": "stdout",
          "text": [
            "Found 300 images belonging to 2 classes.\n"
          ]
        }
      ],
      "source": [
        "train_generator = train_datagen.flow_from_directory(\n",
        "    train_dir,\n",
        "    target_size=(img_rows, img_cols),   # Resize images to the size VGG16 expects\n",
        "    batch_size=batch_size,\n",
        "    seed = seed_value,\n",
        "    class_mode='binary',\n",
        "    shuffle=True # Binary classification: dent vs crack\n",
        ")"
      ],
      "execution_count": 14
    },
    {
      "cell_type": "markdown",
      "metadata": {
        "id": "9eb4df51-0e7a-4a61-bac6-a88c14fb4ac1"
      },
      "source": [
        "## **Task 1: Create a `valid_generator` using the `valid_datagen` object**\n",
        "\n",
        "\n",
        "Please use the following parameters:\n",
        "\n",
        "*   **directory** should be set to `valid_dir`.\n",
        "*   **class_mode** should be set to `'binary'`.\n",
        "*   **seed** should be set to `seed_value`.\n",
        "*   **batch_size** should be set to `batch_size`.\n",
        "*   **shuffle** should be set to `False`.\n",
        "*   **target_size** should be set to `(img_rows, img_cols)`.\n",
        "\n",
        "Hint: the format should be like:\n",
        "\n",
        "```python\n",
        "valid_generator =  valid_datagen.flow_from_directory(\n",
        "    directory=,\n",
        "    class_mode=,\n",
        "    seed=,\n",
        "    batch_size=,\n",
        "    shuffle=,\n",
        "    target_size=\n",
        ")\n",
        "```\n",
        "**Note: Please copy and save the code of the task as it will be required for submission in the final project. Ensure to submit the response as part of your project submission**\n"
      ]
    },
    {
      "cell_type": "code",
      "metadata": {
        "colab": {
          "base_uri": "https://localhost:8080/",
          "height": 0
        },
        "id": "c669ff97-1604-4412-8cdb-2bab25096dac",
        "outputId": "5a645fd6-49a2-41df-eb6b-0cfb3f5d8cc1"
      },
      "outputs": [
        {
          "output_type": "stream",
          "name": "stdout",
          "text": [
            "Found 96 images belonging to 2 classes.\n"
          ]
        }
      ],
      "source": [
        "#Write your code here\n",
        "valid_generator = valid_datagen.flow_from_directory(\n",
        "    directory=valid_dir,\n",
        "    class_mode='binary',\n",
        "    seed=seed_value,\n",
        "    batch_size=batch_size,\n",
        "    shuffle=False,\n",
        "    target_size=(img_rows, img_cols)\n",
        ")\n"
      ],
      "execution_count": 15
    },
    {
      "cell_type": "markdown",
      "metadata": {
        "id": "12688259-711b-483e-902b-8ef24eb646bd"
      },
      "source": [
        "## **Task 2: Create a `test_generator` using the `test_datagen` object**\n",
        "\n",
        "Please use the following parameters:\n",
        "\n",
        "*   **directory** should be set to `test_dir`.\n",
        "*   **class_mode** should be set to `'binary'`.\n",
        "*   **seed** should be set to `seed_value`.\n",
        "*   **batch_size** should be set to `batch_size`.\n",
        "*   **shuffle** should be set to `False`.\n",
        "*   **target_size** should be set to `(img_rows, img_cols)`.\n",
        "\n",
        "Hint: The format should be like:\n",
        "\n",
        "```python\n",
        "test_generator = test_datagen.flow_from_directory(\n",
        "    directory=,\n",
        "    class_mode=,\n",
        "    seed=,\n",
        "    batch_size=,\n",
        "    shuffle=,\n",
        "    target_size=\n",
        ")\n",
        "```\n",
        "**Note: Please copy and save the code of the task as it will be required for submission in the final project. Ensure to submit the response as part of your project submission**\n"
      ]
    },
    {
      "cell_type": "code",
      "metadata": {
        "colab": {
          "base_uri": "https://localhost:8080/",
          "height": 0
        },
        "id": "26b5607a-d6c8-441b-9bfa-49b198b40599",
        "outputId": "241442d6-5fd4-4ec9-b5b4-75f2ce7a83e8"
      },
      "outputs": [
        {
          "output_type": "stream",
          "name": "stdout",
          "text": [
            "Found 50 images belonging to 2 classes.\n"
          ]
        }
      ],
      "source": [
        "#Write your code here\n",
        "test_generator = test_datagen.flow_from_directory(\n",
        "    directory=test_dir,\n",
        "    class_mode='binary',\n",
        "    seed=seed_value,\n",
        "    batch_size=batch_size,\n",
        "    shuffle=False,\n",
        "    target_size=(img_rows, img_cols)\n",
        ")\n"
      ],
      "execution_count": 16
    },
    {
      "cell_type": "markdown",
      "metadata": {
        "id": "f1ebb5a9-ff79-4438-a93c-8c2199a0f5df"
      },
      "source": [
        "### 1.3 Model Definition\n",
        "\n",
        "Here, we define the model architecture by using a pre-trained VGG16 model as the base, adding custom layers on top for binary classification of 'dent' and 'crack' types of damage.\n"
      ]
    },
    {
      "cell_type": "markdown",
      "metadata": {
        "id": "7a222bc8-6577-4cf6-9916-eb595d0b88ef"
      },
      "source": [
        "## **Task 3: Load the pre-trained model VGG16**\n",
        "\n",
        "Set <code>weights='imagenet'</code>,<code>include_top=False</code>,<code>input_shape=(img_rows, img_cols, 3)</code>\n",
        "\n",
        "Hint: The format should be like:\n",
        "\n",
        "base_model = VGG16(weights= , include_top= , input_shape=)\n",
        "\n",
        "****Note: Please copy and save the code of the task as it will be required for submission in the final project. Ensure to submit the response as part of your project submission****\n"
      ]
    },
    {
      "cell_type": "code",
      "metadata": {
        "colab": {
          "base_uri": "https://localhost:8080/",
          "height": 0
        },
        "id": "54a3b4dd-1bd2-4d28-a76e-41a36fb4bd5c",
        "outputId": "f8103d8b-1ec7-4d5c-a84c-a625402b3eff"
      },
      "outputs": [
        {
          "output_type": "stream",
          "name": "stdout",
          "text": [
            "Downloading data from https://storage.googleapis.com/tensorflow/keras-applications/vgg16/vgg16_weights_tf_dim_ordering_tf_kernels_notop.h5\n",
            "\u001b[1m58889256/58889256\u001b[0m \u001b[32m━━━━━━━━━━━━━━━━━━━━\u001b[0m\u001b[37m\u001b[0m \u001b[1m2s\u001b[0m 0us/step\n"
          ]
        }
      ],
      "source": [
        "#Write your code here\n",
        "from tensorflow.keras.applications import VGG16\n",
        "\n",
        "base_model = VGG16(\n",
        "    weights='imagenet',\n",
        "    include_top=False,\n",
        "    input_shape=(img_rows, img_cols, 3)\n",
        ")\n"
      ],
      "execution_count": 17
    },
    {
      "cell_type": "markdown",
      "metadata": {
        "id": "97c1cb80-6954-4445-8670-9d106bdcd425"
      },
      "source": [
        "Now, we modify the VGG16 model for our specific classification task. We extract the output from the last layer of the pre-trained VGG16 model, and then create a new model with this modified output. Then we will freeze the base VGG16 model layers so that their weights will not be updated during training.\n"
      ]
    },
    {
      "cell_type": "code",
      "metadata": {
        "id": "8a6b0c9e-c584-4ed8-90c3-ad57e3f2bb96"
      },
      "outputs": [],
      "source": [
        "output = base_model.layers[-1].output\n",
        "output = keras.layers.Flatten()(output)\n",
        "base_model = Model(base_model.input, output)\n",
        "\n",
        "# Freeze the base VGG16 model layers\n",
        "for layer in base_model.layers:\n",
        "    layer.trainable = False"
      ],
      "execution_count": 18
    },
    {
      "cell_type": "markdown",
      "metadata": {
        "id": "a838dcb5-d828-48f1-a986-4bc2f6c0d3a7"
      },
      "source": [
        "After using VGG16 as a feature extractor, we add our own classifier on top of the VGG16 model. This involves adding fully connected layers (Dense), activation functions (like ReLU), and sometimes Dropout layers to avoid overfitting.\n",
        "Here, we are adding two dense layers with 512 units each, followed by a Dropout layer, and finally, a Dense layer with one unit and a sigmoid activation to output the probability for binary classification (\"dent\" vs \"crack\").\n"
      ]
    },
    {
      "cell_type": "code",
      "metadata": {
        "id": "1595d892-cd4d-4bd5-8c6c-fde357109ca3"
      },
      "outputs": [],
      "source": [
        "# Build the custom model\n",
        "model = Sequential()\n",
        "model.add(base_model)\n",
        "model.add(Dense(512, activation='relu'))\n",
        "model.add(Dropout(0.3))\n",
        "model.add(Dense(512, activation='relu'))\n",
        "model.add(Dropout(0.3))\n",
        "model.add(Dense(1, activation='sigmoid'))"
      ],
      "execution_count": 19
    },
    {
      "cell_type": "markdown",
      "metadata": {
        "id": "84be70fc-927d-4d54-be54-7815de465019"
      },
      "source": [
        "## **Task 4: Compile the model**\n",
        "\n",
        "You will compile the model using the following parameters:\n",
        "\n",
        "*   **loss**: `'binary_crossentropy'`.\n",
        "*   **optimizer**: `=Adam(learning_rate=0.0001)`.\n",
        "*   **metrics**: `['accuracy']`.\n",
        "\n",
        "Hint: Use `model.compile()` to compile the model:\n",
        "    \n",
        "```python\n",
        "model.compile(\n",
        "    optimizer=,\n",
        "    loss=,\n",
        "    metrics=\n",
        ")\n",
        "```\n",
        "**Note: Please copy and save the code of the task as it will be required for submission in the final project. Ensure to submit the response as part of your project submission.**\n"
      ]
    },
    {
      "cell_type": "code",
      "source": [
        "from tensorflow.keras.optimizers import Adam\n",
        "\n",
        "model.compile(\n",
        "    optimizer=Adam(learning_rate=0.0001),\n",
        "    loss='binary_crossentropy',\n",
        "    metrics=['accuracy']\n",
        ")\n"
      ],
      "metadata": {
        "id": "sUTVzpFlXMlF"
      },
      "execution_count": 21,
      "outputs": []
    },
    {
      "cell_type": "markdown",
      "metadata": {
        "id": "261b34d3-108b-44f2-86a9-35ec3be592f1"
      },
      "source": [
        "## 1.4 Model Training\n",
        "\n",
        "- This section covers the process of training the model using the prepared dataset.\n"
      ]
    },
    {
      "cell_type": "markdown",
      "metadata": {
        "id": "dc453c5a-ba70-4157-9d86-f5dcc9fb3cae"
      },
      "source": [
        "## Task 5: Model Training\n",
        "Now that the model is compiled, you can train it using the .fit() method. This step involves passing in the training and validation datasets along with the number of epochs you want to train the model for.\n",
        "\n",
        "You will train the model using the following parameters:\n",
        "\n",
        "*   **train_data**: `train_generator`\n",
        "*   **epochs**: `n_epochs`\n",
        "*   **validation_data**: `valid_generator`\n",
        "\n",
        "Hint: Use `model.fit()` to train the model:\n",
        "    \n",
        "```python\n",
        "history = model.fit(\n",
        "    <train_data>,  # Fill in with the training data generator or dataset\n",
        "    epochs=<number_of_epochs>,  # Fill in with the number of epochs for training\n",
        "    validation_data=<validation_data>,  # Fill in with the validation data generator or dataset\n",
        "   \n",
        ")\n",
        "\n",
        "```\n",
        "**Note: Please copy and save the code of the task as it will be required for submission in the final project. Ensure to submit the response as part of your project submission**\n"
      ]
    },
    {
      "cell_type": "code",
      "metadata": {
        "colab": {
          "base_uri": "https://localhost:8080/",
          "height": 332
        },
        "id": "728621b8-ccd3-4dab-8574-126693f4ea96",
        "outputId": "3a537ec7-0028-4d99-fb9d-d303e89dfb6f"
      },
      "outputs": [
        {
          "output_type": "error",
          "ename": "AttributeError",
          "evalue": "'BlipForConditionalGeneration' object has no attribute 'fit'",
          "traceback": [
            "\u001b[0;31m---------------------------------------------------------------------------\u001b[0m",
            "\u001b[0;31mAttributeError\u001b[0m                            Traceback (most recent call last)",
            "\u001b[0;32m/tmp/ipython-input-69-2780172447.py\u001b[0m in \u001b[0;36m<cell line: 0>\u001b[0;34m()\u001b[0m\n\u001b[1;32m      1\u001b[0m \u001b[0;31m#Enter your code here\u001b[0m\u001b[0;34m\u001b[0m\u001b[0;34m\u001b[0m\u001b[0m\n\u001b[1;32m      2\u001b[0m \u001b[0;31m# Train the model using the training and validation generators\u001b[0m\u001b[0;34m\u001b[0m\u001b[0;34m\u001b[0m\u001b[0m\n\u001b[0;32m----> 3\u001b[0;31m history = model.fit(\n\u001b[0m\u001b[1;32m      4\u001b[0m     \u001b[0mtrain_generator\u001b[0m\u001b[0;34m,\u001b[0m        \u001b[0;31m# Training data generator\u001b[0m\u001b[0;34m\u001b[0m\u001b[0;34m\u001b[0m\u001b[0m\n\u001b[1;32m      5\u001b[0m     \u001b[0mepochs\u001b[0m\u001b[0;34m=\u001b[0m\u001b[0mn_epochs\u001b[0m\u001b[0;34m,\u001b[0m        \u001b[0;31m# Number of training epochs (e.g., 5)\u001b[0m\u001b[0;34m\u001b[0m\u001b[0;34m\u001b[0m\u001b[0m\n",
            "\u001b[0;32m/usr/local/lib/python3.11/dist-packages/torch/nn/modules/module.py\u001b[0m in \u001b[0;36m__getattr__\u001b[0;34m(self, name)\u001b[0m\n\u001b[1;32m   1926\u001b[0m             \u001b[0;32mif\u001b[0m \u001b[0mname\u001b[0m \u001b[0;32min\u001b[0m \u001b[0mmodules\u001b[0m\u001b[0;34m:\u001b[0m\u001b[0;34m\u001b[0m\u001b[0;34m\u001b[0m\u001b[0m\n\u001b[1;32m   1927\u001b[0m                 \u001b[0;32mreturn\u001b[0m \u001b[0mmodules\u001b[0m\u001b[0;34m[\u001b[0m\u001b[0mname\u001b[0m\u001b[0;34m]\u001b[0m\u001b[0;34m\u001b[0m\u001b[0;34m\u001b[0m\u001b[0m\n\u001b[0;32m-> 1928\u001b[0;31m         raise AttributeError(\n\u001b[0m\u001b[1;32m   1929\u001b[0m             \u001b[0;34mf\"'{type(self).__name__}' object has no attribute '{name}'\"\u001b[0m\u001b[0;34m\u001b[0m\u001b[0;34m\u001b[0m\u001b[0m\n\u001b[1;32m   1930\u001b[0m         )\n",
            "\u001b[0;31mAttributeError\u001b[0m: 'BlipForConditionalGeneration' object has no attribute 'fit'"
          ]
        }
      ],
      "source": [
        "#Enter your code here\n",
        "# Train the model using the training and validation generators\n",
        "history = model.fit(\n",
        "    train_generator,        # Training data generator\n",
        "    epochs=n_epochs,        # Number of training epochs (e.g., 5)\n",
        "    validation_data=valid_generator  # Validation data generator\n",
        ")\n"
      ],
      "execution_count": 69
    },
    {
      "cell_type": "code",
      "metadata": {
        "id": "7fe9e973-811a-4562-9c6a-c6ee9f7657ff"
      },
      "outputs": [],
      "source": [
        "# Access the training history\n",
        "train_history = model.history.history  # After training"
      ],
      "execution_count": 25
    },
    {
      "cell_type": "markdown",
      "metadata": {
        "id": "9c44fbdf-ebde-4004-ab51-2627e3c387bf"
      },
      "source": [
        "## 1.5 Visualizing Training Results\n",
        "\n",
        "- After training the model, we visualize the training and validation accuracy and loss to understand the model's learning process.\n"
      ]
    },
    {
      "cell_type": "markdown",
      "metadata": {
        "id": "7f6e2221-7fc9-4ed9-843d-622b81fe88a1"
      },
      "source": [
        "### Plot loss curves for training and validation sets\n"
      ]
    },
    {
      "cell_type": "code",
      "metadata": {
        "colab": {
          "base_uri": "https://localhost:8080/",
          "height": 927
        },
        "id": "e6aecdf4-b6fc-415b-89f6-1922710d93fd",
        "outputId": "e76045e4-7271-4d14-932f-5da0861f2285"
      },
      "outputs": [
        {
          "output_type": "display_data",
          "data": {
            "text/plain": [
              "<Figure size 640x480 with 1 Axes>"
            ],
            "image/png": "[encoded data removed]"
          },
          "metadata": {}
        },
        {
          "output_type": "display_data",
          "data": {
            "text/plain": [
              "<Figure size 640x480 with 1 Axes>"
            ],
            "image/png": "[encoded data removed]"
          },
          "metadata": {}
        }
      ],
      "source": [
        "# Plot the loss for both training and validation\n",
        "plt.title(\"Training Loss\")\n",
        "plt.ylabel(\"Loss\")\n",
        "plt.xlabel('Epoch')\n",
        "plt.plot(train_history['loss'])\n",
        "plt.show()\n",
        "\n",
        "plt.title(\"Validation Loss\")\n",
        "plt.ylabel(\"Loss\")\n",
        "plt.xlabel('Epoch')\n",
        "plt.plot(train_history['val_loss'])\n",
        "plt.show()"
      ],
      "execution_count": 26
    },
    {
      "cell_type": "markdown",
      "metadata": {
        "id": "b907a3db-8230-4b86-a659-8fe75593a55e"
      },
      "source": [
        "## Task 6: Plot accuracy curves for training and validation sets\n",
        "\n",
        "Hint: Similar to the loss curves. Use `plt.plot()` to plot the accuracy curves for training and validation sets.\n",
        "\n",
        "- `figsize=(5, 5)`\n",
        "- `plt.plot(train_history['accuracy'], label='Training Accuracy')`\n",
        "- `plt.plot(train_history['val_accuracy'], label='Validation Accuracy')`\n",
        "- **Title**: `'Accuracy Curve'`\n",
        "- **xlabel**: `'Epochs'`\n",
        "- **ylabel**: `'Accuracy'`\n",
        "\n",
        "**Note: Please copy and save the code of the task as it will be required for submission in the final project. Ensure to submit the response as part of your project submission**\n"
      ]
    },
    {
      "cell_type": "code",
      "source": [
        "import matplotlib.pyplot as plt\n",
        "\n",
        "# Plot training and validation accuracy\n",
        "plt.figure(figsize=(5, 5))\n",
        "plt.plot(history.history['accuracy'], label='Training Accuracy')\n",
        "plt.plot(history.history['val_accuracy'], label='Validation Accuracy')\n",
        "plt.title('Accuracy Curve')\n",
        "plt.xlabel('Epochs')\n",
        "plt.ylabel('Accuracy')\n",
        "plt.legend()\n",
        "plt.grid(True)\n",
        "plt.show()\n"
      ],
      "metadata": {
        "colab": {
          "base_uri": "https://localhost:8080/",
          "height": 487
        },
        "id": "wQd5Smu2dMD7",
        "outputId": "d21f58eb-4a7a-45f0-abb3-9435227e1e82"
      },
      "execution_count": 28,
      "outputs": [
        {
          "output_type": "display_data",
          "data": {
            "text/plain": [
              "<Figure size 500x500 with 1 Axes>"
            ],
            "image/png": "[encoded data removed]"
          },
          "metadata": {}
        }
      ]
    },
    {
      "cell_type": "code",
      "execution_count": 27,
      "metadata": {
        "id": "d2fafd8f"
      },
      "outputs": [],
      "source": [
        "\n",
        "# Define and compile CNN model\n",
        "from tensorflow.keras.models import Sequential\n",
        "from tensorflow.keras.layers import Conv2D, MaxPooling2D, Flatten, Dense\n",
        "\n",
        "model = Sequential([\n",
        "    Conv2D(32, (3, 3), activation='relu', input_shape=(150, 150, 3)),\n",
        "    MaxPooling2D(2, 2),\n",
        "    Conv2D(64, (3, 3), activation='relu'),\n",
        "    MaxPooling2D(2, 2),\n",
        "    Flatten(),\n",
        "    Dense(128, activation='relu'),\n",
        "    Dense(1, activation='sigmoid')\n",
        "])\n",
        "\n",
        "model.compile(optimizer='adam', loss='binary_crossentropy', metrics=['accuracy'])\n"
      ]
    },
    {
      "cell_type": "markdown",
      "metadata": {
        "id": "7ca5e4ca-38d3-4125-a4dc-79a9603d6bad"
      },
      "source": [
        "## 1.6 Model Evaluation\n",
        "\n",
        "Now we evaluate the trained model on the test dataset. Calculates test loss and accuracy by evaluating the test generator. Predictions are made for the test dataset, and the results are compared to true labels.\n"
      ]
    },
    {
      "cell_type": "code",
      "metadata": {
        "colab": {
          "base_uri": "https://localhost:8080/",
          "height": 477
        },
        "id": "e88aed4f-ef8d-491d-b70d-1363c74f5f24",
        "outputId": "59987733-a387-4721-bade-c2874a6059ed"
      },
      "outputs": [
        {
          "output_type": "error",
          "ename": "ValueError",
          "evalue": "Exception encountered when calling Sequential.call().\n\n\u001b[1mInput 0 of layer \"dense_3\" is incompatible with the layer: expected axis -1 of input shape to have value 82944, but received input with shape (None, 186624)\u001b[0m\n\nArguments received by Sequential.call():\n  • inputs=tf.Tensor(shape=(None, 224, 224, 3), dtype=float32)\n  • training=False\n  • mask=None",
          "traceback": [
            "\u001b[0;31m---------------------------------------------------------------------------\u001b[0m",
            "\u001b[0;31mValueError\u001b[0m                                Traceback (most recent call last)",
            "\u001b[0;32m/tmp/ipython-input-37-677696226.py\u001b[0m in \u001b[0;36m<cell line: 0>\u001b[0;34m()\u001b[0m\n\u001b[1;32m      1\u001b[0m \u001b[0;31m# Evaluate the model on the test set\u001b[0m\u001b[0;34m\u001b[0m\u001b[0;34m\u001b[0m\u001b[0m\n\u001b[0;32m----> 2\u001b[0;31m \u001b[0mtest_loss\u001b[0m\u001b[0;34m,\u001b[0m \u001b[0mtest_accuracy\u001b[0m \u001b[0;34m=\u001b[0m \u001b[0mmodel\u001b[0m\u001b[0;34m.\u001b[0m\u001b[0mevaluate\u001b[0m\u001b[0;34m(\u001b[0m\u001b[0mtest_generator\u001b[0m\u001b[0;34m,\u001b[0m \u001b[0msteps\u001b[0m\u001b[0;34m=\u001b[0m\u001b[0mtest_generator\u001b[0m\u001b[0;34m.\u001b[0m\u001b[0msamples\u001b[0m \u001b[0;34m//\u001b[0m \u001b[0mtest_generator\u001b[0m\u001b[0;34m.\u001b[0m\u001b[0mbatch_size\u001b[0m\u001b[0;34m)\u001b[0m\u001b[0;34m\u001b[0m\u001b[0;34m\u001b[0m\u001b[0m\n\u001b[0m\u001b[1;32m      3\u001b[0m \u001b[0;34m\u001b[0m\u001b[0m\n\u001b[1;32m      4\u001b[0m \u001b[0mprint\u001b[0m\u001b[0;34m(\u001b[0m\u001b[0;34mf\"Test Loss: {test_loss:.4f}\"\u001b[0m\u001b[0;34m)\u001b[0m\u001b[0;34m\u001b[0m\u001b[0;34m\u001b[0m\u001b[0m\n\u001b[1;32m      5\u001b[0m \u001b[0mprint\u001b[0m\u001b[0;34m(\u001b[0m\u001b[0;34mf\"Test Accuracy: {test_accuracy:.4f}\"\u001b[0m\u001b[0;34m)\u001b[0m\u001b[0;34m\u001b[0m\u001b[0;34m\u001b[0m\u001b[0m\n",
            "\u001b[0;32m/usr/local/lib/python3.11/dist-packages/keras/src/utils/traceback_utils.py\u001b[0m in \u001b[0;36merror_handler\u001b[0;34m(*args, **kwargs)\u001b[0m\n\u001b[1;32m    120\u001b[0m             \u001b[0;31m# To get the full stack trace, call:\u001b[0m\u001b[0;34m\u001b[0m\u001b[0;34m\u001b[0m\u001b[0m\n\u001b[1;32m    121\u001b[0m             \u001b[0;31m# `keras.config.disable_traceback_filtering()`\u001b[0m\u001b[0;34m\u001b[0m\u001b[0;34m\u001b[0m\u001b[0m\n\u001b[0;32m--> 122\u001b[0;31m             \u001b[0;32mraise\u001b[0m \u001b[0me\u001b[0m\u001b[0;34m.\u001b[0m\u001b[0mwith_traceback\u001b[0m\u001b[0;34m(\u001b[0m\u001b[0mfiltered_tb\u001b[0m\u001b[0;34m)\u001b[0m \u001b[0;32mfrom\u001b[0m \u001b[0;32mNone\u001b[0m\u001b[0;34m\u001b[0m\u001b[0;34m\u001b[0m\u001b[0m\n\u001b[0m\u001b[1;32m    123\u001b[0m         \u001b[0;32mfinally\u001b[0m\u001b[0;34m:\u001b[0m\u001b[0;34m\u001b[0m\u001b[0;34m\u001b[0m\u001b[0m\n\u001b[1;32m    124\u001b[0m             \u001b[0;32mdel\u001b[0m \u001b[0mfiltered_tb\u001b[0m\u001b[0;34m\u001b[0m\u001b[0;34m\u001b[0m\u001b[0m\n",
            "\u001b[0;32m/usr/local/lib/python3.11/dist-packages/keras/src/layers/input_spec.py\u001b[0m in \u001b[0;36massert_input_compatibility\u001b[0;34m(input_spec, inputs, layer_name)\u001b[0m\n\u001b[1;32m    225\u001b[0m                     \u001b[0;32mNone\u001b[0m\u001b[0;34m,\u001b[0m\u001b[0;34m\u001b[0m\u001b[0;34m\u001b[0m\u001b[0m\n\u001b[1;32m    226\u001b[0m                 }:\n\u001b[0;32m--> 227\u001b[0;31m                     raise ValueError(\n\u001b[0m\u001b[1;32m    228\u001b[0m                         \u001b[0;34mf'Input {input_index} of layer \"{layer_name}\" is '\u001b[0m\u001b[0;34m\u001b[0m\u001b[0;34m\u001b[0m\u001b[0m\n\u001b[1;32m    229\u001b[0m                         \u001b[0;34mf\"incompatible with the layer: expected axis {axis} \"\u001b[0m\u001b[0;34m\u001b[0m\u001b[0;34m\u001b[0m\u001b[0m\n",
            "\u001b[0;31mValueError\u001b[0m: Exception encountered when calling Sequential.call().\n\n\u001b[1mInput 0 of layer \"dense_3\" is incompatible with the layer: expected axis -1 of input shape to have value 82944, but received input with shape (None, 186624)\u001b[0m\n\nArguments received by Sequential.call():\n  • inputs=tf.Tensor(shape=(None, 224, 224, 3), dtype=float32)\n  • training=False\n  • mask=None"
          ]
        }
      ],
      "source": [
        "# Evaluate the model on the test set\n",
        "test_loss, test_accuracy = model.evaluate(test_generator, steps=test_generator.samples // test_generator.batch_size)\n",
        "\n",
        "print(f\"Test Loss: {test_loss:.4f}\")\n",
        "print(f\"Test Accuracy: {test_accuracy:.4f}\")"
      ],
      "execution_count": 37
    },
    {
      "cell_type": "code",
      "source": [
        "import tarfile\n",
        "import os\n",
        "\n",
        "# Step 1: Extract the .tar file\n",
        "tar_path = '/content/aircraft_damage_dataset_v1.tar'\n",
        "extract_path = '/content/aircraft_damage_dataset_v1'\n",
        "\n",
        "if not os.path.exists(extract_path):\n",
        "    with tarfile.open(tar_path) as tar:\n",
        "        tar.extractall(path=extract_path)\n",
        "\n",
        "# Step 2: Set test_dir to extracted folder path\n",
        "test_dir = extract_path + '/test'  # or adjust subfolder based on extracted structure\n",
        "\n",
        "# Step 3: Load test data\n",
        "test_datagen = ImageDataGenerator(rescale=1./255)\n",
        "\n",
        "test_generator = test_datagen.flow_from_directory(\n",
        "    test_dir,\n",
        "    target_size=(224, 224),  # Match VGG16 input\n",
        "    batch_size=batch_size,\n",
        "    class_mode='binary',\n",
        "    shuffle=False,\n",
        "    seed=seed_value\n",
        ")\n"
      ],
      "metadata": {
        "colab": {
          "base_uri": "https://localhost:8080/",
          "height": 0
        },
        "id": "4UnW7fo6fl84",
        "outputId": "9d0f6bdc-370c-4bc7-87ce-3602e5a0f1d3"
      },
      "execution_count": 42,
      "outputs": [
        {
          "output_type": "stream",
          "name": "stdout",
          "text": [
            "Found 50 images belonging to 2 classes.\n"
          ]
        }
      ]
    },
    {
      "cell_type": "code",
      "source": [],
      "metadata": {
        "id": "0XZQeG94f7ls"
      },
      "execution_count": null,
      "outputs": []
    },
    {
      "cell_type": "code",
      "source": [],
      "metadata": {
        "id": "WleNLsCqhF26"
      },
      "execution_count": null,
      "outputs": []
    },
    {
      "cell_type": "code",
      "source": [
        "from tensorflow.keras.applications import VGG16\n",
        "from tensorflow.keras.models import Sequential\n",
        "from tensorflow.keras.layers import Flatten, Dense, Dropout\n",
        "from tensorflow.keras.optimizers import Adam\n",
        "\n",
        "# Load pre-trained VGG16 without top classifier layers\n",
        "base_model = VGG16(weights='imagenet', include_top=False, input_shape=(224, 224, 3))\n",
        "\n",
        "# Freeze VGG16 base\n",
        "base_model.trainable = False\n",
        "\n",
        "# Define custom classification head\n",
        "model = Sequential([\n",
        "    base_model,\n",
        "    Flatten(),  # <-- This is critical to resolve the shape mismatch\n",
        "    Dense(128, activation='relu'),\n",
        "    Dropout(0.3),\n",
        "    Dense(1, activation='sigmoid')\n",
        "])\n",
        "\n",
        "# Compile the model\n",
        "model.compile(optimizer=Adam(learning_rate=0.0001),\n",
        "              loss='binary_crossentropy',\n",
        "              metrics=['accuracy'])\n"
      ],
      "metadata": {
        "id": "aBZ90MQRhF34"
      },
      "execution_count": 50,
      "outputs": []
    },
    {
      "cell_type": "code",
      "source": [],
      "metadata": {
        "id": "JWfzV4ktgpUt"
      },
      "execution_count": null,
      "outputs": []
    },
    {
      "cell_type": "markdown",
      "metadata": {
        "id": "c5ac9629-4c5d-4722-a38a-54f1aa8ddcdb"
      },
      "source": [
        " ## 1.7 Visualizing Predictions\n",
        "\n",
        "Display test images alongside their true and predicted labels.\n",
        "\n",
        "True labels and predictions are retrieved.\n",
        "Images are displayed with labels for visual inspection of model performance.\n"
      ]
    },
    {
      "cell_type": "code",
      "metadata": {
        "id": "8146c1de-d2a7-4349-a165-d1e54020f247"
      },
      "outputs": [],
      "source": [
        "import numpy as np\n",
        "import matplotlib.pyplot as plt\n",
        "from tensorflow.keras.preprocessing import image\n",
        "\n",
        "# Function to plot a single image and its prediction\n",
        "def plot_image_with_title(image, model, true_label, predicted_label, class_names):\n",
        "    plt.figure(figsize=(6, 6))\n",
        "    plt.imshow(image)\n",
        "\n",
        "    # Convert labels from one-hot to class indices if needed, but for binary labels it's just 0 or 1\n",
        "    true_label_name = class_names[true_label]  # Labels are already in class indices\n",
        "    pred_label_name = class_names[predicted_label]  # Predictions are 0 or 1\n",
        "\n",
        "    plt.title(f\"True: {true_label_name}\\nPred: {pred_label_name}\")\n",
        "    plt.axis('off')\n",
        "    plt.show()\n",
        "\n",
        "# Function to test the model with images from the test set\n",
        "def test_model_on_image(test_generator, model, index_to_plot=0):\n",
        "    # Get a batch of images and labels from the test generator\n",
        "    test_images, test_labels = next(test_generator)\n",
        "\n",
        "    # Make predictions on the batch\n",
        "    predictions = model.predict(test_images)\n",
        "\n",
        "    # In binary classification, predictions are probabilities (float). Convert to binary (0 or 1)\n",
        "    predicted_classes = (predictions > 0.5).astype(int).flatten()\n",
        "\n",
        "    # Get the class indices from the test generator and invert them to get class names\n",
        "    class_indices = test_generator.class_indices\n",
        "    class_names = {v: k for k, v in class_indices.items()}  # Invert the dictionary\n",
        "\n",
        "    # Specify the image to display based on the index\n",
        "    image_to_plot = test_images[index_to_plot]\n",
        "    true_label = test_labels[index_to_plot]\n",
        "    predicted_label = predicted_classes[index_to_plot]\n",
        "\n",
        "    # Plot the selected image with its true and predicted labels\n",
        "    plot_image_with_title(image=image_to_plot, model=model, true_label=true_label, predicted_label=predicted_label, class_names=class_names)\n",
        "\n",
        "\n"
      ],
      "execution_count": 35
    },
    {
      "cell_type": "markdown",
      "metadata": {
        "id": "28a23452-c0f0-49cc-b112-ded0419566e4"
      },
      "source": [
        "## **Task 7: Visualizing the results**\n",
        "\n",
        "In this task, you will specify which image from the test dataset to display and test the model on. You will fill in the required values to test your model.\n",
        "\n",
        "You will visualize using the following parameters:\n",
        "\n",
        "*   **test_data_generator**: `test_generator`.\n",
        "*   **model**: `model`.\n",
        "*   **index_to_plot**: `1`.\n",
        "\n",
        "Hint: Use `test_model_on_image` to visualize the result:\n",
        "    \n",
        "```python\n",
        "test_model_on_image(<test_data_generator>, <model>, index_to_plot=index_to_plot)\n",
        "\n",
        "```\n",
        "**NOTE**: Due to the inherent nature of neural networks, predictions may vary from the actual labels. For instance, if the actual label is ‘crack’, the prediction could be either ‘crack’ or ‘dent’, both of which are possible outcomes, and full marks will be awarded for the task.\n",
        "\n",
        "**Note: Please copy and save the code of the task as it will be required for submission in the final project. Ensure to submit the response as part of your project submission**                                \n"
      ]
    },
    {
      "cell_type": "code",
      "source": [
        "# ✅ Task 7: Visualize one test prediction\n",
        "import numpy as np\n",
        "import matplotlib.pyplot as plt\n",
        "\n",
        "def test_model_on_image(test_data_generator, model, index_to_plot):\n",
        "    class_names = list(test_data_generator.class_indices.keys())\n",
        "\n",
        "    # Get image and label\n",
        "    test_images, test_labels = next(test_data_generator)\n",
        "    image = test_images[index_to_plot]\n",
        "    true_label = int(test_labels[index_to_plot])\n",
        "\n",
        "    # Predict\n",
        "    prediction = model.predict(np.expand_dims(image, axis=0))[0][0]\n",
        "    predicted_label = int(prediction >= 0.5)\n",
        "\n",
        "    # Plot\n",
        "    plt.imshow(image)\n",
        "    plt.title(f\"True: {class_names[true_label]}, Predicted: {class_names[predicted_label]}\")\n",
        "    plt.axis('off')\n",
        "    plt.show()\n",
        "\n",
        "# Run Task 7 visualization\n",
        "test_model_on_image(test_generator, model, index_to_plot=1)\n"
      ],
      "metadata": {
        "colab": {
          "base_uri": "https://localhost:8080/",
          "height": 445
        },
        "id": "D8WeyqEVhyuo",
        "outputId": "3a955cf7-b423-4a1c-d12e-975fccfb6093"
      },
      "execution_count": 52,
      "outputs": [
        {
          "output_type": "stream",
          "name": "stdout",
          "text": [
            "\u001b[1m1/1\u001b[0m \u001b[32m━━━━━━━━━━━━━━━━━━━━\u001b[0m\u001b[37m\u001b[0m \u001b[1m1s\u001b[0m 745ms/step\n"
          ]
        },
        {
          "output_type": "display_data",
          "data": {
            "text/plain": [
              "<Figure size 640x480 with 1 Axes>"
            ],
            "image/png": "[encoded data removed]"
          },
          "metadata": {}
        }
      ]
    },
    {
      "cell_type": "markdown",
      "metadata": {
        "id": "c3d6b968-2101-4e5d-80c8-0abd2d65a079"
      },
      "source": [
        "## <a id='toc2_'></a>[Part 2: Image Captioning and Summarization using BLIP Pretrained Model](#toc2_)\n"
      ]
    },
    {
      "cell_type": "markdown",
      "metadata": {
        "id": "e29332f2-7f0e-419b-a433-251c4a4ac3a2"
      },
      "source": [
        "BLIP (Bootstrapping Language-Image Pretraining) is an advanced vision-and-language model designed to generate natural language descriptions for images. By leveraging both visual and textual information, BLIP can produce human-readable text that accurately reflects the content and context of an image. It is specifically trained to understand images and their relationships to summarizing text, making it ideal for tasks like image captioning, summarization, and visual question answering.\n",
        "\n",
        "In this project, learners will utilize the BLIP model to build a system capable of automatically generating captions and summary for images. The code will integrate the BLIP model within a custom Keras layer. This allows the user to input an image and specify a task, either \"caption\" or \"summary\", to receive a textual output that describes or summarizes the content of the image.\n"
      ]
    },
    {
      "cell_type": "markdown",
      "metadata": {
        "id": "528f8510-db0b-46e9-908b-a92656d5e603"
      },
      "source": [
        "#### Key Steps:\n",
        "\n",
        "- **Image Loading and Preprocessing:** The code will begin by loading images from a file path, then converting and processing them into a format suitable for input to the BLIP model.\n",
        "  \n",
        "- **Text Generation:** Depending on the task, whether generating a caption or summary, the BLIP model will generate corresponding text based on the processed image.\n",
        "  \n",
        "- **Custom Keras Layer:** A custom Keras layer is a user-defined layer that extends Keras' built-in functionality.Here custom Keras layer will be implemented to wrap the BLIP model. This layer will handle the task-specific processing (captioning or summarizing) and integrate smoothly into a TensorFlow/Keras environment.\n"
      ]
    },
    {
      "cell_type": "code",
      "metadata": {
        "id": "73b94429-07b2-4f55-b2d4-68ca4fb6e77a"
      },
      "outputs": [],
      "source": [
        "#Load the required libraries\n",
        "import torch\n",
        "import tensorflow as tf\n",
        "from PIL import Image\n",
        "from transformers import BlipProcessor, BlipForConditionalGeneration"
      ],
      "execution_count": 53
    },
    {
      "cell_type": "markdown",
      "metadata": {
        "id": "9d06dfe3-6417-43bb-bf1c-7461252dcf7e"
      },
      "source": [
        "## 2.1 Loading BLIP Model\n"
      ]
    },
    {
      "cell_type": "markdown",
      "metadata": {
        "id": "b8fa58be-149e-4fc2-a111-1bd4efbe5ddd"
      },
      "source": [
        "#### Load the BLIP Model and Processor from Hugging Face\n",
        "\n",
        "Hugging Face is an open-source platform that provides pre-trained machine learning models, datasets, and tools, primarily focused on natural language processing, computer vision, and other AI tasks. It offers easy access to powerful models through its Transformers library.\n",
        "\n",
        "- **BlipProcessor:** This handles the preprocessing of images and text. It converts images to the format that the BLIP model can understand.\n",
        "\n",
        "- **BlipForConditionalGeneration:** This is the model itself, responsible for generating captions or summaries based on the processed image.\n"
      ]
    },
    {
      "cell_type": "code",
      "metadata": {
        "colab": {
          "base_uri": "https://localhost:8080/",
          "height": 241,
          "referenced_widgets": [
            "139e77ed5bee4f479882d034f6d00f86",
            "0f183cae82504d348804cf169e7e85cc",
            "aaad810deb094bd59bd5053c6ff68ae3",
            "dbcf165dee1048b5b5df6da9a6fe58ac",
            "ac7d4dcd04e34660a6afd72861a495f0",
            "4a56a14800bc48b3aeb336d275e446d5",
            "af43d1e783bc448f9acd44c7f27908e2",
            "b5a23a9f424f4ebb91126f39378c07a2",
            "ea4ce041eab4423e8050ca5e70b73160",
            "d504a591bbee4f8496773e66ec68d905",
            "9168022ec3734ce19d767763666d81df",
            "2bf9e349a39341d8b5c9a4f3cfbca6fe",
            "c8332415030f44938905e3d2ad96e620",
            "cc0876e16657492c867a35f6388483ae",
            "dd7c261ee3d84af3b08e5d7d31ee41d1",
            "a234814bf6a84b59bbb8541cfaaf7120",
            "ebc5006ec3774f3794cfbe09fefb23d4",
            "f55dae8df125447c932913b4779719c9",
            "23d91d41953e4dbb93c40d1eea1cc8d3",
            "c8ed88e9ef2a41c083919f410fc6b0fc",
            "200d5e0b8cc94643bf0dda2ee7e58d51",
            "ba062fb5fca244eea12eac537ae4a7f9",
            "3a32f47ae9ef4d6f97e66f6e57125c59",
            "eb48da4b9bb54b19b476e1ac18663987",
            "778e6e38ac77439fa8b902c61dc8984e",
            "eccf02f27adc496f942eac965fa9559c",
            "e15190d4d11b4b0abb409e88f3b2592b",
            "3820a538a06e4eecb7e922105858e579",
            "81e57b699c864719a0f49a723920f22e",
            "25c09c0da481460bbf9e85a475728abd",
            "946f5e29bf99424a9495d7226938d857",
            "7fe3ecbd46ad49c6abfdfe53fffc24c4",
            "768ac10f41d045c28696415a83d3c247",
            "69c7d74083b2499dbd0e7648a436f1bf",
            "7c00e38671154534b0202ee5183f6692",
            "1abded1307a74534b2c6e113e7bf6cb3",
            "30d34ed627a54cab8271292efdf838ed",
            "317d1e3d62a74b959f1aca4ec1ee6f13",
            "09900fadfd514d5392172beb65d570a4",
            "490e7ef4ee7e4178bc9e56bfd754f623",
            "8d22d3bc280b4068bbcfe1f3f914d1de",
            "e4d658e30c834709835d6f065ec57b4a",
            "a1f5b4d59b1b4cca97c79a65cf3e7059",
            "ec0a5d18ceea4f8fa759e1cae7160fe4",
            "d8135c42cc2b4d65ae9a75330b572ecf",
            "a54a5e387c654349abfc92e238856afe",
            "27dcf1ce03ff4241a43aa0c09a33b329",
            "b86ac2f2a1794b4da651d7520fa0360f",
            "64b1da31cbe646b5926063d1a67d7588",
            "98ed6f5a45244cb8bff2bdd38e4bfd2b",
            "e03c0c85bd124734916aa743510811f6",
            "a23732eb25a54a6e90986c1b75cc07ca",
            "a867325a4f164868b8d14b21a74f31c4",
            "9b999d08b47d40bdb7c4b42282283da3",
            "a1675bf8876140bcb56d580aa5c5da15",
            "0dc7a9b2d3fc4135ad472f82afc257e9",
            "134c6a9dc82d48cb93f115b5f94e18fb",
            "c89f75950af44ea487d82ddcf3163897",
            "b511ae1f41034ef9855a3374f0b4f51e",
            "56d2473613b64dcbbeca3854e9d9d3b5",
            "b6e7adcb84c24bc1b1321a32a6bdd390",
            "cb79fcf8d24e41439f5a99809015c7dd",
            "1c579749750b4c769c4791729e476bed",
            "50dbf9327e8c4f6995158482e7ce8523",
            "e5b22d58343e4cecbd59f3379ec8148d",
            "21c292cba625462390a61ddcf9f6bbe9",
            "747ab72f2a5f4a109717dc0c02c58f54",
            "fa044de93ef840e1918a8fe4f0148ff0",
            "2f28768113044478960d4b85c614847f",
            "89a26abf75b648e6b78f934b0567736a",
            "355112317ffc4352a6c377ecc6e17641",
            "fc600d7fd9c446f0a9c91eaf87f7ab2b",
            "9f9095b1791246aa98e21e8b2245fff8",
            "b79eec0f928b4aeab096a38cdb7776aa",
            "9d4968168c6e48e2bc67eeb63f282edb",
            "b5f9c825a00940c582fac3796b830a18",
            "6b71fa1c474949d19cf053808914425a"
          ]
        },
        "id": "d1e6c316-5c4e-43f6-b21b-ed080391e5d0",
        "outputId": "f58661f6-617b-4ed1-b129-98f2dcd15e94"
      },
      "outputs": [
        {
          "output_type": "display_data",
          "data": {
            "text/plain": [
              "preprocessor_config.json:   0%|          | 0.00/287 [00:00<?, ?B/s]"
            ],
            "application/vnd.jupyter.widget-view+json": {
              "version_major": 2,
              "version_minor": 0,
              "model_id": "139e77ed5bee4f479882d034f6d00f86"
            }
          },
          "metadata": {}
        },
        {
          "output_type": "display_data",
          "data": {
            "text/plain": [
              "tokenizer_config.json:   0%|          | 0.00/506 [00:00<?, ?B/s]"
            ],
            "application/vnd.jupyter.widget-view+json": {
              "version_major": 2,
              "version_minor": 0,
              "model_id": "2bf9e349a39341d8b5c9a4f3cfbca6fe"
            }
          },
          "metadata": {}
        },
        {
          "output_type": "display_data",
          "data": {
            "text/plain": [
              "vocab.txt: 0.00B [00:00, ?B/s]"
            ],
            "application/vnd.jupyter.widget-view+json": {
              "version_major": 2,
              "version_minor": 0,
              "model_id": "3a32f47ae9ef4d6f97e66f6e57125c59"
            }
          },
          "metadata": {}
        },
        {
          "output_type": "display_data",
          "data": {
            "text/plain": [
              "tokenizer.json: 0.00B [00:00, ?B/s]"
            ],
            "application/vnd.jupyter.widget-view+json": {
              "version_major": 2,
              "version_minor": 0,
              "model_id": "69c7d74083b2499dbd0e7648a436f1bf"
            }
          },
          "metadata": {}
        },
        {
          "output_type": "display_data",
          "data": {
            "text/plain": [
              "special_tokens_map.json:   0%|          | 0.00/125 [00:00<?, ?B/s]"
            ],
            "application/vnd.jupyter.widget-view+json": {
              "version_major": 2,
              "version_minor": 0,
              "model_id": "d8135c42cc2b4d65ae9a75330b572ecf"
            }
          },
          "metadata": {}
        },
        {
          "output_type": "display_data",
          "data": {
            "text/plain": [
              "config.json: 0.00B [00:00, ?B/s]"
            ],
            "application/vnd.jupyter.widget-view+json": {
              "version_major": 2,
              "version_minor": 0,
              "model_id": "0dc7a9b2d3fc4135ad472f82afc257e9"
            }
          },
          "metadata": {}
        },
        {
          "output_type": "display_data",
          "data": {
            "text/plain": [
              "pytorch_model.bin:   0%|          | 0.00/990M [00:00<?, ?B/s]"
            ],
            "application/vnd.jupyter.widget-view+json": {
              "version_major": 2,
              "version_minor": 0,
              "model_id": "747ab72f2a5f4a109717dc0c02c58f54"
            }
          },
          "metadata": {}
        }
      ],
      "source": [
        "#load the pretrained BLIP processor and model:\n",
        "processor = BlipProcessor.from_pretrained(\"Salesforce/blip-image-captioning-base\")\n",
        "model = BlipForConditionalGeneration.from_pretrained(\"Salesforce/blip-image-captioning-base\")"
      ],
      "execution_count": 54
    },
    {
      "cell_type": "markdown",
      "metadata": {
        "id": "8d7c257b-99ef-4763-9f2a-d9e0209ec8f4"
      },
      "source": [
        "#### Custom Keras Layer: BlipCaptionSummaryLayer\n",
        "\n",
        "Next, we define a custom `tf.keras.layers.Layer` class that takes in an image and a task input (either caption or summary) and processes the image using the BLIP model. To create a custom Keras layer, we need to subclass `tf.keras.layers.Layer` and implement the required methods.\n",
        "\n",
        "#### **BlipCaptionSummaryLayer Class:**\n",
        "\n",
        "This custom Keras layer integrates image preprocessing and text generation using a pretrained BLIP model.\n",
        "\n",
        "- **`__init__`**: This constructor method initializes the `BlipCaptionSummaryLayer` class by setting up the BLIP processor and model.\n",
        "  \n",
        "- **`call`**: This method defines the operations or transformations applied to the input data as it passes through the layer.\n",
        "\n",
        "- **`process_image`**: The `process_image` method contains the custom logic for loading the image, preprocessing it, generating the text (either a caption or a summary) using the BLIP model, and returning the generated result.\n"
      ]
    },
    {
      "cell_type": "code",
      "metadata": {
        "id": "829803ea-8494-4107-85bf-42c77da21d53"
      },
      "outputs": [],
      "source": [
        "class BlipCaptionSummaryLayer(tf.keras.layers.Layer):\n",
        "    def __init__(self, processor, model, **kwargs):\n",
        "        \"\"\"\n",
        "        Initialize the custom Keras layer with the BLIP processor and model.\n",
        "\n",
        "        Args:\n",
        "            processor: The BLIP processor for preparing inputs for the model.\n",
        "            model: The BLIP model for generating captions or summaries.\n",
        "        \"\"\"\n",
        "        super().__init__(**kwargs)\n",
        "        self.processor = processor\n",
        "        self.model = model\n",
        "\n",
        "    def call(self, image_path, task):\n",
        "        # Use tf.py_function to run the custom image processing and text generation\n",
        "        return tf.py_function(self.process_image, [image_path, task], tf.string)\n",
        "\n",
        "    def process_image(self, image_path, task):\n",
        "        \"\"\"\n",
        "        Perform image loading, preprocessing, and text generation.\n",
        "\n",
        "        Args:\n",
        "            image_path: Path to the image file as a string.\n",
        "            task: The type of task (\"caption\" or \"summary\").\n",
        "\n",
        "        Returns:\n",
        "            The generated caption or summary as a string.\n",
        "        \"\"\"\n",
        "        try:\n",
        "            # Decode the image path from the TensorFlow tensor to a Python string\n",
        "            image_path_str = image_path.numpy().decode(\"utf-8\")\n",
        "\n",
        "            # Open the image using PIL and convert it to RGB format\n",
        "            image = Image.open(image_path_str).convert(\"RGB\")\n",
        "\n",
        "            # Set the appropriate prompt based on the task\n",
        "            if task.numpy().decode(\"utf-8\") == \"caption\":\n",
        "                prompt = \"This is a picture of\"  # Modify prompt for more natural output\n",
        "            else:\n",
        "                prompt = \"This is a detailed photo showing\"  # Modify for summary\n",
        "\n",
        "            # Prepare inputs for the BLIP model\n",
        "            inputs = self.processor(images=image, text=prompt, return_tensors=\"pt\")\n",
        "\n",
        "            # Generate text output using the BLIP model\n",
        "            output = self.model.generate(**inputs)\n",
        "\n",
        "            # Decode the output into a readable string\n",
        "            result = self.processor.decode(output[0], skip_special_tokens=True)\n",
        "            return result\n",
        "        except Exception as e:\n",
        "            # Handle errors during image processing or text generation\n",
        "            print(f\"Error: {e}\")\n",
        "            return \"Error processing image\"\n"
      ],
      "execution_count": 55
    },
    {
      "cell_type": "markdown",
      "metadata": {
        "id": "4d61b1a4-02fe-49db-8cbd-dad31378f054"
      },
      "source": [
        "## Task 8: Implement a Helper Function to Use the Custom Keras Layer\n",
        "\n",
        "In this task, you will implement a helper function `generate_text` that utilizes the custom `BlipCaptionSummaryLayer` Keras layer to generate captions or summaries for a given image. The function will accept an image path and a task type (caption or summary), process the image using the BLIP model, and return the generated text.\n",
        "\n",
        "### **Steps:**\n",
        "\n",
        "#### Create the Helper Function `generate_text`:\n",
        "The function will accept following parameters:\n",
        "\n",
        "* **`image_path`**: The path to the image file (in tensor format).\n",
        "* **`task`**: The type of task to perform, which can either be \"caption\" or \"summary\" (in tensor format).\n",
        "  \n",
        "Inside the function:\n",
        "1. Create an instance(blip_layer) of the `BlipCaptionSummaryLayer`.\n",
        "2. Call this layer with the provided image path and task type.\n",
        "3. Return the generated caption or summary as the output.\n",
        "\n",
        "**Note: Please copy and save the code of the task as it will be required for submission in the final project. Ensure to submit the response as part of your project submission**\n"
      ]
    },
    {
      "cell_type": "code",
      "execution_count": 56,
      "metadata": {
        "id": "44a46f57"
      },
      "outputs": [],
      "source": [
        "# write your code here\n",
        "# ✅ Task 8: Helper function to generate image caption or summary\n",
        "\n",
        "def generate_text(image_path, task):\n",
        "    \"\"\"\n",
        "    Generates a caption or summary for a given image using the custom BLIP layer.\n",
        "\n",
        "    Parameters:\n",
        "        image_path (str): Path to the image file.\n",
        "        task (str): \"caption\" or \"summary\".\n",
        "\n",
        "    Returns:\n",
        "        str: Generated text (caption or summary).\n",
        "    \"\"\"\n",
        "    try:\n",
        "        # 1. Create instance of the custom BLIP layer\n",
        "        blip_layer = BlipCaptionSummaryLayer()\n",
        "\n",
        "        # 2. Call the layer with image and task\n",
        "        result = blip_layer((image_path, task))\n",
        "\n",
        "        # 3. Return the generated result\n",
        "        return result\n",
        "\n",
        "    except Exception as e:\n",
        "        print(f\"Error: {e}\")\n",
        "        return \"Error processing image\"\n"
      ]
    },
    {
      "cell_type": "code",
      "source": [
        "# Example usage:\n",
        "generated = generate_text('/content/sample_image.jpg', 'caption')\n",
        "print(\"Generated Output:\", generated)\n"
      ],
      "metadata": {
        "colab": {
          "base_uri": "https://localhost:8080/",
          "height": 0
        },
        "id": "ubohAFQ_jRaj",
        "outputId": "f9923e98-ebac-4db9-c800-18a7a222a30f"
      },
      "execution_count": 57,
      "outputs": [
        {
          "output_type": "stream",
          "name": "stdout",
          "text": [
            "Error: BlipCaptionSummaryLayer.__init__() missing 2 required positional arguments: 'processor' and 'model'\n",
            "Generated Output: Error processing image\n"
          ]
        }
      ]
    },
    {
      "cell_type": "markdown",
      "metadata": {
        "id": "bbe4a610-92b1-46b4-ba49-d2d3c6e76c7c"
      },
      "source": [
        "Double-click <b>here</b> for the Hint.\n",
        "<!--\n",
        "# Define a helper function to use the custom Keras layer\n",
        "def generate_text(image_path, task):\n",
        "  # Create an instance of the custom Keras layer\n",
        "  # Replace this with the pretrained BLIP processor and model loaded earlier\n",
        "    blip_layer = BlipCaptionSummaryLayer(<blip processor>, <model>)\n",
        "    # Call the layer with the provided inputs\n",
        "    return blip_layer(image_path, task)\n",
        "-->    \n"
      ]
    },
    {
      "cell_type": "markdown",
      "metadata": {
        "id": "1a8370bf-eb46-47d8-aee1-98a02bf29cc2"
      },
      "source": [
        "## 2.2 Generating Captions and Summaries\n"
      ]
    },
    {
      "cell_type": "markdown",
      "metadata": {
        "id": "0e8ea1af-2f29-41b3-8aa5-088e3d9faf37"
      },
      "source": [
        "Now we use the `generate_text` function to generate a caption and a summary for an image.\n",
        "It processes the image and prints the corresponding text output in a human-readable format.\n",
        "The function makes it easy to switch between generating captions and summaries based on the task type you provide.</br>\n",
        "</br>\n",
        "\n",
        "**Note:** Generated captions/summary may not always be accurate, as the model is limited by its training data and may not fully understand new or specific images.\n",
        "\n"
      ]
    },
    {
      "cell_type": "code",
      "source": [],
      "metadata": {
        "id": "jEtaEZbZkIYb"
      },
      "execution_count": null,
      "outputs": []
    },
    {
      "cell_type": "code",
      "source": [
        "import tensorflow as tf\n",
        "from transformers import BlipProcessor, BlipForConditionalGeneration\n",
        "from PIL import Image\n",
        "\n",
        "# Load BLIP model and processor\n",
        "processor = BlipProcessor.from_pretrained(\"Salesforce/blip-image-captioning-base\")\n",
        "model = BlipForConditionalGeneration.from_pretrained(\"Salesforce/blip-image-captioning-base\")\n",
        "\n",
        "# Define the custom helper function (no tf.function)\n",
        "def generate_text(image_path, task_type):\n",
        "    try:\n",
        "        image = Image.open(image_path).convert(\"RGB\")\n",
        "        inputs = processor(images=image, return_tensors=\"pt\")\n",
        "        output = model.generate(**inputs)\n",
        "        result = processor.decode(output[0], skip_special_tokens=True)\n",
        "        return result\n",
        "    except Exception as e:\n",
        "        return f\"Error: {str(e)}\"\n",
        "\n",
        "# Example usage\n",
        "image_path = \"aircraft_damage_dataset_v1/test/144_10_JPG_jpg.rf.d4080c33e217c1606b76585469d626b.jpg\"\n",
        "caption = generate_text(image_path, \"caption\")\n",
        "summary = generate_text(image_path, \"summary\")\n",
        "\n",
        "print(\"Caption:\", caption)\n",
        "print(\"Summary:\", summary)\n"
      ],
      "metadata": {
        "colab": {
          "base_uri": "https://localhost:8080/",
          "height": 0
        },
        "id": "vlqUDBk3kIZh",
        "outputId": "30f41240-1e0d-41f5-cbc3-dcf710157e9c"
      },
      "execution_count": 61,
      "outputs": [
        {
          "output_type": "stream",
          "name": "stdout",
          "text": [
            "Caption: Error: [Errno 2] No such file or directory: 'aircraft_damage_dataset_v1/test/144_10_JPG_jpg.rf.d4080c33e217c1606b76585469d626b.jpg'\n",
            "Summary: Error: [Errno 2] No such file or directory: 'aircraft_damage_dataset_v1/test/144_10_JPG_jpg.rf.d4080c33e217c1606b76585469d626b.jpg'\n"
          ]
        }
      ]
    },
    {
      "cell_type": "markdown",
      "metadata": {
        "id": "f1258f42-eded-4721-9a16-1f28cb592130"
      },
      "source": [
        "## Task 9: Generate a caption for an image using the using BLIP pretrained model\n",
        "\n",
        "- Use the image_path variable given below to load the image. Run the cell to before proceeding to next step.\n",
        "- Use the `generate_text` function to generate a caption for the image.\n",
        "- Use the example given in `2.2 Generating Captions and Summaries` for this task\n",
        "  \n",
        "**Note:** Generated captions may not always be accurate, as the model is limited by its training data and may not fully understand new or specific images.\n",
        "  \n",
        "**Note: Please copy and save the output of the task as it will be required for submission in the final project. Ensure to submit the response as part of your project submission**\n"
      ]
    },
    {
      "cell_type": "code",
      "metadata": {
        "colab": {
          "base_uri": "https://localhost:8080/",
          "height": 0
        },
        "id": "831d0867-3884-4c84-acde-5e6be4b35d65",
        "outputId": "2aa48c13-4c14-4178-e142-f045403d0c8d"
      },
      "outputs": [
        {
          "output_type": "stream",
          "name": "stdout",
          "text": [
            "❌ Error: Image file not found at: aircraft_damage_dataset_v1/test/dent/149_22_JPG_jpg.rf.4899cbbf46aad9588fa3811bb886c34d.jpg\n"
          ]
        }
      ],
      "source": [
        "# ✅ Task 9: Generate a summary of an image using BLIP pretrained model\n",
        "\n",
        "import os\n",
        "import tensorflow as tf\n",
        "\n",
        "# Step 1: Set the path to the test image (make sure this file exists!)\n",
        "image_path = \"aircraft_damage_dataset_v1/test/dent/149_22_JPG_jpg.rf.4899cbbf46aad9588fa3811bb886c34d.jpg\"\n",
        "\n",
        "# Step 2: Check if the image file exists\n",
        "if not os.path.exists(image_path):\n",
        "    print(\"❌ Error: Image file not found at:\", image_path)\n",
        "else:\n",
        "    # Step 3: Generate the summary using the custom BLIP layer\n",
        "    summary = generate_text(image_path, \"summary\")\n",
        "\n",
        "    # Step 4: Display the output\n",
        "    print(\"✅ Summary:\", summary)\n"
      ],
      "execution_count": 72
    },
    {
      "cell_type": "code",
      "metadata": {
        "id": "55ebceb2-3f0f-41b9-8117-7302d735342a"
      },
      "outputs": [],
      "source": [
        "image_path = tf.constant(\"aircraft_damage_dataset_v1/test/dent/149_22_JPG_jpg.rf.4899cbb6f4aad9588fa3811bb886c34d.jpg\")  # actual path of image"
      ],
      "execution_count": 63
    },
    {
      "cell_type": "code",
      "execution_count": 64,
      "metadata": {
        "colab": {
          "base_uri": "https://localhost:8080/",
          "height": 472
        },
        "id": "1c1553f1",
        "outputId": "74120f46-692b-4b7d-c16e-fde4ddfb3117"
      },
      "outputs": [
        {
          "output_type": "display_data",
          "data": {
            "text/plain": [
              "<Figure size 640x480 with 1 Axes>"
            ],
            "image/png": "[encoded data removed]"
          },
          "metadata": {}
        }
      ],
      "source": [
        "\n",
        "# Plot training accuracy and loss\n",
        "import matplotlib.pyplot as plt\n",
        "\n",
        "plt.plot(history.history['accuracy'], label='accuracy')\n",
        "plt.plot(history.history['loss'], label='loss')\n",
        "plt.xlabel('Epoch')\n",
        "plt.ylabel('Value')\n",
        "plt.legend()\n",
        "plt.title('Training Accuracy and Loss')\n",
        "plt.grid(True)\n",
        "plt.show()\n"
      ]
    },
    {
      "cell_type": "markdown",
      "metadata": {
        "id": "2cabc75d-1066-4db2-9674-0acc11d60980"
      },
      "source": [
        "## Task 10: Generate a summary of an image using BLIP pretrained model\n",
        "\n",
        "- Use the image_path variable given below to load the image. Run the cell before proceeding to next step.\n",
        "- Use the `generate_text` function to generate a caption for the image.\n",
        "- Use the example given in `2.2 Generating Captions and Summaries` for this task\n",
        "\n",
        "**Note:** Generated summary may not always be accurate, as the model is limited by its training data and may not fully understand new or specific images.\n",
        "\n",
        "**Note: Please copy and save the output of the task as it will be required for submission in the final project. Ensure to submit the response as part of your project submission**\n"
      ]
    },
    {
      "cell_type": "code",
      "metadata": {
        "id": "3a414210-27ac-49c9-82d6-b451a6c86d31"
      },
      "outputs": [],
      "source": [
        "image_path = tf.constant(\"aircraft_damage_dataset_v1/test/dent/149_22_JPG_jpg.rf.4899cbb6f4aad9588fa3811bb886c34d.jpg\")  # actual path of image"
      ],
      "execution_count": 65
    },
    {
      "cell_type": "code",
      "source": [
        "import os\n",
        "import tensorflow as tf\n",
        "\n",
        "# ✅ Step 1: Check available image files in the target folder\n",
        "test_dir = \"aircraft_damage_dataset_v1/test/dent\"\n",
        "print(\"Available files in test/dent:\")\n",
        "print(os.listdir(test_dir))  # This helps you find the exact filename\n",
        "\n",
        "# ✅ Step 2: Use the correct image path (replace with actual filename from above)\n",
        "image_path = os.path.join(test_dir, \"149_22_JPG_jpg.rf.4899cbbf46aad9588fa3811bb886c34d.jpg\")\n",
        "\n",
        "# ✅ Step 3: Generate summary using generate_text()\n",
        "summary = generate_text(image_path, \"summary\")\n",
        "\n",
        "# ✅ Step 4: Print the result\n",
        "print(\"Summary:\", summary)\n"
      ],
      "metadata": {
        "colab": {
          "base_uri": "https://localhost:8080/",
          "height": 0
        },
        "id": "SX9Srvkik86a",
        "outputId": "e7660c5e-a042-4ccc-fe88-900659747f28"
      },
      "execution_count": 68,
      "outputs": [
        {
          "output_type": "stream",
          "name": "stdout",
          "text": [
            "Available files in test/dent:\n",
            "['161_6_JPG_jpg.rf.4ade35715c20be78546832880ae2bed7.jpg', '100_6_JPG_jpg.rf.5735b6c11e91aeff859f3d34fd772ddb.jpg', '151_3_JPG_jpg.rf.9bd68d33951da927be018c23bbf3760a.jpg', '151_25_JPG_jpg.rf.ae27b09909820740a74ef8747820fde6.jpg', '154_8_JPG_jpg.rf.b1f70e012515aa49e1d965b92198be63.jpg', '136_14_JPG_jpg.rf.ebc6db2f4244eb3f538fc7d8f22af435.jpg', '136_15_JPG_jpg.rf.35554276cb237619af1cf7fb465e3f46.jpg', '136_20_JPG_jpg.rf.e13ff88f88a3dbf20345eae5eeeb6bb4.jpg', '134_11_JPG_jpg.rf.8483e7d113ce9487a48dc13419dff292.jpg', '144_10_JPG_jpg.rf.4d008cc33e217c1606b76585469d626b.jpg', '135_4_JPG_jpg.rf.7145e74e4655919b4bc24c9648592e32.jpg', '146_24_JPG_jpg.rf.5ba010de4a4a48e8b3a21c661c3bb6a4.jpg', '156_19_JPG_jpg.rf.ce86a8763333f7a0736a24f0537c38a3.jpg', '17_16_JPG_jpg.rf.1bbfc7fc59a41c5e6a70a5628fe55310.jpg', '151_24_JPG_jpg.rf.8e7b0f67da38bf329a56fc46fd34f92f.jpg', '146_21_JPG_jpg.rf.62814adf2e016eb273290756cff2e993.jpg', '100_12_JPG_jpg.rf.c9eba14c33080322c8039295a4564509.jpg', '143_13_JPG_jpg.rf.29ff136584e5e0cc50f837396e6995a2.jpg', '145_21_JPG_jpg.rf.d2d9d14202775dd0f28a3db931ae057e.jpg', '149_10_JPG_jpg.rf.844c798f0abf58d2c77b3bf78c88e478.jpg', '105_3_JPG_jpg.rf.f410c0d6b274a5c73623651c30e32e35.jpg', '152_1_JPG_jpg.rf.c29e17e6a259f691c2786151b952ef21.jpg', '213_1_JPG_jpg.rf.a38a31b48f2206fbf7f0cf5e49736dc7.jpg', '149_22_JPG_jpg.rf.4899cbb6f4aad9588fa3811bb886c34d.jpg', '148_1_JPG_jpg.rf.28b72de8fd57df5bd56b19dd06b0b61c.jpg']\n",
            "Summary: Error: [Errno 2] No such file or directory: 'aircraft_damage_dataset_v1/test/dent/149_22_JPG_jpg.rf.4899cbbf46aad9588fa3811bb886c34d.jpg'\n"
          ]
        }
      ]
    },
    {
      "cell_type": "markdown",
      "metadata": {
        "id": "54b85851-5fb0-41fe-a67e-aac9b030f666"
      },
      "source": [
        "### Congratulations on completing the final project!\n",
        "Now, download the file as it will be used for the final grading.Please note that the file should have both code and output of the cells.\n",
        "\n",
        "### Steps to download the file:\n",
        "1. Click on **File** from the left side of the menu.\n",
        "2. Select **Download**.\n",
        "\n",
        "![Download Image](https://cf-courses-data.s3.us.cloud-object-storage.appdomain.cloud/oNELo6MwGDRaIbnzNgzYRA/download.png)\n"
      ]
    },
    {
      "cell_type": "markdown",
      "metadata": {
        "id": "2afacaf5-9cfc-4535-940e-ce8c1e2d825d"
      },
      "source": [
        "## Authors\n"
      ]
    },
    {
      "cell_type": "markdown",
      "metadata": {
        "id": "db77dbc2-773d-4965-9d32-2e99708295d4"
      },
      "source": [
        "Vandana Pandey\n"
      ]
    },
    {
      "cell_type": "markdown",
      "metadata": {
        "id": "21e40c73-1a94-4e15-a809-7193a8c13def"
      },
      "source": [
        "### Other Contributors\n"
      ]
    },
    {
      "cell_type": "markdown",
      "metadata": {
        "id": "6fa9ab4c-c616-4d5c-891e-a545db3dae4b"
      },
      "source": [
        "[Srishti Srivastava](https://www.linkedin.com/in/srishti-srivastava-343095a8/), [Aman Aggarwal](https://www.linkedin.com/in/aggarwal-aman/)\n"
      ]
    },
    {
      "cell_type": "markdown",
      "metadata": {
        "id": "415ae519-1590-431a-b61e-ee13fe4a8288"
      },
      "source": [
        "<!--\n",
        "## Change log\n",
        "| Date (YYYY-MM-DD) | Version | Changed By | Change Description    |\n",
        "| ----------------- | ------- | ---------- | --------------------- |\n",
        "| 2025-06-23        | 0.1     | Vandana Pandey| Create Lab        |-->\n"
      ]
    },
    {
      "cell_type": "markdown",
      "metadata": {
        "id": "1af4cca8-c9a7-41b5-9c86-5e34355b4ae9"
      },
      "source": [
        "## <h3 align=\"center\"> &#169; IBM Corporation. All rights reserved. <h3/>\n"
      ]
    }
  ],
  "metadata": {
    "kernelspec": {
      "display_name": "Python 3 (ipykernel)",
      "language": "python",
      "name": "python3"
    },
    "language_info": {
      "codemirror_mode": {
        "name": "ipython",
        "version": 3
      },
      "file_extension": ".py",
      "mimetype": "text/x-python",
      "name": "python",
      "nbconvert_exporter": "python",
      "pygments_lexer": "ipython3",
      "version": "3.12.8"
    },
    "prev_pub_hash": "20a5f0ec245fc64437687c16e69a352f7672baee5b3a6a6c35136813dc1b8ea2",
    "colab": {
      "provenance": [],
      "include_colab_link": true
    },
    "widgets": {
      "application/vnd.jupyter.widget-state+json": {
        "139e77ed5bee4f479882d034f6d00f86": {
          "model_module": "@jupyter-widgets/controls",
          "model_name": "HBoxModel",
          "model_module_version": "1.5.0",
          "state": {
            "_dom_classes": [],
            "_model_module": "@jupyter-widgets/controls",
            "_model_module_version": "1.5.0",
            "_model_name": "HBoxModel",
            "_view_count": null,
            "_view_module": "@jupyter-widgets/controls",
            "_view_module_version": "1.5.0",
            "_view_name": "HBoxView",
            "box_style": "",
            "children": [
              "IPY_MODEL_0f183cae82504d348804cf169e7e85cc",
              "IPY_MODEL_aaad810deb094bd59bd5053c6ff68ae3",
              "IPY_MODEL_dbcf165dee1048b5b5df6da9a6fe58ac"
            ],
            "layout": "IPY_MODEL_ac7d4dcd04e34660a6afd72861a495f0"
          }
        },
        "0f183cae82504d348804cf169e7e85cc": {
          "model_module": "@jupyter-widgets/controls",
          "model_name": "HTMLModel",
          "model_module_version": "1.5.0",
          "state": {
            "_dom_classes": [],
            "_model_module": "@jupyter-widgets/controls",
            "_model_module_version": "1.5.0",
            "_model_name": "HTMLModel",
            "_view_count": null,
            "_view_module": "@jupyter-widgets/controls",
            "_view_module_version": "1.5.0",
            "_view_name": "HTMLView",
            "description": "",
            "description_tooltip": null,
            "layout": "IPY_MODEL_4a56a14800bc48b3aeb336d275e446d5",
            "placeholder": "​",
            "style": "IPY_MODEL_af43d1e783bc448f9acd44c7f27908e2",
            "value": "preprocessor_config.json: 100%"
          }
        },
        "aaad810deb094bd59bd5053c6ff68ae3": {
          "model_module": "@jupyter-widgets/controls",
          "model_name": "FloatProgressModel",
          "model_module_version": "1.5.0",
          "state": {
            "_dom_classes": [],
            "_model_module": "@jupyter-widgets/controls",
            "_model_module_version": "1.5.0",
            "_model_name": "FloatProgressModel",
            "_view_count": null,
            "_view_module": "@jupyter-widgets/controls",
            "_view_module_version": "1.5.0",
            "_view_name": "ProgressView",
            "bar_style": "success",
            "description": "",
            "description_tooltip": null,
            "layout": "IPY_MODEL_b5a23a9f424f4ebb91126f39378c07a2",
            "max": 287,
            "min": 0,
            "orientation": "horizontal",
            "style": "IPY_MODEL_ea4ce041eab4423e8050ca5e70b73160",
            "value": 287
          }
        },
        "dbcf165dee1048b5b5df6da9a6fe58ac": {
          "model_module": "@jupyter-widgets/controls",
          "model_name": "HTMLModel",
          "model_module_version": "1.5.0",
          "state": {
            "_dom_classes": [],
            "_model_module": "@jupyter-widgets/controls",
            "_model_module_version": "1.5.0",
            "_model_name": "HTMLModel",
            "_view_count": null,
            "_view_module": "@jupyter-widgets/controls",
            "_view_module_version": "1.5.0",
            "_view_name": "HTMLView",
            "description": "",
            "description_tooltip": null,
            "layout": "IPY_MODEL_d504a591bbee4f8496773e66ec68d905",
            "placeholder": "​",
            "style": "IPY_MODEL_9168022ec3734ce19d767763666d81df",
            "value": " 287/287 [00:00&lt;00:00, 12.4kB/s]"
          }
        },
        "ac7d4dcd04e34660a6afd72861a495f0": {
          "model_module": "@jupyter-widgets/base",
          "model_name": "LayoutModel",
          "model_module_version": "1.2.0",
          "state": {
            "_model_module": "@jupyter-widgets/base",
            "_model_module_version": "1.2.0",
            "_model_name": "LayoutModel",
            "_view_count": null,
            "_view_module": "@jupyter-widgets/base",
            "_view_module_version": "1.2.0",
            "_view_name": "LayoutView",
            "align_content": null,
            "align_items": null,
            "align_self": null,
            "border": null,
            "bottom": null,
            "display": null,
            "flex": null,
            "flex_flow": null,
            "grid_area": null,
            "grid_auto_columns": null,
            "grid_auto_flow": null,
            "grid_auto_rows": null,
            "grid_column": null,
            "grid_gap": null,
            "grid_row": null,
            "grid_template_areas": null,
            "grid_template_columns": null,
            "grid_template_rows": null,
            "height": null,
            "justify_content": null,
            "justify_items": null,
            "left": null,
            "margin": null,
            "max_height": null,
            "max_width": null,
            "min_height": null,
            "min_width": null,
            "object_fit": null,
            "object_position": null,
            "order": null,
            "overflow": null,
            "overflow_x": null,
            "overflow_y": null,
            "padding": null,
            "right": null,
            "top": null,
            "visibility": null,
            "width": null
          }
        },
        "4a56a14800bc48b3aeb336d275e446d5": {
          "model_module": "@jupyter-widgets/base",
          "model_name": "LayoutModel",
          "model_module_version": "1.2.0",
          "state": {
            "_model_module": "@jupyter-widgets/base",
            "_model_module_version": "1.2.0",
            "_model_name": "LayoutModel",
            "_view_count": null,
            "_view_module": "@jupyter-widgets/base",
            "_view_module_version": "1.2.0",
            "_view_name": "LayoutView",
            "align_content": null,
            "align_items": null,
            "align_self": null,
            "border": null,
            "bottom": null,
            "display": null,
            "flex": null,
            "flex_flow": null,
            "grid_area": null,
            "grid_auto_columns": null,
            "grid_auto_flow": null,
            "grid_auto_rows": null,
            "grid_column": null,
            "grid_gap": null,
            "grid_row": null,
            "grid_template_areas": null,
            "grid_template_columns": null,
            "grid_template_rows": null,
            "height": null,
            "justify_content": null,
            "justify_items": null,
            "left": null,
            "margin": null,
            "max_height": null,
            "max_width": null,
            "min_height": null,
            "min_width": null,
            "object_fit": null,
            "object_position": null,
            "order": null,
            "overflow": null,
            "overflow_x": null,
            "overflow_y": null,
            "padding": null,
            "right": null,
            "top": null,
            "visibility": null,
            "width": null
          }
        },
        "af43d1e783bc448f9acd44c7f27908e2": {
          "model_module": "@jupyter-widgets/controls",
          "model_name": "DescriptionStyleModel",
          "model_module_version": "1.5.0",
          "state": {
            "_model_module": "@jupyter-widgets/controls",
            "_model_module_version": "1.5.0",
            "_model_name": "DescriptionStyleModel",
            "_view_count": null,
            "_view_module": "@jupyter-widgets/base",
            "_view_module_version": "1.2.0",
            "_view_name": "StyleView",
            "description_width": ""
          }
        },
        "b5a23a9f424f4ebb91126f39378c07a2": {
          "model_module": "@jupyter-widgets/base",
          "model_name": "LayoutModel",
          "model_module_version": "1.2.0",
          "state": {
            "_model_module": "@jupyter-widgets/base",
            "_model_module_version": "1.2.0",
            "_model_name": "LayoutModel",
            "_view_count": null,
            "_view_module": "@jupyter-widgets/base",
            "_view_module_version": "1.2.0",
            "_view_name": "LayoutView",
            "align_content": null,
            "align_items": null,
            "align_self": null,
            "border": null,
            "bottom": null,
            "display": null,
            "flex": null,
            "flex_flow": null,
            "grid_area": null,
            "grid_auto_columns": null,
            "grid_auto_flow": null,
            "grid_auto_rows": null,
            "grid_column": null,
            "grid_gap": null,
            "grid_row": null,
            "grid_template_areas": null,
            "grid_template_columns": null,
            "grid_template_rows": null,
            "height": null,
            "justify_content": null,
            "justify_items": null,
            "left": null,
            "margin": null,
            "max_height": null,
            "max_width": null,
            "min_height": null,
            "min_width": null,
            "object_fit": null,
            "object_position": null,
            "order": null,
            "overflow": null,
            "overflow_x": null,
            "overflow_y": null,
            "padding": null,
            "right": null,
            "top": null,
            "visibility": null,
            "width": null
          }
        },
        "ea4ce041eab4423e8050ca5e70b73160": {
          "model_module": "@jupyter-widgets/controls",
          "model_name": "ProgressStyleModel",
          "model_module_version": "1.5.0",
          "state": {
            "_model_module": "@jupyter-widgets/controls",
            "_model_module_version": "1.5.0",
            "_model_name": "ProgressStyleModel",
            "_view_count": null,
            "_view_module": "@jupyter-widgets/base",
            "_view_module_version": "1.2.0",
            "_view_name": "StyleView",
            "bar_color": null,
            "description_width": ""
          }
        },
        "d504a591bbee4f8496773e66ec68d905": {
          "model_module": "@jupyter-widgets/base",
          "model_name": "LayoutModel",
          "model_module_version": "1.2.0",
          "state": {
            "_model_module": "@jupyter-widgets/base",
            "_model_module_version": "1.2.0",
            "_model_name": "LayoutModel",
            "_view_count": null,
            "_view_module": "@jupyter-widgets/base",
            "_view_module_version": "1.2.0",
            "_view_name": "LayoutView",
            "align_content": null,
            "align_items": null,
            "align_self": null,
            "border": null,
            "bottom": null,
            "display": null,
            "flex": null,
            "flex_flow": null,
            "grid_area": null,
            "grid_auto_columns": null,
            "grid_auto_flow": null,
            "grid_auto_rows": null,
            "grid_column": null,
            "grid_gap": null,
            "grid_row": null,
            "grid_template_areas": null,
            "grid_template_columns": null,
            "grid_template_rows": null,
            "height": null,
            "justify_content": null,
            "justify_items": null,
            "left": null,
            "margin": null,
            "max_height": null,
            "max_width": null,
            "min_height": null,
            "min_width": null,
            "object_fit": null,
            "object_position": null,
            "order": null,
            "overflow": null,
            "overflow_x": null,
            "overflow_y": null,
            "padding": null,
            "right": null,
            "top": null,
            "visibility": null,
            "width": null
          }
        },
        "9168022ec3734ce19d767763666d81df": {
          "model_module": "@jupyter-widgets/controls",
          "model_name": "DescriptionStyleModel",
          "model_module_version": "1.5.0",
          "state": {
            "_model_module": "@jupyter-widgets/controls",
            "_model_module_version": "1.5.0",
            "_model_name": "DescriptionStyleModel",
            "_view_count": null,
            "_view_module": "@jupyter-widgets/base",
            "_view_module_version": "1.2.0",
            "_view_name": "StyleView",
            "description_width": ""
          }
        },
        "2bf9e349a39341d8b5c9a4f3cfbca6fe": {
          "model_module": "@jupyter-widgets/controls",
          "model_name": "HBoxModel",
          "model_module_version": "1.5.0",
          "state": {
            "_dom_classes": [],
            "_model_module": "@jupyter-widgets/controls",
            "_model_module_version": "1.5.0",
            "_model_name": "HBoxModel",
            "_view_count": null,
            "_view_module": "@jupyter-widgets/controls",
            "_view_module_version": "1.5.0",
            "_view_name": "HBoxView",
            "box_style": "",
            "children": [
              "IPY_MODEL_c8332415030f44938905e3d2ad96e620",
              "IPY_MODEL_cc0876e16657492c867a35f6388483ae",
              "IPY_MODEL_dd7c261ee3d84af3b08e5d7d31ee41d1"
            ],
            "layout": "IPY_MODEL_a234814bf6a84b59bbb8541cfaaf7120"
          }
        },
        "c8332415030f44938905e3d2ad96e620": {
          "model_module": "@jupyter-widgets/controls",
          "model_name": "HTMLModel",
          "model_module_version": "1.5.0",
          "state": {
            "_dom_classes": [],
            "_model_module": "@jupyter-widgets/controls",
            "_model_module_version": "1.5.0",
            "_model_name": "HTMLModel",
            "_view_count": null,
            "_view_module": "@jupyter-widgets/controls",
            "_view_module_version": "1.5.0",
            "_view_name": "HTMLView",
            "description": "",
            "description_tooltip": null,
            "layout": "IPY_MODEL_ebc5006ec3774f3794cfbe09fefb23d4",
            "placeholder": "​",
            "style": "IPY_MODEL_f55dae8df125447c932913b4779719c9",
            "value": "tokenizer_config.json: 100%"
          }
        },
        "cc0876e16657492c867a35f6388483ae": {
          "model_module": "@jupyter-widgets/controls",
          "model_name": "FloatProgressModel",
          "model_module_version": "1.5.0",
          "state": {
            "_dom_classes": [],
            "_model_module": "@jupyter-widgets/controls",
            "_model_module_version": "1.5.0",
            "_model_name": "FloatProgressModel",
            "_view_count": null,
            "_view_module": "@jupyter-widgets/controls",
            "_view_module_version": "1.5.0",
            "_view_name": "ProgressView",
            "bar_style": "success",
            "description": "",
            "description_tooltip": null,
            "layout": "IPY_MODEL_23d91d41953e4dbb93c40d1eea1cc8d3",
            "max": 506,
            "min": 0,
            "orientation": "horizontal",
            "style": "IPY_MODEL_c8ed88e9ef2a41c083919f410fc6b0fc",
            "value": 506
          }
        },
        "dd7c261ee3d84af3b08e5d7d31ee41d1": {
          "model_module": "@jupyter-widgets/controls",
          "model_name": "HTMLModel",
          "model_module_version": "1.5.0",
          "state": {
            "_dom_classes": [],
            "_model_module": "@jupyter-widgets/controls",
            "_model_module_version": "1.5.0",
            "_model_name": "HTMLModel",
            "_view_count": null,
            "_view_module": "@jupyter-widgets/controls",
            "_view_module_version": "1.5.0",
            "_view_name": "HTMLView",
            "description": "",
            "description_tooltip": null,
            "layout": "IPY_MODEL_200d5e0b8cc94643bf0dda2ee7e58d51",
            "placeholder": "​",
            "style": "IPY_MODEL_ba062fb5fca244eea12eac537ae4a7f9",
            "value": " 506/506 [00:00&lt;00:00, 30.4kB/s]"
          }
        },
        "a234814bf6a84b59bbb8541cfaaf7120": {
          "model_module": "@jupyter-widgets/base",
          "model_name": "LayoutModel",
          "model_module_version": "1.2.0",
          "state": {
            "_model_module": "@jupyter-widgets/base",
            "_model_module_version": "1.2.0",
            "_model_name": "LayoutModel",
            "_view_count": null,
            "_view_module": "@jupyter-widgets/base",
            "_view_module_version": "1.2.0",
            "_view_name": "LayoutView",
            "align_content": null,
            "align_items": null,
            "align_self": null,
            "border": null,
            "bottom": null,
            "display": null,
            "flex": null,
            "flex_flow": null,
            "grid_area": null,
            "grid_auto_columns": null,
            "grid_auto_flow": null,
            "grid_auto_rows": null,
            "grid_column": null,
            "grid_gap": null,
            "grid_row": null,
            "grid_template_areas": null,
            "grid_template_columns": null,
            "grid_template_rows": null,
            "height": null,
            "justify_content": null,
            "justify_items": null,
            "left": null,
            "margin": null,
            "max_height": null,
            "max_width": null,
            "min_height": null,
            "min_width": null,
            "object_fit": null,
            "object_position": null,
            "order": null,
            "overflow": null,
            "overflow_x": null,
            "overflow_y": null,
            "padding": null,
            "right": null,
            "top": null,
            "visibility": null,
            "width": null
          }
        },
        "ebc5006ec3774f3794cfbe09fefb23d4": {
          "model_module": "@jupyter-widgets/base",
          "model_name": "LayoutModel",
          "model_module_version": "1.2.0",
          "state": {
            "_model_module": "@jupyter-widgets/base",
            "_model_module_version": "1.2.0",
            "_model_name": "LayoutModel",
            "_view_count": null,
            "_view_module": "@jupyter-widgets/base",
            "_view_module_version": "1.2.0",
            "_view_name": "LayoutView",
            "align_content": null,
            "align_items": null,
            "align_self": null,
            "border": null,
            "bottom": null,
            "display": null,
            "flex": null,
            "flex_flow": null,
            "grid_area": null,
            "grid_auto_columns": null,
            "grid_auto_flow": null,
            "grid_auto_rows": null,
            "grid_column": null,
            "grid_gap": null,
            "grid_row": null,
            "grid_template_areas": null,
            "grid_template_columns": null,
            "grid_template_rows": null,
            "height": null,
            "justify_content": null,
            "justify_items": null,
            "left": null,
            "margin": null,
            "max_height": null,
            "max_width": null,
            "min_height": null,
            "min_width": null,
            "object_fit": null,
            "object_position": null,
            "order": null,
            "overflow": null,
            "overflow_x": null,
            "overflow_y": null,
            "padding": null,
            "right": null,
            "top": null,
            "visibility": null,
            "width": null
          }
        },
        "f55dae8df125447c932913b4779719c9": {
          "model_module": "@jupyter-widgets/controls",
          "model_name": "DescriptionStyleModel",
          "model_module_version": "1.5.0",
          "state": {
            "_model_module": "@jupyter-widgets/controls",
            "_model_module_version": "1.5.0",
            "_model_name": "DescriptionStyleModel",
            "_view_count": null,
            "_view_module": "@jupyter-widgets/base",
            "_view_module_version": "1.2.0",
            "_view_name": "StyleView",
            "description_width": ""
          }
        },
        "23d91d41953e4dbb93c40d1eea1cc8d3": {
          "model_module": "@jupyter-widgets/base",
          "model_name": "LayoutModel",
          "model_module_version": "1.2.0",
          "state": {
            "_model_module": "@jupyter-widgets/base",
            "_model_module_version": "1.2.0",
            "_model_name": "LayoutModel",
            "_view_count": null,
            "_view_module": "@jupyter-widgets/base",
            "_view_module_version": "1.2.0",
            "_view_name": "LayoutView",
            "align_content": null,
            "align_items": null,
            "align_self": null,
            "border": null,
            "bottom": null,
            "display": null,
            "flex": null,
            "flex_flow": null,
            "grid_area": null,
            "grid_auto_columns": null,
            "grid_auto_flow": null,
            "grid_auto_rows": null,
            "grid_column": null,
            "grid_gap": null,
            "grid_row": null,
            "grid_template_areas": null,
            "grid_template_columns": null,
            "grid_template_rows": null,
            "height": null,
            "justify_content": null,
            "justify_items": null,
            "left": null,
            "margin": null,
            "max_height": null,
            "max_width": null,
            "min_height": null,
            "min_width": null,
            "object_fit": null,
            "object_position": null,
            "order": null,
            "overflow": null,
            "overflow_x": null,
            "overflow_y": null,
            "padding": null,
            "right": null,
            "top": null,
            "visibility": null,
            "width": null
          }
        },
        "c8ed88e9ef2a41c083919f410fc6b0fc": {
          "model_module": "@jupyter-widgets/controls",
          "model_name": "ProgressStyleModel",
          "model_module_version": "1.5.0",
          "state": {
            "_model_module": "@jupyter-widgets/controls",
            "_model_module_version": "1.5.0",
            "_model_name": "ProgressStyleModel",
            "_view_count": null,
            "_view_module": "@jupyter-widgets/base",
            "_view_module_version": "1.2.0",
            "_view_name": "StyleView",
            "bar_color": null,
            "description_width": ""
          }
        },
        "200d5e0b8cc94643bf0dda2ee7e58d51": {
          "model_module": "@jupyter-widgets/base",
          "model_name": "LayoutModel",
          "model_module_version": "1.2.0",
          "state": {
            "_model_module": "@jupyter-widgets/base",
            "_model_module_version": "1.2.0",
            "_model_name": "LayoutModel",
            "_view_count": null,
            "_view_module": "@jupyter-widgets/base",
            "_view_module_version": "1.2.0",
            "_view_name": "LayoutView",
            "align_content": null,
            "align_items": null,
            "align_self": null,
            "border": null,
            "bottom": null,
            "display": null,
            "flex": null,
            "flex_flow": null,
            "grid_area": null,
            "grid_auto_columns": null,
            "grid_auto_flow": null,
            "grid_auto_rows": null,
            "grid_column": null,
            "grid_gap": null,
            "grid_row": null,
            "grid_template_areas": null,
            "grid_template_columns": null,
            "grid_template_rows": null,
            "height": null,
            "justify_content": null,
            "justify_items": null,
            "left": null,
            "margin": null,
            "max_height": null,
            "max_width": null,
            "min_height": null,
            "min_width": null,
            "object_fit": null,
            "object_position": null,
            "order": null,
            "overflow": null,
            "overflow_x": null,
            "overflow_y": null,
            "padding": null,
            "right": null,
            "top": null,
            "visibility": null,
            "width": null
          }
        },
        "ba062fb5fca244eea12eac537ae4a7f9": {
          "model_module": "@jupyter-widgets/controls",
          "model_name": "DescriptionStyleModel",
          "model_module_version": "1.5.0",
          "state": {
            "_model_module": "@jupyter-widgets/controls",
            "_model_module_version": "1.5.0",
            "_model_name": "DescriptionStyleModel",
            "_view_count": null,
            "_view_module": "@jupyter-widgets/base",
            "_view_module_version": "1.2.0",
            "_view_name": "StyleView",
            "description_width": ""
          }
        },
        "3a32f47ae9ef4d6f97e66f6e57125c59": {
          "model_module": "@jupyter-widgets/controls",
          "model_name": "HBoxModel",
          "model_module_version": "1.5.0",
          "state": {
            "_dom_classes": [],
            "_model_module": "@jupyter-widgets/controls",
            "_model_module_version": "1.5.0",
            "_model_name": "HBoxModel",
            "_view_count": null,
            "_view_module": "@jupyter-widgets/controls",
            "_view_module_version": "1.5.0",
            "_view_name": "HBoxView",
            "box_style": "",
            "children": [
              "IPY_MODEL_eb48da4b9bb54b19b476e1ac18663987",
              "IPY_MODEL_778e6e38ac77439fa8b902c61dc8984e",
              "IPY_MODEL_eccf02f27adc496f942eac965fa9559c"
            ],
            "layout": "IPY_MODEL_e15190d4d11b4b0abb409e88f3b2592b"
          }
        },
        "eb48da4b9bb54b19b476e1ac18663987": {
          "model_module": "@jupyter-widgets/controls",
          "model_name": "HTMLModel",
          "model_module_version": "1.5.0",
          "state": {
            "_dom_classes": [],
            "_model_module": "@jupyter-widgets/controls",
            "_model_module_version": "1.5.0",
            "_model_name": "HTMLModel",
            "_view_count": null,
            "_view_module": "@jupyter-widgets/controls",
            "_view_module_version": "1.5.0",
            "_view_name": "HTMLView",
            "description": "",
            "description_tooltip": null,
            "layout": "IPY_MODEL_3820a538a06e4eecb7e922105858e579",
            "placeholder": "​",
            "style": "IPY_MODEL_81e57b699c864719a0f49a723920f22e",
            "value": "vocab.txt: "
          }
        },
        "778e6e38ac77439fa8b902c61dc8984e": {
          "model_module": "@jupyter-widgets/controls",
          "model_name": "FloatProgressModel",
          "model_module_version": "1.5.0",
          "state": {
            "_dom_classes": [],
            "_model_module": "@jupyter-widgets/controls",
            "_model_module_version": "1.5.0",
            "_model_name": "FloatProgressModel",
            "_view_count": null,
            "_view_module": "@jupyter-widgets/controls",
            "_view_module_version": "1.5.0",
            "_view_name": "ProgressView",
            "bar_style": "success",
            "description": "",
            "description_tooltip": null,
            "layout": "IPY_MODEL_25c09c0da481460bbf9e85a475728abd",
            "max": 1,
            "min": 0,
            "orientation": "horizontal",
            "style": "IPY_MODEL_946f5e29bf99424a9495d7226938d857",
            "value": 1
          }
        },
        "eccf02f27adc496f942eac965fa9559c": {
          "model_module": "@jupyter-widgets/controls",
          "model_name": "HTMLModel",
          "model_module_version": "1.5.0",
          "state": {
            "_dom_classes": [],
            "_model_module": "@jupyter-widgets/controls",
            "_model_module_version": "1.5.0",
            "_model_name": "HTMLModel",
            "_view_count": null,
            "_view_module": "@jupyter-widgets/controls",
            "_view_module_version": "1.5.0",
            "_view_name": "HTMLView",
            "description": "",
            "description_tooltip": null,
            "layout": "IPY_MODEL_7fe3ecbd46ad49c6abfdfe53fffc24c4",
            "placeholder": "​",
            "style": "IPY_MODEL_768ac10f41d045c28696415a83d3c247",
            "value": " 232k/? [00:00&lt;00:00, 12.0MB/s]"
          }
        },
        "e15190d4d11b4b0abb409e88f3b2592b": {
          "model_module": "@jupyter-widgets/base",
          "model_name": "LayoutModel",
          "model_module_version": "1.2.0",
          "state": {
            "_model_module": "@jupyter-widgets/base",
            "_model_module_version": "1.2.0",
            "_model_name": "LayoutModel",
            "_view_count": null,
            "_view_module": "@jupyter-widgets/base",
            "_view_module_version": "1.2.0",
            "_view_name": "LayoutView",
            "align_content": null,
            "align_items": null,
            "align_self": null,
            "border": null,
            "bottom": null,
            "display": null,
            "flex": null,
            "flex_flow": null,
            "grid_area": null,
            "grid_auto_columns": null,
            "grid_auto_flow": null,
            "grid_auto_rows": null,
            "grid_column": null,
            "grid_gap": null,
            "grid_row": null,
            "grid_template_areas": null,
            "grid_template_columns": null,
            "grid_template_rows": null,
            "height": null,
            "justify_content": null,
            "justify_items": null,
            "left": null,
            "margin": null,
            "max_height": null,
            "max_width": null,
            "min_height": null,
            "min_width": null,
            "object_fit": null,
            "object_position": null,
            "order": null,
            "overflow": null,
            "overflow_x": null,
            "overflow_y": null,
            "padding": null,
            "right": null,
            "top": null,
            "visibility": null,
            "width": null
          }
        },
        "3820a538a06e4eecb7e922105858e579": {
          "model_module": "@jupyter-widgets/base",
          "model_name": "LayoutModel",
          "model_module_version": "1.2.0",
          "state": {
            "_model_module": "@jupyter-widgets/base",
            "_model_module_version": "1.2.0",
            "_model_name": "LayoutModel",
            "_view_count": null,
            "_view_module": "@jupyter-widgets/base",
            "_view_module_version": "1.2.0",
            "_view_name": "LayoutView",
            "align_content": null,
            "align_items": null,
            "align_self": null,
            "border": null,
            "bottom": null,
            "display": null,
            "flex": null,
            "flex_flow": null,
            "grid_area": null,
            "grid_auto_columns": null,
            "grid_auto_flow": null,
            "grid_auto_rows": null,
            "grid_column": null,
            "grid_gap": null,
            "grid_row": null,
            "grid_template_areas": null,
            "grid_template_columns": null,
            "grid_template_rows": null,
            "height": null,
            "justify_content": null,
            "justify_items": null,
            "left": null,
            "margin": null,
            "max_height": null,
            "max_width": null,
            "min_height": null,
            "min_width": null,
            "object_fit": null,
            "object_position": null,
            "order": null,
            "overflow": null,
            "overflow_x": null,
            "overflow_y": null,
            "padding": null,
            "right": null,
            "top": null,
            "visibility": null,
            "width": null
          }
        },
        "81e57b699c864719a0f49a723920f22e": {
          "model_module": "@jupyter-widgets/controls",
          "model_name": "DescriptionStyleModel",
          "model_module_version": "1.5.0",
          "state": {
            "_model_module": "@jupyter-widgets/controls",
            "_model_module_version": "1.5.0",
            "_model_name": "DescriptionStyleModel",
            "_view_count": null,
            "_view_module": "@jupyter-widgets/base",
            "_view_module_version": "1.2.0",
            "_view_name": "StyleView",
            "description_width": ""
          }
        },
        "25c09c0da481460bbf9e85a475728abd": {
          "model_module": "@jupyter-widgets/base",
          "model_name": "LayoutModel",
          "model_module_version": "1.2.0",
          "state": {
            "_model_module": "@jupyter-widgets/base",
            "_model_module_version": "1.2.0",
            "_model_name": "LayoutModel",
            "_view_count": null,
            "_view_module": "@jupyter-widgets/base",
            "_view_module_version": "1.2.0",
            "_view_name": "LayoutView",
            "align_content": null,
            "align_items": null,
            "align_self": null,
            "border": null,
            "bottom": null,
            "display": null,
            "flex": null,
            "flex_flow": null,
            "grid_area": null,
            "grid_auto_columns": null,
            "grid_auto_flow": null,
            "grid_auto_rows": null,
            "grid_column": null,
            "grid_gap": null,
            "grid_row": null,
            "grid_template_areas": null,
            "grid_template_columns": null,
            "grid_template_rows": null,
            "height": null,
            "justify_content": null,
            "justify_items": null,
            "left": null,
            "margin": null,
            "max_height": null,
            "max_width": null,
            "min_height": null,
            "min_width": null,
            "object_fit": null,
            "object_position": null,
            "order": null,
            "overflow": null,
            "overflow_x": null,
            "overflow_y": null,
            "padding": null,
            "right": null,
            "top": null,
            "visibility": null,
            "width": "20px"
          }
        },
        "946f5e29bf99424a9495d7226938d857": {
          "model_module": "@jupyter-widgets/controls",
          "model_name": "ProgressStyleModel",
          "model_module_version": "1.5.0",
          "state": {
            "_model_module": "@jupyter-widgets/controls",
            "_model_module_version": "1.5.0",
            "_model_name": "ProgressStyleModel",
            "_view_count": null,
            "_view_module": "@jupyter-widgets/base",
            "_view_module_version": "1.2.0",
            "_view_name": "StyleView",
            "bar_color": null,
            "description_width": ""
          }
        },
        "7fe3ecbd46ad49c6abfdfe53fffc24c4": {
          "model_module": "@jupyter-widgets/base",
          "model_name": "LayoutModel",
          "model_module_version": "1.2.0",
          "state": {
            "_model_module": "@jupyter-widgets/base",
            "_model_module_version": "1.2.0",
            "_model_name": "LayoutModel",
            "_view_count": null,
            "_view_module": "@jupyter-widgets/base",
            "_view_module_version": "1.2.0",
            "_view_name": "LayoutView",
            "align_content": null,
            "align_items": null,
            "align_self": null,
            "border": null,
            "bottom": null,
            "display": null,
            "flex": null,
            "flex_flow": null,
            "grid_area": null,
            "grid_auto_columns": null,
            "grid_auto_flow": null,
            "grid_auto_rows": null,
            "grid_column": null,
            "grid_gap": null,
            "grid_row": null,
            "grid_template_areas": null,
            "grid_template_columns": null,
            "grid_template_rows": null,
            "height": null,
            "justify_content": null,
            "justify_items": null,
            "left": null,
            "margin": null,
            "max_height": null,
            "max_width": null,
            "min_height": null,
            "min_width": null,
            "object_fit": null,
            "object_position": null,
            "order": null,
            "overflow": null,
            "overflow_x": null,
            "overflow_y": null,
            "padding": null,
            "right": null,
            "top": null,
            "visibility": null,
            "width": null
          }
        },
        "768ac10f41d045c28696415a83d3c247": {
          "model_module": "@jupyter-widgets/controls",
          "model_name": "DescriptionStyleModel",
          "model_module_version": "1.5.0",
          "state": {
            "_model_module": "@jupyter-widgets/controls",
            "_model_module_version": "1.5.0",
            "_model_name": "DescriptionStyleModel",
            "_view_count": null,
            "_view_module": "@jupyter-widgets/base",
            "_view_module_version": "1.2.0",
            "_view_name": "StyleView",
            "description_width": ""
          }
        },
        "69c7d74083b2499dbd0e7648a436f1bf": {
          "model_module": "@jupyter-widgets/controls",
          "model_name": "HBoxModel",
          "model_module_version": "1.5.0",
          "state": {
            "_dom_classes": [],
            "_model_module": "@jupyter-widgets/controls",
            "_model_module_version": "1.5.0",
            "_model_name": "HBoxModel",
            "_view_count": null,
            "_view_module": "@jupyter-widgets/controls",
            "_view_module_version": "1.5.0",
            "_view_name": "HBoxView",
            "box_style": "",
            "children": [
              "IPY_MODEL_7c00e38671154534b0202ee5183f6692",
              "IPY_MODEL_1abded1307a74534b2c6e113e7bf6cb3",
              "IPY_MODEL_30d34ed627a54cab8271292efdf838ed"
            ],
            "layout": "IPY_MODEL_317d1e3d62a74b959f1aca4ec1ee6f13"
          }
        },
        "7c00e38671154534b0202ee5183f6692": {
          "model_module": "@jupyter-widgets/controls",
          "model_name": "HTMLModel",
          "model_module_version": "1.5.0",
          "state": {
            "_dom_classes": [],
            "_model_module": "@jupyter-widgets/controls",
            "_model_module_version": "1.5.0",
            "_model_name": "HTMLModel",
            "_view_count": null,
            "_view_module": "@jupyter-widgets/controls",
            "_view_module_version": "1.5.0",
            "_view_name": "HTMLView",
            "description": "",
            "description_tooltip": null,
            "layout": "IPY_MODEL_09900fadfd514d5392172beb65d570a4",
            "placeholder": "​",
            "style": "IPY_MODEL_490e7ef4ee7e4178bc9e56bfd754f623",
            "value": "tokenizer.json: "
          }
        },
        "1abded1307a74534b2c6e113e7bf6cb3": {
          "model_module": "@jupyter-widgets/controls",
          "model_name": "FloatProgressModel",
          "model_module_version": "1.5.0",
          "state": {
            "_dom_classes": [],
            "_model_module": "@jupyter-widgets/controls",
            "_model_module_version": "1.5.0",
            "_model_name": "FloatProgressModel",
            "_view_count": null,
            "_view_module": "@jupyter-widgets/controls",
            "_view_module_version": "1.5.0",
            "_view_name": "ProgressView",
            "bar_style": "success",
            "description": "",
            "description_tooltip": null,
            "layout": "IPY_MODEL_8d22d3bc280b4068bbcfe1f3f914d1de",
            "max": 1,
            "min": 0,
            "orientation": "horizontal",
            "style": "IPY_MODEL_e4d658e30c834709835d6f065ec57b4a",
            "value": 1
          }
        },
        "30d34ed627a54cab8271292efdf838ed": {
          "model_module": "@jupyter-widgets/controls",
          "model_name": "HTMLModel",
          "model_module_version": "1.5.0",
          "state": {
            "_dom_classes": [],
            "_model_module": "@jupyter-widgets/controls",
            "_model_module_version": "1.5.0",
            "_model_name": "HTMLModel",
            "_view_count": null,
            "_view_module": "@jupyter-widgets/controls",
            "_view_module_version": "1.5.0",
            "_view_name": "HTMLView",
            "description": "",
            "description_tooltip": null,
            "layout": "IPY_MODEL_a1f5b4d59b1b4cca97c79a65cf3e7059",
            "placeholder": "​",
            "style": "IPY_MODEL_ec0a5d18ceea4f8fa759e1cae7160fe4",
            "value": " 711k/? [00:00&lt;00:00, 24.0MB/s]"
          }
        },
        "317d1e3d62a74b959f1aca4ec1ee6f13": {
          "model_module": "@jupyter-widgets/base",
          "model_name": "LayoutModel",
          "model_module_version": "1.2.0",
          "state": {
            "_model_module": "@jupyter-widgets/base",
            "_model_module_version": "1.2.0",
            "_model_name": "LayoutModel",
            "_view_count": null,
            "_view_module": "@jupyter-widgets/base",
            "_view_module_version": "1.2.0",
            "_view_name": "LayoutView",
            "align_content": null,
            "align_items": null,
            "align_self": null,
            "border": null,
            "bottom": null,
            "display": null,
            "flex": null,
            "flex_flow": null,
            "grid_area": null,
            "grid_auto_columns": null,
            "grid_auto_flow": null,
            "grid_auto_rows": null,
            "grid_column": null,
            "grid_gap": null,
            "grid_row": null,
            "grid_template_areas": null,
            "grid_template_columns": null,
            "grid_template_rows": null,
            "height": null,
            "justify_content": null,
            "justify_items": null,
            "left": null,
            "margin": null,
            "max_height": null,
            "max_width": null,
            "min_height": null,
            "min_width": null,
            "object_fit": null,
            "object_position": null,
            "order": null,
            "overflow": null,
            "overflow_x": null,
            "overflow_y": null,
            "padding": null,
            "right": null,
            "top": null,
            "visibility": null,
            "width": null
          }
        },
        "09900fadfd514d5392172beb65d570a4": {
          "model_module": "@jupyter-widgets/base",
          "model_name": "LayoutModel",
          "model_module_version": "1.2.0",
          "state": {
            "_model_module": "@jupyter-widgets/base",
            "_model_module_version": "1.2.0",
            "_model_name": "LayoutModel",
            "_view_count": null,
            "_view_module": "@jupyter-widgets/base",
            "_view_module_version": "1.2.0",
            "_view_name": "LayoutView",
            "align_content": null,
            "align_items": null,
            "align_self": null,
            "border": null,
            "bottom": null,
            "display": null,
            "flex": null,
            "flex_flow": null,
            "grid_area": null,
            "grid_auto_columns": null,
            "grid_auto_flow": null,
            "grid_auto_rows": null,
            "grid_column": null,
            "grid_gap": null,
            "grid_row": null,
            "grid_template_areas": null,
            "grid_template_columns": null,
            "grid_template_rows": null,
            "height": null,
            "justify_content": null,
            "justify_items": null,
            "left": null,
            "margin": null,
            "max_height": null,
            "max_width": null,
            "min_height": null,
            "min_width": null,
            "object_fit": null,
            "object_position": null,
            "order": null,
            "overflow": null,
            "overflow_x": null,
            "overflow_y": null,
            "padding": null,
            "right": null,
            "top": null,
            "visibility": null,
            "width": null
          }
        },
        "490e7ef4ee7e4178bc9e56bfd754f623": {
          "model_module": "@jupyter-widgets/controls",
          "model_name": "DescriptionStyleModel",
          "model_module_version": "1.5.0",
          "state": {
            "_model_module": "@jupyter-widgets/controls",
            "_model_module_version": "1.5.0",
            "_model_name": "DescriptionStyleModel",
            "_view_count": null,
            "_view_module": "@jupyter-widgets/base",
            "_view_module_version": "1.2.0",
            "_view_name": "StyleView",
            "description_width": ""
          }
        },
        "8d22d3bc280b4068bbcfe1f3f914d1de": {
          "model_module": "@jupyter-widgets/base",
          "model_name": "LayoutModel",
          "model_module_version": "1.2.0",
          "state": {
            "_model_module": "@jupyter-widgets/base",
            "_model_module_version": "1.2.0",
            "_model_name": "LayoutModel",
            "_view_count": null,
            "_view_module": "@jupyter-widgets/base",
            "_view_module_version": "1.2.0",
            "_view_name": "LayoutView",
            "align_content": null,
            "align_items": null,
            "align_self": null,
            "border": null,
            "bottom": null,
            "display": null,
            "flex": null,
            "flex_flow": null,
            "grid_area": null,
            "grid_auto_columns": null,
            "grid_auto_flow": null,
            "grid_auto_rows": null,
            "grid_column": null,
            "grid_gap": null,
            "grid_row": null,
            "grid_template_areas": null,
            "grid_template_columns": null,
            "grid_template_rows": null,
            "height": null,
            "justify_content": null,
            "justify_items": null,
            "left": null,
            "margin": null,
            "max_height": null,
            "max_width": null,
            "min_height": null,
            "min_width": null,
            "object_fit": null,
            "object_position": null,
            "order": null,
            "overflow": null,
            "overflow_x": null,
            "overflow_y": null,
            "padding": null,
            "right": null,
            "top": null,
            "visibility": null,
            "width": "20px"
          }
        },
        "e4d658e30c834709835d6f065ec57b4a": {
          "model_module": "@jupyter-widgets/controls",
          "model_name": "ProgressStyleModel",
          "model_module_version": "1.5.0",
          "state": {
            "_model_module": "@jupyter-widgets/controls",
            "_model_module_version": "1.5.0",
            "_model_name": "ProgressStyleModel",
            "_view_count": null,
            "_view_module": "@jupyter-widgets/base",
            "_view_module_version": "1.2.0",
            "_view_name": "StyleView",
            "bar_color": null,
            "description_width": ""
          }
        },
        "a1f5b4d59b1b4cca97c79a65cf3e7059": {
          "model_module": "@jupyter-widgets/base",
          "model_name": "LayoutModel",
          "model_module_version": "1.2.0",
          "state": {
            "_model_module": "@jupyter-widgets/base",
            "_model_module_version": "1.2.0",
            "_model_name": "LayoutModel",
            "_view_count": null,
            "_view_module": "@jupyter-widgets/base",
            "_view_module_version": "1.2.0",
            "_view_name": "LayoutView",
            "align_content": null,
            "align_items": null,
            "align_self": null,
            "border": null,
            "bottom": null,
            "display": null,
            "flex": null,
            "flex_flow": null,
            "grid_area": null,
            "grid_auto_columns": null,
            "grid_auto_flow": null,
            "grid_auto_rows": null,
            "grid_column": null,
            "grid_gap": null,
            "grid_row": null,
            "grid_template_areas": null,
            "grid_template_columns": null,
            "grid_template_rows": null,
            "height": null,
            "justify_content": null,
            "justify_items": null,
            "left": null,
            "margin": null,
            "max_height": null,
            "max_width": null,
            "min_height": null,
            "min_width": null,
            "object_fit": null,
            "object_position": null,
            "order": null,
            "overflow": null,
            "overflow_x": null,
            "overflow_y": null,
            "padding": null,
            "right": null,
            "top": null,
            "visibility": null,
            "width": null
          }
        },
        "ec0a5d18ceea4f8fa759e1cae7160fe4": {
          "model_module": "@jupyter-widgets/controls",
          "model_name": "DescriptionStyleModel",
          "model_module_version": "1.5.0",
          "state": {
            "_model_module": "@jupyter-widgets/controls",
            "_model_module_version": "1.5.0",
            "_model_name": "DescriptionStyleModel",
            "_view_count": null,
            "_view_module": "@jupyter-widgets/base",
            "_view_module_version": "1.2.0",
            "_view_name": "StyleView",
            "description_width": ""
          }
        },
        "d8135c42cc2b4d65ae9a75330b572ecf": {
          "model_module": "@jupyter-widgets/controls",
          "model_name": "HBoxModel",
          "model_module_version": "1.5.0",
          "state": {
            "_dom_classes": [],
            "_model_module": "@jupyter-widgets/controls",
            "_model_module_version": "1.5.0",
            "_model_name": "HBoxModel",
            "_view_count": null,
            "_view_module": "@jupyter-widgets/controls",
            "_view_module_version": "1.5.0",
            "_view_name": "HBoxView",
            "box_style": "",
            "children": [
              "IPY_MODEL_a54a5e387c654349abfc92e238856afe",
              "IPY_MODEL_27dcf1ce03ff4241a43aa0c09a33b329",
              "IPY_MODEL_b86ac2f2a1794b4da651d7520fa0360f"
            ],
            "layout": "IPY_MODEL_64b1da31cbe646b5926063d1a67d7588"
          }
        },
        "a54a5e387c654349abfc92e238856afe": {
          "model_module": "@jupyter-widgets/controls",
          "model_name": "HTMLModel",
          "model_module_version": "1.5.0",
          "state": {
            "_dom_classes": [],
            "_model_module": "@jupyter-widgets/controls",
            "_model_module_version": "1.5.0",
            "_model_name": "HTMLModel",
            "_view_count": null,
            "_view_module": "@jupyter-widgets/controls",
            "_view_module_version": "1.5.0",
            "_view_name": "HTMLView",
            "description": "",
            "description_tooltip": null,
            "layout": "IPY_MODEL_98ed6f5a45244cb8bff2bdd38e4bfd2b",
            "placeholder": "​",
            "style": "IPY_MODEL_e03c0c85bd124734916aa743510811f6",
            "value": "special_tokens_map.json: 100%"
          }
        },
        "27dcf1ce03ff4241a43aa0c09a33b329": {
          "model_module": "@jupyter-widgets/controls",
          "model_name": "FloatProgressModel",
          "model_module_version": "1.5.0",
          "state": {
            "_dom_classes": [],
            "_model_module": "@jupyter-widgets/controls",
            "_model_module_version": "1.5.0",
            "_model_name": "FloatProgressModel",
            "_view_count": null,
            "_view_module": "@jupyter-widgets/controls",
            "_view_module_version": "1.5.0",
            "_view_name": "ProgressView",
            "bar_style": "success",
            "description": "",
            "description_tooltip": null,
            "layout": "IPY_MODEL_a23732eb25a54a6e90986c1b75cc07ca",
            "max": 125,
            "min": 0,
            "orientation": "horizontal",
            "style": "IPY_MODEL_a867325a4f164868b8d14b21a74f31c4",
            "value": 125
          }
        },
        "b86ac2f2a1794b4da651d7520fa0360f": {
          "model_module": "@jupyter-widgets/controls",
          "model_name": "HTMLModel",
          "model_module_version": "1.5.0",
          "state": {
            "_dom_classes": [],
            "_model_module": "@jupyter-widgets/controls",
            "_model_module_version": "1.5.0",
            "_model_name": "HTMLModel",
            "_view_count": null,
            "_view_module": "@jupyter-widgets/controls",
            "_view_module_version": "1.5.0",
            "_view_name": "HTMLView",
            "description": "",
            "description_tooltip": null,
            "layout": "IPY_MODEL_9b999d08b47d40bdb7c4b42282283da3",
            "placeholder": "​",
            "style": "IPY_MODEL_a1675bf8876140bcb56d580aa5c5da15",
            "value": " 125/125 [00:00&lt;00:00, 9.01kB/s]"
          }
        },
        "64b1da31cbe646b5926063d1a67d7588": {
          "model_module": "@jupyter-widgets/base",
          "model_name": "LayoutModel",
          "model_module_version": "1.2.0",
          "state": {
            "_model_module": "@jupyter-widgets/base",
            "_model_module_version": "1.2.0",
            "_model_name": "LayoutModel",
            "_view_count": null,
            "_view_module": "@jupyter-widgets/base",
            "_view_module_version": "1.2.0",
            "_view_name": "LayoutView",
            "align_content": null,
            "align_items": null,
            "align_self": null,
            "border": null,
            "bottom": null,
            "display": null,
            "flex": null,
            "flex_flow": null,
            "grid_area": null,
            "grid_auto_columns": null,
            "grid_auto_flow": null,
            "grid_auto_rows": null,
            "grid_column": null,
            "grid_gap": null,
            "grid_row": null,
            "grid_template_areas": null,
            "grid_template_columns": null,
            "grid_template_rows": null,
            "height": null,
            "justify_content": null,
            "justify_items": null,
            "left": null,
            "margin": null,
            "max_height": null,
            "max_width": null,
            "min_height": null,
            "min_width": null,
            "object_fit": null,
            "object_position": null,
            "order": null,
            "overflow": null,
            "overflow_x": null,
            "overflow_y": null,
            "padding": null,
            "right": null,
            "top": null,
            "visibility": null,
            "width": null
          }
        },
        "98ed6f5a45244cb8bff2bdd38e4bfd2b": {
          "model_module": "@jupyter-widgets/base",
          "model_name": "LayoutModel",
          "model_module_version": "1.2.0",
          "state": {
            "_model_module": "@jupyter-widgets/base",
            "_model_module_version": "1.2.0",
            "_model_name": "LayoutModel",
            "_view_count": null,
            "_view_module": "@jupyter-widgets/base",
            "_view_module_version": "1.2.0",
            "_view_name": "LayoutView",
            "align_content": null,
            "align_items": null,
            "align_self": null,
            "border": null,
            "bottom": null,
            "display": null,
            "flex": null,
            "flex_flow": null,
            "grid_area": null,
            "grid_auto_columns": null,
            "grid_auto_flow": null,
            "grid_auto_rows": null,
            "grid_column": null,
            "grid_gap": null,
            "grid_row": null,
            "grid_template_areas": null,
            "grid_template_columns": null,
            "grid_template_rows": null,
            "height": null,
            "justify_content": null,
            "justify_items": null,
            "left": null,
            "margin": null,
            "max_height": null,
            "max_width": null,
            "min_height": null,
            "min_width": null,
            "object_fit": null,
            "object_position": null,
            "order": null,
            "overflow": null,
            "overflow_x": null,
            "overflow_y": null,
            "padding": null,
            "right": null,
            "top": null,
            "visibility": null,
            "width": null
          }
        },
        "e03c0c85bd124734916aa743510811f6": {
          "model_module": "@jupyter-widgets/controls",
          "model_name": "DescriptionStyleModel",
          "model_module_version": "1.5.0",
          "state": {
            "_model_module": "@jupyter-widgets/controls",
            "_model_module_version": "1.5.0",
            "_model_name": "DescriptionStyleModel",
            "_view_count": null,
            "_view_module": "@jupyter-widgets/base",
            "_view_module_version": "1.2.0",
            "_view_name": "StyleView",
            "description_width": ""
          }
        },
        "a23732eb25a54a6e90986c1b75cc07ca": {
          "model_module": "@jupyter-widgets/base",
          "model_name": "LayoutModel",
          "model_module_version": "1.2.0",
          "state": {
            "_model_module": "@jupyter-widgets/base",
            "_model_module_version": "1.2.0",
            "_model_name": "LayoutModel",
            "_view_count": null,
            "_view_module": "@jupyter-widgets/base",
            "_view_module_version": "1.2.0",
            "_view_name": "LayoutView",
            "align_content": null,
            "align_items": null,
            "align_self": null,
            "border": null,
            "bottom": null,
            "display": null,
            "flex": null,
            "flex_flow": null,
            "grid_area": null,
            "grid_auto_columns": null,
            "grid_auto_flow": null,
            "grid_auto_rows": null,
            "grid_column": null,
            "grid_gap": null,
            "grid_row": null,
            "grid_template_areas": null,
            "grid_template_columns": null,
            "grid_template_rows": null,
            "height": null,
            "justify_content": null,
            "justify_items": null,
            "left": null,
            "margin": null,
            "max_height": null,
            "max_width": null,
            "min_height": null,
            "min_width": null,
            "object_fit": null,
            "object_position": null,
            "order": null,
            "overflow": null,
            "overflow_x": null,
            "overflow_y": null,
            "padding": null,
            "right": null,
            "top": null,
            "visibility": null,
            "width": null
          }
        },
        "a867325a4f164868b8d14b21a74f31c4": {
          "model_module": "@jupyter-widgets/controls",
          "model_name": "ProgressStyleModel",
          "model_module_version": "1.5.0",
          "state": {
            "_model_module": "@jupyter-widgets/controls",
            "_model_module_version": "1.5.0",
            "_model_name": "ProgressStyleModel",
            "_view_count": null,
            "_view_module": "@jupyter-widgets/base",
            "_view_module_version": "1.2.0",
            "_view_name": "StyleView",
            "bar_color": null,
            "description_width": ""
          }
        },
        "9b999d08b47d40bdb7c4b42282283da3": {
          "model_module": "@jupyter-widgets/base",
          "model_name": "LayoutModel",
          "model_module_version": "1.2.0",
          "state": {
            "_model_module": "@jupyter-widgets/base",
            "_model_module_version": "1.2.0",
            "_model_name": "LayoutModel",
            "_view_count": null,
            "_view_module": "@jupyter-widgets/base",
            "_view_module_version": "1.2.0",
            "_view_name": "LayoutView",
            "align_content": null,
            "align_items": null,
            "align_self": null,
            "border": null,
            "bottom": null,
            "display": null,
            "flex": null,
            "flex_flow": null,
            "grid_area": null,
            "grid_auto_columns": null,
            "grid_auto_flow": null,
            "grid_auto_rows": null,
            "grid_column": null,
            "grid_gap": null,
            "grid_row": null,
            "grid_template_areas": null,
            "grid_template_columns": null,
            "grid_template_rows": null,
            "height": null,
            "justify_content": null,
            "justify_items": null,
            "left": null,
            "margin": null,
            "max_height": null,
            "max_width": null,
            "min_height": null,
            "min_width": null,
            "object_fit": null,
            "object_position": null,
            "order": null,
            "overflow": null,
            "overflow_x": null,
            "overflow_y": null,
            "padding": null,
            "right": null,
            "top": null,
            "visibility": null,
            "width": null
          }
        },
        "a1675bf8876140bcb56d580aa5c5da15": {
          "model_module": "@jupyter-widgets/controls",
          "model_name": "DescriptionStyleModel",
          "model_module_version": "1.5.0",
          "state": {
            "_model_module": "@jupyter-widgets/controls",
            "_model_module_version": "1.5.0",
            "_model_name": "DescriptionStyleModel",
            "_view_count": null,
            "_view_module": "@jupyter-widgets/base",
            "_view_module_version": "1.2.0",
            "_view_name": "StyleView",
            "description_width": ""
          }
        },
        "0dc7a9b2d3fc4135ad472f82afc257e9": {
          "model_module": "@jupyter-widgets/controls",
          "model_name": "HBoxModel",
          "model_module_version": "1.5.0",
          "state": {
            "_dom_classes": [],
            "_model_module": "@jupyter-widgets/controls",
            "_model_module_version": "1.5.0",
            "_model_name": "HBoxModel",
            "_view_count": null,
            "_view_module": "@jupyter-widgets/controls",
            "_view_module_version": "1.5.0",
            "_view_name": "HBoxView",
            "box_style": "",
            "children": [
              "IPY_MODEL_134c6a9dc82d48cb93f115b5f94e18fb",
              "IPY_MODEL_c89f75950af44ea487d82ddcf3163897",
              "IPY_MODEL_b511ae1f41034ef9855a3374f0b4f51e"
            ],
            "layout": "IPY_MODEL_56d2473613b64dcbbeca3854e9d9d3b5"
          }
        },
        "134c6a9dc82d48cb93f115b5f94e18fb": {
          "model_module": "@jupyter-widgets/controls",
          "model_name": "HTMLModel",
          "model_module_version": "1.5.0",
          "state": {
            "_dom_classes": [],
            "_model_module": "@jupyter-widgets/controls",
            "_model_module_version": "1.5.0",
            "_model_name": "HTMLModel",
            "_view_count": null,
            "_view_module": "@jupyter-widgets/controls",
            "_view_module_version": "1.5.0",
            "_view_name": "HTMLView",
            "description": "",
            "description_tooltip": null,
            "layout": "IPY_MODEL_b6e7adcb84c24bc1b1321a32a6bdd390",
            "placeholder": "​",
            "style": "IPY_MODEL_cb79fcf8d24e41439f5a99809015c7dd",
            "value": "config.json: "
          }
        },
        "c89f75950af44ea487d82ddcf3163897": {
          "model_module": "@jupyter-widgets/controls",
          "model_name": "FloatProgressModel",
          "model_module_version": "1.5.0",
          "state": {
            "_dom_classes": [],
            "_model_module": "@jupyter-widgets/controls",
            "_model_module_version": "1.5.0",
            "_model_name": "FloatProgressModel",
            "_view_count": null,
            "_view_module": "@jupyter-widgets/controls",
            "_view_module_version": "1.5.0",
            "_view_name": "ProgressView",
            "bar_style": "success",
            "description": "",
            "description_tooltip": null,
            "layout": "IPY_MODEL_1c579749750b4c769c4791729e476bed",
            "max": 1,
            "min": 0,
            "orientation": "horizontal",
            "style": "IPY_MODEL_50dbf9327e8c4f6995158482e7ce8523",
            "value": 1
          }
        },
        "b511ae1f41034ef9855a3374f0b4f51e": {
          "model_module": "@jupyter-widgets/controls",
          "model_name": "HTMLModel",
          "model_module_version": "1.5.0",
          "state": {
            "_dom_classes": [],
            "_model_module": "@jupyter-widgets/controls",
            "_model_module_version": "1.5.0",
            "_model_name": "HTMLModel",
            "_view_count": null,
            "_view_module": "@jupyter-widgets/controls",
            "_view_module_version": "1.5.0",
            "_view_name": "HTMLView",
            "description": "",
            "description_tooltip": null,
            "layout": "IPY_MODEL_e5b22d58343e4cecbd59f3379ec8148d",
            "placeholder": "​",
            "style": "IPY_MODEL_21c292cba625462390a61ddcf9f6bbe9",
            "value": " 4.56k/? [00:00&lt;00:00, 333kB/s]"
          }
        },
        "56d2473613b64dcbbeca3854e9d9d3b5": {
          "model_module": "@jupyter-widgets/base",
          "model_name": "LayoutModel",
          "model_module_version": "1.2.0",
          "state": {
            "_model_module": "@jupyter-widgets/base",
            "_model_module_version": "1.2.0",
            "_model_name": "LayoutModel",
            "_view_count": null,
            "_view_module": "@jupyter-widgets/base",
            "_view_module_version": "1.2.0",
            "_view_name": "LayoutView",
            "align_content": null,
            "align_items": null,
            "align_self": null,
            "border": null,
            "bottom": null,
            "display": null,
            "flex": null,
            "flex_flow": null,
            "grid_area": null,
            "grid_auto_columns": null,
            "grid_auto_flow": null,
            "grid_auto_rows": null,
            "grid_column": null,
            "grid_gap": null,
            "grid_row": null,
            "grid_template_areas": null,
            "grid_template_columns": null,
            "grid_template_rows": null,
            "height": null,
            "justify_content": null,
            "justify_items": null,
            "left": null,
            "margin": null,
            "max_height": null,
            "max_width": null,
            "min_height": null,
            "min_width": null,
            "object_fit": null,
            "object_position": null,
            "order": null,
            "overflow": null,
            "overflow_x": null,
            "overflow_y": null,
            "padding": null,
            "right": null,
            "top": null,
            "visibility": null,
            "width": null
          }
        },
        "b6e7adcb84c24bc1b1321a32a6bdd390": {
          "model_module": "@jupyter-widgets/base",
          "model_name": "LayoutModel",
          "model_module_version": "1.2.0",
          "state": {
            "_model_module": "@jupyter-widgets/base",
            "_model_module_version": "1.2.0",
            "_model_name": "LayoutModel",
            "_view_count": null,
            "_view_module": "@jupyter-widgets/base",
            "_view_module_version": "1.2.0",
            "_view_name": "LayoutView",
            "align_content": null,
            "align_items": null,
            "align_self": null,
            "border": null,
            "bottom": null,
            "display": null,
            "flex": null,
            "flex_flow": null,
            "grid_area": null,
            "grid_auto_columns": null,
            "grid_auto_flow": null,
            "grid_auto_rows": null,
            "grid_column": null,
            "grid_gap": null,
            "grid_row": null,
            "grid_template_areas": null,
            "grid_template_columns": null,
            "grid_template_rows": null,
            "height": null,
            "justify_content": null,
            "justify_items": null,
            "left": null,
            "margin": null,
            "max_height": null,
            "max_width": null,
            "min_height": null,
            "min_width": null,
            "object_fit": null,
            "object_position": null,
            "order": null,
            "overflow": null,
            "overflow_x": null,
            "overflow_y": null,
            "padding": null,
            "right": null,
            "top": null,
            "visibility": null,
            "width": null
          }
        },
        "cb79fcf8d24e41439f5a99809015c7dd": {
          "model_module": "@jupyter-widgets/controls",
          "model_name": "DescriptionStyleModel",
          "model_module_version": "1.5.0",
          "state": {
            "_model_module": "@jupyter-widgets/controls",
            "_model_module_version": "1.5.0",
            "_model_name": "DescriptionStyleModel",
            "_view_count": null,
            "_view_module": "@jupyter-widgets/base",
            "_view_module_version": "1.2.0",
            "_view_name": "StyleView",
            "description_width": ""
          }
        },
        "1c579749750b4c769c4791729e476bed": {
          "model_module": "@jupyter-widgets/base",
          "model_name": "LayoutModel",
          "model_module_version": "1.2.0",
          "state": {
            "_model_module": "@jupyter-widgets/base",
            "_model_module_version": "1.2.0",
            "_model_name": "LayoutModel",
            "_view_count": null,
            "_view_module": "@jupyter-widgets/base",
            "_view_module_version": "1.2.0",
            "_view_name": "LayoutView",
            "align_content": null,
            "align_items": null,
            "align_self": null,
            "border": null,
            "bottom": null,
            "display": null,
            "flex": null,
            "flex_flow": null,
            "grid_area": null,
            "grid_auto_columns": null,
            "grid_auto_flow": null,
            "grid_auto_rows": null,
            "grid_column": null,
            "grid_gap": null,
            "grid_row": null,
            "grid_template_areas": null,
            "grid_template_columns": null,
            "grid_template_rows": null,
            "height": null,
            "justify_content": null,
            "justify_items": null,
            "left": null,
            "margin": null,
            "max_height": null,
            "max_width": null,
            "min_height": null,
            "min_width": null,
            "object_fit": null,
            "object_position": null,
            "order": null,
            "overflow": null,
            "overflow_x": null,
            "overflow_y": null,
            "padding": null,
            "right": null,
            "top": null,
            "visibility": null,
            "width": "20px"
          }
        },
        "50dbf9327e8c4f6995158482e7ce8523": {
          "model_module": "@jupyter-widgets/controls",
          "model_name": "ProgressStyleModel",
          "model_module_version": "1.5.0",
          "state": {
            "_model_module": "@jupyter-widgets/controls",
            "_model_module_version": "1.5.0",
            "_model_name": "ProgressStyleModel",
            "_view_count": null,
            "_view_module": "@jupyter-widgets/base",
            "_view_module_version": "1.2.0",
            "_view_name": "StyleView",
            "bar_color": null,
            "description_width": ""
          }
        },
        "e5b22d58343e4cecbd59f3379ec8148d": {
          "model_module": "@jupyter-widgets/base",
          "model_name": "LayoutModel",
          "model_module_version": "1.2.0",
          "state": {
            "_model_module": "@jupyter-widgets/base",
            "_model_module_version": "1.2.0",
            "_model_name": "LayoutModel",
            "_view_count": null,
            "_view_module": "@jupyter-widgets/base",
            "_view_module_version": "1.2.0",
            "_view_name": "LayoutView",
            "align_content": null,
            "align_items": null,
            "align_self": null,
            "border": null,
            "bottom": null,
            "display": null,
            "flex": null,
            "flex_flow": null,
            "grid_area": null,
            "grid_auto_columns": null,
            "grid_auto_flow": null,
            "grid_auto_rows": null,
            "grid_column": null,
            "grid_gap": null,
            "grid_row": null,
            "grid_template_areas": null,
            "grid_template_columns": null,
            "grid_template_rows": null,
            "height": null,
            "justify_content": null,
            "justify_items": null,
            "left": null,
            "margin": null,
            "max_height": null,
            "max_width": null,
            "min_height": null,
            "min_width": null,
            "object_fit": null,
            "object_position": null,
            "order": null,
            "overflow": null,
            "overflow_x": null,
            "overflow_y": null,
            "padding": null,
            "right": null,
            "top": null,
            "visibility": null,
            "width": null
          }
        },
        "21c292cba625462390a61ddcf9f6bbe9": {
          "model_module": "@jupyter-widgets/controls",
          "model_name": "DescriptionStyleModel",
          "model_module_version": "1.5.0",
          "state": {
            "_model_module": "@jupyter-widgets/controls",
            "_model_module_version": "1.5.0",
            "_model_name": "DescriptionStyleModel",
            "_view_count": null,
            "_view_module": "@jupyter-widgets/base",
            "_view_module_version": "1.2.0",
            "_view_name": "StyleView",
            "description_width": ""
          }
        },
        "747ab72f2a5f4a109717dc0c02c58f54": {
          "model_module": "@jupyter-widgets/controls",
          "model_name": "HBoxModel",
          "model_module_version": "1.5.0",
          "state": {
            "_dom_classes": [],
            "_model_module": "@jupyter-widgets/controls",
            "_model_module_version": "1.5.0",
            "_model_name": "HBoxModel",
            "_view_count": null,
            "_view_module": "@jupyter-widgets/controls",
            "_view_module_version": "1.5.0",
            "_view_name": "HBoxView",
            "box_style": "",
            "children": [
              "IPY_MODEL_fa044de93ef840e1918a8fe4f0148ff0",
              "IPY_MODEL_2f28768113044478960d4b85c614847f",
              "IPY_MODEL_89a26abf75b648e6b78f934b0567736a"
            ],
            "layout": "IPY_MODEL_355112317ffc4352a6c377ecc6e17641"
          }
        },
        "fa044de93ef840e1918a8fe4f0148ff0": {
          "model_module": "@jupyter-widgets/controls",
          "model_name": "HTMLModel",
          "model_module_version": "1.5.0",
          "state": {
            "_dom_classes": [],
            "_model_module": "@jupyter-widgets/controls",
            "_model_module_version": "1.5.0",
            "_model_name": "HTMLModel",
            "_view_count": null,
            "_view_module": "@jupyter-widgets/controls",
            "_view_module_version": "1.5.0",
            "_view_name": "HTMLView",
            "description": "",
            "description_tooltip": null,
            "layout": "IPY_MODEL_fc600d7fd9c446f0a9c91eaf87f7ab2b",
            "placeholder": "​",
            "style": "IPY_MODEL_9f9095b1791246aa98e21e8b2245fff8",
            "value": "pytorch_model.bin: 100%"
          }
        },
        "2f28768113044478960d4b85c614847f": {
          "model_module": "@jupyter-widgets/controls",
          "model_name": "FloatProgressModel",
          "model_module_version": "1.5.0",
          "state": {
            "_dom_classes": [],
            "_model_module": "@jupyter-widgets/controls",
            "_model_module_version": "1.5.0",
            "_model_name": "FloatProgressModel",
            "_view_count": null,
            "_view_module": "@jupyter-widgets/controls",
            "_view_module_version": "1.5.0",
            "_view_name": "ProgressView",
            "bar_style": "success",
            "description": "",
            "description_tooltip": null,
            "layout": "IPY_MODEL_b79eec0f928b4aeab096a38cdb7776aa",
            "max": 989820849,
            "min": 0,
            "orientation": "horizontal",
            "style": "IPY_MODEL_9d4968168c6e48e2bc67eeb63f282edb",
            "value": 989820849
          }
        },
        "89a26abf75b648e6b78f934b0567736a": {
          "model_module": "@jupyter-widgets/controls",
          "model_name": "HTMLModel",
          "model_module_version": "1.5.0",
          "state": {
            "_dom_classes": [],
            "_model_module": "@jupyter-widgets/controls",
            "_model_module_version": "1.5.0",
            "_model_name": "HTMLModel",
            "_view_count": null,
            "_view_module": "@jupyter-widgets/controls",
            "_view_module_version": "1.5.0",
            "_view_name": "HTMLView",
            "description": "",
            "description_tooltip": null,
            "layout": "IPY_MODEL_b5f9c825a00940c582fac3796b830a18",
            "placeholder": "​",
            "style": "IPY_MODEL_6b71fa1c474949d19cf053808914425a",
            "value": " 990M/990M [00:12&lt;00:00, 35.6MB/s]"
          }
        },
        "355112317ffc4352a6c377ecc6e17641": {
          "model_module": "@jupyter-widgets/base",
          "model_name": "LayoutModel",
          "model_module_version": "1.2.0",
          "state": {
            "_model_module": "@jupyter-widgets/base",
            "_model_module_version": "1.2.0",
            "_model_name": "LayoutModel",
            "_view_count": null,
            "_view_module": "@jupyter-widgets/base",
            "_view_module_version": "1.2.0",
            "_view_name": "LayoutView",
            "align_content": null,
            "align_items": null,
            "align_self": null,
            "border": null,
            "bottom": null,
            "display": null,
            "flex": null,
            "flex_flow": null,
            "grid_area": null,
            "grid_auto_columns": null,
            "grid_auto_flow": null,
            "grid_auto_rows": null,
            "grid_column": null,
            "grid_gap": null,
            "grid_row": null,
            "grid_template_areas": null,
            "grid_template_columns": null,
            "grid_template_rows": null,
            "height": null,
            "justify_content": null,
            "justify_items": null,
            "left": null,
            "margin": null,
            "max_height": null,
            "max_width": null,
            "min_height": null,
            "min_width": null,
            "object_fit": null,
            "object_position": null,
            "order": null,
            "overflow": null,
            "overflow_x": null,
            "overflow_y": null,
            "padding": null,
            "right": null,
            "top": null,
            "visibility": null,
            "width": null
          }
        },
        "fc600d7fd9c446f0a9c91eaf87f7ab2b": {
          "model_module": "@jupyter-widgets/base",
          "model_name": "LayoutModel",
          "model_module_version": "1.2.0",
          "state": {
            "_model_module": "@jupyter-widgets/base",
            "_model_module_version": "1.2.0",
            "_model_name": "LayoutModel",
            "_view_count": null,
            "_view_module": "@jupyter-widgets/base",
            "_view_module_version": "1.2.0",
            "_view_name": "LayoutView",
            "align_content": null,
            "align_items": null,
            "align_self": null,
            "border": null,
            "bottom": null,
            "display": null,
            "flex": null,
            "flex_flow": null,
            "grid_area": null,
            "grid_auto_columns": null,
            "grid_auto_flow": null,
            "grid_auto_rows": null,
            "grid_column": null,
            "grid_gap": null,
            "grid_row": null,
            "grid_template_areas": null,
            "grid_template_columns": null,
            "grid_template_rows": null,
            "height": null,
            "justify_content": null,
            "justify_items": null,
            "left": null,
            "margin": null,
            "max_height": null,
            "max_width": null,
            "min_height": null,
            "min_width": null,
            "object_fit": null,
            "object_position": null,
            "order": null,
            "overflow": null,
            "overflow_x": null,
            "overflow_y": null,
            "padding": null,
            "right": null,
            "top": null,
            "visibility": null,
            "width": null
          }
        },
        "9f9095b1791246aa98e21e8b2245fff8": {
          "model_module": "@jupyter-widgets/controls",
          "model_name": "DescriptionStyleModel",
          "model_module_version": "1.5.0",
          "state": {
            "_model_module": "@jupyter-widgets/controls",
            "_model_module_version": "1.5.0",
            "_model_name": "DescriptionStyleModel",
            "_view_count": null,
            "_view_module": "@jupyter-widgets/base",
            "_view_module_version": "1.2.0",
            "_view_name": "StyleView",
            "description_width": ""
          }
        },
        "b79eec0f928b4aeab096a38cdb7776aa": {
          "model_module": "@jupyter-widgets/base",
          "model_name": "LayoutModel",
          "model_module_version": "1.2.0",
          "state": {
            "_model_module": "@jupyter-widgets/base",
            "_model_module_version": "1.2.0",
            "_model_name": "LayoutModel",
            "_view_count": null,
            "_view_module": "@jupyter-widgets/base",
            "_view_module_version": "1.2.0",
            "_view_name": "LayoutView",
            "align_content": null,
            "align_items": null,
            "align_self": null,
            "border": null,
            "bottom": null,
            "display": null,
            "flex": null,
            "flex_flow": null,
            "grid_area": null,
            "grid_auto_columns": null,
            "grid_auto_flow": null,
            "grid_auto_rows": null,
            "grid_column": null,
            "grid_gap": null,
            "grid_row": null,
            "grid_template_areas": null,
            "grid_template_columns": null,
            "grid_template_rows": null,
            "height": null,
            "justify_content": null,
            "justify_items": null,
            "left": null,
            "margin": null,
            "max_height": null,
            "max_width": null,
            "min_height": null,
            "min_width": null,
            "object_fit": null,
            "object_position": null,
            "order": null,
            "overflow": null,
            "overflow_x": null,
            "overflow_y": null,
            "padding": null,
            "right": null,
            "top": null,
            "visibility": null,
            "width": null
          }
        },
        "9d4968168c6e48e2bc67eeb63f282edb": {
          "model_module": "@jupyter-widgets/controls",
          "model_name": "ProgressStyleModel",
          "model_module_version": "1.5.0",
          "state": {
            "_model_module": "@jupyter-widgets/controls",
            "_model_module_version": "1.5.0",
            "_model_name": "ProgressStyleModel",
            "_view_count": null,
            "_view_module": "@jupyter-widgets/base",
            "_view_module_version": "1.2.0",
            "_view_name": "StyleView",
            "bar_color": null,
            "description_width": ""
          }
        },
        "b5f9c825a00940c582fac3796b830a18": {
          "model_module": "@jupyter-widgets/base",
          "model_name": "LayoutModel",
          "model_module_version": "1.2.0",
          "state": {
            "_model_module": "@jupyter-widgets/base",
            "_model_module_version": "1.2.0",
            "_model_name": "LayoutModel",
            "_view_count": null,
            "_view_module": "@jupyter-widgets/base",
            "_view_module_version": "1.2.0",
            "_view_name": "LayoutView",
            "align_content": null,
            "align_items": null,
            "align_self": null,
            "border": null,
            "bottom": null,
            "display": null,
            "flex": null,
            "flex_flow": null,
            "grid_area": null,
            "grid_auto_columns": null,
            "grid_auto_flow": null,
            "grid_auto_rows": null,
            "grid_column": null,
            "grid_gap": null,
            "grid_row": null,
            "grid_template_areas": null,
            "grid_template_columns": null,
            "grid_template_rows": null,
            "height": null,
            "justify_content": null,
            "justify_items": null,
            "left": null,
            "margin": null,
            "max_height": null,
            "max_width": null,
            "min_height": null,
            "min_width": null,
            "object_fit": null,
            "object_position": null,
            "order": null,
            "overflow": null,
            "overflow_x": null,
            "overflow_y": null,
            "padding": null,
            "right": null,
            "top": null,
            "visibility": null,
            "width": null
          }
        },
        "6b71fa1c474949d19cf053808914425a": {
          "model_module": "@jupyter-widgets/controls",
          "model_name": "DescriptionStyleModel",
          "model_module_version": "1.5.0",
          "state": {
            "_model_module": "@jupyter-widgets/controls",
            "_model_module_version": "1.5.0",
            "_model_name": "DescriptionStyleModel",
            "_view_count": null,
            "_view_module": "@jupyter-widgets/base",
            "_view_module_version": "1.2.0",
            "_view_name": "StyleView",
            "description_width": ""
          }
        }
      }
    }
  },
  "nbformat": 4,
  "nbformat_minor": 0
}