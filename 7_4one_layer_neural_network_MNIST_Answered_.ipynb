{
  "cells": [
    {
      "cell_type": "markdown",
      "metadata": {
        "id": "view-in-github",
        "colab_type": "text"
      },
      "source": [
        "<a href=\"https://colab.research.google.com/github/jabanitaha/data-mining-2-/blob/main/7_4one_layer_neural_network_MNIST_Answered_.ipynb\" target=\"_parent\"><img src=\"https://colab.research.google.com/assets/colab-badge.svg\" alt=\"Open In Colab\"/></a>"
      ]
    },
    {
      "cell_type": "markdown",
      "metadata": {
        "id": "52b686b0-4a10-48ee-aa53-14e3acb75712"
      },
      "source": [
        "<p style=\"text-align:center\">\n",
        "    <a href=\"https://skills.network\" target=\"_blank\">\n",
        "    <img src=\"https://cf-courses-data.s3.us.cloud-object-storage.appdomain.cloud/assets/logos/SN_web_lightmode.png\" width=\"200\" alt=\"Skills Network Logo\">\n",
        "    </a>\n",
        "</p>\n"
      ]
    },
    {
      "cell_type": "markdown",
      "metadata": {
        "id": "ace7ff38-88a1-4ef8-8115-5b457b891cf3"
      },
      "source": [
        "<h1>Neural Networks with One Hidden Layer</h1>\n"
      ]
    },
    {
      "cell_type": "markdown",
      "metadata": {
        "id": "5dbfec17-fd90-4a2a-a162-c1dc1e539eb8"
      },
      "source": [
        "<h2>Objective</h2><ul><li> How to classify handwritten digits using Neural Network.</li></ul>\n"
      ]
    },
    {
      "cell_type": "markdown",
      "metadata": {
        "id": "1d2dd63c-ae8e-4c29-9566-79a8e42b16a6"
      },
      "source": [
        "<h2>Table of Contents</h2>\n",
        "<p>In this lab, you will use a single layer neural network to classify handwritten digits from the MNIST database.</p>\n",
        "\n",
        "<ul>\n",
        "    <li><a href=\"#Model\">Neural Network Module and Training Function</a></li>\n",
        "    <li><a href=\"#Makeup_Data\">Make Some Data</a></li>\n",
        "    <li><a href=\"#Train\">Define the Neural Network, Optimizer, and Train the  Model</a></li>\n",
        "    <li><a href=\"#Result\">Analyze Results</a></li>\n",
        "</ul>\n",
        "<p>Estimated Time Needed: <strong>25 min</strong></p>\n",
        "\n",
        "<hr>\n"
      ]
    },
    {
      "cell_type": "markdown",
      "metadata": {
        "id": "c42ad484-7009-40bd-80ff-1ca8adae015e"
      },
      "source": [
        "<h2>Preparation</h2>\n"
      ]
    },
    {
      "cell_type": "markdown",
      "metadata": {
        "id": "fa8b40d8-f58e-4769-a233-bf7b5ecc6122"
      },
      "source": [
        "We'll need the following libraries\n"
      ]
    },
    {
      "cell_type": "code",
      "metadata": {
        "id": "c20abde2-9ed3-48d7-a05f-dad0c37d1827"
      },
      "outputs": [],
      "source": [
        "# Import the libraries we need for this lab\n",
        "\n",
        "# Using the following line code to install the torchvision library\n",
        "# !mamba install -y torchvision\n",
        "\n",
        "import torch\n",
        "import torch.nn as nn\n",
        "import torchvision.transforms as transforms\n",
        "import torchvision.datasets as dsets\n",
        "import torch.nn.functional as F\n",
        "import matplotlib.pylab as plt\n",
        "import numpy as np"
      ],
      "execution_count": 1
    },
    {
      "cell_type": "markdown",
      "metadata": {
        "id": "69b624c1-04ac-4a24-9b9a-50d58ef8c822"
      },
      "source": [
        "Use the following helper functions for plotting the loss:\n"
      ]
    },
    {
      "cell_type": "code",
      "metadata": {
        "id": "9b442de8-8f18-40b4-9057-ac83ef4113b3"
      },
      "outputs": [],
      "source": [
        "# Define a function to plot accuracy and loss\n",
        "\n",
        "def plot_accuracy_loss(training_results):\n",
        "    plt.subplot(2, 1, 1)\n",
        "    plt.plot(training_results['training_loss'], 'r')\n",
        "    plt.ylabel('loss')\n",
        "    plt.title('training loss iterations')\n",
        "    plt.subplot(2, 1, 2)\n",
        "    plt.plot(training_results['validation_accuracy'])\n",
        "    plt.ylabel('accuracy')\n",
        "    plt.xlabel('epochs')\n",
        "    plt.show()"
      ],
      "execution_count": 2
    },
    {
      "cell_type": "markdown",
      "metadata": {
        "id": "3af52a3b-51dd-482c-b689-703a30250be4"
      },
      "source": [
        "Use the following function for printing the model parameters:\n"
      ]
    },
    {
      "cell_type": "code",
      "metadata": {
        "id": "572fcf87-16a7-44fc-a45b-83eba7c0c5f5"
      },
      "outputs": [],
      "source": [
        "# Define a function to plot model parameters\n",
        "\n",
        "def print_model_parameters(model):\n",
        "    count = 0\n",
        "    for ele in model.state_dict():\n",
        "        count += 1\n",
        "        if count % 2 != 0:\n",
        "            print (\"The following are the parameters for the layer \", count // 2 + 1)\n",
        "        if ele.find(\"bias\") != -1:\n",
        "            print(\"The size of bias: \", model.state_dict()[ele].size())\n",
        "        else:\n",
        "            print(\"The size of weights: \", model.state_dict()[ele].size())"
      ],
      "execution_count": 3
    },
    {
      "cell_type": "markdown",
      "metadata": {
        "id": "7d33fc40-8301-4c06-be28-72f36c63d9dd"
      },
      "source": [
        "Define the neural network module or class:\n"
      ]
    },
    {
      "cell_type": "code",
      "metadata": {
        "id": "2646d02d-951d-485d-ac73-d4c54e8a57bd"
      },
      "outputs": [],
      "source": [
        "# Define a function to display data\n",
        "\n",
        "def show_data(data_sample):\n",
        "    plt.imshow(data_sample.numpy().reshape(28, 28), cmap='gray')\n",
        "    plt.show()"
      ],
      "execution_count": 4
    },
    {
      "cell_type": "markdown",
      "metadata": {
        "id": "1e10d0f0-e425-4230-826c-967fa0cb73a7"
      },
      "source": [
        "<!--Empty Space for separating topics-->\n"
      ]
    },
    {
      "cell_type": "markdown",
      "metadata": {
        "id": "78c54baf-5d2c-4ced-bedd-661ce68d8bcc"
      },
      "source": [
        "<a name=\"Model\"><h2 id=\"Model\">Neural Network Module and Training Function</\n",
        "\n",
        "---\n",
        "\n",
        "h2></a>\n"
      ]
    },
    {
      "cell_type": "markdown",
      "metadata": {
        "id": "a18ddfc0-39e3-4ff6-a5fc-fc08ffe661e2"
      },
      "source": [
        "Define the neural network module or class:\n"
      ]
    },
    {
      "cell_type": "code",
      "metadata": {
        "id": "7c5ce4da-0b63-4c74-be72-2abf621576d7"
      },
      "outputs": [],
      "source": [
        "# Define a Neural Network class\n",
        "\n",
        "class Net(nn.Module):\n",
        "\n",
        "    # Constructor\n",
        "    def __init__(self, D_in, H, D_out):\n",
        "        super(Net, self).__init__()\n",
        "        self.linear1 = nn.Linear(D_in, H)\n",
        "        self.linear2 = nn.Linear(H, D_out)\n",
        "\n",
        "    # Prediction\n",
        "    def forward(self, x):\n",
        "        x = torch.sigmoid(self.linear1(x))\n",
        "        x = self.linear2(x)\n",
        "        return x"
      ],
      "execution_count": 5
    },
    {
      "cell_type": "markdown",
      "metadata": {
        "id": "e3e81cfd-fb2c-452d-aef2-58b917ec596b"
      },
      "source": [
        "Define a function to train the model. In this case, the function returns a Python dictionary to store the training loss and accuracy on the validation data.\n"
      ]
    },
    {
      "cell_type": "code",
      "metadata": {
        "id": "3da75280-af18-4588-a676-b74f9897d599"
      },
      "outputs": [],
      "source": [
        "# Define a training function to train the model\n",
        "\n",
        "def train(model, criterion, train_loader, validation_loader, optimizer, epochs=100):\n",
        "    i = 0\n",
        "    useful_stuff = {'training_loss': [],'validation_accuracy': []}\n",
        "    for epoch in range(epochs):\n",
        "        for i, (x, y) in enumerate(train_loader):\n",
        "            optimizer.zero_grad()\n",
        "            z = model(x.view(-1, 28 * 28))\n",
        "            loss = criterion(z, y)\n",
        "            loss.backward()\n",
        "            optimizer.step()\n",
        "             #loss for every iteration\n",
        "            useful_stuff['training_loss'].append(loss.data.item())\n",
        "        correct = 0\n",
        "        for x, y in validation_loader:\n",
        "            #validation\n",
        "            z = model(x.view(-1, 28 * 28))\n",
        "            _, label = torch.max(z, 1)\n",
        "            correct += (label == y).sum().item()\n",
        "        accuracy = 100 * (correct / len(validation_dataset))\n",
        "        useful_stuff['validation_accuracy'].append(accuracy)\n",
        "    return useful_stuff"
      ],
      "execution_count": 6
    },
    {
      "cell_type": "markdown",
      "metadata": {
        "id": "d7a1e636-cddb-48dc-934f-af1c41c1a99e"
      },
      "source": [
        "<!--Empty Space for separating topics-->\n"
      ]
    },
    {
      "cell_type": "markdown",
      "metadata": {
        "id": "f29e0e00-d83d-43ab-b947-bad0aff87ed0"
      },
      "source": [
        "<a name=\"Makeup_Data\"><h2 id=\"Makeup_Data\">Make Some Data</h2></a>\n"
      ]
    },
    {
      "cell_type": "markdown",
      "metadata": {
        "id": "bc1c8e74-d1eb-4dd0-be33-9cb0eaa7efa7"
      },
      "source": [
        "Load the training dataset by setting the parameters <code>train</code> to <code>True</code> and convert it to a tensor by placing a transform object in the argument <code>transform</code>.\n"
      ]
    },
    {
      "cell_type": "code",
      "metadata": {
        "colab": {
          "base_uri": "https://localhost:8080/"
        },
        "id": "9e5b4a0f-1bc4-44e6-9886-57d5dadde7ed",
        "outputId": "a33d2e39-9a30-413a-ba91-cb064ca4ac4b"
      },
      "outputs": [
        {
          "output_type": "stream",
          "name": "stderr",
          "text": [
            "100%|██████████| 9.91M/9.91M [00:00<00:00, 52.7MB/s]\n",
            "100%|██████████| 28.9k/28.9k [00:00<00:00, 1.56MB/s]\n",
            "100%|██████████| 1.65M/1.65M [00:00<00:00, 12.2MB/s]\n",
            "100%|██████████| 4.54k/4.54k [00:00<00:00, 4.29MB/s]\n"
          ]
        }
      ],
      "source": [
        "# Create training dataset\n",
        "\n",
        "train_dataset = dsets.MNIST(root='./data', train=True, download=True, transform=transforms.ToTensor())"
      ],
      "execution_count": 7
    },
    {
      "cell_type": "markdown",
      "metadata": {
        "id": "f84e9755-c9ee-4d2a-928e-ee0ac45bc8ab"
      },
      "source": [
        "Load the testing dataset and convert it to a tensor by placing a transform object in the argument <code>transform</code>:\n"
      ]
    },
    {
      "cell_type": "code",
      "metadata": {
        "id": "f734ae4d-a334-4258-95a0-477c6bb012c0"
      },
      "outputs": [],
      "source": [
        "# Create validating dataset\n",
        "\n",
        "validation_dataset = dsets.MNIST(root='./data', download=True, transform=transforms.ToTensor())"
      ],
      "execution_count": 8
    },
    {
      "cell_type": "markdown",
      "metadata": {
        "id": "7ac282e4-0646-4567-a695-5be78a2e69e4"
      },
      "source": [
        "Create the criterion function:  \n"
      ]
    },
    {
      "cell_type": "code",
      "metadata": {
        "id": "523e0788-bba0-49ec-8228-699c49945ea3"
      },
      "outputs": [],
      "source": [
        "# Create criterion function\n",
        "\n",
        "criterion = nn.CrossEntropyLoss()"
      ],
      "execution_count": 9
    },
    {
      "cell_type": "markdown",
      "metadata": {
        "id": "8f3737b2-6f8a-48ea-aecf-3ab158a9c85a"
      },
      "source": [
        "Create the training-data loader and the validation-data loader objects:\n"
      ]
    },
    {
      "cell_type": "code",
      "metadata": {
        "id": "ef3cfff9-c7f2-4078-9cde-e9085d6d7da5"
      },
      "outputs": [],
      "source": [
        "# Create data loader for both train dataset and valdiate dataset\n",
        "\n",
        "train_loader = torch.utils.data.DataLoader(dataset=train_dataset, batch_size=2000, shuffle=True)\n",
        "validation_loader = torch.utils.data.DataLoader(dataset=validation_dataset, batch_size=5000, shuffle=False)"
      ],
      "execution_count": 10
    },
    {
      "cell_type": "markdown",
      "metadata": {
        "id": "1c78d7b6-18ff-4b69-aa1e-63afe2ad3c4c"
      },
      "source": [
        "<!--Empty Space for separating topics-->\n"
      ]
    },
    {
      "cell_type": "markdown",
      "metadata": {
        "id": "bde1ef83-7b05-4f90-be71-05c1b103dfe5"
      },
      "source": [
        "<a name =\"Train\"><h2 id=\"Train\">Define the Neural Network, Optimizer, and Train the Model</h2></a>\n"
      ]
    },
    {
      "cell_type": "markdown",
      "metadata": {
        "id": "776e0670-53e2-4a4f-8ca2-59bd9b5cb52b"
      },
      "source": [
        "Create the model with 100 neurons:\n"
      ]
    },
    {
      "cell_type": "code",
      "metadata": {
        "id": "44908983-e167-4842-856f-d28713be2e5b"
      },
      "outputs": [],
      "source": [
        "# Create the model with 100 neurons\n",
        "\n",
        "input_dim = 28 * 28\n",
        "hidden_dim = 100\n",
        "output_dim = 10\n",
        "\n",
        "model = Net(input_dim, hidden_dim, output_dim)"
      ],
      "execution_count": 11
    },
    {
      "cell_type": "markdown",
      "metadata": {
        "id": "3301d614-1d4a-4701-9d2f-3b3caa9aa4c9"
      },
      "source": [
        "Print the model parameters:\n"
      ]
    },
    {
      "cell_type": "code",
      "metadata": {
        "colab": {
          "base_uri": "https://localhost:8080/"
        },
        "id": "fb094726-7ca3-4eef-83e0-480f71021e7d",
        "outputId": "f6699386-9e24-4ccc-d52f-bf602eff4546"
      },
      "outputs": [
        {
          "output_type": "stream",
          "name": "stdout",
          "text": [
            "The following are the parameters for the layer  1\n",
            "The size of weights:  torch.Size([100, 784])\n",
            "The size of bias:  torch.Size([100])\n",
            "The following are the parameters for the layer  2\n",
            "The size of weights:  torch.Size([10, 100])\n",
            "The size of bias:  torch.Size([10])\n"
          ]
        }
      ],
      "source": [
        "# Print the parameters for model\n",
        "\n",
        "print_model_parameters(model)"
      ],
      "execution_count": 12
    },
    {
      "cell_type": "markdown",
      "metadata": {
        "id": "4e79873f-b100-48ef-a53f-dddb242c73de"
      },
      "source": [
        "Define the optimizer object with a learning rate of 0.01:\n"
      ]
    },
    {
      "cell_type": "code",
      "metadata": {
        "id": "b02b26ce-fa9d-4617-b571-023ff1246141"
      },
      "outputs": [],
      "source": [
        "# Set the learning rate and the optimizer\n",
        "\n",
        "learning_rate = 0.01\n",
        "optimizer = torch.optim.SGD(model.parameters(), lr=learning_rate)"
      ],
      "execution_count": 13
    },
    {
      "cell_type": "markdown",
      "metadata": {
        "id": "c048f8f6-8be7-4b50-af2c-1041636f017a"
      },
      "source": [
        "Train the model by using 100 epochs **(this process takes time)**:\n"
      ]
    },
    {
      "cell_type": "code",
      "metadata": {
        "id": "cfb07369-34e8-4537-a4e8-ee564983fec8"
      },
      "outputs": [],
      "source": [
        "# Train the model\n",
        "\n",
        "training_results = train(model, criterion, train_loader, validation_loader, optimizer, epochs=30)"
      ],
      "execution_count": 14
    },
    {
      "cell_type": "markdown",
      "metadata": {
        "id": "18b5cb03-25f7-4a5a-a846-30d97d5edfa7"
      },
      "source": [
        "<!--Empty Space for separating topics-->\n"
      ]
    },
    {
      "cell_type": "markdown",
      "metadata": {
        "id": "d681f431-a918-4042-a900-3bc797b0ccc0"
      },
      "source": [
        "<a name=\"Result\"><h2 id=\"Result\">Analyze Results</h2></a>\n"
      ]
    },
    {
      "cell_type": "markdown",
      "metadata": {
        "id": "d8f6ed6e-b289-4a6e-b863-284321d7653e"
      },
      "source": [
        "Plot the training total loss or cost for every iteration and plot the training accuracy for every epoch:  \n"
      ]
    },
    {
      "cell_type": "code",
      "metadata": {
        "colab": {
          "base_uri": "https://localhost:8080/",
          "height": 472
        },
        "id": "7e191b32-6c98-4e34-8234-7b220bbccf00",
        "outputId": "37bf09db-9fac-4355-e371-6903fa14563a"
      },
      "outputs": [
        {
          "output_type": "display_data",
          "data": {
            "text/plain": [
              "<Figure size 640x480 with 2 Axes>"
            ],
            "image/png": "[encoded data removed]"
          },
          "metadata": {}
        }
      ],
      "source": [
        "# Plot the accuracy and loss\n",
        "\n",
        "plot_accuracy_loss(training_results)"
      ],
      "execution_count": 16
    },
    {
      "cell_type": "markdown",
      "metadata": {
        "id": "c60b1d80-fa9a-4c81-8cbc-f636f6f74b0b"
      },
      "source": [
        "Plot the first five misclassified samples:   \n"
      ]
    },
    {
      "cell_type": "code",
      "metadata": {
        "colab": {
          "base_uri": "https://localhost:8080/",
          "height": 1000
        },
        "id": "44ac3d38-f232-43f9-9362-7588f9095a4a",
        "outputId": "e0d89d1b-7db4-44d8-990a-e9f684ddc503"
      },
      "outputs": [
        {
          "output_type": "display_data",
          "data": {
            "text/plain": [
              "<Figure size 640x480 with 1 Axes>"
            ],
            "image/png": "[encoded data removed]"
          },
          "metadata": {}
        },
        {
          "output_type": "display_data",
          "data": {
            "text/plain": [
              "<Figure size 640x480 with 1 Axes>"
            ],
            "image/png": "[encoded data removed]"
          },
          "metadata": {}
        },
        {
          "output_type": "display_data",
          "data": {
            "text/plain": [
              "<Figure size 640x480 with 1 Axes>"
            ],
            "image/png": "[encoded data removed]"
          },
          "metadata": {}
        },
        {
          "output_type": "display_data",
          "data": {
            "text/plain": [
              "<Figure size 640x480 with 1 Axes>"
            ],
            "image/png": "[encoded data removed]"
          },
          "metadata": {}
        },
        {
          "output_type": "display_data",
          "data": {
            "text/plain": [
              "<Figure size 640x480 with 1 Axes>"
            ],
            "image/png": "[encoded data removed]"
          },
          "metadata": {}
        }
      ],
      "source": [
        "# Plot the first five misclassified samples\n",
        "\n",
        "count = 0\n",
        "for x, y in validation_dataset:\n",
        "    z = model(x.reshape(-1, 28 * 28))\n",
        "    _,yhat = torch.max(z, 1)\n",
        "    if yhat != y:\n",
        "        show_data(x)\n",
        "        count += 1\n",
        "    if count >= 5:\n",
        "        break"
      ],
      "execution_count": 17
    },
    {
      "cell_type": "markdown",
      "metadata": {
        "id": "6d7edefb-7127-41bf-be70-ab898631ae34"
      },
      "source": [
        "<h3>Practice</h3>\n"
      ]
    },
    {
      "cell_type": "markdown",
      "metadata": {
        "id": "61a8fe1f-f0f9-40bc-9364-dc994a1058e5"
      },
      "source": [
        "Use <code>nn.Sequential</code> to build exactly the same model as you just built. Use the function <train>train</train> to train the model and use the function <code>plot_accuracy_loss</code> to see the metrics. Also, try different epoch numbers.\n"
      ]
    },
    {
      "cell_type": "code",
      "metadata": {
        "colab": {
          "base_uri": "https://localhost:8080/",
          "height": 472
        },
        "id": "33ee6025-25a3-4a43-8ce4-4fc709015075",
        "outputId": "85724e1e-3cf0-49bc-860f-b56920f39046"
      },
      "outputs": [
        {
          "output_type": "display_data",
          "data": {
            "text/plain": [
              "<Figure size 640x480 with 2 Axes>"
            ],
            "image/png": "[encoded data removed]"
          },
          "metadata": {}
        }
      ],
      "source": [
        "# Practice: Use nn.Sequential to build the same model. Use plot_accuracy_loss to print out the accuarcy and loss\n",
        "\n",
        "# Type your code here\n",
        "input_dim = 28 * 28\n",
        "hidden_dim = 100\n",
        "output_dim = 10\n",
        "\n",
        "model = torch.nn.Sequential(\n",
        "    torch.nn.Linear(input_dim, hidden_dim),\n",
        "    torch.nn.Sigmoid(),\n",
        "    torch.nn.Linear(hidden_dim, output_dim),\n",
        ")\n",
        "learning_rate = 0.01\n",
        "optimizer = torch.optim.SGD(model.parameters(), lr = learning_rate)\n",
        "training_results = train(model, criterion, train_loader, validation_loader, optimizer, epochs = 10)\n",
        "plot_accuracy_loss(training_results)"
      ],
      "execution_count": 18
    },
    {
      "cell_type": "markdown",
      "metadata": {
        "id": "0d6f91f6-700d-4dbb-a336-61312834b9a4"
      },
      "source": [
        "Double-click <b>here</b> for the solution.\n",
        "\n",
        "<!--\n",
        "input_dim = 28 * 28\n",
        "hidden_dim = 100\n",
        "output_dim = 10\n",
        "\n",
        "model = torch.nn.Sequential(\n",
        "    torch.nn.Linear(input_dim, hidden_dim),\n",
        "    torch.nn.Sigmoid(),\n",
        "    torch.nn.Linear(hidden_dim, output_dim),\n",
        ")\n",
        "learning_rate = 0.01\n",
        "optimizer = torch.optim.SGD(model.parameters(), lr = learning_rate)\n",
        "training_results = train(model, criterion, train_loader, validation_loader, optimizer, epochs = 10)\n",
        "plot_accuracy_loss(training_results)\n",
        "-->\n"
      ]
    },
    {
      "cell_type": "markdown",
      "metadata": {
        "id": "794925b9-5b76-48e7-80a0-d3b5a9b85156"
      },
      "source": [
        "\n",
        "<a href=\"https://dataplatform.cloud.ibm.com/registration/stepone?utm_source=skills_network&utm_content=in_lab_content_link&utm_id=Lab-IBMDeveloperSkillsNetwork-DL0110EN-SkillsNetwork&context=cpdaas&apps=data_science_experience%2Cwatson_machine_learning\"><img src=\"https://cf-courses-data.s3.us.cloud-object-storage.appdomain.cloud/IBMDeveloperSkillsNetwork-DL0110EN-SkillsNetwork/Template/module%201/images/Watson_Studio.png\"></a>\n"
      ]
    },
    {
      "cell_type": "markdown",
      "metadata": {
        "id": "9840a007-e387-48ec-b373-d02e35f065b0"
      },
      "source": [
        "<!--Empty Space for separating topics-->\n"
      ]
    },
    {
      "cell_type": "markdown",
      "metadata": {
        "id": "0f33d84b-790c-40f7-b512-214195d56d77"
      },
      "source": [
        "<h2>About the Authors:</h2>\n",
        "\n",
        "<a href=\"https://www.linkedin.com/in/joseph-s-50398b136/\">Joseph Santarcangelo</a> has a PhD in Electrical Engineering, his research focused on using machine learning, signal processing, and computer vision to determine how videos impact human cognition. Joseph has been working for IBM since he completed his PhD.\n"
      ]
    },
    {
      "cell_type": "markdown",
      "metadata": {
        "id": "6d06d698-728b-439b-8aed-0d321fb387dc"
      },
      "source": [
        "Other contributors: <a href=\"https://www.linkedin.com/in/michelleccarey/\">Michelle Carey</a>, <a href=\"https://www.linkedin.com/in/jiahui-mavis-zhou-a4537814a\">Mavis Zhou</a>\n"
      ]
    },
    {
      "cell_type": "markdown",
      "metadata": {
        "id": "175a49fc-6098-43fc-a8f0-e84c82c888bf"
      },
      "source": [
        "<!--\n",
        "## Change Log\n",
        "\n",
        "|  Date (YYYY-MM-DD) |  Version | Changed By  |  Change Description |\n",
        "|---|---|---|---|\n",
        "| 2020-09-23  | 2.0  | Shubham  |  Migrated Lab to Markdown and added to course repo in GitLab |\n",
        "-->\n"
      ]
    },
    {
      "cell_type": "markdown",
      "metadata": {
        "id": "aa47ff4f-6ac9-4ff4-9b31-2984fd75c50f"
      },
      "source": [
        "<hr>\n"
      ]
    },
    {
      "cell_type": "markdown",
      "metadata": {
        "id": "ba908f17-f69c-403d-88c6-617d5762ea0d"
      },
      "source": [
        "\n",
        "\n",
        "\n",
        "## <h3 align=\"center\"> &#169; IBM Corporation. All rights reserved. <h3/>\n"
      ]
    }
  ],
  "metadata": {
    "kernelspec": {
      "display_name": "Python",
      "language": "python",
      "name": "conda-env-python-py"
    },
    "language_info": {
      "name": "python",
      "version": "3.7.12",
      "mimetype": "text/x-python",
      "codemirror_mode": {
        "name": "ipython",
        "version": 3
      },
      "pygments_lexer": "ipython3",
      "nbconvert_exporter": "python",
      "file_extension": ".py"
    },
    "prev_pub_hash": "1e34c38a1f888b90606106c7754bb2a3701f24cf757893feee6499e49d3c2289",
    "colab": {
      "provenance": [],
      "include_colab_link": true
    }
  },
  "nbformat": 4,
  "nbformat_minor": 0
}