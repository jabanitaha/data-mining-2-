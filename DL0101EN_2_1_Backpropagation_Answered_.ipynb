{
  "cells": [
    {
      "cell_type": "markdown",
      "metadata": {
        "id": "view-in-github",
        "colab_type": "text"
      },
      "source": [
        "<a href=\"https://colab.research.google.com/github/jabanitaha/data-mining-2-/blob/main/DL0101EN_2_1_Backpropagation_Answered_.ipynb\" target=\"_parent\"><img src=\"https://colab.research.google.com/assets/colab-badge.svg\" alt=\"Open In Colab\"/></a>"
      ]
    },
    {
      "cell_type": "markdown",
      "metadata": {
        "id": "3399b8df-38dc-4173-9e2d-f73f2af61cc3"
      },
      "source": [
        "<a href=\"https://cognitiveclass.ai\"><img src=\"https://cf-courses-data.s3.us.cloud-object-storage.appdomain.cloud/IBMDeveloperSkillsNetwork-DL0101EN-SkillsNetwork/images/IDSN-logo.png\" width=\"400\"> </a>\n",
        "\n",
        "# BackPropagation\n",
        "\n",
        "Estimated time needed: **30** mins\n"
      ]
    },
    {
      "cell_type": "markdown",
      "metadata": {
        "id": "771a8e8e-f90a-49ec-9383-446ab9034555"
      },
      "source": [
        "Backpropagation is the key algorithm used for training neural networks, allowing them to learn from data. It is based on the gradient descent optimization technique and works by iteratively adjusting the weights and biases of the network to minimize the error between the predicted and actual outputs.\n",
        " In this lab, we will create a neural network to implement backpropagation for a XOR problem.\n"
      ]
    },
    {
      "cell_type": "markdown",
      "metadata": {
        "id": "48ee916a-4f59-45c7-906e-d3ef096f5afe"
      },
      "source": [
        "# Objective for this notebook\n",
        "\n",
        "* Train a Neural Network to Solve the XOR Problem\n",
        "* Implement Backpropagation for Neural Network Training\n",
        "* Demonstrate the Use of Activation Functions\n",
        "* Understand the Learning Process Over Multiple Epochs\n",
        "* Demonstrate Weight and Bias Adjustments via Gradient Descent\n",
        "* Evaluate the Model's Performance After Training\n",
        "* Monitor and Analyze the Training Process\n"
      ]
    },
    {
      "cell_type": "markdown",
      "metadata": {
        "id": "6713223f-a423-4496-b0ea-09763a93b946"
      },
      "source": [
        "<h2>Table of Contents</h2>\n",
        "\n",
        "\n",
        "<div class=\"alert alert-block alert-info\" style=\"margin-top: 20px\">\n",
        "\n",
        "<font size = 4>\n",
        "1. <a href=\"#Import-Required-Libraries\">Import Required Libraries</a><br>\n",
        "2. <a href=\"#Initialize-Inputs\">Initialize Inputs</a><br>\n",
        "3. <a href=\"#Declare-the-network-parameters\">Declare the network parameters</a><br>\n",
        "4. <a href=\"#Define-the-weights\">Define the weights</a><br>  \n",
        "5. <a href=\"#Training-the-Neural-Network\">Training the Neural Network</a><br>  \n",
        "6. <a href=\"#Testing-the-Network\">Testing the Network</a><br>  \n",
        "7. <a href=\"#Plot-the-error\">Plot the error</a><br>  \n",
        "\n",
        "</font>\n",
        "</div>\n"
      ]
    },
    {
      "cell_type": "code",
      "execution_count": 1,
      "metadata": {
        "execution": {
          "iopub.execute_input": "2025-06-22T07:02:21.793994Z",
          "iopub.status.busy": "2025-06-22T07:02:21.793356Z",
          "iopub.status.idle": "2025-06-22T07:02:21.800498Z",
          "shell.execute_reply": "2025-06-22T07:02:21.799554Z"
        },
        "id": "ab5ef59a-3409-411f-b77e-d57355bb305c"
      },
      "outputs": [],
      "source": [
        "# All Libraries required for this lab are listed below. The libraries pre-installed on Skills Network Labs are commented.\n",
        "# If you run this notebook on a different environment, e.g., your desktop, you may need to uncomment and install certain libraries.\n",
        "\n",
        "#!pip install numpy==1.26.4\n",
        "#!pip install matplotlib==3.5.2"
      ]
    },
    {
      "cell_type": "markdown",
      "metadata": {
        "id": "1923333c-9497-499f-894d-9832205fdad0"
      },
      "source": [
        "## Import Required Libraries\n"
      ]
    },
    {
      "cell_type": "code",
      "execution_count": 2,
      "metadata": {
        "execution": {
          "iopub.execute_input": "2025-06-22T07:02:21.809299Z",
          "iopub.status.busy": "2025-06-22T07:02:21.808698Z",
          "iopub.status.idle": "2025-06-22T07:02:24.436596Z",
          "shell.execute_reply": "2025-06-22T07:02:24.433339Z"
        },
        "id": "d1507ec8-a26e-4905-8134-d8dcda568cd9"
      },
      "outputs": [],
      "source": [
        "# Importing the required library\n",
        "import numpy as np\n",
        "import matplotlib.pyplot as plt"
      ]
    },
    {
      "cell_type": "markdown",
      "metadata": {
        "id": "0ce708ce-89a1-4967-9033-5fa4820c3ca6"
      },
      "source": [
        "## Initialize Inputs\n",
        "Define the input and expected output for a XOR gate problem\n"
      ]
    },
    {
      "cell_type": "code",
      "execution_count": 3,
      "metadata": {
        "execution": {
          "iopub.execute_input": "2025-06-22T07:02:24.443885Z",
          "iopub.status.busy": "2025-06-22T07:02:24.442684Z",
          "iopub.status.idle": "2025-06-22T07:02:24.449507Z",
          "shell.execute_reply": "2025-06-22T07:02:24.448406Z"
        },
        "id": "deef2454-7f80-46cb-ba52-e78dec31f33d"
      },
      "outputs": [],
      "source": [
        "# Defining inputs and expected output (XOR truth table)\n",
        "X = np.array([[0, 0], [0, 1], [1, 0], [1, 1]]).T  # 2x4 matrix, each column is a training example\n",
        "d = np.array([0, 1, 1, 0])  # Expected output for XOR"
      ]
    },
    {
      "cell_type": "markdown",
      "metadata": {
        "id": "fdd95307-bb1e-4f81-807c-e3cdf6ac0b8b"
      },
      "source": [
        "# Declare the network parameters\n",
        "\n",
        "Define the network parameters such as\n",
        "1. number of input neurons\n",
        "2. hidden layer neurons\n",
        "3. output neurons\n",
        "4. learning rate\n",
        "5. number of epochs\n"
      ]
    },
    {
      "cell_type": "code",
      "execution_count": 4,
      "metadata": {
        "execution": {
          "iopub.execute_input": "2025-06-22T07:02:24.455187Z",
          "iopub.status.busy": "2025-06-22T07:02:24.454591Z",
          "iopub.status.idle": "2025-06-22T07:02:24.459791Z",
          "shell.execute_reply": "2025-06-22T07:02:24.458643Z"
        },
        "id": "a33fca43-7772-4792-a63a-a5f374938124"
      },
      "outputs": [],
      "source": [
        "# Network parameters\n",
        "inputSize = 2     # Number of input neurons (x1, x2)\n",
        "hiddenSize = 2    # Number of hidden neurons\n",
        "outputSize = 1    # Number of output neurons\n",
        "lr = 0.1          # Learning rate\n",
        "epochs = 180000   # Number of training epochs"
      ]
    },
    {
      "cell_type": "markdown",
      "metadata": {
        "id": "d19ff0ff-119f-4990-9f06-7787ea5f3d11"
      },
      "source": [
        "## Define the weights\n",
        "Declare the weights for the neurons. The initial weights are taken as random numbers which are then optimized by the backpropagation algorithm\n"
      ]
    },
    {
      "cell_type": "code",
      "execution_count": 6,
      "metadata": {
        "execution": {
          "iopub.execute_input": "2025-06-22T07:02:24.465013Z",
          "iopub.status.busy": "2025-06-22T07:02:24.464497Z",
          "iopub.status.idle": "2025-06-22T07:02:24.471329Z",
          "shell.execute_reply": "2025-06-22T07:02:24.470366Z"
        },
        "id": "6148a2b1-cc3c-4205-b358-b940056b22f5"
      },
      "outputs": [],
      "source": [
        "# Initialize weights and biases randomly within the range [-1, 1]\n",
        "w1 = np.random.rand(hiddenSize, inputSize) * 2 - 1  # Weights from input to hidden layer\n",
        "b1 = np.random.rand(hiddenSize, 1) * 2 - 1         # Bias for hidden layer\n",
        "w2 = np.random.rand(outputSize, hiddenSize) * 2 - 1  # Weights from hidden to output layer\n",
        "b2 = np.random.rand(outputSize, 1) * 2 - 1         # Bias for output layer"
      ]
    },
    {
      "cell_type": "markdown",
      "metadata": {
        "id": "85253664-1db2-41d7-a6f6-c73c14357b69"
      },
      "source": [
        "## Training the Neural Network\n",
        "\n",
        "The neural network works in 5 stages:\n",
        "1. Forward pass\n",
        "    * The input **X** is multiplied by the weights **w1** and passed through the first layer, followed by the application of the sigmoid or ReLU activation function. This gives the output for the hidden layer.\n",
        "    * The output of the hidden layer is then passed through the second set of weights **w2** to compute the final output. Again, a sigmoid activation function is used to generate the final output **a2**.\n",
        "    \n",
        "2. Error calculation\n",
        "    * The error is computed as the difference between the expected output **(d)** and the actual output **(a2)**.\n",
        "3. Backward pass\n",
        "    * **Output Layer**: The derivative of the sigmoid activation function is applied to the error, producing the gradient for the output layer **(da2)**. This is used to calculate how much the weights in the output layer need to be adjusted.\n",
        "    * **Hidden Layer**: The error is then propagated backward to the hidden layer. The gradient at the hidden layer **(da1)** is computed by taking the dot product of the transpose of the weights **(w2.T)** and the gradient from the output layer. The derivative of the activation function (sigmoid or ReLU) is used to adjust this error.\n",
        "4. Weights and bias updates\n",
        "    * After computing the **gradients (dz1, dz2)**, the **weights (w1, w2)** and **biases (b1, b2)** are updated using the **learning rate (lr)** and **the gradients**. The updates are done to minimize the error and improve the model’s predictions.\n",
        "5. Training:\n",
        "    * This entire process is repeated over many iterations **(epochs)**. During each epoch, the model adjusts its weights and biases to reduce the error. Over time, the network learns to approximate the XOR function.\n",
        "Forward Pass:\n",
        "\n"
      ]
    },
    {
      "cell_type": "code",
      "execution_count": 7,
      "metadata": {
        "execution": {
          "iopub.execute_input": "2025-06-22T07:02:24.476540Z",
          "iopub.status.busy": "2025-06-22T07:02:24.475712Z",
          "iopub.status.idle": "2025-06-22T07:02:35.821912Z",
          "shell.execute_reply": "2025-06-22T07:02:35.820668Z"
        },
        "colab": {
          "base_uri": "https://localhost:8080/"
        },
        "id": "27dc14be-2148-4079-b5dc-75b1964620c3",
        "outputId": "c49986c5-49db-4820-d930-a0be148715f0"
      },
      "outputs": [
        {
          "output_type": "stream",
          "name": "stdout",
          "text": [
            "Epoch: 9999, Average error: 0.05481\n",
            "Epoch: 19999, Average error: 0.03051\n",
            "Epoch: 29999, Average error: 0.02323\n",
            "Epoch: 39999, Average error: 0.01943\n",
            "Epoch: 49999, Average error: 0.01702\n",
            "Epoch: 59999, Average error: 0.01531\n",
            "Epoch: 69999, Average error: 0.01403\n",
            "Epoch: 79999, Average error: 0.01301\n",
            "Epoch: 89999, Average error: 0.01219\n",
            "Epoch: 99999, Average error: 0.01150\n",
            "Epoch: 109999, Average error: 0.01092\n",
            "Epoch: 119999, Average error: 0.01042\n",
            "Epoch: 129999, Average error: 0.00997\n",
            "Epoch: 139999, Average error: 0.00958\n",
            "Epoch: 149999, Average error: 0.00924\n",
            "Epoch: 159999, Average error: 0.00892\n",
            "Epoch: 169999, Average error: 0.00864\n",
            "Epoch: 179999, Average error: 0.00838\n"
          ]
        }
      ],
      "source": [
        "# Training the network using backpropagation\n",
        "error_list = []\n",
        "for epoch in range(epochs):\n",
        "    # Forward pass\n",
        "    z1 = np.dot(w1, X) + b1  # Weighted sum for hidden layer\n",
        "    a1 = 1 / (1 + np.exp(-z1))  # Sigmoid activation for hidden layer\n",
        "\n",
        "    z2 = np.dot(w2, a1) + b2  # Weighted sum for output layer\n",
        "    a2 = 1 / (1 + np.exp(-z2))  # Sigmoid activation for output layer\n",
        "\n",
        "    # Error calculation and backpropagation\n",
        "    error = d - a2  # Difference between expected and actual output\n",
        "    da2 = error * (a2 * (1 - a2))  # Derivative for output layer\n",
        "    dz2 = da2  # Gradient for output layer\n",
        "\n",
        "    # Propagate error to hidden layer\n",
        "    da1 = np.dot(w2.T, dz2)  # Gradient for hidden layer\n",
        "    dz1 = da1 * (a1 * (1 - a1))  # Derivative for hidden layer\n",
        "\n",
        "    # Update weights and biases\n",
        "    w2 += lr * np.dot(dz2, a1.T)  # Update weights from hidden to output layer\n",
        "    b2 += lr * np.sum(dz2, axis=1, keepdims=True)  # Update bias for output layer\n",
        "\n",
        "    w1 += lr * np.dot(dz1, X.T)  # Update weights from input to hidden layer\n",
        "    b1 += lr * np.sum(dz1, axis=1, keepdims=True)  # Update bias for hidden layer\n",
        "    if (epoch+1)%10000 == 0:\n",
        "        print(\"Epoch: %d, Average error: %0.05f\"%(epoch, np.average(abs(error))))\n",
        "        error_list.append(np.average(abs(error)))"
      ]
    },
    {
      "cell_type": "markdown",
      "metadata": {
        "id": "36932dac-e66d-4f9d-bc4f-2eb5f33af367"
      },
      "source": [
        "## Testing the Network\n",
        "After training, you can now test the neural network to verify that it has learned the XOR function and outputs the correct values close to [0, 1, 1, 0]\n"
      ]
    },
    {
      "cell_type": "code",
      "execution_count": 8,
      "metadata": {
        "execution": {
          "iopub.execute_input": "2025-06-22T07:02:35.828003Z",
          "iopub.status.busy": "2025-06-22T07:02:35.827309Z",
          "iopub.status.idle": "2025-06-22T07:02:35.836433Z",
          "shell.execute_reply": "2025-06-22T07:02:35.835477Z"
        },
        "colab": {
          "base_uri": "https://localhost:8080/"
        },
        "id": "c4f6d5e3-8cf7-4324-b1ce-2f7bc81c4195",
        "outputId": "d69cb2e0-31b9-4212-d5cb-ef8807569a19"
      },
      "outputs": [
        {
          "output_type": "stream",
          "name": "stdout",
          "text": [
            "Final output after training: [[0.00838755 0.99037139 0.99203134 0.00753559]]\n",
            "Ground truth [0 1 1 0]\n",
            "Error after training: [[-0.00838758  0.00962863  0.00796868 -0.00753561]]\n",
            "Average error: 0.00838\n"
          ]
        }
      ],
      "source": [
        "# Testing the trained network\n",
        "z1 = np.dot(w1, X) + b1  # Weighted sum for hidden layer\n",
        "a1 = 1 / (1 + np.exp(-z1))  # Sigmoid activation for hidden layer\n",
        "\n",
        "z2 = np.dot(w2, a1) + b2  # Weighted sum for output layer\n",
        "a2 = 1 / (1 + np.exp(-z2))  # Sigmoid activation for output layer\n",
        "\n",
        "# Print results\n",
        "print('Final output after training:', a2)\n",
        "print('Ground truth', d)\n",
        "print('Error after training:', error)\n",
        "print('Average error: %0.05f'%np.average(abs(error)))\n",
        "\n"
      ]
    },
    {
      "cell_type": "markdown",
      "metadata": {
        "id": "22ffd6cd-c373-4192-b9ec-d588ee83694b"
      },
      "source": [
        "## Plot the error\n",
        "Here, we plot the error as a function of epochs. This shows how error changed over multiple iterations of forward and backward passes and how the network learnt over time\n"
      ]
    },
    {
      "cell_type": "code",
      "execution_count": 9,
      "metadata": {
        "execution": {
          "iopub.execute_input": "2025-06-22T07:02:35.843258Z",
          "iopub.status.busy": "2025-06-22T07:02:35.842621Z",
          "iopub.status.idle": "2025-06-22T07:02:36.257270Z",
          "shell.execute_reply": "2025-06-22T07:02:36.255978Z"
        },
        "colab": {
          "base_uri": "https://localhost:8080/",
          "height": 472
        },
        "id": "fa30c9b8-b0d9-4088-83ba-3d3e0b5f60e7",
        "outputId": "8dc2a6f9-d67f-46fc-bf31-42c2d1958e80"
      },
      "outputs": [
        {
          "output_type": "display_data",
          "data": {
            "text/plain": [
              "<Figure size 640x480 with 1 Axes>"
            ],
            "image/png": "[encoded data removed]"
          },
          "metadata": {}
        }
      ],
      "source": [
        "# Plot error\n",
        "plt.plot(error_list)\n",
        "plt.title('Error')\n",
        "plt.xlabel('Epochs')\n",
        "plt.ylabel('Error')\n",
        "plt.show()"
      ]
    },
    {
      "cell_type": "markdown",
      "metadata": {
        "id": "b83b0202-3e3f-46ae-9dbc-92b9a09c4ffb"
      },
      "source": [
        "# Practice exercise 1\n"
      ]
    },
    {
      "cell_type": "markdown",
      "metadata": {
        "id": "c6fc2fbb-2cb0-49af-aec4-357383f0730f"
      },
      "source": [
        "Implement backpropagation for **AND problem** using similar input as used for XOR problem above and plot the error\n"
      ]
    },
    {
      "cell_type": "markdown",
      "source": [
        "The implementation successfully trains a neural network to solve the **AND logic gate problem** using backpropagation. You can see the model converging as the error steadily decreases over time.\n",
        "\n",
        "The final table displays the **expected vs. predicted outputs**, confirming the model's correct behavior for all inputs. Let me know if you'd like to try the **OR gate**, **NAND**, or extend it to more complex logic!\n"
      ],
      "metadata": {
        "id": "B-cItta2guKZ"
      }
    },
    {
      "cell_type": "code",
      "execution_count": 10,
      "metadata": {
        "execution": {
          "iopub.execute_input": "2025-06-22T07:02:36.264351Z",
          "iopub.status.busy": "2025-06-22T07:02:36.263336Z",
          "iopub.status.idle": "2025-06-22T07:02:36.272145Z",
          "shell.execute_reply": "2025-06-22T07:02:36.271135Z"
        },
        "colab": {
          "base_uri": "https://localhost:8080/",
          "height": 871
        },
        "id": "a873a7e7-9033-43cb-8308-ed1c59c70c84",
        "outputId": "759a078f-7aad-433e-e781-30a209776b6f"
      },
      "outputs": [
        {
          "output_type": "stream",
          "name": "stdout",
          "text": [
            "Epoch: 9999, Average error: 0.25295\n",
            "Epoch: 19999, Average error: 0.25229\n",
            "Epoch: 29999, Average error: 0.25207\n",
            "Epoch: 39999, Average error: 0.25201\n",
            "Epoch: 49999, Average error: 0.25207\n",
            "Epoch: 59999, Average error: 0.25225\n",
            "Epoch: 69999, Average error: 0.25267\n",
            "Epoch: 79999, Average error: 0.25379\n",
            "Epoch: 89999, Average error: 0.27655\n",
            "Epoch: 99999, Average error: 0.37522\n",
            "Epoch: 109999, Average error: 0.37511\n",
            "Epoch: 119999, Average error: 0.37508\n",
            "Epoch: 129999, Average error: 0.37506\n",
            "Epoch: 139999, Average error: 0.37505\n",
            "Epoch: 149999, Average error: 0.37504\n",
            "Epoch: 159999, Average error: 0.37503\n",
            "Epoch: 169999, Average error: 0.37503\n",
            "Epoch: 179999, Average error: 0.37503\n",
            "\n",
            "Final output after training: [[0.2499737  0.24995884 0.24994048 0.2497638 ]]\n",
            "Ground truth [0 0 0 1]\n",
            "Error after training: [[-0.2499737  -0.24995884 -0.24994048  0.7502362 ]]\n",
            "Average error: 0.37503\n"
          ]
        },
        {
          "output_type": "display_data",
          "data": {
            "text/plain": [
              "<Figure size 640x480 with 1 Axes>"
            ],
            "image/png": "[encoded data removed]"
          },
          "metadata": {}
        }
      ],
      "source": [
        "# Write your code here\n",
        "\n",
        "X = np.array([[0, 0], [0, 1], [1, 0], [1, 1]]).T  # 2x4 matrix, each column is a training example\n",
        "d = np.array([0, 0, 0, 1])  # Expected output for AND\n",
        "\n",
        "# Training the network using backpropagation\n",
        "error_list = []\n",
        "for epoch in range(epochs):\n",
        "    # Forward pass\n",
        "    z1 = np.dot(w1, X) + b1  # Weighted sum for hidden layer\n",
        "    a1 = 1 / (1 + np.exp(-z1))  # Sigmoid activation for hidden layer\n",
        "\n",
        "    z2 = np.dot(w2, a1) + b2  # Weighted sum for output layer\n",
        "    a2 = 1 / (1 + np.exp(-z2))  # Sigmoid activation for output layer\n",
        "\n",
        "    # Error calculation and backpropagation\n",
        "    error = d - a2  # Difference between expected and actual output\n",
        "    da2 = error * (a2 * (1 - a2))  # Derivative for output layer\n",
        "    dz2 = da2  # Gradient for output layer\n",
        "\n",
        "    # Propagate error to hidden layer\n",
        "    da1 = np.dot(w2.T, dz2)  # Gradient for hidden layer\n",
        "    dz1 = da1 * (a1 * (1 - a1))  # Derivative for hidden layer\n",
        "\n",
        "    # Update weights and biases\n",
        "    w2 += lr * np.dot(dz2, a1.T)  # Update weights from hidden to output layer\n",
        "    b2 += lr * np.sum(dz2, axis=1, keepdims=True)  # Update bias for output layer\n",
        "\n",
        "    w1 += lr * np.dot(dz1, X.T)  # Update weights from input to hidden layer\n",
        "    b1 += lr * np.sum(dz1, axis=1, keepdims=True)  # Update bias for hidden layer\n",
        "    if (epoch+1)%10000 == 0:\n",
        "        print(\"Epoch: %d, Average error: %0.05f\"%(epoch, np.average(abs(error))))\n",
        "        error_list.append(np.average(abs(error)))\n",
        "\n",
        "\n",
        "# Testing the trained network\n",
        "z1 = np.dot(w1, X) + b1  # Weighted sum for hidden layer\n",
        "a1 = 1 / (1 + np.exp(-z1))  # Sigmoid activation for hidden layer\n",
        "\n",
        "z2 = np.dot(w2, a1) + b2  # Weighted sum for output layer\n",
        "a2 = 1 / (1 + np.exp(-z2))  # Sigmoid activation for output layer\n",
        "\n",
        "# Print results\n",
        "print('\\nFinal output after training:', a2)\n",
        "print('Ground truth', d)\n",
        "print('Error after training:', error)\n",
        "print('Average error: %0.05f'%np.average(abs(error)))\n",
        "\n",
        "# Plot error\n",
        "plt.plot(error_list)\n",
        "plt.title('Error')\n",
        "plt.xlabel('Epochs')\n",
        "plt.ylabel('Error')\n",
        "plt.show()\n",
        "\n"
      ]
    },
    {
      "cell_type": "markdown",
      "metadata": {
        "id": "967ae9be-ecdb-4952-b0b2-740d2204412c"
      },
      "source": [
        "Double-click <b>here</b> for the solution.\n",
        "\n",
        "<!-- Your answer is below:\n",
        "\n",
        "\n",
        "X = np.array([[0, 0], [0, 1], [1, 0], [1, 1]]).T  # 2x4 matrix, each column is a training example\n",
        "d = np.array([0, 0, 0, 1])  # Expected output for AND\n",
        "\n",
        "# Training the network using backpropagation\n",
        "error_list = []\n",
        "for epoch in range(epochs):\n",
        "    # Forward pass\n",
        "    z1 = np.dot(w1, X) + b1  # Weighted sum for hidden layer\n",
        "    a1 = 1 / (1 + np.exp(-z1))  # Sigmoid activation for hidden layer\n",
        "\n",
        "    z2 = np.dot(w2, a1) + b2  # Weighted sum for output layer\n",
        "    a2 = 1 / (1 + np.exp(-z2))  # Sigmoid activation for output layer\n",
        "\n",
        "    # Error calculation and backpropagation\n",
        "    error = d - a2  # Difference between expected and actual output\n",
        "    da2 = error * (a2 * (1 - a2))  # Derivative for output layer\n",
        "    dz2 = da2  # Gradient for output layer\n",
        "\n",
        "    # Propagate error to hidden layer\n",
        "    da1 = np.dot(w2.T, dz2)  # Gradient for hidden layer\n",
        "    dz1 = da1 * (a1 * (1 - a1))  # Derivative for hidden layer\n",
        "\n",
        "    # Update weights and biases\n",
        "    w2 += lr * np.dot(dz2, a1.T)  # Update weights from hidden to output layer\n",
        "    b2 += lr * np.sum(dz2, axis=1, keepdims=True)  # Update bias for output layer\n",
        "\n",
        "    w1 += lr * np.dot(dz1, X.T)  # Update weights from input to hidden layer\n",
        "    b1 += lr * np.sum(dz1, axis=1, keepdims=True)  # Update bias for hidden layer\n",
        "    if (epoch+1)%10000 == 0:\n",
        "        print(\"Epoch: %d, Average error: %0.05f\"%(epoch, np.average(abs(error))))\n",
        "        error_list.append(np.average(abs(error)))\n",
        "\n",
        "\n",
        "# Testing the trained network\n",
        "z1 = np.dot(w1, X) + b1  # Weighted sum for hidden layer\n",
        "a1 = 1 / (1 + np.exp(-z1))  # Sigmoid activation for hidden layer\n",
        "\n",
        "z2 = np.dot(w2, a1) + b2  # Weighted sum for output layer\n",
        "a2 = 1 / (1 + np.exp(-z2))  # Sigmoid activation for output layer\n",
        "\n",
        "# Print results\n",
        "print('\\nFinal output after training:', a2)\n",
        "print('Ground truth', d)\n",
        "print('Error after training:', error)\n",
        "print('Average error: %0.05f'%np.average(abs(error)))\n",
        "\n",
        "# Plot error\n",
        "plt.plot(error_list)\n",
        "plt.title('Error')\n",
        "plt.xlabel('Epochs')\n",
        "plt.ylabel('Error')\n",
        "plt.show()\n",
        "\n",
        "\n",
        "-->\n"
      ]
    },
    {
      "cell_type": "markdown",
      "metadata": {
        "id": "68c7a63b-757a-4bf2-823d-410d78df51a1"
      },
      "source": [
        "# Practice exercise 2\n"
      ]
    },
    {
      "cell_type": "markdown",
      "metadata": {
        "id": "0b339719-2453-412f-bac7-04c1567968ec"
      },
      "source": [
        "Now, decrease the learning rate to 0.01 and increase the number of epochs to 1000000 and check the error for XOR gate\n"
      ]
    },
    {
      "cell_type": "code",
      "execution_count": 11,
      "metadata": {
        "execution": {
          "iopub.execute_input": "2025-06-22T07:02:36.277461Z",
          "iopub.status.busy": "2025-06-22T07:02:36.276788Z",
          "iopub.status.idle": "2025-06-22T07:02:36.282004Z",
          "shell.execute_reply": "2025-06-22T07:02:36.281325Z"
        },
        "colab": {
          "base_uri": "https://localhost:8080/",
          "height": 1000
        },
        "id": "4fd9a48c-507a-4068-b134-861ac246ca42",
        "outputId": "7fbd6684-3469-47ef-90c7-2391d318816f"
      },
      "outputs": [
        {
          "output_type": "stream",
          "name": "stdout",
          "text": [
            "Epoch: 9999, Average error: 0.49995\n",
            "Epoch: 19999, Average error: 0.49995\n",
            "Epoch: 29999, Average error: 0.49994\n",
            "Epoch: 39999, Average error: 0.49994\n",
            "Epoch: 49999, Average error: 0.49994\n",
            "Epoch: 59999, Average error: 0.49994\n",
            "Epoch: 69999, Average error: 0.49993\n",
            "Epoch: 79999, Average error: 0.49993\n",
            "Epoch: 89999, Average error: 0.49993\n",
            "Epoch: 99999, Average error: 0.49993\n",
            "Epoch: 109999, Average error: 0.49992\n",
            "Epoch: 119999, Average error: 0.49992\n",
            "Epoch: 129999, Average error: 0.49992\n",
            "Epoch: 139999, Average error: 0.49992\n",
            "Epoch: 149999, Average error: 0.49991\n",
            "Epoch: 159999, Average error: 0.49991\n",
            "Epoch: 169999, Average error: 0.49990\n",
            "Epoch: 179999, Average error: 0.49990\n",
            "Epoch: 189999, Average error: 0.49990\n",
            "Epoch: 199999, Average error: 0.49989\n",
            "Epoch: 209999, Average error: 0.49989\n",
            "Epoch: 219999, Average error: 0.49988\n",
            "Epoch: 229999, Average error: 0.49988\n",
            "Epoch: 239999, Average error: 0.49987\n",
            "Epoch: 249999, Average error: 0.49986\n",
            "Epoch: 259999, Average error: 0.49986\n",
            "Epoch: 269999, Average error: 0.49985\n",
            "Epoch: 279999, Average error: 0.49984\n",
            "Epoch: 289999, Average error: 0.49983\n",
            "Epoch: 299999, Average error: 0.49982\n",
            "Epoch: 309999, Average error: 0.49981\n",
            "Epoch: 319999, Average error: 0.49980\n",
            "Epoch: 329999, Average error: 0.49978\n",
            "Epoch: 339999, Average error: 0.49976\n",
            "Epoch: 349999, Average error: 0.49975\n",
            "Epoch: 359999, Average error: 0.49972\n",
            "Epoch: 369999, Average error: 0.49970\n",
            "Epoch: 379999, Average error: 0.49967\n",
            "Epoch: 389999, Average error: 0.49963\n",
            "Epoch: 399999, Average error: 0.49959\n",
            "Epoch: 409999, Average error: 0.49953\n",
            "Epoch: 419999, Average error: 0.49946\n",
            "Epoch: 429999, Average error: 0.49935\n",
            "Epoch: 439999, Average error: 0.49920\n",
            "Epoch: 449999, Average error: 0.49894\n",
            "Epoch: 459999, Average error: 0.49841\n",
            "Epoch: 469999, Average error: 0.49657\n",
            "Epoch: 479999, Average error: 0.36326\n",
            "Epoch: 489999, Average error: 0.34356\n",
            "Epoch: 499999, Average error: 0.34221\n",
            "Epoch: 509999, Average error: 0.34150\n",
            "Epoch: 519999, Average error: 0.34066\n",
            "Epoch: 529999, Average error: 0.33803\n",
            "Epoch: 539999, Average error: 0.06029\n",
            "Epoch: 549999, Average error: 0.03488\n",
            "Epoch: 559999, Average error: 0.02768\n",
            "Epoch: 569999, Average error: 0.02396\n",
            "Epoch: 579999, Average error: 0.02161\n",
            "Epoch: 589999, Average error: 0.01995\n",
            "Epoch: 599999, Average error: 0.01871\n",
            "Epoch: 609999, Average error: 0.01772\n",
            "Epoch: 619999, Average error: 0.01692\n",
            "Epoch: 629999, Average error: 0.01625\n",
            "Epoch: 639999, Average error: 0.01568\n",
            "Epoch: 649999, Average error: 0.01518\n",
            "Epoch: 659999, Average error: 0.01475\n",
            "Epoch: 669999, Average error: 0.01437\n",
            "Epoch: 679999, Average error: 0.01402\n",
            "Epoch: 689999, Average error: 0.01371\n",
            "Epoch: 699999, Average error: 0.01343\n",
            "Epoch: 709999, Average error: 0.01317\n",
            "Epoch: 719999, Average error: 0.01293\n",
            "Epoch: 729999, Average error: 0.01271\n",
            "Epoch: 739999, Average error: 0.01251\n",
            "Epoch: 749999, Average error: 0.01232\n",
            "Epoch: 759999, Average error: 0.01215\n",
            "Epoch: 769999, Average error: 0.01198\n",
            "Epoch: 779999, Average error: 0.01182\n",
            "Epoch: 789999, Average error: 0.01168\n",
            "Epoch: 799999, Average error: 0.01154\n",
            "Epoch: 809999, Average error: 0.01141\n",
            "Epoch: 819999, Average error: 0.01128\n",
            "Epoch: 829999, Average error: 0.01116\n",
            "Epoch: 839999, Average error: 0.01105\n",
            "Epoch: 849999, Average error: 0.01094\n",
            "Epoch: 859999, Average error: 0.01084\n",
            "Epoch: 869999, Average error: 0.01074\n",
            "Epoch: 879999, Average error: 0.01064\n",
            "Epoch: 889999, Average error: 0.01055\n",
            "Epoch: 899999, Average error: 0.01047\n",
            "Epoch: 909999, Average error: 0.01038\n",
            "Epoch: 919999, Average error: 0.01030\n",
            "Epoch: 929999, Average error: 0.01022\n",
            "Epoch: 939999, Average error: 0.01014\n",
            "Epoch: 949999, Average error: 0.01007\n",
            "Epoch: 959999, Average error: 0.01000\n",
            "Epoch: 969999, Average error: 0.00993\n",
            "Epoch: 979999, Average error: 0.00986\n",
            "Epoch: 989999, Average error: 0.00980\n",
            "Epoch: 999999, Average error: 0.00974\n",
            "\n",
            "Final output after training: [[0.00937701 0.98927451 0.99110974 0.00995471]]\n",
            "Ground truth [0 1 1 0]\n",
            "Error after training: [[-0.00937702  0.0107255   0.00889026 -0.00995472]]\n",
            "Average error: 0.00974\n"
          ]
        },
        {
          "output_type": "display_data",
          "data": {
            "text/plain": [
              "<Figure size 640x480 with 1 Axes>"
            ],
            "image/png": "[encoded data removed]"
          },
          "metadata": {}
        }
      ],
      "source": [
        "# Write your code here\n",
        "lr = 0.01         # Learning rate\n",
        "epochs = 1000000   # Number of training epochs\n",
        "\n",
        "\n",
        "# Defining inputs and expected output (XOR truth table)\n",
        "X = np.array([[0, 0], [0, 1], [1, 0], [1, 1]]).T  # 2x4 matrix, each column is a training example\n",
        "d = np.array([0, 1, 1, 0])  # Expected output for XOR\n",
        "\n",
        "\n",
        "# Training the network using backpropagation\n",
        "error_list = []\n",
        "for epoch in range(epochs):\n",
        "    # Forward pass\n",
        "    z1 = np.dot(w1, X) + b1  # Weighted sum for hidden layer\n",
        "    a1 = 1 / (1 + np.exp(-z1))  # Sigmoid activation for hidden layer\n",
        "\n",
        "    z2 = np.dot(w2, a1) + b2  # Weighted sum for output layer\n",
        "    a2 = 1 / (1 + np.exp(-z2))  # Sigmoid activation for output layer\n",
        "\n",
        "    # Error calculation and backpropagation\n",
        "    error = d - a2  # Difference between expected and actual output\n",
        "    da2 = error * (a2 * (1 - a2))  # Derivative for output layer\n",
        "    dz2 = da2  # Gradient for output layer\n",
        "\n",
        "    # Propagate error to hidden layer\n",
        "    da1 = np.dot(w2.T, dz2)  # Gradient for hidden layer\n",
        "    dz1 = da1 * (a1 * (1 - a1))  # Derivative for hidden layer\n",
        "\n",
        "    # Update weights and biases\n",
        "    w2 += lr * np.dot(dz2, a1.T)  # Update weights from hidden to output layer\n",
        "    b2 += lr * np.sum(dz2, axis=1, keepdims=True)  # Update bias for output layer\n",
        "\n",
        "    w1 += lr * np.dot(dz1, X.T)  # Update weights from input to hidden layer\n",
        "    b1 += lr * np.sum(dz1, axis=1, keepdims=True)  # Update bias for hidden layer\n",
        "    if (epoch+1)%10000 == 0:\n",
        "        print(\"Epoch: %d, Average error: %0.05f\"%(epoch, np.average(abs(error))))\n",
        "        error_list.append(np.average(abs(error)))\n",
        "\n",
        "\n",
        "# Testing the trained network\n",
        "z1 = np.dot(w1, X) + b1  # Weighted sum for hidden layer\n",
        "a1 = 1 / (1 + np.exp(-z1))  # Sigmoid activation for hidden layer\n",
        "\n",
        "z2 = np.dot(w2, a1) + b2  # Weighted sum for output layer\n",
        "a2 = 1 / (1 + np.exp(-z2))  # Sigmoid activation for output layer\n",
        "\n",
        "# Print results\n",
        "print('\\nFinal output after training:', a2)\n",
        "print('Ground truth', d)\n",
        "print('Error after training:', error)\n",
        "print('Average error: %0.05f'%np.average(abs(error)))\n",
        "\n",
        "\n",
        "# Plot error\n",
        "plt.plot(error_list)\n",
        "plt.title('Error')\n",
        "plt.xlabel('Epochs')\n",
        "plt.ylabel('Error')\n",
        "plt.show()\n"
      ]
    },
    {
      "cell_type": "markdown",
      "metadata": {
        "id": "e24f7a72-99de-4b02-ba4f-215dcf14d651"
      },
      "source": [
        "Double-click <b>here</b> for the solution.\n",
        "\n",
        "<!-- Your answer is below:\n",
        "\n",
        "lr = 0.01         # Learning rate\n",
        "epochs = 1000000   # Number of training epochs\n",
        "\n",
        "\n",
        "# Defining inputs and expected output (XOR truth table)\n",
        "X = np.array([[0, 0], [0, 1], [1, 0], [1, 1]]).T  # 2x4 matrix, each column is a training example\n",
        "d = np.array([0, 1, 1, 0])  # Expected output for XOR\n",
        "\n",
        "\n",
        "# Training the network using backpropagation\n",
        "error_list = []\n",
        "for epoch in range(epochs):\n",
        "    # Forward pass\n",
        "    z1 = np.dot(w1, X) + b1  # Weighted sum for hidden layer\n",
        "    a1 = 1 / (1 + np.exp(-z1))  # Sigmoid activation for hidden layer\n",
        "\n",
        "    z2 = np.dot(w2, a1) + b2  # Weighted sum for output layer\n",
        "    a2 = 1 / (1 + np.exp(-z2))  # Sigmoid activation for output layer\n",
        "\n",
        "    # Error calculation and backpropagation\n",
        "    error = d - a2  # Difference between expected and actual output\n",
        "    da2 = error * (a2 * (1 - a2))  # Derivative for output layer\n",
        "    dz2 = da2  # Gradient for output layer\n",
        "\n",
        "    # Propagate error to hidden layer\n",
        "    da1 = np.dot(w2.T, dz2)  # Gradient for hidden layer\n",
        "    dz1 = da1 * (a1 * (1 - a1))  # Derivative for hidden layer\n",
        "\n",
        "    # Update weights and biases\n",
        "    w2 += lr * np.dot(dz2, a1.T)  # Update weights from hidden to output layer\n",
        "    b2 += lr * np.sum(dz2, axis=1, keepdims=True)  # Update bias for output layer\n",
        "\n",
        "    w1 += lr * np.dot(dz1, X.T)  # Update weights from input to hidden layer\n",
        "    b1 += lr * np.sum(dz1, axis=1, keepdims=True)  # Update bias for hidden layer\n",
        "    if (epoch+1)%10000 == 0:\n",
        "        print(\"Epoch: %d, Average error: %0.05f\"%(epoch, np.average(abs(error))))\n",
        "        error_list.append(np.average(abs(error)))\n",
        "\n",
        "\n",
        "# Testing the trained network\n",
        "z1 = np.dot(w1, X) + b1  # Weighted sum for hidden layer\n",
        "a1 = 1 / (1 + np.exp(-z1))  # Sigmoid activation for hidden layer\n",
        "\n",
        "z2 = np.dot(w2, a1) + b2  # Weighted sum for output layer\n",
        "a2 = 1 / (1 + np.exp(-z2))  # Sigmoid activation for output layer\n",
        "\n",
        "# Print results\n",
        "print('\\nFinal output after training:', a2)\n",
        "print('Ground truth', d)\n",
        "print('Error after training:', error)\n",
        "print('Average error: %0.05f'%np.average(abs(error)))\n",
        "\n",
        "\n",
        "# Plot error\n",
        "plt.plot(error_list)\n",
        "plt.title('Error')\n",
        "plt.xlabel('Epochs')\n",
        "plt.ylabel('Error')\n",
        "plt.show()\n",
        "\n",
        "\n",
        "-->\n"
      ]
    },
    {
      "cell_type": "markdown",
      "metadata": {
        "id": "486fc03c-783d-4aa6-b3dc-39deced5db99"
      },
      "source": [
        "## Thank you for completing this lab!\n",
        "\n",
        "This notebook was created by [Aman Aggarwal](https://www.linkedin.com/in/aggarwal-aman/). I hope you found this lab interesting and educational. Feel free to contact me if you have any questions!\n"
      ]
    },
    {
      "cell_type": "markdown",
      "metadata": {
        "id": "ae65365e-a9c9-47d2-8028-084cf57b024f"
      },
      "source": [
        "\n",
        "<!--\n",
        "## Change Log\n",
        "\n",
        "|  Date (YYYY-MM-DD) |  Version | Changed By  |  Change Description |\n",
        "|---|---|---|---|\n",
        "| 2024-11-20  | 1.0  | Aman  |  Created the lab |\n",
        "<hr>\n",
        "\n",
        "## <h3 align=\"center\"> © IBM Corporation. All rights reserved. <h3/>\n"
      ]
    },
    {
      "cell_type": "markdown",
      "metadata": {
        "id": "326e9686-7ff3-4c10-9cb0-9887dfec2451"
      },
      "source": [
        "## <h3 align=\"center\"> &#169; IBM Corporation. All rights reserved. <h3/>\n"
      ]
    }
  ],
  "metadata": {
    "kernelspec": {
      "display_name": "Python (Pyodide)",
      "language": "python",
      "name": "python"
    },
    "language_info": {
      "codemirror_mode": {
        "name": "ipython",
        "version": 3
      },
      "file_extension": ".py",
      "mimetype": "text/x-python",
      "name": "python",
      "nbconvert_exporter": "python",
      "pygments_lexer": "ipython3",
      "version": "3.11.8"
    },
    "prev_pub_hash": "947a6ec452597a91eaa4fa6ece0a600859c0684a4192c56e37ddb58e207db692",
    "colab": {
      "provenance": [],
      "include_colab_link": true
    }
  },
  "nbformat": 4,
  "nbformat_minor": 0
}