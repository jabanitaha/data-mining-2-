{
  "cells": [
    {
      "cell_type": "markdown",
      "metadata": {
        "id": "view-in-github",
        "colab_type": "text"
      },
      "source": [
        "<a href=\"https://colab.research.google.com/github/jabanitaha/data-mining-2-/blob/main/DL0101EN_3_2_Classification_with_Keras_Answered_.ipynb\" target=\"_parent\"><img src=\"https://colab.research.google.com/assets/colab-badge.svg\" alt=\"Open In Colab\"/></a>"
      ]
    },
    {
      "cell_type": "markdown",
      "metadata": {
        "id": "877d17af-9b93-4534-8163-2adf7dc490e7"
      },
      "source": [
        "<a href=\"https://cognitiveclass.ai/?utm_medium=Exinfluencer&utm_source=Exinfluencer&utm_content=000026UJ&utm_term=10006555&utm_id=NA-SkillsNetwork-Channel-SkillsNetworkCoursesIBMDeveloperSkillsNetworkDL0101ENSkillsNetwork945-2022-01-01\"><img src=\"https://cf-courses-data.s3.us.cloud-object-storage.appdomain.cloud/IBMDeveloperSkillsNetwork-DL0101EN-SkillsNetwork/images/IDSN-logo.png\" width=\"400\"> </a>\n",
        "\n",
        "<h1 align=center><font size = 5>Classification Models with Keras</font></h1>\n"
      ]
    },
    {
      "cell_type": "markdown",
      "metadata": {
        "id": "5c9ec1fa-3bcf-44bc-965d-b0a3e65bfefc"
      },
      "source": [
        "## Introduction\n"
      ]
    },
    {
      "cell_type": "markdown",
      "metadata": {
        "id": "0a75eb65-fed6-4769-bf2a-8dafae0acdf9"
      },
      "source": [
        "In this lab, we will learn how to use the Keras library to build models for classificaiton problems. We will use the popular MNIST dataset, a dataset of images, for a change.\n",
        "\n",
        "The <strong>MNIST database</strong>, short for Modified National Institute of Standards and Technology database, is a large database of handwritten digits that is commonly used for training various image processing systems. The database is also widely used for training and testing in the field of machine learning.\n",
        "    \n",
        "The MNIST database contains 60,000 training images and 10,000 testing images of digits written by high school students and employees of the United States Census Bureau.\n",
        "\n",
        "Also, this way, will get to compare how conventional neural networks compare to convolutional neural networks, that we will build in the next module.\n"
      ]
    },
    {
      "cell_type": "markdown",
      "metadata": {
        "id": "ffd6d98b-7add-438c-a2dc-53543d386794"
      },
      "source": [
        "<h2>Classification Models with Keras</h2>\n",
        "\n",
        "<h3>Objective for this Notebook<h3>    \n",
        "<h5> 1. Use of MNIST database for training various image processing systems</h5>\n",
        "<h5> 2. Build a Neural Network </h5>\n",
        "<h5> 3. Train and Test the Network. </h5>\n",
        "\n",
        "<p>This link will be used by your peers to assess your project. In your web app, your peers will be able to upload an image, which will then be classified using your custom classifier you connected to the web app. Your project will be graded by how accurately your app can classify <b>Fire</b>, <b>Smoke</b> and <b>Neutral (No Fire or Smoke)</b>.<p>\n"
      ]
    },
    {
      "cell_type": "markdown",
      "metadata": {
        "id": "889d50b2-1117-400d-8850-1678e63f207f"
      },
      "source": [
        "## Table of Contents\n",
        "\n",
        "<div class=\"alert alert-block alert-info\" style=\"margin-top: 20px\">\n",
        "\n",
        "<font size = 3>\n",
        "\n",
        "1. <a href=\"#item312\">Import Keras and Packages</a>      \n",
        "2. <a href=\"#item322\">Build a Neural Network</a>     \n",
        "3. <a href=\"#item332\">Train and Test the Network</a>     \n",
        "\n",
        "</font>\n",
        "</div>\n"
      ]
    },
    {
      "cell_type": "markdown",
      "metadata": {
        "id": "070374e1-ea05-4c71-9c09-70afcee8e002"
      },
      "source": [
        "<a id='item312'></a>\n"
      ]
    },
    {
      "cell_type": "markdown",
      "metadata": {
        "id": "04cb5309-8b73-4ee3-bc33-6f98e6c6d5ea"
      },
      "source": [
        "## Import Keras and Packages\n"
      ]
    },
    {
      "cell_type": "markdown",
      "metadata": {
        "id": "b2807a39-4997-483b-8658-fa0b51064053"
      },
      "source": [
        "Let's start by importing Keras and some of its modules.\n"
      ]
    },
    {
      "cell_type": "code",
      "metadata": {
        "id": "851d3009-7c45-4a08-99c6-4dce1b2a7a02"
      },
      "outputs": [],
      "source": [
        "# All Libraries required for this lab are listed below. The libraries pre-installed on Skills Network Labs are commented.\n",
        "# If you run this notebook on a different environment, e.g. your desktop, you may need to uncomment and install certain libraries.\n",
        "\n",
        "#!pip install numpy==1.21.4\n",
        "#!pip install pandas==1.3.4\n",
        "#!pip install keras==2.1.6\n",
        "#!pip install matplotlib==3.5.0"
      ],
      "execution_count": 1
    },
    {
      "cell_type": "code",
      "metadata": {
        "id": "83b22757-26ef-4bd1-a2c6-6144f6c843a7"
      },
      "outputs": [],
      "source": [
        "import keras\n",
        "\n",
        "from keras.models import Sequential\n",
        "from keras.layers import Dense\n",
        "from keras.utils import to_categorical"
      ],
      "execution_count": 2
    },
    {
      "cell_type": "markdown",
      "metadata": {
        "id": "7342f733-ccb1-4c6a-a2e2-7ae92242281a"
      },
      "source": [
        "Since we are dealing we images, let's also import the Matplotlib scripting layer in order to view the images.\n"
      ]
    },
    {
      "cell_type": "code",
      "metadata": {
        "id": "a4d8f324-7a70-4f0d-85f1-fe396b6f8cc4"
      },
      "outputs": [],
      "source": [
        "import matplotlib.pyplot as plt"
      ],
      "execution_count": 3
    },
    {
      "cell_type": "markdown",
      "metadata": {
        "id": "3a0c2cad-6769-443b-b73a-dc5d0bb5b98e"
      },
      "source": [
        "The Keras library conveniently includes the MNIST dataset as part of its API. You can check other datasets within the Keras library [here](https://keras.io/datasets/?utm_medium=Exinfluencer&utm_source=Exinfluencer&utm_content=000026UJ&utm_term=10006555&utm_id=NA-SkillsNetwork-Channel-SkillsNetworkCoursesIBMDeveloperSkillsNetworkDL0101ENSkillsNetwork945-2022-01-01).\n",
        "\n",
        "So, let's load the MNIST dataset from the Keras library. The dataset is readily divided into a training set and a test set.\n"
      ]
    },
    {
      "cell_type": "code",
      "metadata": {
        "colab": {
          "base_uri": "https://localhost:8080/"
        },
        "id": "f7033ea0-c156-4a14-accf-180e26b6ea42",
        "outputId": "fe55f80e-332a-4fd8-df82-57e318c857b8"
      },
      "outputs": [
        {
          "output_type": "stream",
          "name": "stdout",
          "text": [
            "Downloading data from https://storage.googleapis.com/tensorflow/tf-keras-datasets/mnist.npz\n",
            "\u001b[1m11490434/11490434\u001b[0m \u001b[32m━━━━━━━━━━━━━━━━━━━━\u001b[0m\u001b[37m\u001b[0m \u001b[1m0s\u001b[0m 0us/step\n"
          ]
        }
      ],
      "source": [
        "# import the data\n",
        "from keras.datasets import mnist\n",
        "\n",
        "# read the data\n",
        "(X_train, y_train), (X_test, y_test) = mnist.load_data()"
      ],
      "execution_count": 4
    },
    {
      "cell_type": "markdown",
      "metadata": {
        "id": "eb6294b9-bfce-4067-a9e3-90c45de142a7"
      },
      "source": [
        "Let's confirm the number of images in each set. According to the dataset's documentation, we should have 60000 images in X_train and 10000 images in the X_test.\n"
      ]
    },
    {
      "cell_type": "code",
      "metadata": {
        "colab": {
          "base_uri": "https://localhost:8080/"
        },
        "id": "73e7608c-3f34-4651-b8c5-51654400f8a1",
        "outputId": "ad313c7d-8d6f-4c21-84cd-cd6676b6c9ab"
      },
      "outputs": [
        {
          "output_type": "execute_result",
          "data": {
            "text/plain": [
              "(60000, 28, 28)"
            ]
          },
          "metadata": {},
          "execution_count": 5
        }
      ],
      "source": [
        "X_train.shape"
      ],
      "execution_count": 5
    },
    {
      "cell_type": "markdown",
      "metadata": {
        "id": "c8583d62-acec-4c71-b339-1e6e23bb7abc"
      },
      "source": [
        "The first number in the output tuple is the number of images, and the other two numbers are the size of the images in datset. So, each image is 28 pixels by 28 pixels.\n"
      ]
    },
    {
      "cell_type": "markdown",
      "metadata": {
        "id": "b5b7c56a-4f99-476e-be99-0646b13d4d02"
      },
      "source": [
        "Let's visualize the first image in the training set using Matplotlib's scripting layer.\n"
      ]
    },
    {
      "cell_type": "code",
      "metadata": {
        "colab": {
          "base_uri": "https://localhost:8080/",
          "height": 447
        },
        "id": "1c672f04-f79d-4354-835d-40cce8035e53",
        "outputId": "50ae36fa-f8b4-4488-c989-e764288c1940"
      },
      "outputs": [
        {
          "output_type": "execute_result",
          "data": {
            "text/plain": [
              "<matplotlib.image.AxesImage at 0x780021e6d850>"
            ]
          },
          "metadata": {},
          "execution_count": 6
        },
        {
          "output_type": "display_data",
          "data": {
            "text/plain": [
              "<Figure size 640x480 with 1 Axes>"
            ],
            "image/png": "[encoded data removed]"
          },
          "metadata": {}
        }
      ],
      "source": [
        "plt.imshow(X_train[0])"
      ],
      "execution_count": 6
    },
    {
      "cell_type": "markdown",
      "metadata": {
        "id": "40cf8f85-4826-48c9-af77-e5e35d8b4bd0"
      },
      "source": [
        "With conventional neural networks, we cannot feed in the image as input as is. So we need to flatten the images into one-dimensional vectors, each of size 1 x (28 x 28) = 1 x 784.\n"
      ]
    },
    {
      "cell_type": "code",
      "metadata": {
        "id": "4b400ce0-07a1-4fd8-ae7c-7fd8d8bb701f"
      },
      "outputs": [],
      "source": [
        "# flatten images into one-dimensional vector\n",
        "\n",
        "num_pixels = X_train.shape[1] * X_train.shape[2] # find size of one-dimensional vector\n",
        "\n",
        "X_train = X_train.reshape(X_train.shape[0], num_pixels).astype('float32') # flatten training images\n",
        "X_test = X_test.reshape(X_test.shape[0], num_pixels).astype('float32') # flatten test images"
      ],
      "execution_count": 7
    },
    {
      "cell_type": "markdown",
      "metadata": {
        "id": "41d73cc8-9523-4df9-b2f0-4161172cd85b"
      },
      "source": [
        "Since pixel values can range from 0 to 255, let's normalize the vectors to be between 0 and 1.\n"
      ]
    },
    {
      "cell_type": "code",
      "metadata": {
        "id": "423fbf2a-6f56-4d14-8d78-5c794ef0d977"
      },
      "outputs": [],
      "source": [
        "# normalize inputs from 0-255 to 0-1\n",
        "X_train = X_train / 255\n",
        "X_test = X_test / 255"
      ],
      "execution_count": 8
    },
    {
      "cell_type": "markdown",
      "metadata": {
        "id": "6578c204-30db-402a-af8d-3a25b181e9fb"
      },
      "source": [
        "Finally, before we start building our model, remember that for classification we need to divide our target variable into categories. We use the to_categorical function from the Keras Utilities package.\n"
      ]
    },
    {
      "cell_type": "code",
      "metadata": {
        "colab": {
          "base_uri": "https://localhost:8080/"
        },
        "id": "d2cf1708-ab81-4055-ba61-796ea2305f71",
        "outputId": "43f83809-6781-4bc5-ffc6-30cb3e3b4cec"
      },
      "outputs": [
        {
          "output_type": "stream",
          "name": "stdout",
          "text": [
            "10\n"
          ]
        }
      ],
      "source": [
        "# one hot encode outputs\n",
        "y_train = to_categorical(y_train)\n",
        "y_test = to_categorical(y_test)\n",
        "\n",
        "num_classes = y_test.shape[1]\n",
        "print(num_classes)"
      ],
      "execution_count": 9
    },
    {
      "cell_type": "markdown",
      "metadata": {
        "id": "829c6f73-0d93-4689-9f2f-b1c219fd7a27"
      },
      "source": [
        "<a id='item322'></a>\n"
      ]
    },
    {
      "cell_type": "markdown",
      "metadata": {
        "id": "c45ab845-8ed9-45c1-ab98-f0b459336211"
      },
      "source": [
        "## Build a Neural Network\n"
      ]
    },
    {
      "cell_type": "code",
      "metadata": {
        "id": "7fda3388-0933-4cb8-876b-b390b8a3fcd5"
      },
      "outputs": [],
      "source": [
        "# define classification model\n",
        "def classification_model():\n",
        "    # create model\n",
        "    model = Sequential()\n",
        "    model.add(Dense(num_pixels, activation='relu', input_shape=(num_pixels,)))\n",
        "    model.add(Dense(100, activation='relu'))\n",
        "    model.add(Dense(num_classes, activation='softmax'))\n",
        "\n",
        "\n",
        "    # compile model\n",
        "    model.compile(optimizer='adam', loss='categorical_crossentropy', metrics=['accuracy'])\n",
        "    return model"
      ],
      "execution_count": 10
    },
    {
      "cell_type": "markdown",
      "metadata": {
        "id": "5690098b-54da-4575-838d-2b4bb0706049"
      },
      "source": [
        "<a id='item332'></a>\n"
      ]
    },
    {
      "cell_type": "markdown",
      "metadata": {
        "id": "dbc54f7f-b0bc-4af6-ab8f-8ffba65d56e8"
      },
      "source": [
        "## Train and Test the Network\n"
      ]
    },
    {
      "cell_type": "code",
      "metadata": {
        "colab": {
          "base_uri": "https://localhost:8080/"
        },
        "id": "7c3ce34a-7d96-4b73-a9d6-a3e6a24b584f",
        "outputId": "f51bb598-3773-4f68-88f9-d31bc2e3ee77"
      },
      "outputs": [
        {
          "output_type": "stream",
          "name": "stderr",
          "text": [
            "/usr/local/lib/python3.11/dist-packages/keras/src/layers/core/dense.py:87: UserWarning: Do not pass an `input_shape`/`input_dim` argument to a layer. When using Sequential models, prefer using an `Input(shape)` object as the first layer in the model instead.\n",
            "  super().__init__(activity_regularizer=activity_regularizer, **kwargs)\n"
          ]
        },
        {
          "output_type": "stream",
          "name": "stdout",
          "text": [
            "Epoch 1/10\n",
            "1875/1875 - 25s - 13ms/step - accuracy: 0.9436 - loss: 0.1856 - val_accuracy: 0.9685 - val_loss: 0.1024\n",
            "Epoch 2/10\n",
            "1875/1875 - 41s - 22ms/step - accuracy: 0.9749 - loss: 0.0788 - val_accuracy: 0.9747 - val_loss: 0.0787\n",
            "Epoch 3/10\n",
            "1875/1875 - 24s - 13ms/step - accuracy: 0.9825 - loss: 0.0544 - val_accuracy: 0.9790 - val_loss: 0.0771\n",
            "Epoch 4/10\n",
            "1875/1875 - 41s - 22ms/step - accuracy: 0.9872 - loss: 0.0395 - val_accuracy: 0.9790 - val_loss: 0.0731\n",
            "Epoch 5/10\n",
            "1875/1875 - 41s - 22ms/step - accuracy: 0.9894 - loss: 0.0319 - val_accuracy: 0.9788 - val_loss: 0.0813\n",
            "Epoch 6/10\n",
            "1875/1875 - 23s - 12ms/step - accuracy: 0.9916 - loss: 0.0255 - val_accuracy: 0.9799 - val_loss: 0.0779\n",
            "Epoch 7/10\n",
            "1875/1875 - 22s - 12ms/step - accuracy: 0.9919 - loss: 0.0232 - val_accuracy: 0.9786 - val_loss: 0.0852\n",
            "Epoch 8/10\n",
            "1875/1875 - 41s - 22ms/step - accuracy: 0.9939 - loss: 0.0192 - val_accuracy: 0.9786 - val_loss: 0.0941\n",
            "Epoch 9/10\n",
            "1875/1875 - 42s - 22ms/step - accuracy: 0.9945 - loss: 0.0170 - val_accuracy: 0.9810 - val_loss: 0.0843\n",
            "Epoch 10/10\n",
            "1875/1875 - 23s - 12ms/step - accuracy: 0.9951 - loss: 0.0148 - val_accuracy: 0.9810 - val_loss: 0.0863\n"
          ]
        }
      ],
      "source": [
        "# build the model\n",
        "model = classification_model()\n",
        "\n",
        "# fit the model\n",
        "model.fit(X_train, y_train, validation_data=(X_test, y_test), epochs=10, verbose=2)\n",
        "\n",
        "# evaluate the model\n",
        "scores = model.evaluate(X_test, y_test, verbose=0)"
      ],
      "execution_count": 11
    },
    {
      "cell_type": "markdown",
      "metadata": {
        "id": "d7346129-0871-4ed8-a0f9-d60b4a031436"
      },
      "source": [
        "Let's print the accuracy and the corresponding error.\n"
      ]
    },
    {
      "cell_type": "code",
      "metadata": {
        "colab": {
          "base_uri": "https://localhost:8080/"
        },
        "id": "1ca30118-1d39-475d-9282-fd94a063fe2b",
        "outputId": "492ed6e8-4086-40a8-e564-ca80be262e22"
      },
      "outputs": [
        {
          "output_type": "stream",
          "name": "stdout",
          "text": [
            "Accuracy: 0.9810000061988831% \n",
            " Error: 0.018999993801116943\n"
          ]
        }
      ],
      "source": [
        "print('Accuracy: {}% \\n Error: {}'.format(scores[1], 1 - scores[1]))"
      ],
      "execution_count": 12
    },
    {
      "cell_type": "markdown",
      "metadata": {
        "id": "e3b91ba3-1e16-4627-bb05-2af2dc677da6"
      },
      "source": [
        "Just running 10 epochs could actually take over 20 minutes. But enjoy the results as they are getting generated.\n"
      ]
    },
    {
      "cell_type": "markdown",
      "metadata": {
        "id": "988683a0-ba7b-4b83-8c02-248a9b6af698"
      },
      "source": [
        "Sometimes, you cannot afford to retrain your model everytime you want to use it, especially if you are limited on computational resources and training your model can take a long time. Therefore, with the Keras library, you can save your model after training. To do that, we use the save method.\n"
      ]
    },
    {
      "cell_type": "code",
      "metadata": {
        "colab": {
          "base_uri": "https://localhost:8080/"
        },
        "id": "c72b31e3-98ce-477f-a0f9-e12539e9296c",
        "outputId": "09e02426-390c-4164-c55a-afd7bb366aab"
      },
      "outputs": [
        {
          "output_type": "stream",
          "name": "stderr",
          "text": [
            "WARNING:absl:You are saving your model as an HDF5 file via `model.save()` or `keras.saving.save_model(model)`. This file format is considered legacy. We recommend using instead the native Keras format, e.g. `model.save('my_model.keras')` or `keras.saving.save_model(model, 'my_model.keras')`. \n"
          ]
        }
      ],
      "source": [
        "model.save('classification_model.h5')"
      ],
      "execution_count": 13
    },
    {
      "cell_type": "markdown",
      "metadata": {
        "id": "71b57c76-4672-43ff-a3a1-718f4a2d431d"
      },
      "source": [
        "Since our model contains multidimensional arrays of data, then models are usually saved as .h5 files.\n"
      ]
    },
    {
      "cell_type": "markdown",
      "metadata": {
        "id": "6c002e07-6613-4216-8592-d0bb380c158d"
      },
      "source": [
        "When you are ready to use your model again, you use the load_model function from <strong>keras.models</strong>.\n"
      ]
    },
    {
      "cell_type": "code",
      "metadata": {
        "id": "f565995e-4175-475c-96fc-87de6803dd66"
      },
      "outputs": [],
      "source": [
        "from keras.models import load_model"
      ],
      "execution_count": 14
    },
    {
      "cell_type": "code",
      "metadata": {
        "colab": {
          "base_uri": "https://localhost:8080/"
        },
        "id": "de31ca51-19f9-4fc7-b059-6aaefc697827",
        "outputId": "e86a4141-f1e0-4b96-adac-bd8f63197e48"
      },
      "outputs": [
        {
          "output_type": "stream",
          "name": "stderr",
          "text": [
            "WARNING:absl:Compiled the loaded model, but the compiled metrics have yet to be built. `model.compile_metrics` will be empty until you train or evaluate the model.\n"
          ]
        }
      ],
      "source": [
        "pretrained_model = load_model('classification_model.h5')"
      ],
      "execution_count": 15
    },
    {
      "cell_type": "markdown",
      "source": [
        "<h3>Practice Exercise 1</h3>\n",
        "\n",
        "Create a neural network model with 6 dense layers and compare its accuracy\n"
      ],
      "metadata": {
        "id": "bSL1uKyTVPes"
      }
    },
    {
      "cell_type": "code",
      "source": [
        "# Write your code here\n",
        "from keras.models import Sequential\n",
        "from keras.layers import Dense, Flatten\n",
        "from keras.utils import to_categorical\n",
        "from keras.datasets import mnist\n",
        "\n",
        "# Load and preprocess data\n",
        "(X_train, y_train), (X_test, y_test) = mnist.load_data()\n",
        "X_train = X_train / 255.0\n",
        "X_test = X_test / 255.0\n",
        "y_train = to_categorical(y_train)\n",
        "y_test = to_categorical(y_test)\n",
        "\n",
        "# Build model with 6 dense layers\n",
        "model = Sequential()\n",
        "model.add(Flatten(input_shape=(28, 28)))\n",
        "for _ in range(6):\n",
        "    model.add(Dense(64, activation='relu'))\n",
        "model.add(Dense(10, activation='softmax'))\n",
        "\n",
        "# Compile and train\n",
        "model.compile(optimizer='adam', loss='categorical_crossentropy', metrics=['accuracy'])\n",
        "model.fit(X_train, y_train, validation_data=(X_test, y_test), epochs=10, verbose=2)\n"
      ],
      "metadata": {
        "colab": {
          "base_uri": "https://localhost:8080/"
        },
        "id": "RfbX77gjVV2Y",
        "outputId": "36df2998-2091-4760-fe5d-b3420ea6eeee"
      },
      "execution_count": 16,
      "outputs": [
        {
          "output_type": "stream",
          "name": "stderr",
          "text": [
            "/usr/local/lib/python3.11/dist-packages/keras/src/layers/reshaping/flatten.py:37: UserWarning: Do not pass an `input_shape`/`input_dim` argument to a layer. When using Sequential models, prefer using an `Input(shape)` object as the first layer in the model instead.\n",
            "  super().__init__(**kwargs)\n"
          ]
        },
        {
          "output_type": "stream",
          "name": "stdout",
          "text": [
            "Epoch 1/10\n",
            "1875/1875 - 10s - 5ms/step - accuracy: 0.9060 - loss: 0.3048 - val_accuracy: 0.9571 - val_loss: 0.1401\n",
            "Epoch 2/10\n",
            "1875/1875 - 6s - 3ms/step - accuracy: 0.9586 - loss: 0.1407 - val_accuracy: 0.9563 - val_loss: 0.1389\n",
            "Epoch 3/10\n",
            "1875/1875 - 10s - 5ms/step - accuracy: 0.9670 - loss: 0.1090 - val_accuracy: 0.9700 - val_loss: 0.1083\n",
            "Epoch 4/10\n",
            "1875/1875 - 7s - 4ms/step - accuracy: 0.9732 - loss: 0.0885 - val_accuracy: 0.9699 - val_loss: 0.1013\n",
            "Epoch 5/10\n",
            "1875/1875 - 10s - 5ms/step - accuracy: 0.9767 - loss: 0.0765 - val_accuracy: 0.9713 - val_loss: 0.0965\n",
            "Epoch 6/10\n",
            "1875/1875 - 10s - 5ms/step - accuracy: 0.9798 - loss: 0.0660 - val_accuracy: 0.9707 - val_loss: 0.0960\n",
            "Epoch 7/10\n",
            "1875/1875 - 10s - 5ms/step - accuracy: 0.9818 - loss: 0.0586 - val_accuracy: 0.9697 - val_loss: 0.1028\n",
            "Epoch 8/10\n",
            "1875/1875 - 10s - 5ms/step - accuracy: 0.9838 - loss: 0.0525 - val_accuracy: 0.9721 - val_loss: 0.1098\n",
            "Epoch 9/10\n",
            "1875/1875 - 7s - 4ms/step - accuracy: 0.9852 - loss: 0.0481 - val_accuracy: 0.9688 - val_loss: 0.1243\n",
            "Epoch 10/10\n",
            "1875/1875 - 6s - 3ms/step - accuracy: 0.9873 - loss: 0.0432 - val_accuracy: 0.9738 - val_loss: 0.1012\n"
          ]
        },
        {
          "output_type": "execute_result",
          "data": {
            "text/plain": [
              "<keras.src.callbacks.history.History at 0x780021899110>"
            ]
          },
          "metadata": {},
          "execution_count": 16
        }
      ]
    },
    {
      "cell_type": "code",
      "source": [
        "#Double-click <b>here</b> for the solution.\n",
        "\n",
        "#<!-- Your answer is below:\n",
        "from keras.models import Sequential\n",
        "from keras.layers import Dense, Flatten\n",
        "from keras.datasets import mnist\n",
        "from keras.utils import to_categorical\n",
        "\n",
        "# Load data\n",
        "(X_train, y_train), (X_test, y_test) = mnist.load_data()\n",
        "X_train = X_train / 255.0\n",
        "X_test = X_test / 255.0\n",
        "y_train = to_categorical(y_train)\n",
        "y_test = to_categorical(y_test)\n",
        "\n",
        "# Define model with 6 dense layers\n",
        "def classification_model_6layers():\n",
        "    model = Sequential()\n",
        "    model.add(Flatten(input_shape=(28, 28)))  # Use Flatten instead of Input\n",
        "    model.add(Dense(100, activation='relu'))\n",
        "    model.add(Dense(100, activation='relu'))\n",
        "    model.add(Dense(100, activation='relu'))\n",
        "    model.add(Dense(100, activation='relu'))\n",
        "    model.add(Dense(100, activation='relu'))\n",
        "    model.add(Dense(100, activation='relu'))\n",
        "    model.add(Dense(10, activation='softmax'))  # 10 output classes\n",
        "    model.compile(optimizer='adam', loss='categorical_crossentropy', metrics=['accuracy'])\n",
        "    return model\n",
        "\n",
        "# Build, train, and evaluate\n",
        "model_6layers = classification_model_6layers()\n",
        "model_6layers.fit(X_train, y_train, validation_data=(X_test, y_test), epochs=10, verbose=2)\n",
        "scores_6layers = model_6layers.evaluate(X_test, y_test, verbose=0)\n",
        "\n",
        "print(\"✅ Accuracy_6_layers: {:.4f}\".format(scores_6layers[1]))\n",
        "\n",
        "\n",
        "\n",
        "\n",
        "\n"
      ],
      "metadata": {
        "colab": {
          "base_uri": "https://localhost:8080/"
        },
        "id": "uGCh7qo0cT1t",
        "outputId": "93fd41d1-2bfa-4a7f-cfcf-a167bdbd161c"
      },
      "execution_count": 26,
      "outputs": [
        {
          "output_type": "stream",
          "name": "stdout",
          "text": [
            "Epoch 1/10\n",
            "1875/1875 - 10s - 5ms/step - accuracy: 0.9173 - loss: 0.2713 - val_accuracy: 0.9557 - val_loss: 0.1487\n",
            "Epoch 2/10\n",
            "1875/1875 - 8s - 4ms/step - accuracy: 0.9634 - loss: 0.1231 - val_accuracy: 0.9619 - val_loss: 0.1335\n",
            "Epoch 3/10\n",
            "1875/1875 - 9s - 5ms/step - accuracy: 0.9723 - loss: 0.0943 - val_accuracy: 0.9676 - val_loss: 0.1126\n",
            "Epoch 4/10\n",
            "1875/1875 - 10s - 6ms/step - accuracy: 0.9780 - loss: 0.0759 - val_accuracy: 0.9683 - val_loss: 0.1233\n",
            "Epoch 5/10\n",
            "1875/1875 - 8s - 4ms/step - accuracy: 0.9803 - loss: 0.0652 - val_accuracy: 0.9667 - val_loss: 0.1116\n",
            "Epoch 6/10\n",
            "1875/1875 - 7s - 4ms/step - accuracy: 0.9834 - loss: 0.0556 - val_accuracy: 0.9754 - val_loss: 0.0975\n",
            "Epoch 7/10\n",
            "1875/1875 - 9s - 5ms/step - accuracy: 0.9851 - loss: 0.0502 - val_accuracy: 0.9723 - val_loss: 0.1015\n",
            "Epoch 8/10\n",
            "1875/1875 - 10s - 6ms/step - accuracy: 0.9870 - loss: 0.0418 - val_accuracy: 0.9762 - val_loss: 0.0981\n",
            "Epoch 9/10\n",
            "1875/1875 - 8s - 4ms/step - accuracy: 0.9877 - loss: 0.0401 - val_accuracy: 0.9773 - val_loss: 0.0887\n",
            "Epoch 10/10\n",
            "1875/1875 - 10s - 5ms/step - accuracy: 0.9897 - loss: 0.0346 - val_accuracy: 0.9789 - val_loss: 0.0950\n",
            "✅ Accuracy_6_layers: 0.9789\n"
          ]
        }
      ]
    },
    {
      "cell_type": "code",
      "source": [
        "from keras.models import Sequential\n",
        "from keras.layers import Dense, Flatten\n",
        "from keras.utils import to_categorical\n",
        "from keras.datasets import mnist\n",
        "\n",
        "# Load and preprocess the MNIST data\n",
        "(X_train, y_train), (X_test, y_test) = mnist.load_data()\n",
        "X_train, X_test = X_train / 255.0, X_test / 255.0\n",
        "y_train, y_test = to_categorical(y_train), to_categorical(y_test)\n",
        "\n",
        "# Build deep model with 6 dense hidden layers\n",
        "deep_model = Sequential()\n",
        "deep_model.add(Flatten(input_shape=(28, 28)))\n",
        "for _ in range(6):\n",
        "    deep_model.add(Dense(64, activation='relu'))\n",
        "deep_model.add(Dense(10, activation='softmax'))\n",
        "\n",
        "deep_model.compile(optimizer='adam', loss='categorical_crossentropy', metrics=['accuracy'])\n",
        "deep_model.fit(X_train, y_train, validation_data=(X_test, y_test), epochs=10, verbose=2)\n",
        "\n",
        "# Evaluate accuracy\n",
        "deep_loss, deep_acc = deep_model.evaluate(X_test, y_test, verbose=0)\n",
        "print(f\"6-Layer Model Accuracy: {deep_acc:.4f}\")\n"
      ],
      "metadata": {
        "colab": {
          "base_uri": "https://localhost:8080/"
        },
        "id": "wf0jr1NBXIRX",
        "outputId": "8a566581-0749-497d-8941-fded43b47e52"
      },
      "execution_count": 17,
      "outputs": [
        {
          "output_type": "stream",
          "name": "stdout",
          "text": [
            "Epoch 1/10\n",
            "1875/1875 - 10s - 5ms/step - accuracy: 0.9072 - loss: 0.2981 - val_accuracy: 0.9558 - val_loss: 0.1524\n",
            "Epoch 2/10\n",
            "1875/1875 - 9s - 5ms/step - accuracy: 0.9590 - loss: 0.1374 - val_accuracy: 0.9630 - val_loss: 0.1184\n",
            "Epoch 3/10\n",
            "1875/1875 - 7s - 4ms/step - accuracy: 0.9684 - loss: 0.1034 - val_accuracy: 0.9692 - val_loss: 0.0985\n",
            "Epoch 4/10\n",
            "1875/1875 - 10s - 5ms/step - accuracy: 0.9736 - loss: 0.0873 - val_accuracy: 0.9670 - val_loss: 0.1151\n",
            "Epoch 5/10\n",
            "1875/1875 - 6s - 3ms/step - accuracy: 0.9776 - loss: 0.0741 - val_accuracy: 0.9715 - val_loss: 0.0982\n",
            "Epoch 6/10\n",
            "1875/1875 - 7s - 4ms/step - accuracy: 0.9801 - loss: 0.0662 - val_accuracy: 0.9751 - val_loss: 0.0862\n",
            "Epoch 7/10\n",
            "1875/1875 - 10s - 5ms/step - accuracy: 0.9835 - loss: 0.0542 - val_accuracy: 0.9732 - val_loss: 0.0981\n",
            "Epoch 8/10\n",
            "1875/1875 - 6s - 3ms/step - accuracy: 0.9841 - loss: 0.0513 - val_accuracy: 0.9719 - val_loss: 0.1078\n",
            "Epoch 9/10\n",
            "1875/1875 - 7s - 4ms/step - accuracy: 0.9863 - loss: 0.0444 - val_accuracy: 0.9724 - val_loss: 0.1186\n",
            "Epoch 10/10\n",
            "1875/1875 - 6s - 3ms/step - accuracy: 0.9869 - loss: 0.0427 - val_accuracy: 0.9741 - val_loss: 0.0982\n",
            "6-Layer Model Accuracy: 0.9741\n"
          ]
        }
      ]
    },
    {
      "cell_type": "markdown",
      "source": [
        "<h3>Practice Exercise 2</h3>\n",
        "Now, load the the earlier saved model, train it further for 10 more epochs and check the accuracy\n"
      ],
      "metadata": {
        "id": "mbLYnDmaVWbc"
      }
    },
    {
      "cell_type": "code",
      "source": [
        "# Write your code here\n",
        "# Continue training the same model for 10 more epochs\n",
        "model.fit(X_train, y_train, validation_data=(X_test, y_test), epochs=10, verbose=2)\n",
        "\n",
        "# Evaluate final test accuracy\n",
        "loss, accuracy = model.evaluate(X_test, y_test, verbose=0)\n",
        "print(f\"Final Test Accuracy after extended training: {accuracy:.4f}\")\n"
      ],
      "metadata": {
        "colab": {
          "base_uri": "https://localhost:8080/"
        },
        "id": "VIWtKg8fVee9",
        "outputId": "5c76712a-b7f0-4911-a8e9-219104354f8e"
      },
      "execution_count": 18,
      "outputs": [
        {
          "output_type": "stream",
          "name": "stdout",
          "text": [
            "Epoch 1/10\n",
            "1875/1875 - 7s - 4ms/step - accuracy: 0.9871 - loss: 0.0427 - val_accuracy: 0.9743 - val_loss: 0.1071\n",
            "Epoch 2/10\n",
            "1875/1875 - 10s - 5ms/step - accuracy: 0.9884 - loss: 0.0382 - val_accuracy: 0.9696 - val_loss: 0.1166\n",
            "Epoch 3/10\n",
            "1875/1875 - 9s - 5ms/step - accuracy: 0.9889 - loss: 0.0349 - val_accuracy: 0.9745 - val_loss: 0.1040\n",
            "Epoch 4/10\n",
            "1875/1875 - 7s - 4ms/step - accuracy: 0.9903 - loss: 0.0323 - val_accuracy: 0.9677 - val_loss: 0.1374\n",
            "Epoch 5/10\n",
            "1875/1875 - 10s - 6ms/step - accuracy: 0.9906 - loss: 0.0303 - val_accuracy: 0.9760 - val_loss: 0.1074\n",
            "Epoch 6/10\n",
            "1875/1875 - 10s - 5ms/step - accuracy: 0.9910 - loss: 0.0301 - val_accuracy: 0.9752 - val_loss: 0.1110\n",
            "Epoch 7/10\n",
            "1875/1875 - 9s - 5ms/step - accuracy: 0.9915 - loss: 0.0279 - val_accuracy: 0.9741 - val_loss: 0.1096\n",
            "Epoch 8/10\n",
            "1875/1875 - 7s - 4ms/step - accuracy: 0.9919 - loss: 0.0266 - val_accuracy: 0.9776 - val_loss: 0.1114\n",
            "Epoch 9/10\n",
            "1875/1875 - 10s - 6ms/step - accuracy: 0.9928 - loss: 0.0239 - val_accuracy: 0.9732 - val_loss: 0.1287\n",
            "Epoch 10/10\n",
            "1875/1875 - 6s - 3ms/step - accuracy: 0.9926 - loss: 0.0240 - val_accuracy: 0.9765 - val_loss: 0.1132\n",
            "Final Test Accuracy after extended training: 0.9765\n"
          ]
        }
      ]
    },
    {
      "cell_type": "markdown",
      "source": [
        "Great! Let’s directly compare 5 dense layers vs. 6 dense layers in a neural network model, both trained on the same dataset (e.g., MNIST). We’ll compare their test accuracy after training.\n",
        "\n"
      ],
      "metadata": {
        "id": "7upnXqjJXaUM"
      }
    },
    {
      "cell_type": "code",
      "source": [
        "#✅ Common Setup (Data Preparation)\n",
        "from keras.models import Sequential\n",
        "from keras.layers import Dense, Flatten\n",
        "from keras.utils import to_categorical\n",
        "from keras.datasets import mnist\n",
        "\n",
        "# Load and preprocess data\n",
        "(X_train, y_train), (X_test, y_test) = mnist.load_data()\n",
        "X_train, X_test = X_train / 255.0, X_test / 255.0\n",
        "y_train, y_test = to_categorical(y_train), to_categorical(y_test)\n",
        "\n"
      ],
      "metadata": {
        "id": "wz4wXXEqXd-R"
      },
      "execution_count": 19,
      "outputs": []
    },
    {
      "cell_type": "markdown",
      "source": [
        "🔵 Model A: 5 Dense Layers\n"
      ],
      "metadata": {
        "id": "pEt0I7CDXmIG"
      }
    },
    {
      "cell_type": "code",
      "source": [
        "model_5 = Sequential()\n",
        "model_5.add(Flatten(input_shape=(28, 28)))\n",
        "for _ in range(5):\n",
        "    model_5.add(Dense(64, activation='relu'))\n",
        "model_5.add(Dense(10, activation='softmax'))\n",
        "\n",
        "model_5.compile(optimizer='adam', loss='categorical_crossentropy', metrics=['accuracy'])\n",
        "model_5.fit(X_train, y_train, validation_data=(X_test, y_test), epochs=10, verbose=2)\n",
        "\n",
        "loss_5, acc_5 = model_5.evaluate(X_test, y_test, verbose=0)\n",
        "print(f\"🟦 Accuracy with 5 Dense Layers: {acc_5:.4f}\")\n"
      ],
      "metadata": {
        "colab": {
          "base_uri": "https://localhost:8080/"
        },
        "id": "RQ4qBY-rXqkB",
        "outputId": "249610e8-e376-4305-e98e-0fef1899cfd4"
      },
      "execution_count": 20,
      "outputs": [
        {
          "output_type": "stream",
          "name": "stdout",
          "text": [
            "Epoch 1/10\n",
            "1875/1875 - 9s - 5ms/step - accuracy: 0.9151 - loss: 0.2790 - val_accuracy: 0.9559 - val_loss: 0.1384\n",
            "Epoch 2/10\n",
            "1875/1875 - 11s - 6ms/step - accuracy: 0.9621 - loss: 0.1271 - val_accuracy: 0.9645 - val_loss: 0.1198\n",
            "Epoch 3/10\n",
            "1875/1875 - 6s - 3ms/step - accuracy: 0.9707 - loss: 0.0969 - val_accuracy: 0.9674 - val_loss: 0.1071\n",
            "Epoch 4/10\n",
            "1875/1875 - 6s - 3ms/step - accuracy: 0.9761 - loss: 0.0781 - val_accuracy: 0.9695 - val_loss: 0.1115\n",
            "Epoch 5/10\n",
            "1875/1875 - 6s - 3ms/step - accuracy: 0.9787 - loss: 0.0692 - val_accuracy: 0.9698 - val_loss: 0.1009\n",
            "Epoch 6/10\n",
            "1875/1875 - 10s - 5ms/step - accuracy: 0.9824 - loss: 0.0579 - val_accuracy: 0.9723 - val_loss: 0.0923\n",
            "Epoch 7/10\n",
            "1875/1875 - 7s - 4ms/step - accuracy: 0.9827 - loss: 0.0531 - val_accuracy: 0.9766 - val_loss: 0.0817\n",
            "Epoch 8/10\n",
            "1875/1875 - 6s - 3ms/step - accuracy: 0.9858 - loss: 0.0471 - val_accuracy: 0.9721 - val_loss: 0.1061\n",
            "Epoch 9/10\n",
            "1875/1875 - 10s - 5ms/step - accuracy: 0.9867 - loss: 0.0421 - val_accuracy: 0.9748 - val_loss: 0.0992\n",
            "Epoch 10/10\n",
            "1875/1875 - 6s - 3ms/step - accuracy: 0.9879 - loss: 0.0382 - val_accuracy: 0.9740 - val_loss: 0.0978\n",
            "🟦 Accuracy with 5 Dense Layers: 0.9740\n"
          ]
        }
      ]
    },
    {
      "cell_type": "markdown",
      "source": [
        "🔶 Model B: 6 Dense Layers\n"
      ],
      "metadata": {
        "id": "7xavVitQXtui"
      }
    },
    {
      "cell_type": "code",
      "source": [
        "model_6 = Sequential()\n",
        "model_6.add(Flatten(input_shape=(28, 28)))\n",
        "for _ in range(6):\n",
        "    model_6.add(Dense(64, activation='relu'))\n",
        "model_6.add(Dense(10, activation='softmax'))\n",
        "\n",
        "model_6.compile(optimizer='adam', loss='categorical_crossentropy', metrics=['accuracy'])\n",
        "model_6.fit(X_train, y_train, validation_data=(X_test, y_test), epochs=10, verbose=2)\n",
        "\n",
        "loss_6, acc_6 = model_6.evaluate(X_test, y_test, verbose=0)\n",
        "print(f\"🟧 Accuracy with 6 Dense Layers: {acc_6:.4f}\")\n"
      ],
      "metadata": {
        "colab": {
          "base_uri": "https://localhost:8080/"
        },
        "id": "sHk55RIdXyIR",
        "outputId": "2781796e-bf9c-45be-c231-1edb3ef7df74"
      },
      "execution_count": 21,
      "outputs": [
        {
          "output_type": "stream",
          "name": "stdout",
          "text": [
            "Epoch 1/10\n",
            "1875/1875 - 9s - 5ms/step - accuracy: 0.9078 - loss: 0.2924 - val_accuracy: 0.9497 - val_loss: 0.1763\n",
            "Epoch 2/10\n",
            "1875/1875 - 6s - 3ms/step - accuracy: 0.9598 - loss: 0.1344 - val_accuracy: 0.9573 - val_loss: 0.1435\n",
            "Epoch 3/10\n",
            "1875/1875 - 10s - 5ms/step - accuracy: 0.9687 - loss: 0.1040 - val_accuracy: 0.9571 - val_loss: 0.1461\n",
            "Epoch 4/10\n",
            "1875/1875 - 7s - 3ms/step - accuracy: 0.9738 - loss: 0.0868 - val_accuracy: 0.9680 - val_loss: 0.1153\n",
            "Epoch 5/10\n",
            "1875/1875 - 9s - 5ms/step - accuracy: 0.9775 - loss: 0.0753 - val_accuracy: 0.9726 - val_loss: 0.1013\n",
            "Epoch 6/10\n",
            "1875/1875 - 7s - 4ms/step - accuracy: 0.9802 - loss: 0.0637 - val_accuracy: 0.9695 - val_loss: 0.1051\n",
            "Epoch 7/10\n",
            "1875/1875 - 6s - 3ms/step - accuracy: 0.9829 - loss: 0.0567 - val_accuracy: 0.9706 - val_loss: 0.1037\n",
            "Epoch 8/10\n",
            "1875/1875 - 10s - 5ms/step - accuracy: 0.9845 - loss: 0.0489 - val_accuracy: 0.9732 - val_loss: 0.1009\n",
            "Epoch 9/10\n",
            "1875/1875 - 6s - 3ms/step - accuracy: 0.9864 - loss: 0.0451 - val_accuracy: 0.9689 - val_loss: 0.1285\n",
            "Epoch 10/10\n",
            "1875/1875 - 6s - 3ms/step - accuracy: 0.9868 - loss: 0.0433 - val_accuracy: 0.9700 - val_loss: 0.1160\n",
            "🟧 Accuracy with 6 Dense Layers: 0.9700\n"
          ]
        }
      ]
    },
    {
      "cell_type": "markdown",
      "source": [
        "📊 Final Comparison Output:\n",
        "\n",
        "\n"
      ],
      "metadata": {
        "id": "32uq23w8X1pt"
      }
    },
    {
      "cell_type": "code",
      "source": [
        "print(\"🔍 Final Comparison:\")\n",
        "print(f\"5 Dense Layers Accuracy: {acc_5:.4f}\")\n",
        "print(f\"6 Dense Layers Accuracy: {acc_6:.4f}\")"
      ],
      "metadata": {
        "colab": {
          "base_uri": "https://localhost:8080/"
        },
        "id": "5XxLIyLFYGsY",
        "outputId": "cacb755e-9d8d-4d3b-bce6-5bbe76ed065f"
      },
      "execution_count": 22,
      "outputs": [
        {
          "output_type": "stream",
          "name": "stdout",
          "text": [
            "🔍 Final Comparison:\n",
            "5 Dense Layers Accuracy: 0.9740\n",
            "6 Dense Layers Accuracy: 0.9700\n"
          ]
        }
      ]
    },
    {
      "cell_type": "markdown",
      "metadata": {
        "id": "b267bd54-381a-4434-a288-e86f5bb11c26"
      },
      "source": [
        "### Thank you for completing this lab!\n",
        "\n",
        "This notebook was created by [Alex Aklson](https://www.linkedin.com/in/aklson/?utm_medium=Exinfluencer&utm_source=Exinfluencer&utm_content=000026UJ&utm_term=10006555&utm_id=NA-SkillsNetwork-Channel-SkillsNetworkCoursesIBMDeveloperSkillsNetworkDL0101ENSkillsNetwork945-2022-01-01). I hope you found this lab interesting and educational. Feel free to contact me if you have any questions!\n"
      ]
    },
    {
      "cell_type": "markdown",
      "metadata": {
        "id": "923a3adf-7972-459d-aac6-cf244e533e1f"
      },
      "source": [
        "\n",
        "## Change Log\n",
        "\n",
        "|  Date (YYYY-MM-DD) |  Version | Changed By  |  Change Description |\n",
        "|---|---|---|---|\n",
        "| 2020-09-21  | 2.0  | Srishti  |  Migrated Lab to Markdown and added to course repo in GitLab |\n",
        "\n",
        "\n",
        "\n",
        "<hr>\n",
        "\n",
        "## <h3 align=\"center\"> © IBM Corporation 2020. All rights reserved. <h3/>\n"
      ]
    },
    {
      "cell_type": "markdown",
      "metadata": {
        "id": "6c16f52e-5d01-45e5-bcd4-c8258fb8cdff"
      },
      "source": [
        "This notebook is part of a course on **Coursera** called *Introduction to Deep Learning & Neural Networks with Keras*. If you accessed this notebook outside the course, you can take this course online by clicking [here](https://cocl.us/DL0101EN_Coursera_Week3_LAB2).\n"
      ]
    },
    {
      "cell_type": "markdown",
      "metadata": {
        "id": "1ec9e0b4-81b6-4cfe-b76a-4d6eb09a9bea"
      },
      "source": [
        "<hr>\n",
        "\n",
        "Copyright &copy; 2019 [IBM Developer Skills Network](https://cognitiveclass.ai/?utm_medium=dswb&utm_source=bducopyrightlink&utm_content=000026UJ&utm_term=10006555&utm_id=NA-SkillsNetwork-Channel-SkillsNetworkCoursesIBMDeveloperSkillsNetworkDL0101ENSkillsNetwork945-2022-01-01&utm_campaign=bdu). This notebook and its source code are released under the terms of the [MIT License](https://bigdatauniversity.com/mit-license/?utm_medium=Exinfluencer&utm_source=Exinfluencer&utm_content=000026UJ&utm_term=10006555&utm_id=NA-SkillsNetwork-Channel-SkillsNetworkCoursesIBMDeveloperSkillsNetworkDL0101ENSkillsNetwork945-2022-01-01).\n"
      ]
    }
  ],
  "metadata": {
    "kernelspec": {
      "display_name": "Python",
      "language": "python",
      "name": "conda-env-python-py"
    },
    "language_info": {
      "name": ""
    },
    "colab": {
      "provenance": [],
      "include_colab_link": true
    }
  },
  "nbformat": 4,
  "nbformat_minor": 0
}